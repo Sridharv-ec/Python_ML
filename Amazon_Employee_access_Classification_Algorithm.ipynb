{
 "cells": [
  {
   "cell_type": "code",
   "execution_count": 146,
   "metadata": {},
   "outputs": [],
   "source": [
    "import pandas as pd\n",
    "import numpy as np\n",
    "from sklearn.preprocessing import MinMaxScaler, StandardScaler\n",
    "import seaborn as sns\n",
    "import matplotlib.pyplot as plt\n",
    "\n",
    "# Classification tree libraries\n",
    "from sklearn.tree import DecisionTreeClassifier\n",
    "from sklearn.ensemble import RandomForestClassifier\n",
    "from sklearn.ensemble import BaggingClassifier"
   ]
  },
  {
   "cell_type": "code",
   "execution_count": 147,
   "metadata": {},
   "outputs": [],
   "source": [
    "# Read the training data set\n",
    "train_dataset=pd.read_csv(\"C:\\\\Sridhar\\\\AI_ML\\\\Algorithms\\\\datasets\\\\amazon-employee-access-challenge\\\\train.csv\")\n",
    "test_dataset=pd.read_csv(\"C:\\\\Sridhar\\\\AI_ML\\\\Algorithms\\\\datasets\\\\amazon-employee-access-challenge\\\\test.csv\")"
   ]
  },
  {
   "cell_type": "code",
   "execution_count": 148,
   "metadata": {},
   "outputs": [
    {
     "data": {
      "text/plain": [
       "((32769, 10), (58921, 10))"
      ]
     },
     "execution_count": 148,
     "metadata": {},
     "output_type": "execute_result"
    }
   ],
   "source": [
    "train_dataset.shape,test_dataset.shape"
   ]
  },
  {
   "cell_type": "code",
   "execution_count": 149,
   "metadata": {},
   "outputs": [
    {
     "data": {
      "text/html": [
       "<div>\n",
       "<style scoped>\n",
       "    .dataframe tbody tr th:only-of-type {\n",
       "        vertical-align: middle;\n",
       "    }\n",
       "\n",
       "    .dataframe tbody tr th {\n",
       "        vertical-align: top;\n",
       "    }\n",
       "\n",
       "    .dataframe thead th {\n",
       "        text-align: right;\n",
       "    }\n",
       "</style>\n",
       "<table border=\"1\" class=\"dataframe\">\n",
       "  <thead>\n",
       "    <tr style=\"text-align: right;\">\n",
       "      <th></th>\n",
       "      <th>ACTION</th>\n",
       "      <th>RESOURCE</th>\n",
       "      <th>MGR_ID</th>\n",
       "      <th>ROLE_ROLLUP_1</th>\n",
       "      <th>ROLE_ROLLUP_2</th>\n",
       "      <th>ROLE_DEPTNAME</th>\n",
       "      <th>ROLE_TITLE</th>\n",
       "      <th>ROLE_FAMILY_DESC</th>\n",
       "      <th>ROLE_FAMILY</th>\n",
       "      <th>ROLE_CODE</th>\n",
       "    </tr>\n",
       "  </thead>\n",
       "  <tbody>\n",
       "    <tr>\n",
       "      <th>0</th>\n",
       "      <td>1</td>\n",
       "      <td>39353</td>\n",
       "      <td>85475</td>\n",
       "      <td>117961</td>\n",
       "      <td>118300</td>\n",
       "      <td>123472</td>\n",
       "      <td>117905</td>\n",
       "      <td>117906</td>\n",
       "      <td>290919</td>\n",
       "      <td>117908</td>\n",
       "    </tr>\n",
       "    <tr>\n",
       "      <th>1</th>\n",
       "      <td>1</td>\n",
       "      <td>17183</td>\n",
       "      <td>1540</td>\n",
       "      <td>117961</td>\n",
       "      <td>118343</td>\n",
       "      <td>123125</td>\n",
       "      <td>118536</td>\n",
       "      <td>118536</td>\n",
       "      <td>308574</td>\n",
       "      <td>118539</td>\n",
       "    </tr>\n",
       "    <tr>\n",
       "      <th>2</th>\n",
       "      <td>1</td>\n",
       "      <td>36724</td>\n",
       "      <td>14457</td>\n",
       "      <td>118219</td>\n",
       "      <td>118220</td>\n",
       "      <td>117884</td>\n",
       "      <td>117879</td>\n",
       "      <td>267952</td>\n",
       "      <td>19721</td>\n",
       "      <td>117880</td>\n",
       "    </tr>\n",
       "    <tr>\n",
       "      <th>3</th>\n",
       "      <td>1</td>\n",
       "      <td>36135</td>\n",
       "      <td>5396</td>\n",
       "      <td>117961</td>\n",
       "      <td>118343</td>\n",
       "      <td>119993</td>\n",
       "      <td>118321</td>\n",
       "      <td>240983</td>\n",
       "      <td>290919</td>\n",
       "      <td>118322</td>\n",
       "    </tr>\n",
       "    <tr>\n",
       "      <th>4</th>\n",
       "      <td>1</td>\n",
       "      <td>42680</td>\n",
       "      <td>5905</td>\n",
       "      <td>117929</td>\n",
       "      <td>117930</td>\n",
       "      <td>119569</td>\n",
       "      <td>119323</td>\n",
       "      <td>123932</td>\n",
       "      <td>19793</td>\n",
       "      <td>119325</td>\n",
       "    </tr>\n",
       "  </tbody>\n",
       "</table>\n",
       "</div>"
      ],
      "text/plain": [
       "   ACTION  RESOURCE  MGR_ID  ROLE_ROLLUP_1  ROLE_ROLLUP_2  ROLE_DEPTNAME  \\\n",
       "0       1     39353   85475         117961         118300         123472   \n",
       "1       1     17183    1540         117961         118343         123125   \n",
       "2       1     36724   14457         118219         118220         117884   \n",
       "3       1     36135    5396         117961         118343         119993   \n",
       "4       1     42680    5905         117929         117930         119569   \n",
       "\n",
       "   ROLE_TITLE  ROLE_FAMILY_DESC  ROLE_FAMILY  ROLE_CODE  \n",
       "0      117905            117906       290919     117908  \n",
       "1      118536            118536       308574     118539  \n",
       "2      117879            267952        19721     117880  \n",
       "3      118321            240983       290919     118322  \n",
       "4      119323            123932        19793     119325  "
      ]
     },
     "execution_count": 149,
     "metadata": {},
     "output_type": "execute_result"
    }
   ],
   "source": [
    "train_dataset.head()"
   ]
  },
  {
   "cell_type": "code",
   "execution_count": 150,
   "metadata": {},
   "outputs": [
    {
     "data": {
      "text/html": [
       "<div>\n",
       "<style scoped>\n",
       "    .dataframe tbody tr th:only-of-type {\n",
       "        vertical-align: middle;\n",
       "    }\n",
       "\n",
       "    .dataframe tbody tr th {\n",
       "        vertical-align: top;\n",
       "    }\n",
       "\n",
       "    .dataframe thead th {\n",
       "        text-align: right;\n",
       "    }\n",
       "</style>\n",
       "<table border=\"1\" class=\"dataframe\">\n",
       "  <thead>\n",
       "    <tr style=\"text-align: right;\">\n",
       "      <th></th>\n",
       "      <th>id</th>\n",
       "      <th>RESOURCE</th>\n",
       "      <th>MGR_ID</th>\n",
       "      <th>ROLE_ROLLUP_1</th>\n",
       "      <th>ROLE_ROLLUP_2</th>\n",
       "      <th>ROLE_DEPTNAME</th>\n",
       "      <th>ROLE_TITLE</th>\n",
       "      <th>ROLE_FAMILY_DESC</th>\n",
       "      <th>ROLE_FAMILY</th>\n",
       "      <th>ROLE_CODE</th>\n",
       "    </tr>\n",
       "  </thead>\n",
       "  <tbody>\n",
       "    <tr>\n",
       "      <th>0</th>\n",
       "      <td>1</td>\n",
       "      <td>78766</td>\n",
       "      <td>72734</td>\n",
       "      <td>118079</td>\n",
       "      <td>118080</td>\n",
       "      <td>117878</td>\n",
       "      <td>117879</td>\n",
       "      <td>118177</td>\n",
       "      <td>19721</td>\n",
       "      <td>117880</td>\n",
       "    </tr>\n",
       "    <tr>\n",
       "      <th>1</th>\n",
       "      <td>2</td>\n",
       "      <td>40644</td>\n",
       "      <td>4378</td>\n",
       "      <td>117961</td>\n",
       "      <td>118327</td>\n",
       "      <td>118507</td>\n",
       "      <td>118863</td>\n",
       "      <td>122008</td>\n",
       "      <td>118398</td>\n",
       "      <td>118865</td>\n",
       "    </tr>\n",
       "    <tr>\n",
       "      <th>2</th>\n",
       "      <td>3</td>\n",
       "      <td>75443</td>\n",
       "      <td>2395</td>\n",
       "      <td>117961</td>\n",
       "      <td>118300</td>\n",
       "      <td>119488</td>\n",
       "      <td>118172</td>\n",
       "      <td>301534</td>\n",
       "      <td>249618</td>\n",
       "      <td>118175</td>\n",
       "    </tr>\n",
       "    <tr>\n",
       "      <th>3</th>\n",
       "      <td>4</td>\n",
       "      <td>43219</td>\n",
       "      <td>19986</td>\n",
       "      <td>117961</td>\n",
       "      <td>118225</td>\n",
       "      <td>118403</td>\n",
       "      <td>120773</td>\n",
       "      <td>136187</td>\n",
       "      <td>118960</td>\n",
       "      <td>120774</td>\n",
       "    </tr>\n",
       "    <tr>\n",
       "      <th>4</th>\n",
       "      <td>5</td>\n",
       "      <td>42093</td>\n",
       "      <td>50015</td>\n",
       "      <td>117961</td>\n",
       "      <td>118343</td>\n",
       "      <td>119598</td>\n",
       "      <td>118422</td>\n",
       "      <td>300136</td>\n",
       "      <td>118424</td>\n",
       "      <td>118425</td>\n",
       "    </tr>\n",
       "  </tbody>\n",
       "</table>\n",
       "</div>"
      ],
      "text/plain": [
       "   id  RESOURCE  MGR_ID  ROLE_ROLLUP_1  ROLE_ROLLUP_2  ROLE_DEPTNAME  \\\n",
       "0   1     78766   72734         118079         118080         117878   \n",
       "1   2     40644    4378         117961         118327         118507   \n",
       "2   3     75443    2395         117961         118300         119488   \n",
       "3   4     43219   19986         117961         118225         118403   \n",
       "4   5     42093   50015         117961         118343         119598   \n",
       "\n",
       "   ROLE_TITLE  ROLE_FAMILY_DESC  ROLE_FAMILY  ROLE_CODE  \n",
       "0      117879            118177        19721     117880  \n",
       "1      118863            122008       118398     118865  \n",
       "2      118172            301534       249618     118175  \n",
       "3      120773            136187       118960     120774  \n",
       "4      118422            300136       118424     118425  "
      ]
     },
     "execution_count": 150,
     "metadata": {},
     "output_type": "execute_result"
    }
   ],
   "source": [
    "test_dataset.head()"
   ]
  },
  {
   "cell_type": "code",
   "execution_count": 151,
   "metadata": {},
   "outputs": [],
   "source": [
    " def memoryManagement(base_dataset):\n",
    "    \"\"\" iterate through all the columns of a dataframe and modify the data type\n",
    "        to reduce memory usage.        \n",
    "    \"\"\"\n",
    "    df=base_dataset\n",
    "    start_mem = df.memory_usage().sum() / 1024**2\n",
    "    print('Memory usage of dataframe is {:.2f} MB'.format(start_mem))\n",
    "\n",
    "    for col in df.columns:\n",
    "        col_type = df[col].dtype\n",
    "\n",
    "        if col_type != object:\n",
    "            c_min = df[col].min()\n",
    "            c_max = df[col].max()\n",
    "            if str(col_type)[:3] == 'int':\n",
    "                if c_min > np.iinfo(np.int8).min and c_max < np.iinfo(np.int8).max:\n",
    "                    df[col] = df[col].astype(np.int8)\n",
    "                elif c_min > np.iinfo(np.int16).min and c_max < np.iinfo(np.int16).max:\n",
    "                    df[col] = df[col].astype(np.int16)\n",
    "                elif c_min > np.iinfo(np.int32).min and c_max < np.iinfo(np.int32).max:\n",
    "                    df[col] = df[col].astype(np.int32)\n",
    "                elif c_min > np.iinfo(np.int64).min and c_max < np.iinfo(np.int64).max:\n",
    "                    df[col] = df[col].astype(np.int64)  \n",
    "            else:\n",
    "                if c_min > np.finfo(np.float16).min and c_max < np.finfo(np.float16).max:\n",
    "                    df[col] = df[col].astype(np.float16)\n",
    "                elif c_min > np.finfo(np.float32).min and c_max < np.finfo(np.float32).max:\n",
    "                    df[col] = df[col].astype(np.float32)\n",
    "                else:\n",
    "                    df[col] = df[col].astype(np.float64)\n",
    "        else:\n",
    "            df[col] = df[col].astype('category')\n",
    "\n",
    "    end_mem = df.memory_usage().sum() / 1024**2\n",
    "    print('Memory usage after optimization is: {:.2f} MB'.format(end_mem))\n",
    "    print('Decreased by {:.1f}%'.format(100 * (start_mem - end_mem) / start_mem))    \n",
    "    return df"
   ]
  },
  {
   "cell_type": "code",
   "execution_count": 152,
   "metadata": {},
   "outputs": [
    {
     "name": "stdout",
     "output_type": "stream",
     "text": [
      "Memory usage of dataframe is 2.50 MB\n",
      "Memory usage after optimization is: 1.16 MB\n",
      "Decreased by 53.7%\n"
     ]
    }
   ],
   "source": [
    "train_dataset = memoryManagement(train_dataset)"
   ]
  },
  {
   "cell_type": "code",
   "execution_count": 153,
   "metadata": {
    "scrolled": true
   },
   "outputs": [
    {
     "name": "stdout",
     "output_type": "stream",
     "text": [
      "Memory usage of dataframe is 4.50 MB\n",
      "Memory usage after optimization is: 2.25 MB\n",
      "Decreased by 50.0%\n"
     ]
    }
   ],
   "source": [
    "test_dataset = memoryManagement(test_dataset)"
   ]
  },
  {
   "cell_type": "code",
   "execution_count": 154,
   "metadata": {},
   "outputs": [
    {
     "data": {
      "text/plain": [
       "ACTION              0.0\n",
       "RESOURCE            0.0\n",
       "MGR_ID              0.0\n",
       "ROLE_ROLLUP_1       0.0\n",
       "ROLE_ROLLUP_2       0.0\n",
       "ROLE_DEPTNAME       0.0\n",
       "ROLE_TITLE          0.0\n",
       "ROLE_FAMILY_DESC    0.0\n",
       "ROLE_FAMILY         0.0\n",
       "ROLE_CODE           0.0\n",
       "dtype: float64"
      ]
     },
     "execution_count": 154,
     "metadata": {},
     "output_type": "execute_result"
    }
   ],
   "source": [
    "(train_dataset.isna().sum()/train_dataset.shape[0])*100"
   ]
  },
  {
   "cell_type": "code",
   "execution_count": 155,
   "metadata": {
    "scrolled": true
   },
   "outputs": [
    {
     "data": {
      "text/plain": [
       "id                  0.0\n",
       "RESOURCE            0.0\n",
       "MGR_ID              0.0\n",
       "ROLE_ROLLUP_1       0.0\n",
       "ROLE_ROLLUP_2       0.0\n",
       "ROLE_DEPTNAME       0.0\n",
       "ROLE_TITLE          0.0\n",
       "ROLE_FAMILY_DESC    0.0\n",
       "ROLE_FAMILY         0.0\n",
       "ROLE_CODE           0.0\n",
       "dtype: float64"
      ]
     },
     "execution_count": 155,
     "metadata": {},
     "output_type": "execute_result"
    }
   ],
   "source": [
    "(test_dataset.isna().sum()/test_dataset.shape[0])*100"
   ]
  },
  {
   "cell_type": "code",
   "execution_count": 156,
   "metadata": {},
   "outputs": [],
   "source": [
    "ids = test_dataset['id']"
   ]
  },
  {
   "cell_type": "code",
   "execution_count": 159,
   "metadata": {},
   "outputs": [
    {
     "data": {
      "text/plain": [
       "0    1\n",
       "1    2\n",
       "2    3\n",
       "3    4\n",
       "4    5\n",
       "Name: id, dtype: int32"
      ]
     },
     "execution_count": 159,
     "metadata": {},
     "output_type": "execute_result"
    }
   ],
   "source": [
    "ids.head()"
   ]
  },
  {
   "cell_type": "code",
   "execution_count": 158,
   "metadata": {},
   "outputs": [],
   "source": [
    "test_dataset.drop('id',axis=1,inplace=True)"
   ]
  },
  {
   "cell_type": "code",
   "execution_count": 160,
   "metadata": {},
   "outputs": [
    {
     "data": {
      "text/html": [
       "<div>\n",
       "<style scoped>\n",
       "    .dataframe tbody tr th:only-of-type {\n",
       "        vertical-align: middle;\n",
       "    }\n",
       "\n",
       "    .dataframe tbody tr th {\n",
       "        vertical-align: top;\n",
       "    }\n",
       "\n",
       "    .dataframe thead th {\n",
       "        text-align: right;\n",
       "    }\n",
       "</style>\n",
       "<table border=\"1\" class=\"dataframe\">\n",
       "  <thead>\n",
       "    <tr style=\"text-align: right;\">\n",
       "      <th></th>\n",
       "      <th>RESOURCE</th>\n",
       "      <th>MGR_ID</th>\n",
       "      <th>ROLE_ROLLUP_1</th>\n",
       "      <th>ROLE_ROLLUP_2</th>\n",
       "      <th>ROLE_DEPTNAME</th>\n",
       "      <th>ROLE_TITLE</th>\n",
       "      <th>ROLE_FAMILY_DESC</th>\n",
       "      <th>ROLE_FAMILY</th>\n",
       "      <th>ROLE_CODE</th>\n",
       "    </tr>\n",
       "  </thead>\n",
       "  <tbody>\n",
       "    <tr>\n",
       "      <th>0</th>\n",
       "      <td>78766</td>\n",
       "      <td>72734</td>\n",
       "      <td>118079</td>\n",
       "      <td>118080</td>\n",
       "      <td>117878</td>\n",
       "      <td>117879</td>\n",
       "      <td>118177</td>\n",
       "      <td>19721</td>\n",
       "      <td>117880</td>\n",
       "    </tr>\n",
       "    <tr>\n",
       "      <th>1</th>\n",
       "      <td>40644</td>\n",
       "      <td>4378</td>\n",
       "      <td>117961</td>\n",
       "      <td>118327</td>\n",
       "      <td>118507</td>\n",
       "      <td>118863</td>\n",
       "      <td>122008</td>\n",
       "      <td>118398</td>\n",
       "      <td>118865</td>\n",
       "    </tr>\n",
       "    <tr>\n",
       "      <th>2</th>\n",
       "      <td>75443</td>\n",
       "      <td>2395</td>\n",
       "      <td>117961</td>\n",
       "      <td>118300</td>\n",
       "      <td>119488</td>\n",
       "      <td>118172</td>\n",
       "      <td>301534</td>\n",
       "      <td>249618</td>\n",
       "      <td>118175</td>\n",
       "    </tr>\n",
       "    <tr>\n",
       "      <th>3</th>\n",
       "      <td>43219</td>\n",
       "      <td>19986</td>\n",
       "      <td>117961</td>\n",
       "      <td>118225</td>\n",
       "      <td>118403</td>\n",
       "      <td>120773</td>\n",
       "      <td>136187</td>\n",
       "      <td>118960</td>\n",
       "      <td>120774</td>\n",
       "    </tr>\n",
       "    <tr>\n",
       "      <th>4</th>\n",
       "      <td>42093</td>\n",
       "      <td>50015</td>\n",
       "      <td>117961</td>\n",
       "      <td>118343</td>\n",
       "      <td>119598</td>\n",
       "      <td>118422</td>\n",
       "      <td>300136</td>\n",
       "      <td>118424</td>\n",
       "      <td>118425</td>\n",
       "    </tr>\n",
       "  </tbody>\n",
       "</table>\n",
       "</div>"
      ],
      "text/plain": [
       "   RESOURCE  MGR_ID  ROLE_ROLLUP_1  ROLE_ROLLUP_2  ROLE_DEPTNAME  ROLE_TITLE  \\\n",
       "0     78766   72734         118079         118080         117878      117879   \n",
       "1     40644    4378         117961         118327         118507      118863   \n",
       "2     75443    2395         117961         118300         119488      118172   \n",
       "3     43219   19986         117961         118225         118403      120773   \n",
       "4     42093   50015         117961         118343         119598      118422   \n",
       "\n",
       "   ROLE_FAMILY_DESC  ROLE_FAMILY  ROLE_CODE  \n",
       "0            118177        19721     117880  \n",
       "1            122008       118398     118865  \n",
       "2            301534       249618     118175  \n",
       "3            136187       118960     120774  \n",
       "4            300136       118424     118425  "
      ]
     },
     "execution_count": 160,
     "metadata": {},
     "output_type": "execute_result"
    }
   ],
   "source": [
    "test_dataset.head()"
   ]
  },
  {
   "cell_type": "code",
   "execution_count": 161,
   "metadata": {},
   "outputs": [
    {
     "data": {
      "text/plain": [
       "(58921, 9)"
      ]
     },
     "execution_count": 161,
     "metadata": {},
     "output_type": "execute_result"
    }
   ],
   "source": [
    "test_dataset.shape"
   ]
  },
  {
   "cell_type": "code",
   "execution_count": 162,
   "metadata": {},
   "outputs": [
    {
     "data": {
      "text/plain": [
       "ACTION              5.454048e-02\n",
       "RESOURCE            1.167855e+09\n",
       "MGR_ID              1.290823e+09\n",
       "ROLE_ROLLUP_1       1.182779e+08\n",
       "ROLE_ROLLUP_2       2.071696e+07\n",
       "ROLE_DEPTNAME       3.595318e+08\n",
       "ROLE_TITLE          9.632622e+08\n",
       "ROLE_FAMILY_DESC    4.831565e+09\n",
       "ROLE_FAMILY         1.009792e+10\n",
       "ROLE_CODE           3.345784e+07\n",
       "dtype: float64"
      ]
     },
     "execution_count": 162,
     "metadata": {},
     "output_type": "execute_result"
    }
   ],
   "source": [
    "train_dataset.var()"
   ]
  },
  {
   "cell_type": "code",
   "execution_count": 163,
   "metadata": {},
   "outputs": [
    {
     "data": {
      "image/png": "[encoded data removed]",
      "text/plain": [
       "<Figure size 432x288 with 1 Axes>"
      ]
     },
     "metadata": {
      "needs_background": "light"
     },
     "output_type": "display_data"
    },
    {
     "data": {
      "image/png": "[encoded data removed]",
      "text/plain": [
       "<Figure size 432x288 with 1 Axes>"
      ]
     },
     "metadata": {
      "needs_background": "light"
     },
     "output_type": "display_data"
    },
    {
     "data": {
      "image/png": "[encoded data removed]",
      "text/plain": [
       "<Figure size 432x288 with 1 Axes>"
      ]
     },
     "metadata": {
      "needs_background": "light"
     },
     "output_type": "display_data"
    },
    {
     "data": {
      "image/png": "[encoded data removed]",
      "text/plain": [
       "<Figure size 432x288 with 1 Axes>"
      ]
     },
     "metadata": {
      "needs_background": "light"
     },
     "output_type": "display_data"
    },
    {
     "data": {
      "image/png": "[encoded data removed]",
      "text/plain": [
       "<Figure size 432x288 with 1 Axes>"
      ]
     },
     "metadata": {
      "needs_background": "light"
     },
     "output_type": "display_data"
    },
    {
     "data": {
      "image/png": "[encoded data removed]",
      "text/plain": [
       "<Figure size 432x288 with 1 Axes>"
      ]
     },
     "metadata": {
      "needs_background": "light"
     },
     "output_type": "display_data"
    },
    {
     "data": {
      "image/png": "[encoded data removed]",
      "text/plain": [
       "<Figure size 432x288 with 1 Axes>"
      ]
     },
     "metadata": {
      "needs_background": "light"
     },
     "output_type": "display_data"
    },
    {
     "data": {
      "image/png": "[encoded data removed]",
      "text/plain": [
       "<Figure size 432x288 with 1 Axes>"
      ]
     },
     "metadata": {
      "needs_background": "light"
     },
     "output_type": "display_data"
    },
    {
     "data": {
      "image/png": "[encoded data removed]",
      "text/plain": [
       "<Figure size 432x288 with 1 Axes>"
      ]
     },
     "metadata": {
      "needs_background": "light"
     },
     "output_type": "display_data"
    },
    {
     "data": {
      "image/png": "[encoded data removed]",
      "text/plain": [
       "<Figure size 432x288 with 1 Axes>"
      ]
     },
     "metadata": {
      "needs_background": "light"
     },
     "output_type": "display_data"
    }
   ],
   "source": [
    "for i in train_dataset.columns:\n",
    "    sns.boxplot(x=train_dataset[i])\n",
    "    plt.show()"
   ]
  },
  {
   "cell_type": "code",
   "execution_count": 164,
   "metadata": {},
   "outputs": [],
   "source": [
    "def outliers_transform(train_dataset):\n",
    "    for i in train_dataset.var().sort_values(ascending=False).index[1:10]:\n",
    "        x=np.array(train_dataset[i])\n",
    "        qr1=np.quantile(x,0.25)\n",
    "        qr3=np.quantile(x,0.75)\n",
    "        iqr=qr3-qr1\n",
    "        utv=qr3+(1.5*(iqr))\n",
    "        ltv=qr1-(1.5*(iqr))\n",
    "        y=[]\n",
    "        \"\"\"Based on clients input(ltv,utv) run the below code \"\"\"\n",
    "        for p in x:\n",
    "            if p <ltv or p>utv:\n",
    "                y.append(np.median(x))\n",
    "            else:\n",
    "                y.append(p)\n",
    "        train_dataset[i]=y"
   ]
  },
  {
   "cell_type": "code",
   "execution_count": 165,
   "metadata": {},
   "outputs": [],
   "source": [
    "outliers_transform(train_dataset)"
   ]
  },
  {
   "cell_type": "code",
   "execution_count": 166,
   "metadata": {},
   "outputs": [],
   "source": [
    "def outliers_transform1(test_dataset):\n",
    "    for i in test_dataset.var().sort_values(ascending=False).index[1:10]:\n",
    "        x=np.array(test_dataset[i])\n",
    "        qr1=np.quantile(x,0.25)\n",
    "        qr3=np.quantile(x,0.75)\n",
    "        iqr=qr3-qr1\n",
    "        utv=qr3+(1.5*(iqr))\n",
    "        ltv=qr1-(1.5*(iqr))\n",
    "        y=[]\n",
    "        \"\"\"Based on clients input(ltv,utv) run the below code \"\"\"\n",
    "        for p in x:\n",
    "            if p <ltv or p>utv:\n",
    "                y.append(np.median(x))\n",
    "            else:\n",
    "                y.append(p)\n",
    "        test_dataset[i]=y"
   ]
  },
  {
   "cell_type": "code",
   "execution_count": 167,
   "metadata": {},
   "outputs": [],
   "source": [
    "outliers_transform1(test_dataset)"
   ]
  },
  {
   "cell_type": "code",
   "execution_count": 168,
   "metadata": {},
   "outputs": [
    {
     "data": {
      "text/html": [
       "<div>\n",
       "<style scoped>\n",
       "    .dataframe tbody tr th:only-of-type {\n",
       "        vertical-align: middle;\n",
       "    }\n",
       "\n",
       "    .dataframe tbody tr th {\n",
       "        vertical-align: top;\n",
       "    }\n",
       "\n",
       "    .dataframe thead th {\n",
       "        text-align: right;\n",
       "    }\n",
       "</style>\n",
       "<table border=\"1\" class=\"dataframe\">\n",
       "  <thead>\n",
       "    <tr style=\"text-align: right;\">\n",
       "      <th></th>\n",
       "      <th>ACTION</th>\n",
       "      <th>RESOURCE</th>\n",
       "      <th>MGR_ID</th>\n",
       "      <th>ROLE_ROLLUP_1</th>\n",
       "      <th>ROLE_ROLLUP_2</th>\n",
       "      <th>ROLE_DEPTNAME</th>\n",
       "      <th>ROLE_TITLE</th>\n",
       "      <th>ROLE_FAMILY_DESC</th>\n",
       "      <th>ROLE_FAMILY</th>\n",
       "      <th>ROLE_CODE</th>\n",
       "    </tr>\n",
       "  </thead>\n",
       "  <tbody>\n",
       "    <tr>\n",
       "      <th>0</th>\n",
       "      <td>1.0</td>\n",
       "      <td>39353.0</td>\n",
       "      <td>85475.0</td>\n",
       "      <td>117961.0</td>\n",
       "      <td>118300.0</td>\n",
       "      <td>123472.0</td>\n",
       "      <td>117905.0</td>\n",
       "      <td>117906</td>\n",
       "      <td>290919</td>\n",
       "      <td>117908.0</td>\n",
       "    </tr>\n",
       "    <tr>\n",
       "      <th>1</th>\n",
       "      <td>1.0</td>\n",
       "      <td>17183.0</td>\n",
       "      <td>1540.0</td>\n",
       "      <td>117961.0</td>\n",
       "      <td>118343.0</td>\n",
       "      <td>123125.0</td>\n",
       "      <td>118536.0</td>\n",
       "      <td>118536</td>\n",
       "      <td>308574</td>\n",
       "      <td>118539.0</td>\n",
       "    </tr>\n",
       "    <tr>\n",
       "      <th>2</th>\n",
       "      <td>1.0</td>\n",
       "      <td>36724.0</td>\n",
       "      <td>14457.0</td>\n",
       "      <td>117961.0</td>\n",
       "      <td>118220.0</td>\n",
       "      <td>117884.0</td>\n",
       "      <td>117879.0</td>\n",
       "      <td>267952</td>\n",
       "      <td>19721</td>\n",
       "      <td>117880.0</td>\n",
       "    </tr>\n",
       "    <tr>\n",
       "      <th>3</th>\n",
       "      <td>1.0</td>\n",
       "      <td>36135.0</td>\n",
       "      <td>5396.0</td>\n",
       "      <td>117961.0</td>\n",
       "      <td>118343.0</td>\n",
       "      <td>119993.0</td>\n",
       "      <td>118321.0</td>\n",
       "      <td>240983</td>\n",
       "      <td>290919</td>\n",
       "      <td>118322.0</td>\n",
       "    </tr>\n",
       "    <tr>\n",
       "      <th>4</th>\n",
       "      <td>1.0</td>\n",
       "      <td>42680.0</td>\n",
       "      <td>5905.0</td>\n",
       "      <td>117961.0</td>\n",
       "      <td>117930.0</td>\n",
       "      <td>119569.0</td>\n",
       "      <td>119323.0</td>\n",
       "      <td>123932</td>\n",
       "      <td>19793</td>\n",
       "      <td>119325.0</td>\n",
       "    </tr>\n",
       "  </tbody>\n",
       "</table>\n",
       "</div>"
      ],
      "text/plain": [
       "   ACTION  RESOURCE   MGR_ID  ROLE_ROLLUP_1  ROLE_ROLLUP_2  ROLE_DEPTNAME  \\\n",
       "0     1.0   39353.0  85475.0       117961.0       118300.0       123472.0   \n",
       "1     1.0   17183.0   1540.0       117961.0       118343.0       123125.0   \n",
       "2     1.0   36724.0  14457.0       117961.0       118220.0       117884.0   \n",
       "3     1.0   36135.0   5396.0       117961.0       118343.0       119993.0   \n",
       "4     1.0   42680.0   5905.0       117961.0       117930.0       119569.0   \n",
       "\n",
       "   ROLE_TITLE  ROLE_FAMILY_DESC  ROLE_FAMILY  ROLE_CODE  \n",
       "0    117905.0            117906       290919   117908.0  \n",
       "1    118536.0            118536       308574   118539.0  \n",
       "2    117879.0            267952        19721   117880.0  \n",
       "3    118321.0            240983       290919   118322.0  \n",
       "4    119323.0            123932        19793   119325.0  "
      ]
     },
     "execution_count": 168,
     "metadata": {},
     "output_type": "execute_result"
    }
   ],
   "source": [
    "train_dataset.head()"
   ]
  },
  {
   "cell_type": "code",
   "execution_count": 169,
   "metadata": {},
   "outputs": [
    {
     "data": {
      "text/html": [
       "<div>\n",
       "<style scoped>\n",
       "    .dataframe tbody tr th:only-of-type {\n",
       "        vertical-align: middle;\n",
       "    }\n",
       "\n",
       "    .dataframe tbody tr th {\n",
       "        vertical-align: top;\n",
       "    }\n",
       "\n",
       "    .dataframe thead th {\n",
       "        text-align: right;\n",
       "    }\n",
       "</style>\n",
       "<table border=\"1\" class=\"dataframe\">\n",
       "  <thead>\n",
       "    <tr style=\"text-align: right;\">\n",
       "      <th></th>\n",
       "      <th>RESOURCE</th>\n",
       "      <th>MGR_ID</th>\n",
       "      <th>ROLE_ROLLUP_1</th>\n",
       "      <th>ROLE_ROLLUP_2</th>\n",
       "      <th>ROLE_DEPTNAME</th>\n",
       "      <th>ROLE_TITLE</th>\n",
       "      <th>ROLE_FAMILY_DESC</th>\n",
       "      <th>ROLE_FAMILY</th>\n",
       "      <th>ROLE_CODE</th>\n",
       "    </tr>\n",
       "  </thead>\n",
       "  <tbody>\n",
       "    <tr>\n",
       "      <th>0</th>\n",
       "      <td>78766.0</td>\n",
       "      <td>72734.0</td>\n",
       "      <td>117961.0</td>\n",
       "      <td>118080.0</td>\n",
       "      <td>117878.0</td>\n",
       "      <td>117879.0</td>\n",
       "      <td>118177</td>\n",
       "      <td>19721</td>\n",
       "      <td>117880.0</td>\n",
       "    </tr>\n",
       "    <tr>\n",
       "      <th>1</th>\n",
       "      <td>40644.0</td>\n",
       "      <td>4378.0</td>\n",
       "      <td>117961.0</td>\n",
       "      <td>118327.0</td>\n",
       "      <td>118507.0</td>\n",
       "      <td>118863.0</td>\n",
       "      <td>122008</td>\n",
       "      <td>118398</td>\n",
       "      <td>118865.0</td>\n",
       "    </tr>\n",
       "    <tr>\n",
       "      <th>2</th>\n",
       "      <td>75443.0</td>\n",
       "      <td>2395.0</td>\n",
       "      <td>117961.0</td>\n",
       "      <td>118300.0</td>\n",
       "      <td>119488.0</td>\n",
       "      <td>118172.0</td>\n",
       "      <td>301534</td>\n",
       "      <td>249618</td>\n",
       "      <td>118175.0</td>\n",
       "    </tr>\n",
       "    <tr>\n",
       "      <th>3</th>\n",
       "      <td>43219.0</td>\n",
       "      <td>19986.0</td>\n",
       "      <td>117961.0</td>\n",
       "      <td>118225.0</td>\n",
       "      <td>118403.0</td>\n",
       "      <td>120773.0</td>\n",
       "      <td>136187</td>\n",
       "      <td>118960</td>\n",
       "      <td>120774.0</td>\n",
       "    </tr>\n",
       "    <tr>\n",
       "      <th>4</th>\n",
       "      <td>42093.0</td>\n",
       "      <td>50015.0</td>\n",
       "      <td>117961.0</td>\n",
       "      <td>118343.0</td>\n",
       "      <td>119598.0</td>\n",
       "      <td>118422.0</td>\n",
       "      <td>300136</td>\n",
       "      <td>118424</td>\n",
       "      <td>118425.0</td>\n",
       "    </tr>\n",
       "  </tbody>\n",
       "</table>\n",
       "</div>"
      ],
      "text/plain": [
       "   RESOURCE   MGR_ID  ROLE_ROLLUP_1  ROLE_ROLLUP_2  ROLE_DEPTNAME  ROLE_TITLE  \\\n",
       "0   78766.0  72734.0       117961.0       118080.0       117878.0    117879.0   \n",
       "1   40644.0   4378.0       117961.0       118327.0       118507.0    118863.0   \n",
       "2   75443.0   2395.0       117961.0       118300.0       119488.0    118172.0   \n",
       "3   43219.0  19986.0       117961.0       118225.0       118403.0    120773.0   \n",
       "4   42093.0  50015.0       117961.0       118343.0       119598.0    118422.0   \n",
       "\n",
       "   ROLE_FAMILY_DESC  ROLE_FAMILY  ROLE_CODE  \n",
       "0            118177        19721   117880.0  \n",
       "1            122008       118398   118865.0  \n",
       "2            301534       249618   118175.0  \n",
       "3            136187       118960   120774.0  \n",
       "4            300136       118424   118425.0  "
      ]
     },
     "execution_count": 169,
     "metadata": {},
     "output_type": "execute_result"
    }
   ],
   "source": [
    "test_dataset.head()"
   ]
  },
  {
   "cell_type": "code",
   "execution_count": 170,
   "metadata": {},
   "outputs": [],
   "source": [
    "y=train_dataset['ACTION']"
   ]
  },
  {
   "cell_type": "code",
   "execution_count": 171,
   "metadata": {},
   "outputs": [
    {
     "data": {
      "text/plain": [
       "0    1.0\n",
       "1    1.0\n",
       "2    1.0\n",
       "3    1.0\n",
       "4    1.0\n",
       "Name: ACTION, dtype: float64"
      ]
     },
     "execution_count": 171,
     "metadata": {},
     "output_type": "execute_result"
    }
   ],
   "source": [
    "y.head()"
   ]
  },
  {
   "cell_type": "code",
   "execution_count": 172,
   "metadata": {},
   "outputs": [],
   "source": [
    "for i in train_dataset.columns:\n",
    "    if i !='ACTION':\n",
    "        sd=StandardScaler()\n",
    "        sd.fit(pd.DataFrame(train_dataset[i]))\n",
    "        z=sd.transform(pd.DataFrame(train_dataset[i]))\n",
    "        train_dataset[i]=z"
   ]
  },
  {
   "cell_type": "code",
   "execution_count": 173,
   "metadata": {},
   "outputs": [
    {
     "data": {
      "text/html": [
       "<div>\n",
       "<style scoped>\n",
       "    .dataframe tbody tr th:only-of-type {\n",
       "        vertical-align: middle;\n",
       "    }\n",
       "\n",
       "    .dataframe tbody tr th {\n",
       "        vertical-align: top;\n",
       "    }\n",
       "\n",
       "    .dataframe thead th {\n",
       "        text-align: right;\n",
       "    }\n",
       "</style>\n",
       "<table border=\"1\" class=\"dataframe\">\n",
       "  <thead>\n",
       "    <tr style=\"text-align: right;\">\n",
       "      <th></th>\n",
       "      <th>ACTION</th>\n",
       "      <th>RESOURCE</th>\n",
       "      <th>MGR_ID</th>\n",
       "      <th>ROLE_ROLLUP_1</th>\n",
       "      <th>ROLE_ROLLUP_2</th>\n",
       "      <th>ROLE_DEPTNAME</th>\n",
       "      <th>ROLE_TITLE</th>\n",
       "      <th>ROLE_FAMILY_DESC</th>\n",
       "      <th>ROLE_FAMILY</th>\n",
       "      <th>ROLE_CODE</th>\n",
       "    </tr>\n",
       "  </thead>\n",
       "  <tbody>\n",
       "    <tr>\n",
       "      <th>0</th>\n",
       "      <td>1.0</td>\n",
       "      <td>-0.063823</td>\n",
       "      <td>2.855406</td>\n",
       "      <td>0.0</td>\n",
       "      <td>0.353081</td>\n",
       "      <td>3.042009</td>\n",
       "      <td>-0.920474</td>\n",
       "      <td>-0.752030</td>\n",
       "      <td>1.066961</td>\n",
       "      <td>-0.997621</td>\n",
       "    </tr>\n",
       "    <tr>\n",
       "      <th>1</th>\n",
       "      <td>1.0</td>\n",
       "      <td>-0.882812</td>\n",
       "      <td>-0.847688</td>\n",
       "      <td>0.0</td>\n",
       "      <td>0.612956</td>\n",
       "      <td>2.786315</td>\n",
       "      <td>-0.220949</td>\n",
       "      <td>-0.742966</td>\n",
       "      <td>1.242656</td>\n",
       "      <td>-0.143599</td>\n",
       "    </tr>\n",
       "    <tr>\n",
       "      <th>2</th>\n",
       "      <td>1.0</td>\n",
       "      <td>-0.160942</td>\n",
       "      <td>-0.277808</td>\n",
       "      <td>0.0</td>\n",
       "      <td>-0.130407</td>\n",
       "      <td>-1.075619</td>\n",
       "      <td>-0.949297</td>\n",
       "      <td>1.406645</td>\n",
       "      <td>-1.631879</td>\n",
       "      <td>-1.035517</td>\n",
       "    </tr>\n",
       "    <tr>\n",
       "      <th>3</th>\n",
       "      <td>1.0</td>\n",
       "      <td>-0.182700</td>\n",
       "      <td>-0.677566</td>\n",
       "      <td>0.0</td>\n",
       "      <td>0.612956</td>\n",
       "      <td>0.478439</td>\n",
       "      <td>-0.459297</td>\n",
       "      <td>1.018649</td>\n",
       "      <td>1.066961</td>\n",
       "      <td>-0.437296</td>\n",
       "    </tr>\n",
       "    <tr>\n",
       "      <th>4</th>\n",
       "      <td>1.0</td>\n",
       "      <td>0.059081</td>\n",
       "      <td>-0.655110</td>\n",
       "      <td>0.0</td>\n",
       "      <td>-1.883050</td>\n",
       "      <td>0.166006</td>\n",
       "      <td>0.651518</td>\n",
       "      <td>-0.665335</td>\n",
       "      <td>-1.631162</td>\n",
       "      <td>0.920206</td>\n",
       "    </tr>\n",
       "  </tbody>\n",
       "</table>\n",
       "</div>"
      ],
      "text/plain": [
       "   ACTION  RESOURCE    MGR_ID  ROLE_ROLLUP_1  ROLE_ROLLUP_2  ROLE_DEPTNAME  \\\n",
       "0     1.0 -0.063823  2.855406            0.0       0.353081       3.042009   \n",
       "1     1.0 -0.882812 -0.847688            0.0       0.612956       2.786315   \n",
       "2     1.0 -0.160942 -0.277808            0.0      -0.130407      -1.075619   \n",
       "3     1.0 -0.182700 -0.677566            0.0       0.612956       0.478439   \n",
       "4     1.0  0.059081 -0.655110            0.0      -1.883050       0.166006   \n",
       "\n",
       "   ROLE_TITLE  ROLE_FAMILY_DESC  ROLE_FAMILY  ROLE_CODE  \n",
       "0   -0.920474         -0.752030     1.066961  -0.997621  \n",
       "1   -0.220949         -0.742966     1.242656  -0.143599  \n",
       "2   -0.949297          1.406645    -1.631879  -1.035517  \n",
       "3   -0.459297          1.018649     1.066961  -0.437296  \n",
       "4    0.651518         -0.665335    -1.631162   0.920206  "
      ]
     },
     "execution_count": 173,
     "metadata": {},
     "output_type": "execute_result"
    }
   ],
   "source": [
    "train_dataset.head()"
   ]
  },
  {
   "cell_type": "code",
   "execution_count": 174,
   "metadata": {},
   "outputs": [],
   "source": [
    "for i in test_dataset.columns:\n",
    "    sd=StandardScaler()\n",
    "    sd.fit(pd.DataFrame(test_dataset[i]))\n",
    "    z=sd.transform(pd.DataFrame(test_dataset[i]))\n",
    "    test_dataset[i]=z"
   ]
  },
  {
   "cell_type": "code",
   "execution_count": 175,
   "metadata": {},
   "outputs": [
    {
     "data": {
      "text/html": [
       "<div>\n",
       "<style scoped>\n",
       "    .dataframe tbody tr th:only-of-type {\n",
       "        vertical-align: middle;\n",
       "    }\n",
       "\n",
       "    .dataframe tbody tr th {\n",
       "        vertical-align: top;\n",
       "    }\n",
       "\n",
       "    .dataframe thead th {\n",
       "        text-align: right;\n",
       "    }\n",
       "</style>\n",
       "<table border=\"1\" class=\"dataframe\">\n",
       "  <thead>\n",
       "    <tr style=\"text-align: right;\">\n",
       "      <th></th>\n",
       "      <th>RESOURCE</th>\n",
       "      <th>MGR_ID</th>\n",
       "      <th>ROLE_ROLLUP_1</th>\n",
       "      <th>ROLE_ROLLUP_2</th>\n",
       "      <th>ROLE_DEPTNAME</th>\n",
       "      <th>ROLE_TITLE</th>\n",
       "      <th>ROLE_FAMILY_DESC</th>\n",
       "      <th>ROLE_FAMILY</th>\n",
       "      <th>ROLE_CODE</th>\n",
       "    </tr>\n",
       "  </thead>\n",
       "  <tbody>\n",
       "    <tr>\n",
       "      <th>0</th>\n",
       "      <td>1.715429</td>\n",
       "      <td>2.137835</td>\n",
       "      <td>0.0</td>\n",
       "      <td>-0.970465</td>\n",
       "      <td>-1.089758</td>\n",
       "      <td>-0.957214</td>\n",
       "      <td>-0.750227</td>\n",
       "      <td>-1.601350</td>\n",
       "      <td>-1.022949</td>\n",
       "    </tr>\n",
       "    <tr>\n",
       "      <th>1</th>\n",
       "      <td>0.163582</td>\n",
       "      <td>-0.750806</td>\n",
       "      <td>0.0</td>\n",
       "      <td>0.502390</td>\n",
       "      <td>-0.593248</td>\n",
       "      <td>0.123643</td>\n",
       "      <td>-0.695250</td>\n",
       "      <td>-0.611006</td>\n",
       "      <td>0.273740</td>\n",
       "    </tr>\n",
       "    <tr>\n",
       "      <th>2</th>\n",
       "      <td>1.580158</td>\n",
       "      <td>-0.834605</td>\n",
       "      <td>0.0</td>\n",
       "      <td>0.341390</td>\n",
       "      <td>0.181119</td>\n",
       "      <td>-0.635373</td>\n",
       "      <td>1.881034</td>\n",
       "      <td>0.705947</td>\n",
       "      <td>-0.634600</td>\n",
       "    </tr>\n",
       "    <tr>\n",
       "      <th>3</th>\n",
       "      <td>0.268403</td>\n",
       "      <td>-0.091231</td>\n",
       "      <td>0.0</td>\n",
       "      <td>-0.105833</td>\n",
       "      <td>-0.675342</td>\n",
       "      <td>2.221646</td>\n",
       "      <td>-0.491774</td>\n",
       "      <td>-0.605365</td>\n",
       "      <td>2.786813</td>\n",
       "    </tr>\n",
       "    <tr>\n",
       "      <th>4</th>\n",
       "      <td>0.222567</td>\n",
       "      <td>1.177758</td>\n",
       "      <td>0.0</td>\n",
       "      <td>0.597798</td>\n",
       "      <td>0.267949</td>\n",
       "      <td>-0.360765</td>\n",
       "      <td>1.860972</td>\n",
       "      <td>-0.610745</td>\n",
       "      <td>-0.305492</td>\n",
       "    </tr>\n",
       "  </tbody>\n",
       "</table>\n",
       "</div>"
      ],
      "text/plain": [
       "   RESOURCE    MGR_ID  ROLE_ROLLUP_1  ROLE_ROLLUP_2  ROLE_DEPTNAME  \\\n",
       "0  1.715429  2.137835            0.0      -0.970465      -1.089758   \n",
       "1  0.163582 -0.750806            0.0       0.502390      -0.593248   \n",
       "2  1.580158 -0.834605            0.0       0.341390       0.181119   \n",
       "3  0.268403 -0.091231            0.0      -0.105833      -0.675342   \n",
       "4  0.222567  1.177758            0.0       0.597798       0.267949   \n",
       "\n",
       "   ROLE_TITLE  ROLE_FAMILY_DESC  ROLE_FAMILY  ROLE_CODE  \n",
       "0   -0.957214         -0.750227    -1.601350  -1.022949  \n",
       "1    0.123643         -0.695250    -0.611006   0.273740  \n",
       "2   -0.635373          1.881034     0.705947  -0.634600  \n",
       "3    2.221646         -0.491774    -0.605365   2.786813  \n",
       "4   -0.360765          1.860972    -0.610745  -0.305492  "
      ]
     },
     "execution_count": 175,
     "metadata": {},
     "output_type": "execute_result"
    }
   ],
   "source": [
    "test_dataset.head()"
   ]
  },
  {
   "cell_type": "code",
   "execution_count": 176,
   "metadata": {},
   "outputs": [],
   "source": [
    "x = train_dataset.drop('ACTION',axis=1)"
   ]
  },
  {
   "cell_type": "code",
   "execution_count": 177,
   "metadata": {},
   "outputs": [
    {
     "data": {
      "text/html": [
       "<div>\n",
       "<style scoped>\n",
       "    .dataframe tbody tr th:only-of-type {\n",
       "        vertical-align: middle;\n",
       "    }\n",
       "\n",
       "    .dataframe tbody tr th {\n",
       "        vertical-align: top;\n",
       "    }\n",
       "\n",
       "    .dataframe thead th {\n",
       "        text-align: right;\n",
       "    }\n",
       "</style>\n",
       "<table border=\"1\" class=\"dataframe\">\n",
       "  <thead>\n",
       "    <tr style=\"text-align: right;\">\n",
       "      <th></th>\n",
       "      <th>RESOURCE</th>\n",
       "      <th>MGR_ID</th>\n",
       "      <th>ROLE_ROLLUP_1</th>\n",
       "      <th>ROLE_ROLLUP_2</th>\n",
       "      <th>ROLE_DEPTNAME</th>\n",
       "      <th>ROLE_TITLE</th>\n",
       "      <th>ROLE_FAMILY_DESC</th>\n",
       "      <th>ROLE_FAMILY</th>\n",
       "      <th>ROLE_CODE</th>\n",
       "    </tr>\n",
       "  </thead>\n",
       "  <tbody>\n",
       "    <tr>\n",
       "      <th>0</th>\n",
       "      <td>-0.063823</td>\n",
       "      <td>2.855406</td>\n",
       "      <td>0.0</td>\n",
       "      <td>0.353081</td>\n",
       "      <td>3.042009</td>\n",
       "      <td>-0.920474</td>\n",
       "      <td>-0.752030</td>\n",
       "      <td>1.066961</td>\n",
       "      <td>-0.997621</td>\n",
       "    </tr>\n",
       "    <tr>\n",
       "      <th>1</th>\n",
       "      <td>-0.882812</td>\n",
       "      <td>-0.847688</td>\n",
       "      <td>0.0</td>\n",
       "      <td>0.612956</td>\n",
       "      <td>2.786315</td>\n",
       "      <td>-0.220949</td>\n",
       "      <td>-0.742966</td>\n",
       "      <td>1.242656</td>\n",
       "      <td>-0.143599</td>\n",
       "    </tr>\n",
       "    <tr>\n",
       "      <th>2</th>\n",
       "      <td>-0.160942</td>\n",
       "      <td>-0.277808</td>\n",
       "      <td>0.0</td>\n",
       "      <td>-0.130407</td>\n",
       "      <td>-1.075619</td>\n",
       "      <td>-0.949297</td>\n",
       "      <td>1.406645</td>\n",
       "      <td>-1.631879</td>\n",
       "      <td>-1.035517</td>\n",
       "    </tr>\n",
       "    <tr>\n",
       "      <th>3</th>\n",
       "      <td>-0.182700</td>\n",
       "      <td>-0.677566</td>\n",
       "      <td>0.0</td>\n",
       "      <td>0.612956</td>\n",
       "      <td>0.478439</td>\n",
       "      <td>-0.459297</td>\n",
       "      <td>1.018649</td>\n",
       "      <td>1.066961</td>\n",
       "      <td>-0.437296</td>\n",
       "    </tr>\n",
       "    <tr>\n",
       "      <th>4</th>\n",
       "      <td>0.059081</td>\n",
       "      <td>-0.655110</td>\n",
       "      <td>0.0</td>\n",
       "      <td>-1.883050</td>\n",
       "      <td>0.166006</td>\n",
       "      <td>0.651518</td>\n",
       "      <td>-0.665335</td>\n",
       "      <td>-1.631162</td>\n",
       "      <td>0.920206</td>\n",
       "    </tr>\n",
       "  </tbody>\n",
       "</table>\n",
       "</div>"
      ],
      "text/plain": [
       "   RESOURCE    MGR_ID  ROLE_ROLLUP_1  ROLE_ROLLUP_2  ROLE_DEPTNAME  \\\n",
       "0 -0.063823  2.855406            0.0       0.353081       3.042009   \n",
       "1 -0.882812 -0.847688            0.0       0.612956       2.786315   \n",
       "2 -0.160942 -0.277808            0.0      -0.130407      -1.075619   \n",
       "3 -0.182700 -0.677566            0.0       0.612956       0.478439   \n",
       "4  0.059081 -0.655110            0.0      -1.883050       0.166006   \n",
       "\n",
       "   ROLE_TITLE  ROLE_FAMILY_DESC  ROLE_FAMILY  ROLE_CODE  \n",
       "0   -0.920474         -0.752030     1.066961  -0.997621  \n",
       "1   -0.220949         -0.742966     1.242656  -0.143599  \n",
       "2   -0.949297          1.406645    -1.631879  -1.035517  \n",
       "3   -0.459297          1.018649     1.066961  -0.437296  \n",
       "4    0.651518         -0.665335    -1.631162   0.920206  "
      ]
     },
     "execution_count": 177,
     "metadata": {},
     "output_type": "execute_result"
    }
   ],
   "source": [
    "x.head()"
   ]
  },
  {
   "cell_type": "code",
   "execution_count": 178,
   "metadata": {},
   "outputs": [],
   "source": [
    "y=train_dataset['ACTION']"
   ]
  },
  {
   "cell_type": "code",
   "execution_count": 179,
   "metadata": {},
   "outputs": [
    {
     "data": {
      "text/plain": [
       "0    1.0\n",
       "1    1.0\n",
       "2    1.0\n",
       "3    1.0\n",
       "4    1.0\n",
       "Name: ACTION, dtype: float64"
      ]
     },
     "execution_count": 179,
     "metadata": {},
     "output_type": "execute_result"
    }
   ],
   "source": [
    "y.head()"
   ]
  },
  {
   "cell_type": "code",
   "execution_count": 180,
   "metadata": {},
   "outputs": [
    {
     "name": "stdout",
     "output_type": "stream",
     "text": [
      "[1. 1. 1. ... 1. 1. 1.]\n"
     ]
    }
   ],
   "source": [
    "dt = DecisionTreeClassifier()\n",
    "dt.fit(x,y)\n",
    "predict_decisionTree = dt.predict(test_dataset)\n",
    "print(predict_decisionTree)"
   ]
  },
  {
   "cell_type": "code",
   "execution_count": 181,
   "metadata": {},
   "outputs": [
    {
     "name": "stdout",
     "output_type": "stream",
     "text": [
      "[1. 1. 1. ... 1. 1. 1.]\n"
     ]
    },
    {
     "name": "stderr",
     "output_type": "stream",
     "text": [
      "C:\\Users\\srivutta\\AppData\\Local\\Continuum\\anaconda3\\lib\\site-packages\\sklearn\\ensemble\\forest.py:245: FutureWarning: The default value of n_estimators will change from 10 in version 0.20 to 100 in 0.22.\n",
      "  \"10 in version 0.20 to 100 in 0.22.\", FutureWarning)\n"
     ]
    }
   ],
   "source": [
    "dt = RandomForestClassifier()\n",
    "dt.fit(x,y)\n",
    "predict_randomForest = dt.predict(test_dataset)\n",
    "print(predict_randomForest)"
   ]
  },
  {
   "cell_type": "code",
   "execution_count": null,
   "metadata": {},
   "outputs": [],
   "source": [
    "pd.DataFrame(ids,predict_randomForest).to_csv(\"final_submission_amazon.csv\")"
   ]
  },
  {
   "cell_type": "code",
   "execution_count": 182,
   "metadata": {},
   "outputs": [
    {
     "name": "stdout",
     "output_type": "stream",
     "text": [
      "[1. 1. 1. ... 1. 1. 1.]\n"
     ]
    }
   ],
   "source": [
    "dt = BaggingClassifier()\n",
    "dt.fit(x,y)\n",
    "predict_bagging = dt.predict(test_dataset)\n",
    "print(predict_bagging)"
   ]
  },
  {
   "cell_type": "code",
   "execution_count": 183,
   "metadata": {},
   "outputs": [
    {
     "data": {
      "text/plain": [
       "array([], dtype=float64)"
      ]
     },
     "execution_count": 183,
     "metadata": {},
     "output_type": "execute_result"
    }
   ],
   "source": [
    "predict_bagging[predict_bagging==0]"
   ]
  },
  {
   "cell_type": "code",
   "execution_count": 187,
   "metadata": {},
   "outputs": [],
   "source": [
    "pd.DataFrame([ids,predict_randomForest]).T.to_csv(\"final submission_amazon.csv\")"
   ]
  },
  {
   "cell_type": "code",
   "execution_count": 186,
   "metadata": {},
   "outputs": [
    {
     "data": {
      "text/plain": [
       "0            1\n",
       "1            2\n",
       "2            3\n",
       "3            4\n",
       "4            5\n",
       "5            6\n",
       "6            7\n",
       "7            8\n",
       "8            9\n",
       "9           10\n",
       "10          11\n",
       "11          12\n",
       "12          13\n",
       "13          14\n",
       "14          15\n",
       "15          16\n",
       "16          17\n",
       "17          18\n",
       "18          19\n",
       "19          20\n",
       "20          21\n",
       "21          22\n",
       "22          23\n",
       "23          24\n",
       "24          25\n",
       "25          26\n",
       "26          27\n",
       "27          28\n",
       "28          29\n",
       "29          30\n",
       "         ...  \n",
       "58891    58892\n",
       "58892    58893\n",
       "58893    58894\n",
       "58894    58895\n",
       "58895    58896\n",
       "58896    58897\n",
       "58897    58898\n",
       "58898    58899\n",
       "58899    58900\n",
       "58900    58901\n",
       "58901    58902\n",
       "58902    58903\n",
       "58903    58904\n",
       "58904    58905\n",
       "58905    58906\n",
       "58906    58907\n",
       "58907    58908\n",
       "58908    58909\n",
       "58909    58910\n",
       "58910    58911\n",
       "58911    58912\n",
       "58912    58913\n",
       "58913    58914\n",
       "58914    58915\n",
       "58915    58916\n",
       "58916    58917\n",
       "58917    58918\n",
       "58918    58919\n",
       "58919    58920\n",
       "58920    58921\n",
       "Name: id, Length: 58921, dtype: int32"
      ]
     },
     "execution_count": 186,
     "metadata": {},
     "output_type": "execute_result"
    }
   ],
   "source": [
    "ids"
   ]
  },
  {
   "cell_type": "code",
   "execution_count": null,
   "metadata": {},
   "outputs": [],
   "source": []
  }
 ],
 "metadata": {
  "kernelspec": {
   "display_name": "Python 3",
   "language": "python",
   "name": "python3"
  },
  "language_info": {
   "codemirror_mode": {
    "name": "ipython",
    "version": 3
   },
   "file_extension": ".py",
   "mimetype": "text/x-python",
   "name": "python",
   "nbconvert_exporter": "python",
   "pygments_lexer": "ipython3",
   "version": "3.7.3"
  },
  "toc": {
   "base_numbering": 1,
   "nav_menu": {},
   "number_sections": true,
   "sideBar": true,
   "skip_h1_title": false,
   "title_cell": "Table of Contents",
   "title_sidebar": "Contents",
   "toc_cell": false,
   "toc_position": {},
   "toc_section_display": true,
   "toc_window_display": false
  },
  "varInspector": {
   "cols": {
    "lenName": 16,
    "lenType": 16,
    "lenVar": 40
   },
   "kernels_config": {
    "python": {
     "delete_cmd_postfix": "",
     "delete_cmd_prefix": "del ",
     "library": "var_list.py",
     "varRefreshCmd": "print(var_dic_list())"
    },
    "r": {
     "delete_cmd_postfix": ") ",
     "delete_cmd_prefix": "rm(",
     "library": "var_list.r",
     "varRefreshCmd": "cat(var_dic_list()) "
    }
   },
   "types_to_exclude": [
    "module",
    "function",
    "builtin_function_or_method",
    "instance",
    "_Feature"
   ],
   "window_display": false
  }
 },
 "nbformat": 4,
 "nbformat_minor": 2
}
