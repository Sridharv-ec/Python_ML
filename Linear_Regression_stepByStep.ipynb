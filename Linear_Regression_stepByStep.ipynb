{
 "cells": [
  {
   "cell_type": "code",
   "execution_count": 2,
   "metadata": {},
   "outputs": [],
   "source": [
    "import numpy as np\n",
    "import pandas as pd"
   ]
  },
  {
   "cell_type": "code",
   "execution_count": 3,
   "metadata": {},
   "outputs": [],
   "source": [
    "base_dataset=pd.read_csv(\"C:\\\\Sridhar\\\\AI_ML\\\\Python\\\\Pandas\\\\file1\\\\application_train.csv\")"
   ]
  },
  {
   "cell_type": "code",
   "execution_count": 4,
   "metadata": {},
   "outputs": [],
   "source": [
    "base_dataset = base_dataset[base_dataset.describe().columns]"
   ]
  },
  {
   "cell_type": "code",
   "execution_count": 5,
   "metadata": {},
   "outputs": [],
   "source": [
    "# base_dataset = base_dataset[0:20]"
   ]
  },
  {
   "cell_type": "code",
   "execution_count": 6,
   "metadata": {},
   "outputs": [
    {
     "data": {
      "text/plain": [
       "(307511, 106)"
      ]
     },
     "execution_count": 6,
     "metadata": {},
     "output_type": "execute_result"
    }
   ],
   "source": [
    "base_dataset.shape"
   ]
  },
  {
   "cell_type": "code",
   "execution_count": 27,
   "metadata": {},
   "outputs": [],
   "source": [
    "# base_dataset = base_dataset[0:100]"
   ]
  },
  {
   "cell_type": "code",
   "execution_count": 7,
   "metadata": {},
   "outputs": [
    {
     "data": {
      "text/html": [
       "<div>\n",
       "<style scoped>\n",
       "    .dataframe tbody tr th:only-of-type {\n",
       "        vertical-align: middle;\n",
       "    }\n",
       "\n",
       "    .dataframe tbody tr th {\n",
       "        vertical-align: top;\n",
       "    }\n",
       "\n",
       "    .dataframe thead th {\n",
       "        text-align: right;\n",
       "    }\n",
       "</style>\n",
       "<table border=\"1\" class=\"dataframe\">\n",
       "  <thead>\n",
       "    <tr style=\"text-align: right;\">\n",
       "      <th></th>\n",
       "      <th>SK_ID_CURR</th>\n",
       "      <th>TARGET</th>\n",
       "      <th>CNT_CHILDREN</th>\n",
       "      <th>AMT_INCOME_TOTAL</th>\n",
       "      <th>AMT_CREDIT</th>\n",
       "      <th>AMT_ANNUITY</th>\n",
       "      <th>AMT_GOODS_PRICE</th>\n",
       "      <th>REGION_POPULATION_RELATIVE</th>\n",
       "      <th>DAYS_BIRTH</th>\n",
       "      <th>DAYS_EMPLOYED</th>\n",
       "      <th>...</th>\n",
       "      <th>FLAG_DOCUMENT_18</th>\n",
       "      <th>FLAG_DOCUMENT_19</th>\n",
       "      <th>FLAG_DOCUMENT_20</th>\n",
       "      <th>FLAG_DOCUMENT_21</th>\n",
       "      <th>AMT_REQ_CREDIT_BUREAU_HOUR</th>\n",
       "      <th>AMT_REQ_CREDIT_BUREAU_DAY</th>\n",
       "      <th>AMT_REQ_CREDIT_BUREAU_WEEK</th>\n",
       "      <th>AMT_REQ_CREDIT_BUREAU_MON</th>\n",
       "      <th>AMT_REQ_CREDIT_BUREAU_QRT</th>\n",
       "      <th>AMT_REQ_CREDIT_BUREAU_YEAR</th>\n",
       "    </tr>\n",
       "  </thead>\n",
       "  <tbody>\n",
       "    <tr>\n",
       "      <th>0</th>\n",
       "      <td>100002</td>\n",
       "      <td>1</td>\n",
       "      <td>0</td>\n",
       "      <td>202500.0</td>\n",
       "      <td>406597.5</td>\n",
       "      <td>24700.5</td>\n",
       "      <td>351000.0</td>\n",
       "      <td>0.018801</td>\n",
       "      <td>-9461</td>\n",
       "      <td>-637</td>\n",
       "      <td>...</td>\n",
       "      <td>0</td>\n",
       "      <td>0</td>\n",
       "      <td>0</td>\n",
       "      <td>0</td>\n",
       "      <td>0.0</td>\n",
       "      <td>0.0</td>\n",
       "      <td>0.0</td>\n",
       "      <td>0.0</td>\n",
       "      <td>0.0</td>\n",
       "      <td>1.0</td>\n",
       "    </tr>\n",
       "    <tr>\n",
       "      <th>1</th>\n",
       "      <td>100003</td>\n",
       "      <td>0</td>\n",
       "      <td>0</td>\n",
       "      <td>270000.0</td>\n",
       "      <td>1293502.5</td>\n",
       "      <td>35698.5</td>\n",
       "      <td>1129500.0</td>\n",
       "      <td>0.003541</td>\n",
       "      <td>-16765</td>\n",
       "      <td>-1188</td>\n",
       "      <td>...</td>\n",
       "      <td>0</td>\n",
       "      <td>0</td>\n",
       "      <td>0</td>\n",
       "      <td>0</td>\n",
       "      <td>0.0</td>\n",
       "      <td>0.0</td>\n",
       "      <td>0.0</td>\n",
       "      <td>0.0</td>\n",
       "      <td>0.0</td>\n",
       "      <td>0.0</td>\n",
       "    </tr>\n",
       "    <tr>\n",
       "      <th>2</th>\n",
       "      <td>100004</td>\n",
       "      <td>0</td>\n",
       "      <td>0</td>\n",
       "      <td>67500.0</td>\n",
       "      <td>135000.0</td>\n",
       "      <td>6750.0</td>\n",
       "      <td>135000.0</td>\n",
       "      <td>0.010032</td>\n",
       "      <td>-19046</td>\n",
       "      <td>-225</td>\n",
       "      <td>...</td>\n",
       "      <td>0</td>\n",
       "      <td>0</td>\n",
       "      <td>0</td>\n",
       "      <td>0</td>\n",
       "      <td>0.0</td>\n",
       "      <td>0.0</td>\n",
       "      <td>0.0</td>\n",
       "      <td>0.0</td>\n",
       "      <td>0.0</td>\n",
       "      <td>0.0</td>\n",
       "    </tr>\n",
       "    <tr>\n",
       "      <th>3</th>\n",
       "      <td>100006</td>\n",
       "      <td>0</td>\n",
       "      <td>0</td>\n",
       "      <td>135000.0</td>\n",
       "      <td>312682.5</td>\n",
       "      <td>29686.5</td>\n",
       "      <td>297000.0</td>\n",
       "      <td>0.008019</td>\n",
       "      <td>-19005</td>\n",
       "      <td>-3039</td>\n",
       "      <td>...</td>\n",
       "      <td>0</td>\n",
       "      <td>0</td>\n",
       "      <td>0</td>\n",
       "      <td>0</td>\n",
       "      <td>NaN</td>\n",
       "      <td>NaN</td>\n",
       "      <td>NaN</td>\n",
       "      <td>NaN</td>\n",
       "      <td>NaN</td>\n",
       "      <td>NaN</td>\n",
       "    </tr>\n",
       "    <tr>\n",
       "      <th>4</th>\n",
       "      <td>100007</td>\n",
       "      <td>0</td>\n",
       "      <td>0</td>\n",
       "      <td>121500.0</td>\n",
       "      <td>513000.0</td>\n",
       "      <td>21865.5</td>\n",
       "      <td>513000.0</td>\n",
       "      <td>0.028663</td>\n",
       "      <td>-19932</td>\n",
       "      <td>-3038</td>\n",
       "      <td>...</td>\n",
       "      <td>0</td>\n",
       "      <td>0</td>\n",
       "      <td>0</td>\n",
       "      <td>0</td>\n",
       "      <td>0.0</td>\n",
       "      <td>0.0</td>\n",
       "      <td>0.0</td>\n",
       "      <td>0.0</td>\n",
       "      <td>0.0</td>\n",
       "      <td>0.0</td>\n",
       "    </tr>\n",
       "  </tbody>\n",
       "</table>\n",
       "<p>5 rows × 106 columns</p>\n",
       "</div>"
      ],
      "text/plain": [
       "   SK_ID_CURR  TARGET  CNT_CHILDREN  AMT_INCOME_TOTAL  AMT_CREDIT  \\\n",
       "0      100002       1             0          202500.0    406597.5   \n",
       "1      100003       0             0          270000.0   1293502.5   \n",
       "2      100004       0             0           67500.0    135000.0   \n",
       "3      100006       0             0          135000.0    312682.5   \n",
       "4      100007       0             0          121500.0    513000.0   \n",
       "\n",
       "   AMT_ANNUITY  AMT_GOODS_PRICE  REGION_POPULATION_RELATIVE  DAYS_BIRTH  \\\n",
       "0      24700.5         351000.0                    0.018801       -9461   \n",
       "1      35698.5        1129500.0                    0.003541      -16765   \n",
       "2       6750.0         135000.0                    0.010032      -19046   \n",
       "3      29686.5         297000.0                    0.008019      -19005   \n",
       "4      21865.5         513000.0                    0.028663      -19932   \n",
       "\n",
       "   DAYS_EMPLOYED  ...  FLAG_DOCUMENT_18  FLAG_DOCUMENT_19  FLAG_DOCUMENT_20  \\\n",
       "0           -637  ...                 0                 0                 0   \n",
       "1          -1188  ...                 0                 0                 0   \n",
       "2           -225  ...                 0                 0                 0   \n",
       "3          -3039  ...                 0                 0                 0   \n",
       "4          -3038  ...                 0                 0                 0   \n",
       "\n",
       "   FLAG_DOCUMENT_21  AMT_REQ_CREDIT_BUREAU_HOUR  AMT_REQ_CREDIT_BUREAU_DAY  \\\n",
       "0                 0                         0.0                        0.0   \n",
       "1                 0                         0.0                        0.0   \n",
       "2                 0                         0.0                        0.0   \n",
       "3                 0                         NaN                        NaN   \n",
       "4                 0                         0.0                        0.0   \n",
       "\n",
       "   AMT_REQ_CREDIT_BUREAU_WEEK  AMT_REQ_CREDIT_BUREAU_MON  \\\n",
       "0                         0.0                        0.0   \n",
       "1                         0.0                        0.0   \n",
       "2                         0.0                        0.0   \n",
       "3                         NaN                        NaN   \n",
       "4                         0.0                        0.0   \n",
       "\n",
       "   AMT_REQ_CREDIT_BUREAU_QRT  AMT_REQ_CREDIT_BUREAU_YEAR  \n",
       "0                        0.0                         1.0  \n",
       "1                        0.0                         0.0  \n",
       "2                        0.0                         0.0  \n",
       "3                        NaN                         NaN  \n",
       "4                        0.0                         0.0  \n",
       "\n",
       "[5 rows x 106 columns]"
      ]
     },
     "execution_count": 7,
     "metadata": {},
     "output_type": "execute_result"
    }
   ],
   "source": [
    "base_dataset.head()"
   ]
  },
  {
   "cell_type": "code",
   "execution_count": 28,
   "metadata": {},
   "outputs": [],
   "source": [
    "# base_dataset.shape"
   ]
  },
  {
   "cell_type": "code",
   "execution_count": 8,
   "metadata": {},
   "outputs": [],
   "source": [
    "base_dataset=base_dataset[base_dataset.var().sort_values().tail(20).index]"
   ]
  },
  {
   "cell_type": "code",
   "execution_count": 9,
   "metadata": {},
   "outputs": [
    {
     "data": {
      "text/plain": [
       "(307511, 20)"
      ]
     },
     "execution_count": 9,
     "metadata": {},
     "output_type": "execute_result"
    }
   ],
   "source": [
    "base_dataset.shape"
   ]
  },
  {
   "cell_type": "code",
   "execution_count": 18,
   "metadata": {},
   "outputs": [],
   "source": [
    "base_dataset=base_dataset[0:10]"
   ]
  },
  {
   "cell_type": "code",
   "execution_count": 19,
   "metadata": {},
   "outputs": [
    {
     "data": {
      "text/plain": [
       "(10, 20)"
      ]
     },
     "execution_count": 19,
     "metadata": {},
     "output_type": "execute_result"
    }
   ],
   "source": [
    "base_dataset.shape"
   ]
  },
  {
   "cell_type": "code",
   "execution_count": 20,
   "metadata": {},
   "outputs": [],
   "source": [
    "for i in base_dataset.columns:\n",
    "    base_dataset[i].fillna(base_dataset[i].median(),inplace=True)\n",
    "\n",
    "for i in base_dataset.columns:\n",
    "    base_dataset[i].fillna(base_dataset[i].mode().values[0],inplace=True)\n",
    "    \n",
    "# for i in base_dataset.columns:\n",
    "#     base_dataset[i].base_dataset(base_dataset[i].mode().values[0],inplace=True)"
   ]
  },
  {
   "cell_type": "code",
   "execution_count": 21,
   "metadata": {},
   "outputs": [],
   "source": [
    "y=base_dataset['AMT_CREDIT']"
   ]
  },
  {
   "cell_type": "code",
   "execution_count": 22,
   "metadata": {},
   "outputs": [],
   "source": [
    "x=base_dataset.drop('AMT_CREDIT',axis=1)"
   ]
  },
  {
   "cell_type": "code",
   "execution_count": 23,
   "metadata": {
    "scrolled": true
   },
   "outputs": [
    {
     "data": {
      "text/html": [
       "<div>\n",
       "<style scoped>\n",
       "    .dataframe tbody tr th:only-of-type {\n",
       "        vertical-align: middle;\n",
       "    }\n",
       "\n",
       "    .dataframe tbody tr th {\n",
       "        vertical-align: top;\n",
       "    }\n",
       "\n",
       "    .dataframe thead th {\n",
       "        text-align: right;\n",
       "    }\n",
       "</style>\n",
       "<table border=\"1\" class=\"dataframe\">\n",
       "  <thead>\n",
       "    <tr style=\"text-align: right;\">\n",
       "      <th></th>\n",
       "      <th>REGION_RATING_CLIENT</th>\n",
       "      <th>CNT_CHILDREN</th>\n",
       "      <th>AMT_REQ_CREDIT_BUREAU_QRT</th>\n",
       "      <th>CNT_FAM_MEMBERS</th>\n",
       "      <th>AMT_REQ_CREDIT_BUREAU_MON</th>\n",
       "      <th>AMT_REQ_CREDIT_BUREAU_YEAR</th>\n",
       "      <th>OBS_60_CNT_SOCIAL_CIRCLE</th>\n",
       "      <th>OBS_30_CNT_SOCIAL_CIRCLE</th>\n",
       "      <th>HOUR_APPR_PROCESS_START</th>\n",
       "      <th>OWN_CAR_AGE</th>\n",
       "      <th>DAYS_LAST_PHONE_CHANGE</th>\n",
       "      <th>DAYS_ID_PUBLISH</th>\n",
       "      <th>DAYS_REGISTRATION</th>\n",
       "      <th>DAYS_BIRTH</th>\n",
       "      <th>AMT_ANNUITY</th>\n",
       "      <th>SK_ID_CURR</th>\n",
       "      <th>DAYS_EMPLOYED</th>\n",
       "      <th>AMT_INCOME_TOTAL</th>\n",
       "      <th>AMT_GOODS_PRICE</th>\n",
       "    </tr>\n",
       "  </thead>\n",
       "  <tbody>\n",
       "    <tr>\n",
       "      <th>0</th>\n",
       "      <td>2</td>\n",
       "      <td>0</td>\n",
       "      <td>0.0</td>\n",
       "      <td>1.0</td>\n",
       "      <td>0.0</td>\n",
       "      <td>1.0</td>\n",
       "      <td>2.0</td>\n",
       "      <td>2.0</td>\n",
       "      <td>10</td>\n",
       "      <td>9.0</td>\n",
       "      <td>-1134.0</td>\n",
       "      <td>-2120</td>\n",
       "      <td>-3648.0</td>\n",
       "      <td>-9461</td>\n",
       "      <td>24700.5</td>\n",
       "      <td>100002</td>\n",
       "      <td>-637</td>\n",
       "      <td>202500.0</td>\n",
       "      <td>351000.0</td>\n",
       "    </tr>\n",
       "    <tr>\n",
       "      <th>1</th>\n",
       "      <td>1</td>\n",
       "      <td>0</td>\n",
       "      <td>0.0</td>\n",
       "      <td>2.0</td>\n",
       "      <td>0.0</td>\n",
       "      <td>0.0</td>\n",
       "      <td>1.0</td>\n",
       "      <td>1.0</td>\n",
       "      <td>11</td>\n",
       "      <td>9.0</td>\n",
       "      <td>-828.0</td>\n",
       "      <td>-291</td>\n",
       "      <td>-1186.0</td>\n",
       "      <td>-16765</td>\n",
       "      <td>35698.5</td>\n",
       "      <td>100003</td>\n",
       "      <td>-1188</td>\n",
       "      <td>270000.0</td>\n",
       "      <td>1129500.0</td>\n",
       "    </tr>\n",
       "    <tr>\n",
       "      <th>2</th>\n",
       "      <td>2</td>\n",
       "      <td>0</td>\n",
       "      <td>0.0</td>\n",
       "      <td>1.0</td>\n",
       "      <td>0.0</td>\n",
       "      <td>0.0</td>\n",
       "      <td>0.0</td>\n",
       "      <td>0.0</td>\n",
       "      <td>9</td>\n",
       "      <td>26.0</td>\n",
       "      <td>-815.0</td>\n",
       "      <td>-2531</td>\n",
       "      <td>-4260.0</td>\n",
       "      <td>-19046</td>\n",
       "      <td>6750.0</td>\n",
       "      <td>100004</td>\n",
       "      <td>-225</td>\n",
       "      <td>67500.0</td>\n",
       "      <td>135000.0</td>\n",
       "    </tr>\n",
       "    <tr>\n",
       "      <th>3</th>\n",
       "      <td>2</td>\n",
       "      <td>0</td>\n",
       "      <td>0.0</td>\n",
       "      <td>2.0</td>\n",
       "      <td>0.0</td>\n",
       "      <td>1.0</td>\n",
       "      <td>2.0</td>\n",
       "      <td>2.0</td>\n",
       "      <td>17</td>\n",
       "      <td>9.0</td>\n",
       "      <td>-617.0</td>\n",
       "      <td>-2437</td>\n",
       "      <td>-9833.0</td>\n",
       "      <td>-19005</td>\n",
       "      <td>29686.5</td>\n",
       "      <td>100006</td>\n",
       "      <td>-3039</td>\n",
       "      <td>135000.0</td>\n",
       "      <td>297000.0</td>\n",
       "    </tr>\n",
       "    <tr>\n",
       "      <th>4</th>\n",
       "      <td>2</td>\n",
       "      <td>0</td>\n",
       "      <td>0.0</td>\n",
       "      <td>1.0</td>\n",
       "      <td>0.0</td>\n",
       "      <td>0.0</td>\n",
       "      <td>0.0</td>\n",
       "      <td>0.0</td>\n",
       "      <td>11</td>\n",
       "      <td>9.0</td>\n",
       "      <td>-1106.0</td>\n",
       "      <td>-3458</td>\n",
       "      <td>-4311.0</td>\n",
       "      <td>-19932</td>\n",
       "      <td>21865.5</td>\n",
       "      <td>100007</td>\n",
       "      <td>-3038</td>\n",
       "      <td>121500.0</td>\n",
       "      <td>513000.0</td>\n",
       "    </tr>\n",
       "    <tr>\n",
       "      <th>5</th>\n",
       "      <td>2</td>\n",
       "      <td>0</td>\n",
       "      <td>1.0</td>\n",
       "      <td>2.0</td>\n",
       "      <td>0.0</td>\n",
       "      <td>1.0</td>\n",
       "      <td>0.0</td>\n",
       "      <td>0.0</td>\n",
       "      <td>16</td>\n",
       "      <td>9.0</td>\n",
       "      <td>-2536.0</td>\n",
       "      <td>-477</td>\n",
       "      <td>-4970.0</td>\n",
       "      <td>-16941</td>\n",
       "      <td>27517.5</td>\n",
       "      <td>100008</td>\n",
       "      <td>-1588</td>\n",
       "      <td>99000.0</td>\n",
       "      <td>454500.0</td>\n",
       "    </tr>\n",
       "    <tr>\n",
       "      <th>6</th>\n",
       "      <td>2</td>\n",
       "      <td>1</td>\n",
       "      <td>1.0</td>\n",
       "      <td>3.0</td>\n",
       "      <td>1.0</td>\n",
       "      <td>2.0</td>\n",
       "      <td>1.0</td>\n",
       "      <td>1.0</td>\n",
       "      <td>16</td>\n",
       "      <td>17.0</td>\n",
       "      <td>-1562.0</td>\n",
       "      <td>-619</td>\n",
       "      <td>-1213.0</td>\n",
       "      <td>-13778</td>\n",
       "      <td>41301.0</td>\n",
       "      <td>100009</td>\n",
       "      <td>-3130</td>\n",
       "      <td>171000.0</td>\n",
       "      <td>1395000.0</td>\n",
       "    </tr>\n",
       "    <tr>\n",
       "      <th>7</th>\n",
       "      <td>3</td>\n",
       "      <td>0</td>\n",
       "      <td>0.0</td>\n",
       "      <td>2.0</td>\n",
       "      <td>0.0</td>\n",
       "      <td>0.0</td>\n",
       "      <td>2.0</td>\n",
       "      <td>2.0</td>\n",
       "      <td>16</td>\n",
       "      <td>8.0</td>\n",
       "      <td>-1070.0</td>\n",
       "      <td>-2379</td>\n",
       "      <td>-4597.0</td>\n",
       "      <td>-18850</td>\n",
       "      <td>42075.0</td>\n",
       "      <td>100010</td>\n",
       "      <td>-449</td>\n",
       "      <td>360000.0</td>\n",
       "      <td>1530000.0</td>\n",
       "    </tr>\n",
       "    <tr>\n",
       "      <th>8</th>\n",
       "      <td>2</td>\n",
       "      <td>0</td>\n",
       "      <td>0.0</td>\n",
       "      <td>2.0</td>\n",
       "      <td>0.0</td>\n",
       "      <td>1.0</td>\n",
       "      <td>1.0</td>\n",
       "      <td>1.0</td>\n",
       "      <td>14</td>\n",
       "      <td>9.0</td>\n",
       "      <td>0.0</td>\n",
       "      <td>-3514</td>\n",
       "      <td>-7427.0</td>\n",
       "      <td>-20099</td>\n",
       "      <td>33826.5</td>\n",
       "      <td>100011</td>\n",
       "      <td>365243</td>\n",
       "      <td>112500.0</td>\n",
       "      <td>913500.0</td>\n",
       "    </tr>\n",
       "    <tr>\n",
       "      <th>9</th>\n",
       "      <td>2</td>\n",
       "      <td>0</td>\n",
       "      <td>0.0</td>\n",
       "      <td>1.0</td>\n",
       "      <td>0.0</td>\n",
       "      <td>1.0</td>\n",
       "      <td>2.0</td>\n",
       "      <td>2.0</td>\n",
       "      <td>8</td>\n",
       "      <td>9.0</td>\n",
       "      <td>-1673.0</td>\n",
       "      <td>-3992</td>\n",
       "      <td>-14437.0</td>\n",
       "      <td>-14469</td>\n",
       "      <td>20250.0</td>\n",
       "      <td>100012</td>\n",
       "      <td>-2019</td>\n",
       "      <td>135000.0</td>\n",
       "      <td>405000.0</td>\n",
       "    </tr>\n",
       "  </tbody>\n",
       "</table>\n",
       "</div>"
      ],
      "text/plain": [
       "   REGION_RATING_CLIENT  CNT_CHILDREN  AMT_REQ_CREDIT_BUREAU_QRT  \\\n",
       "0                     2             0                        0.0   \n",
       "1                     1             0                        0.0   \n",
       "2                     2             0                        0.0   \n",
       "3                     2             0                        0.0   \n",
       "4                     2             0                        0.0   \n",
       "5                     2             0                        1.0   \n",
       "6                     2             1                        1.0   \n",
       "7                     3             0                        0.0   \n",
       "8                     2             0                        0.0   \n",
       "9                     2             0                        0.0   \n",
       "\n",
       "   CNT_FAM_MEMBERS  AMT_REQ_CREDIT_BUREAU_MON  AMT_REQ_CREDIT_BUREAU_YEAR  \\\n",
       "0              1.0                        0.0                         1.0   \n",
       "1              2.0                        0.0                         0.0   \n",
       "2              1.0                        0.0                         0.0   \n",
       "3              2.0                        0.0                         1.0   \n",
       "4              1.0                        0.0                         0.0   \n",
       "5              2.0                        0.0                         1.0   \n",
       "6              3.0                        1.0                         2.0   \n",
       "7              2.0                        0.0                         0.0   \n",
       "8              2.0                        0.0                         1.0   \n",
       "9              1.0                        0.0                         1.0   \n",
       "\n",
       "   OBS_60_CNT_SOCIAL_CIRCLE  OBS_30_CNT_SOCIAL_CIRCLE  \\\n",
       "0                       2.0                       2.0   \n",
       "1                       1.0                       1.0   \n",
       "2                       0.0                       0.0   \n",
       "3                       2.0                       2.0   \n",
       "4                       0.0                       0.0   \n",
       "5                       0.0                       0.0   \n",
       "6                       1.0                       1.0   \n",
       "7                       2.0                       2.0   \n",
       "8                       1.0                       1.0   \n",
       "9                       2.0                       2.0   \n",
       "\n",
       "   HOUR_APPR_PROCESS_START  OWN_CAR_AGE  DAYS_LAST_PHONE_CHANGE  \\\n",
       "0                       10          9.0                 -1134.0   \n",
       "1                       11          9.0                  -828.0   \n",
       "2                        9         26.0                  -815.0   \n",
       "3                       17          9.0                  -617.0   \n",
       "4                       11          9.0                 -1106.0   \n",
       "5                       16          9.0                 -2536.0   \n",
       "6                       16         17.0                 -1562.0   \n",
       "7                       16          8.0                 -1070.0   \n",
       "8                       14          9.0                     0.0   \n",
       "9                        8          9.0                 -1673.0   \n",
       "\n",
       "   DAYS_ID_PUBLISH  DAYS_REGISTRATION  DAYS_BIRTH  AMT_ANNUITY  SK_ID_CURR  \\\n",
       "0            -2120            -3648.0       -9461      24700.5      100002   \n",
       "1             -291            -1186.0      -16765      35698.5      100003   \n",
       "2            -2531            -4260.0      -19046       6750.0      100004   \n",
       "3            -2437            -9833.0      -19005      29686.5      100006   \n",
       "4            -3458            -4311.0      -19932      21865.5      100007   \n",
       "5             -477            -4970.0      -16941      27517.5      100008   \n",
       "6             -619            -1213.0      -13778      41301.0      100009   \n",
       "7            -2379            -4597.0      -18850      42075.0      100010   \n",
       "8            -3514            -7427.0      -20099      33826.5      100011   \n",
       "9            -3992           -14437.0      -14469      20250.0      100012   \n",
       "\n",
       "   DAYS_EMPLOYED  AMT_INCOME_TOTAL  AMT_GOODS_PRICE  \n",
       "0           -637          202500.0         351000.0  \n",
       "1          -1188          270000.0        1129500.0  \n",
       "2           -225           67500.0         135000.0  \n",
       "3          -3039          135000.0         297000.0  \n",
       "4          -3038          121500.0         513000.0  \n",
       "5          -1588           99000.0         454500.0  \n",
       "6          -3130          171000.0        1395000.0  \n",
       "7           -449          360000.0        1530000.0  \n",
       "8         365243          112500.0         913500.0  \n",
       "9          -2019          135000.0         405000.0  "
      ]
     },
     "execution_count": 23,
     "metadata": {},
     "output_type": "execute_result"
    }
   ],
   "source": [
    "x"
   ]
  },
  {
   "cell_type": "code",
   "execution_count": 24,
   "metadata": {},
   "outputs": [],
   "source": [
    "## Calulate beta coefficient"
   ]
  },
  {
   "cell_type": "code",
   "execution_count": 25,
   "metadata": {},
   "outputs": [],
   "source": [
    "x=x.values"
   ]
  },
  {
   "cell_type": "code",
   "execution_count": 26,
   "metadata": {
    "scrolled": true
   },
   "outputs": [
    {
     "data": {
      "text/plain": [
       "array([[ 2.00000e+00,  0.00000e+00,  0.00000e+00,  1.00000e+00,\n",
       "         0.00000e+00,  1.00000e+00,  2.00000e+00,  2.00000e+00,\n",
       "         1.00000e+01,  9.00000e+00, -1.13400e+03, -2.12000e+03,\n",
       "        -3.64800e+03, -9.46100e+03,  2.47005e+04,  1.00002e+05,\n",
       "        -6.37000e+02,  2.02500e+05,  3.51000e+05],\n",
       "       [ 1.00000e+00,  0.00000e+00,  0.00000e+00,  2.00000e+00,\n",
       "         0.00000e+00,  0.00000e+00,  1.00000e+00,  1.00000e+00,\n",
       "         1.10000e+01,  9.00000e+00, -8.28000e+02, -2.91000e+02,\n",
       "        -1.18600e+03, -1.67650e+04,  3.56985e+04,  1.00003e+05,\n",
       "        -1.18800e+03,  2.70000e+05,  1.12950e+06],\n",
       "       [ 2.00000e+00,  0.00000e+00,  0.00000e+00,  1.00000e+00,\n",
       "         0.00000e+00,  0.00000e+00,  0.00000e+00,  0.00000e+00,\n",
       "         9.00000e+00,  2.60000e+01, -8.15000e+02, -2.53100e+03,\n",
       "        -4.26000e+03, -1.90460e+04,  6.75000e+03,  1.00004e+05,\n",
       "        -2.25000e+02,  6.75000e+04,  1.35000e+05],\n",
       "       [ 2.00000e+00,  0.00000e+00,  0.00000e+00,  2.00000e+00,\n",
       "         0.00000e+00,  1.00000e+00,  2.00000e+00,  2.00000e+00,\n",
       "         1.70000e+01,  9.00000e+00, -6.17000e+02, -2.43700e+03,\n",
       "        -9.83300e+03, -1.90050e+04,  2.96865e+04,  1.00006e+05,\n",
       "        -3.03900e+03,  1.35000e+05,  2.97000e+05],\n",
       "       [ 2.00000e+00,  0.00000e+00,  0.00000e+00,  1.00000e+00,\n",
       "         0.00000e+00,  0.00000e+00,  0.00000e+00,  0.00000e+00,\n",
       "         1.10000e+01,  9.00000e+00, -1.10600e+03, -3.45800e+03,\n",
       "        -4.31100e+03, -1.99320e+04,  2.18655e+04,  1.00007e+05,\n",
       "        -3.03800e+03,  1.21500e+05,  5.13000e+05],\n",
       "       [ 2.00000e+00,  0.00000e+00,  1.00000e+00,  2.00000e+00,\n",
       "         0.00000e+00,  1.00000e+00,  0.00000e+00,  0.00000e+00,\n",
       "         1.60000e+01,  9.00000e+00, -2.53600e+03, -4.77000e+02,\n",
       "        -4.97000e+03, -1.69410e+04,  2.75175e+04,  1.00008e+05,\n",
       "        -1.58800e+03,  9.90000e+04,  4.54500e+05],\n",
       "       [ 2.00000e+00,  1.00000e+00,  1.00000e+00,  3.00000e+00,\n",
       "         1.00000e+00,  2.00000e+00,  1.00000e+00,  1.00000e+00,\n",
       "         1.60000e+01,  1.70000e+01, -1.56200e+03, -6.19000e+02,\n",
       "        -1.21300e+03, -1.37780e+04,  4.13010e+04,  1.00009e+05,\n",
       "        -3.13000e+03,  1.71000e+05,  1.39500e+06],\n",
       "       [ 3.00000e+00,  0.00000e+00,  0.00000e+00,  2.00000e+00,\n",
       "         0.00000e+00,  0.00000e+00,  2.00000e+00,  2.00000e+00,\n",
       "         1.60000e+01,  8.00000e+00, -1.07000e+03, -2.37900e+03,\n",
       "        -4.59700e+03, -1.88500e+04,  4.20750e+04,  1.00010e+05,\n",
       "        -4.49000e+02,  3.60000e+05,  1.53000e+06],\n",
       "       [ 2.00000e+00,  0.00000e+00,  0.00000e+00,  2.00000e+00,\n",
       "         0.00000e+00,  1.00000e+00,  1.00000e+00,  1.00000e+00,\n",
       "         1.40000e+01,  9.00000e+00,  0.00000e+00, -3.51400e+03,\n",
       "        -7.42700e+03, -2.00990e+04,  3.38265e+04,  1.00011e+05,\n",
       "         3.65243e+05,  1.12500e+05,  9.13500e+05],\n",
       "       [ 2.00000e+00,  0.00000e+00,  0.00000e+00,  1.00000e+00,\n",
       "         0.00000e+00,  1.00000e+00,  2.00000e+00,  2.00000e+00,\n",
       "         8.00000e+00,  9.00000e+00, -1.67300e+03, -3.99200e+03,\n",
       "        -1.44370e+04, -1.44690e+04,  2.02500e+04,  1.00012e+05,\n",
       "        -2.01900e+03,  1.35000e+05,  4.05000e+05]])"
      ]
     },
     "execution_count": 26,
     "metadata": {},
     "output_type": "execute_result"
    }
   ],
   "source": [
    "x"
   ]
  },
  {
   "cell_type": "code",
   "execution_count": 27,
   "metadata": {},
   "outputs": [
    {
     "data": {
      "text/plain": [
       "(10, 19)"
      ]
     },
     "execution_count": 27,
     "metadata": {},
     "output_type": "execute_result"
    }
   ],
   "source": [
    "x.shape"
   ]
  },
  {
   "cell_type": "code",
   "execution_count": 28,
   "metadata": {},
   "outputs": [
    {
     "data": {
      "text/plain": [
       "(19, 10)"
      ]
     },
     "execution_count": 28,
     "metadata": {},
     "output_type": "execute_result"
    }
   ],
   "source": [
    "x.T.shape"
   ]
  },
  {
   "cell_type": "code",
   "execution_count": 30,
   "metadata": {},
   "outputs": [
    {
     "data": {
      "text/plain": [
       "array([[ 2.00000e+00,  1.00000e+00,  2.00000e+00,  2.00000e+00,\n",
       "         2.00000e+00,  2.00000e+00,  2.00000e+00,  3.00000e+00,\n",
       "         2.00000e+00,  2.00000e+00],\n",
       "       [ 0.00000e+00,  0.00000e+00,  0.00000e+00,  0.00000e+00,\n",
       "         0.00000e+00,  0.00000e+00,  1.00000e+00,  0.00000e+00,\n",
       "         0.00000e+00,  0.00000e+00],\n",
       "       [ 0.00000e+00,  0.00000e+00,  0.00000e+00,  0.00000e+00,\n",
       "         0.00000e+00,  1.00000e+00,  1.00000e+00,  0.00000e+00,\n",
       "         0.00000e+00,  0.00000e+00],\n",
       "       [ 1.00000e+00,  2.00000e+00,  1.00000e+00,  2.00000e+00,\n",
       "         1.00000e+00,  2.00000e+00,  3.00000e+00,  2.00000e+00,\n",
       "         2.00000e+00,  1.00000e+00],\n",
       "       [ 0.00000e+00,  0.00000e+00,  0.00000e+00,  0.00000e+00,\n",
       "         0.00000e+00,  0.00000e+00,  1.00000e+00,  0.00000e+00,\n",
       "         0.00000e+00,  0.00000e+00],\n",
       "       [ 1.00000e+00,  0.00000e+00,  0.00000e+00,  1.00000e+00,\n",
       "         0.00000e+00,  1.00000e+00,  2.00000e+00,  0.00000e+00,\n",
       "         1.00000e+00,  1.00000e+00],\n",
       "       [ 2.00000e+00,  1.00000e+00,  0.00000e+00,  2.00000e+00,\n",
       "         0.00000e+00,  0.00000e+00,  1.00000e+00,  2.00000e+00,\n",
       "         1.00000e+00,  2.00000e+00],\n",
       "       [ 2.00000e+00,  1.00000e+00,  0.00000e+00,  2.00000e+00,\n",
       "         0.00000e+00,  0.00000e+00,  1.00000e+00,  2.00000e+00,\n",
       "         1.00000e+00,  2.00000e+00],\n",
       "       [ 1.00000e+01,  1.10000e+01,  9.00000e+00,  1.70000e+01,\n",
       "         1.10000e+01,  1.60000e+01,  1.60000e+01,  1.60000e+01,\n",
       "         1.40000e+01,  8.00000e+00],\n",
       "       [ 9.00000e+00,  9.00000e+00,  2.60000e+01,  9.00000e+00,\n",
       "         9.00000e+00,  9.00000e+00,  1.70000e+01,  8.00000e+00,\n",
       "         9.00000e+00,  9.00000e+00],\n",
       "       [-1.13400e+03, -8.28000e+02, -8.15000e+02, -6.17000e+02,\n",
       "        -1.10600e+03, -2.53600e+03, -1.56200e+03, -1.07000e+03,\n",
       "         0.00000e+00, -1.67300e+03],\n",
       "       [-2.12000e+03, -2.91000e+02, -2.53100e+03, -2.43700e+03,\n",
       "        -3.45800e+03, -4.77000e+02, -6.19000e+02, -2.37900e+03,\n",
       "        -3.51400e+03, -3.99200e+03],\n",
       "       [-3.64800e+03, -1.18600e+03, -4.26000e+03, -9.83300e+03,\n",
       "        -4.31100e+03, -4.97000e+03, -1.21300e+03, -4.59700e+03,\n",
       "        -7.42700e+03, -1.44370e+04],\n",
       "       [-9.46100e+03, -1.67650e+04, -1.90460e+04, -1.90050e+04,\n",
       "        -1.99320e+04, -1.69410e+04, -1.37780e+04, -1.88500e+04,\n",
       "        -2.00990e+04, -1.44690e+04],\n",
       "       [ 2.47005e+04,  3.56985e+04,  6.75000e+03,  2.96865e+04,\n",
       "         2.18655e+04,  2.75175e+04,  4.13010e+04,  4.20750e+04,\n",
       "         3.38265e+04,  2.02500e+04],\n",
       "       [ 1.00002e+05,  1.00003e+05,  1.00004e+05,  1.00006e+05,\n",
       "         1.00007e+05,  1.00008e+05,  1.00009e+05,  1.00010e+05,\n",
       "         1.00011e+05,  1.00012e+05],\n",
       "       [-6.37000e+02, -1.18800e+03, -2.25000e+02, -3.03900e+03,\n",
       "        -3.03800e+03, -1.58800e+03, -3.13000e+03, -4.49000e+02,\n",
       "         3.65243e+05, -2.01900e+03],\n",
       "       [ 2.02500e+05,  2.70000e+05,  6.75000e+04,  1.35000e+05,\n",
       "         1.21500e+05,  9.90000e+04,  1.71000e+05,  3.60000e+05,\n",
       "         1.12500e+05,  1.35000e+05],\n",
       "       [ 3.51000e+05,  1.12950e+06,  1.35000e+05,  2.97000e+05,\n",
       "         5.13000e+05,  4.54500e+05,  1.39500e+06,  1.53000e+06,\n",
       "         9.13500e+05,  4.05000e+05]])"
      ]
     },
     "execution_count": 30,
     "metadata": {},
     "output_type": "execute_result"
    }
   ],
   "source": [
    "x.T"
   ]
  },
  {
   "cell_type": "code",
   "execution_count": 31,
   "metadata": {},
   "outputs": [],
   "source": [
    "q = np.dot(x,x.T)"
   ]
  },
  {
   "cell_type": "code",
   "execution_count": 32,
   "metadata": {},
   "outputs": [
    {
     "data": {
      "text/plain": [
       "array([[1.74926769e+11, 4.62177024e+11, 7.14232467e+10, 1.42542051e+11,\n",
       "        2.15422563e+11, 1.90441004e+11, 5.35433612e+11, 6.21172126e+11,\n",
       "        3.54248622e+11, 1.80195289e+11],\n",
       "       [4.62177024e+11, 1.36022989e+12, 1.81275202e+11, 3.83307275e+11,\n",
       "        6.23364870e+11, 5.51365219e+11, 1.63353570e+12, 1.83716190e+12,\n",
       "        1.07329509e+12, 5.04886535e+11],\n",
       "       [7.14232467e+10, 1.81275202e+11, 3.32156318e+10, 5.98200968e+10,\n",
       "        8.80132694e+10, 7.85744055e+10, 2.10418710e+11, 2.41521001e+11,\n",
       "        1.41487238e+11, 7.42747876e+10],\n",
       "       [1.42542051e+11, 3.83307275e+11, 5.98200968e+10, 1.17789922e+11,\n",
       "        1.79853450e+11, 1.59548185e+11, 4.48913345e+11, 5.14671929e+11,\n",
       "        2.96856492e+11, 1.49546791e+11],\n",
       "       [2.15422563e+11, 6.23364870e+11, 8.80132694e+10, 1.79853450e+11,\n",
       "        2.88849030e+11, 2.56158557e+11, 7.47609397e+11, 8.39958001e+11,\n",
       "        4.92370858e+11, 2.34984599e+11],\n",
       "       [1.90441004e+11, 5.51365219e+11, 7.85744055e+10, 1.59548185e+11,\n",
       "        2.56158557e+11, 2.27450942e+11, 6.62343369e+11, 7.42531345e+11,\n",
       "        4.37055051e+11, 2.08322954e+11],\n",
       "       [5.35433612e+11, 1.63353570e+12, 2.10418710e+11, 4.48913345e+11,\n",
       "        7.47609397e+11, 6.62343369e+11, 1.98717750e+12, 2.20791948e+12,\n",
       "        1.30411397e+12, 5.99126715e+11],\n",
       "       [6.21172126e+11, 1.83716190e+12, 2.41521001e+11, 5.14671929e+11,\n",
       "        8.39958001e+11, 7.42531345e+11, 2.20791948e+12, 2.48265577e+12,\n",
       "        1.44983772e+12, 6.79455520e+11],\n",
       "       [3.54248622e+11, 1.07329509e+12, 1.41487238e+11, 2.96856492e+11,\n",
       "        4.92370858e+11, 4.37055051e+11, 1.30411397e+12, 1.44983772e+12,\n",
       "        9.92158860e+11, 3.95516925e+11],\n",
       "       [1.80195289e+11, 5.04886535e+11, 7.42747876e+10, 1.49546791e+11,\n",
       "        2.34984599e+11, 2.08322954e+11, 5.99126715e+11, 6.79455520e+11,\n",
       "        3.95516925e+11, 1.93103053e+11]])"
      ]
     },
     "execution_count": 32,
     "metadata": {},
     "output_type": "execute_result"
    }
   ],
   "source": [
    "q"
   ]
  },
  {
   "cell_type": "code",
   "execution_count": 39,
   "metadata": {},
   "outputs": [
    {
     "data": {
      "text/plain": [
       "(10, 10)"
      ]
     },
     "execution_count": 39,
     "metadata": {},
     "output_type": "execute_result"
    }
   ],
   "source": [
    "q.shape"
   ]
  },
  {
   "cell_type": "code",
   "execution_count": 40,
   "metadata": {},
   "outputs": [],
   "source": [
    "from numpy.linalg import inv\n",
    "p = inv(q)"
   ]
  },
  {
   "cell_type": "code",
   "execution_count": 41,
   "metadata": {},
   "outputs": [
    {
     "data": {
      "text/plain": [
       "array([[ 1.72741376e-04, -9.61394924e-04,  5.68031231e-04,\n",
       "         3.07584940e-04, -6.92185814e-04,  1.18685146e-04,\n",
       "         2.55619325e-04,  6.31554091e-04, -4.38157816e-06,\n",
       "        -3.96268697e-04],\n",
       "       [-9.61394924e-04,  5.35104165e-03, -3.16174567e-03,\n",
       "        -1.71206480e-03,  3.85289108e-03, -6.60665370e-04,\n",
       "        -1.42275349e-03, -3.51523396e-03,  2.43887099e-05,\n",
       "         2.20562037e-03],\n",
       "       [ 5.68031231e-04, -3.16174567e-03,  1.86836907e-03,\n",
       "         1.01179224e-03, -2.27683190e-03,  3.90238536e-04,\n",
       "         8.40752633e-04,  2.07704499e-03, -1.44112435e-05,\n",
       "        -1.30328908e-03],\n",
       "       [ 3.07584940e-04, -1.71206480e-03,  1.01179224e-03,\n",
       "         5.48006955e-04, -1.23297770e-03,  2.11170128e-04,\n",
       "         4.55331181e-04,  1.12469234e-03, -7.80345696e-06,\n",
       "        -7.05758567e-04],\n",
       "       [-6.92185814e-04,  3.85289108e-03, -2.27683190e-03,\n",
       "        -1.23297770e-03,  2.77464357e-03, -4.75590460e-04,\n",
       "        -1.02453831e-03, -2.53109802e-03,  1.75620380e-05,\n",
       "         1.58818552e-03],\n",
       "       [ 1.18685146e-04, -6.60665370e-04,  3.90238536e-04,\n",
       "         2.11170128e-04, -4.75590460e-04,  8.18447534e-05,\n",
       "         1.75535295e-04,  4.34044429e-04, -3.01162370e-06,\n",
       "        -2.72261264e-04],\n",
       "       [ 2.55619325e-04, -1.42275349e-03,  8.40752633e-04,\n",
       "         4.55331181e-04, -1.02453831e-03,  1.75535295e-04,\n",
       "         3.78356009e-04,  9.34633239e-04, -6.48462808e-06,\n",
       "        -5.86473332e-04],\n",
       "       [ 6.31554091e-04, -3.51523396e-03,  2.07704499e-03,\n",
       "         1.12469234e-03, -2.53109802e-03,  4.34044429e-04,\n",
       "         9.34633239e-04,  2.30925840e-03, -1.60218340e-05,\n",
       "        -1.44892869e-03],\n",
       "       [-4.38157816e-06,  2.43887099e-05, -1.44112435e-05,\n",
       "        -7.80345696e-06,  1.75620380e-05, -3.01162370e-06,\n",
       "        -6.48462808e-06, -1.60218340e-05,  1.11172982e-07,\n",
       "         1.00528240e-05],\n",
       "       [-3.96268697e-04,  2.20562037e-03, -1.30328908e-03,\n",
       "        -7.05758567e-04,  1.58818552e-03, -2.72261264e-04,\n",
       "        -5.86473332e-04, -1.44892869e-03,  1.00528240e-05,\n",
       "         9.09155383e-04]])"
      ]
     },
     "execution_count": 41,
     "metadata": {},
     "output_type": "execute_result"
    }
   ],
   "source": [
    "p"
   ]
  },
  {
   "cell_type": "code",
   "execution_count": 43,
   "metadata": {},
   "outputs": [
    {
     "data": {
      "text/plain": [
       "(10, 10)"
      ]
     },
     "execution_count": 43,
     "metadata": {},
     "output_type": "execute_result"
    }
   ],
   "source": [
    "pd.DataFrame(p).shape"
   ]
  },
  {
   "cell_type": "code",
   "execution_count": 44,
   "metadata": {},
   "outputs": [
    {
     "ename": "ValueError",
     "evalue": "operands could not be broadcast together with shapes (19,10) (10,10) ",
     "output_type": "error",
     "traceback": [
      "\u001b[1;31m---------------------------------------------------------------------------\u001b[0m",
      "\u001b[1;31mValueError\u001b[0m                                Traceback (most recent call last)",
      "\u001b[1;32m<ipython-input-44-f4c0ac48f039>\u001b[0m in \u001b[0;36m<module>\u001b[1;34m\u001b[0m\n\u001b[1;32m----> 1\u001b[1;33m \u001b[0mB\u001b[0m \u001b[1;33m=\u001b[0m \u001b[0mx\u001b[0m\u001b[1;33m.\u001b[0m\u001b[0mT\u001b[0m\u001b[1;33m*\u001b[0m\u001b[0mp\u001b[0m\u001b[1;33m*\u001b[0m\u001b[0my\u001b[0m\u001b[1;33m\u001b[0m\u001b[1;33m\u001b[0m\u001b[0m\n\u001b[0m",
      "\u001b[1;31mValueError\u001b[0m: operands could not be broadcast together with shapes (19,10) (10,10) "
     ]
    }
   ],
   "source": [
    "B = x.T*p*y"
   ]
  },
  {
   "cell_type": "code",
   "execution_count": 45,
   "metadata": {},
   "outputs": [],
   "source": [
    "h = np.dot(x.T,p)"
   ]
  },
  {
   "cell_type": "code",
   "execution_count": 46,
   "metadata": {},
   "outputs": [],
   "source": [
    "beta = np.dot(h,y) # beta = inverse(x.x.T)*xt*y"
   ]
  },
  {
   "cell_type": "code",
   "execution_count": 47,
   "metadata": {},
   "outputs": [
    {
     "data": {
      "text/plain": [
       "array([-8.95226066e+02, -1.43648777e+02, -2.10372035e+02, -3.39040749e+02,\n",
       "       -1.43648777e+02, -3.98785954e+02, -4.05217834e+02, -4.05217834e+02,\n",
       "       -3.78876544e+03, -6.22114242e+03,  8.30180151e+01,  5.22315928e+01,\n",
       "       -4.06657700e+00,  9.78544916e+00, -3.45857918e+00,  6.18709952e+00,\n",
       "       -8.90025244e-02, -8.49868342e-01,  1.21364960e+00])"
      ]
     },
     "execution_count": 47,
     "metadata": {},
     "output_type": "execute_result"
    }
   ],
   "source": [
    "beta"
   ]
  },
  {
   "cell_type": "code",
   "execution_count": 69,
   "metadata": {},
   "outputs": [
    {
     "data": {
      "text/plain": [
       "(19,)"
      ]
     },
     "execution_count": 69,
     "metadata": {},
     "output_type": "execute_result"
    }
   ],
   "source": [
    "beta.shape"
   ]
  },
  {
   "cell_type": "code",
   "execution_count": 70,
   "metadata": {},
   "outputs": [
    {
     "ename": "NameError",
     "evalue": "name 'dot' is not defined",
     "output_type": "error",
     "traceback": [
      "\u001b[1;31m---------------------------------------------------------------------------\u001b[0m",
      "\u001b[1;31mNameError\u001b[0m                                 Traceback (most recent call last)",
      "\u001b[1;32m<ipython-input-70-5318082a1d4e>\u001b[0m in \u001b[0;36m<module>\u001b[1;34m\u001b[0m\n\u001b[1;32m----> 1\u001b[1;33m \u001b[0mbeta1\u001b[0m \u001b[1;33m=\u001b[0m \u001b[0mdot\u001b[0m\u001b[1;33m(\u001b[0m\u001b[1;33m(\u001b[0m\u001b[0mnp\u001b[0m\u001b[1;33m.\u001b[0m\u001b[0mdot\u001b[0m\u001b[1;33m(\u001b[0m\u001b[0mx\u001b[0m\u001b[1;33m.\u001b[0m\u001b[0mT\u001b[0m\u001b[1;33m,\u001b[0m\u001b[0minv\u001b[0m\u001b[1;33m(\u001b[0m\u001b[0mnp\u001b[0m\u001b[1;33m.\u001b[0m\u001b[0mdot\u001b[0m\u001b[1;33m(\u001b[0m\u001b[0mx\u001b[0m\u001b[1;33m,\u001b[0m\u001b[0mx\u001b[0m\u001b[1;33m.\u001b[0m\u001b[0mT\u001b[0m\u001b[1;33m)\u001b[0m\u001b[1;33m)\u001b[0m\u001b[1;33m)\u001b[0m\u001b[1;33m)\u001b[0m\u001b[1;33m,\u001b[0m\u001b[0my\u001b[0m\u001b[1;33m)\u001b[0m\u001b[1;33m\u001b[0m\u001b[1;33m\u001b[0m\u001b[0m\n\u001b[0m",
      "\u001b[1;31mNameError\u001b[0m: name 'dot' is not defined"
     ]
    }
   ],
   "source": [
    "beta1 = dot((np.dot(x.T,inv(np.dot(x,x.T)))),y)"
   ]
  },
  {
   "cell_type": "code",
   "execution_count": 3,
   "metadata": {},
   "outputs": [
    {
     "name": "stdout",
     "output_type": "stream",
     "text": [
      "0    New York\n",
      "1     Chicago\n",
      "2     Toronto\n",
      "3      Lisbon\n",
      "4         Rio\n",
      "5     Chicago\n",
      "6      Lisbon\n",
      "dtype: object\n"
     ]
    }
   ],
   "source": [
    "import pandas as pd\n",
    "sr = pd.Series(['New York', 'Chicago', 'Toronto', 'Lisbon', 'Rio', 'Chicago', 'Lisbon']) \n",
    "print(sr)"
   ]
  },
  {
   "cell_type": "code",
   "execution_count": 4,
   "metadata": {},
   "outputs": [
    {
     "data": {
      "text/plain": [
       "Chicago     2\n",
       "Lisbon      2\n",
       "New York    1\n",
       "Toronto     1\n",
       "Rio         1\n",
       "dtype: int64"
      ]
     },
     "execution_count": 4,
     "metadata": {},
     "output_type": "execute_result"
    }
   ],
   "source": [
    "sr.value_counts()"
   ]
  },
  {
   "cell_type": "code",
   "execution_count": 8,
   "metadata": {},
   "outputs": [
    {
     "data": {
      "text/plain": [
       "array([0.28571429, 0.28571429, 0.14285714, 0.14285714, 0.14285714])"
      ]
     },
     "execution_count": 8,
     "metadata": {},
     "output_type": "execute_result"
    }
   ],
   "source": [
    "sr.value_counts(normalize=True).values"
   ]
  },
  {
   "cell_type": "code",
   "execution_count": null,
   "metadata": {},
   "outputs": [],
   "source": []
  }
 ],
 "metadata": {
  "kernelspec": {
   "display_name": "Python 3",
   "language": "python",
   "name": "python3"
  },
  "language_info": {
   "codemirror_mode": {
    "name": "ipython",
    "version": 3
   },
   "file_extension": ".py",
   "mimetype": "text/x-python",
   "name": "python",
   "nbconvert_exporter": "python",
   "pygments_lexer": "ipython3",
   "version": "3.7.3"
  },
  "toc": {
   "base_numbering": 1,
   "nav_menu": {},
   "number_sections": true,
   "sideBar": true,
   "skip_h1_title": false,
   "title_cell": "Table of Contents",
   "title_sidebar": "Contents",
   "toc_cell": false,
   "toc_position": {},
   "toc_section_display": true,
   "toc_window_display": false
  },
  "varInspector": {
   "cols": {
    "lenName": 16,
    "lenType": 16,
    "lenVar": 40
   },
   "kernels_config": {
    "python": {
     "delete_cmd_postfix": "",
     "delete_cmd_prefix": "del ",
     "library": "var_list.py",
     "varRefreshCmd": "print(var_dic_list())"
    },
    "r": {
     "delete_cmd_postfix": ") ",
     "delete_cmd_prefix": "rm(",
     "library": "var_list.r",
     "varRefreshCmd": "cat(var_dic_list()) "
    }
   },
   "types_to_exclude": [
    "module",
    "function",
    "builtin_function_or_method",
    "instance",
    "_Feature"
   ],
   "window_display": false
  }
 },
 "nbformat": 4,
 "nbformat_minor": 2
}
