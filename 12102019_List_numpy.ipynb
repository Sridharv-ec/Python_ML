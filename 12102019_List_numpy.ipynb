{
 "cells": [
  {
   "cell_type": "code",
   "execution_count": 1,
   "metadata": {},
   "outputs": [
    {
     "data": {
      "text/plain": [
       "[2, 3.4, 'Madhu', 4.5]"
      ]
     },
     "execution_count": 1,
     "metadata": {},
     "output_type": "execute_result"
    }
   ],
   "source": [
    "l=[2,3.4,'Madhu']\n",
    "l.append(4.5)\n",
    "l"
   ]
  },
  {
   "cell_type": "code",
   "execution_count": 2,
   "metadata": {},
   "outputs": [
    {
     "data": {
      "text/plain": [
       "[2, 3.4, 'Madhu', 4.5, [65, 'Science']]"
      ]
     },
     "execution_count": 2,
     "metadata": {},
     "output_type": "execute_result"
    }
   ],
   "source": [
    "l.append([65,'Science'])\n",
    "l"
   ]
  },
  {
   "cell_type": "code",
   "execution_count": 2,
   "metadata": {},
   "outputs": [
    {
     "data": {
      "text/plain": [
       "[2, 3.4, 'Madhu', 4.5, 3, 4]"
      ]
     },
     "execution_count": 2,
     "metadata": {},
     "output_type": "execute_result"
    }
   ],
   "source": [
    "l.extend([3,4])\n",
    "l"
   ]
  },
  {
   "cell_type": "code",
   "execution_count": 4,
   "metadata": {},
   "outputs": [
    {
     "data": {
      "text/plain": [
       "[2, 3.4, 'Javvaji', 'Madhu', 'Javvaji', 4.5, 3, 4]"
      ]
     },
     "execution_count": 4,
     "metadata": {},
     "output_type": "execute_result"
    }
   ],
   "source": [
    "l.insert(4,'Javvaji')\n",
    "l"
   ]
  },
  {
   "cell_type": "code",
   "execution_count": 5,
   "metadata": {},
   "outputs": [
    {
     "data": {
      "text/plain": [
       "[2, 3.4, 'Madhu', 'Javvaji', 4.5, 3, 4]"
      ]
     },
     "execution_count": 5,
     "metadata": {},
     "output_type": "execute_result"
    }
   ],
   "source": [
    "l.remove('Javvaji')\n",
    "l"
   ]
  },
  {
   "cell_type": "code",
   "execution_count": 6,
   "metadata": {},
   "outputs": [
    {
     "data": {
      "text/plain": [
       "[2, 3.4, 'Madhu', 4.5, 3, 4]"
      ]
     },
     "execution_count": 6,
     "metadata": {},
     "output_type": "execute_result"
    }
   ],
   "source": [
    "l.remove('Javvaji')\n",
    "l"
   ]
  },
  {
   "cell_type": "code",
   "execution_count": 9,
   "metadata": {},
   "outputs": [
    {
     "data": {
      "text/plain": [
       "2"
      ]
     },
     "execution_count": 9,
     "metadata": {},
     "output_type": "execute_result"
    }
   ],
   "source": [
    "l.append(4)\n",
    "l.count(4)\n"
   ]
  },
  {
   "cell_type": "code",
   "execution_count": 10,
   "metadata": {},
   "outputs": [
    {
     "data": {
      "text/plain": [
       "[2, 3.4, 'Madhu', 4.5, 3, 4, 4]"
      ]
     },
     "execution_count": 10,
     "metadata": {},
     "output_type": "execute_result"
    }
   ],
   "source": [
    "l"
   ]
  },
  {
   "cell_type": "code",
   "execution_count": 11,
   "metadata": {},
   "outputs": [
    {
     "data": {
      "text/plain": [
       "[4, 4, 3, 4.5, 'Madhu', 3.4, 2]"
      ]
     },
     "execution_count": 11,
     "metadata": {},
     "output_type": "execute_result"
    }
   ],
   "source": [
    "l.reverse()\n",
    "l"
   ]
  },
  {
   "cell_type": "code",
   "execution_count": 25,
   "metadata": {},
   "outputs": [
    {
     "data": {
      "text/plain": [
       "[2, 'Madhu', 4.5, [65, 'Science'], 3, 4]"
      ]
     },
     "execution_count": 25,
     "metadata": {},
     "output_type": "execute_result"
    }
   ],
   "source": [
    "l"
   ]
  },
  {
   "cell_type": "code",
   "execution_count": 26,
   "metadata": {},
   "outputs": [],
   "source": [
    "l.reverse()"
   ]
  },
  {
   "cell_type": "code",
   "execution_count": 27,
   "metadata": {},
   "outputs": [
    {
     "data": {
      "text/plain": [
       "[4, 3, [65, 'Science'], 4.5, 'Madhu', 2]"
      ]
     },
     "execution_count": 27,
     "metadata": {},
     "output_type": "execute_result"
    }
   ],
   "source": [
    "l"
   ]
  },
  {
   "cell_type": "code",
   "execution_count": 17,
   "metadata": {},
   "outputs": [
    {
     "data": {
      "text/plain": [
       "array([[1, 2, 3],\n",
       "       [4, 5, 6],\n",
       "       [7, 8, 9]])"
      ]
     },
     "execution_count": 17,
     "metadata": {},
     "output_type": "execute_result"
    }
   ],
   "source": [
    "x=[[1,2,3],[4,5,6],[7,8,9]]\n",
    "import numpy as np\n",
    "y=np.array(x)\n",
    "y"
   ]
  },
  {
   "cell_type": "code",
   "execution_count": 14,
   "metadata": {},
   "outputs": [
    {
     "data": {
      "text/plain": [
       "array([[64, 47, 58, 89, 32],\n",
       "       [31, 61, 16, 72, 93],\n",
       "       [36, 38, 95, 20, 25],\n",
       "       [51, 65, 25, 66, 44],\n",
       "       [63, 91, 86, 65, 98],\n",
       "       [50, 44, 56, 50, 19],\n",
       "       [23, 93, 65, 74, 18],\n",
       "       [77, 26, 29, 12, 77],\n",
       "       [57, 36, 48, 14, 40],\n",
       "       [69, 14, 35, 31, 81]])"
      ]
     },
     "execution_count": 14,
     "metadata": {},
     "output_type": "execute_result"
    }
   ],
   "source": [
    "np.random.randint(10,100,(10,5))"
   ]
  },
  {
   "cell_type": "code",
   "execution_count": 30,
   "metadata": {},
   "outputs": [
    {
     "data": {
      "text/plain": [
       "array([[90, 95, 59, 90, 88],\n",
       "       [89, 47, 40, 91, 73],\n",
       "       [81, 98, 50, 36, 36],\n",
       "       [84, 54, 55, 51, 55],\n",
       "       [88, 95, 45, 60, 95],\n",
       "       [64, 96, 72, 81, 35],\n",
       "       [82, 95, 65, 37, 92],\n",
       "       [84, 92, 74, 56, 74],\n",
       "       [76, 92, 70, 63, 76],\n",
       "       [91, 59, 79, 69, 74],\n",
       "       [85, 88, 87, 57, 48],\n",
       "       [85, 72, 61, 42, 47],\n",
       "       [63, 71, 65, 59, 72],\n",
       "       [72, 79, 89, 85, 65],\n",
       "       [76, 53, 42, 99, 52],\n",
       "       [45, 96, 37, 88, 75],\n",
       "       [92, 47, 48, 92, 50],\n",
       "       [66, 68, 55, 46, 82],\n",
       "       [89, 95, 44, 46, 51],\n",
       "       [95, 97, 84, 76, 38],\n",
       "       [40, 92, 94, 41, 83],\n",
       "       [45, 74, 99, 76, 52],\n",
       "       [59, 39, 78, 78, 51],\n",
       "       [93, 75, 83, 41, 88],\n",
       "       [89, 63, 76, 73, 50],\n",
       "       [99, 97, 39, 68, 52],\n",
       "       [60, 64, 49, 86, 42],\n",
       "       [63, 83, 68, 46, 53],\n",
       "       [72, 76, 44, 59, 71],\n",
       "       [82, 88, 83, 38, 54],\n",
       "       [46, 77, 38, 38, 65],\n",
       "       [36, 73, 38, 37, 58],\n",
       "       [73, 64, 40, 53, 50],\n",
       "       [61, 83, 65, 63, 63],\n",
       "       [58, 78, 52, 55, 84],\n",
       "       [37, 87, 35, 50, 90],\n",
       "       [39, 74, 50, 51, 50],\n",
       "       [63, 90, 97, 75, 80],\n",
       "       [51, 90, 46, 68, 92],\n",
       "       [50, 75, 92, 56, 74],\n",
       "       [94, 44, 64, 84, 88],\n",
       "       [92, 83, 41, 51, 49],\n",
       "       [53, 77, 87, 36, 63],\n",
       "       [92, 39, 39, 95, 37],\n",
       "       [99, 78, 87, 85, 36],\n",
       "       [50, 40, 46, 37, 43],\n",
       "       [98, 99, 82, 73, 77],\n",
       "       [78, 75, 60, 69, 81],\n",
       "       [57, 92, 39, 41, 93],\n",
       "       [60, 72, 47, 85, 92],\n",
       "       [59, 69, 78, 47, 38],\n",
       "       [53, 83, 91, 86, 57],\n",
       "       [51, 49, 68, 68, 88],\n",
       "       [39, 90, 89, 36, 65],\n",
       "       [75, 53, 91, 96, 42],\n",
       "       [62, 38, 82, 68, 50],\n",
       "       [79, 71, 49, 61, 79],\n",
       "       [72, 65, 83, 83, 49],\n",
       "       [94, 57, 36, 37, 77],\n",
       "       [88, 35, 93, 41, 48],\n",
       "       [35, 69, 91, 97, 98],\n",
       "       [43, 44, 73, 39, 55],\n",
       "       [81, 84, 63, 85, 53],\n",
       "       [74, 71, 72, 96, 81],\n",
       "       [64, 64, 43, 87, 55],\n",
       "       [49, 35, 51, 85, 85],\n",
       "       [44, 59, 40, 55, 74],\n",
       "       [40, 71, 75, 89, 74],\n",
       "       [60, 56, 69, 63, 47],\n",
       "       [37, 77, 64, 62, 85],\n",
       "       [67, 59, 43, 48, 56],\n",
       "       [56, 72, 92, 59, 93],\n",
       "       [96, 81, 47, 94, 84],\n",
       "       [52, 44, 76, 70, 49],\n",
       "       [96, 42, 78, 81, 77],\n",
       "       [38, 73, 84, 90, 95],\n",
       "       [88, 50, 63, 61, 43],\n",
       "       [57, 40, 75, 86, 83],\n",
       "       [87, 54, 61, 90, 88],\n",
       "       [99, 83, 36, 85, 72],\n",
       "       [38, 84, 36, 51, 81],\n",
       "       [72, 52, 47, 80, 91],\n",
       "       [58, 88, 95, 68, 93],\n",
       "       [45, 58, 50, 39, 82],\n",
       "       [90, 91, 76, 97, 74],\n",
       "       [57, 35, 42, 80, 60],\n",
       "       [52, 41, 66, 37, 72],\n",
       "       [65, 36, 66, 35, 61],\n",
       "       [40, 64, 39, 53, 51],\n",
       "       [55, 67, 63, 72, 47],\n",
       "       [35, 97, 45, 59, 80],\n",
       "       [84, 91, 71, 42, 74],\n",
       "       [80, 38, 43, 84, 35],\n",
       "       [38, 83, 97, 86, 39],\n",
       "       [52, 58, 98, 41, 64],\n",
       "       [64, 64, 67, 36, 84],\n",
       "       [93, 65, 94, 55, 60],\n",
       "       [77, 38, 93, 55, 50],\n",
       "       [73, 37, 57, 97, 69],\n",
       "       [57, 92, 37, 49, 54]])"
      ]
     },
     "execution_count": 30,
     "metadata": {},
     "output_type": "execute_result"
    }
   ],
   "source": [
    "x=np.random.randint(35,100,(100,5))\n",
    "x"
   ]
  },
  {
   "cell_type": "code",
   "execution_count": 18,
   "metadata": {},
   "outputs": [
    {
     "ename": "TypeError",
     "evalue": "unsupported operand type(s) for -: 'list' and 'list'",
     "output_type": "error",
     "traceback": [
      "\u001b[1;31m---------------------------------------------------------------------------\u001b[0m",
      "\u001b[1;31mTypeError\u001b[0m                                 Traceback (most recent call last)",
      "\u001b[1;32m<ipython-input-18-c57e7d7756ed>\u001b[0m in \u001b[0;36m<module>\u001b[1;34m\u001b[0m\n\u001b[1;32m----> 1\u001b[1;33m \u001b[0md\u001b[0m\u001b[1;33m=\u001b[0m\u001b[1;33m(\u001b[0m\u001b[0mx\u001b[0m\u001b[1;33m[\u001b[0m\u001b[1;36m0\u001b[0m\u001b[1;33m]\u001b[0m\u001b[1;33m-\u001b[0m\u001b[0mx\u001b[0m\u001b[1;33m)\u001b[0m\u001b[1;33m*\u001b[0m\u001b[1;33m(\u001b[0m\u001b[0mx\u001b[0m\u001b[1;33m[\u001b[0m\u001b[1;36m0\u001b[0m\u001b[1;33m]\u001b[0m\u001b[1;33m-\u001b[0m\u001b[0mx\u001b[0m\u001b[1;33m)\u001b[0m\u001b[1;33m\u001b[0m\u001b[1;33m\u001b[0m\u001b[0m\n\u001b[0m\u001b[0;32m      2\u001b[0m \u001b[0mfd\u001b[0m\u001b[1;33m=\u001b[0m\u001b[0mnp\u001b[0m\u001b[1;33m.\u001b[0m\u001b[0msqrt\u001b[0m\u001b[1;33m(\u001b[0m\u001b[0md\u001b[0m\u001b[1;33m.\u001b[0m\u001b[0msum\u001b[0m\u001b[1;33m(\u001b[0m\u001b[0maxis\u001b[0m\u001b[1;33m=\u001b[0m\u001b[1;36m1\u001b[0m\u001b[1;33m)\u001b[0m\u001b[1;33m)\u001b[0m\u001b[1;33m\u001b[0m\u001b[1;33m\u001b[0m\u001b[0m\n",
      "\u001b[1;31mTypeError\u001b[0m: unsupported operand type(s) for -: 'list' and 'list'"
     ]
    }
   ],
   "source": [
    "d=(x[0]-x)*(x[0]-x)\n",
    "fd=np.sqrt(d.sum(axis=1))"
   ]
  },
  {
   "cell_type": "code",
   "execution_count": 37,
   "metadata": {},
   "outputs": [
    {
     "data": {
      "text/plain": [
       "array([ 0.        , 53.77731864, 76.09862022, 65.90144156, 33.89690251,\n",
       "       61.12282716, 54.08326913, 40.27406113, 34.62657939, 48.31148932,\n",
       "       59.55669568, 67.40178039, 50.57667447, 45.09988914, 60.21627687,\n",
       "       51.79768335, 62.2655603 , 57.38466694, 59.42221807, 57.87918451,\n",
       "       78.48566748, 74.55199528, 77.27224599, 58.1893461 , 55.19963768,\n",
       "       47.59201614, 63.97655821, 64.14826576, 46.47580015, 67.44627492,\n",
       "       77.03246069, 86.89073598, 66.51315659, 48.73397172, 51.01960408,\n",
       "       71.08445681, 78.02563681, 49.86983056, 47.0637865 , 66.64082833,\n",
       "       51.74939613, 59.27900134, 77.57576941, 78.52388172, 62.31372241,\n",
       "       98.12237258, 31.9217794 , 32.17141588, 62.64183905, 40.17461885,\n",
       "       79.66806135, 59.27900134, 64.82283548, 83.49251463, 71.86793444,\n",
       "       80.56053624, 41.46082488, 58.05170109, 70.13558298, 93.60021367,\n",
       "       69.8140387 , 93.25234581, 38.31448812, 32.95451411, 54.69003566,\n",
       "       73.34166619, 72.06941099, 59.40538696, 70.22107946, 62.85698052,\n",
       "       69.7782201 , 61.31883887, 20.19900988, 79.08855796, 58.37807808,\n",
       "       62.14499175, 70.07852738, 66.41535967, 41.15823125, 32.17141588,\n",
       "       70.17121917, 49.25444142, 53.64699432, 78.17928114, 23.4520788 ,\n",
       "       76.56369897, 86.45229899, 88.93255872, 81.23422924, 63.48228099,\n",
       "       65.19202405, 51.92301994, 80.31189202, 81.90848552, 85.50438585,\n",
       "       68.0661443 , 64.36614017, 85.10581649, 63.77303505, 66.47555942])"
      ]
     },
     "execution_count": 37,
     "metadata": {},
     "output_type": "execute_result"
    }
   ],
   "source": [
    "fd"
   ]
  },
  {
   "cell_type": "code",
   "execution_count": 38,
   "metadata": {},
   "outputs": [
    {
     "data": {
      "text/plain": [
       "20.199009876724155"
      ]
     },
     "execution_count": 38,
     "metadata": {},
     "output_type": "execute_result"
    }
   ],
   "source": [
    "fd[1:].min()"
   ]
  },
  {
   "cell_type": "code",
   "execution_count": 39,
   "metadata": {},
   "outputs": [
    {
     "data": {
      "text/plain": [
       "71"
      ]
     },
     "execution_count": 39,
     "metadata": {},
     "output_type": "execute_result"
    }
   ],
   "source": [
    "fd[1:].argmin()"
   ]
  },
  {
   "cell_type": "code",
   "execution_count": 28,
   "metadata": {},
   "outputs": [
    {
     "data": {
      "text/plain": [
       "array([35, 49, 81, 48, 89, 77, 44, 85, 45, 55, 74, 60, 37, 55, 74, 86, 35,\n",
       "       55, 45, 61, 55, 35, 77, 90, 42, 36, 87, 65, 51, 41, 95, 95, 76, 98,\n",
       "       70, 84, 81, 37, 47, 40, 92, 71, 55, 47, 62, 46, 65, 82, 55, 86, 57,\n",
       "       55, 54, 86, 63, 45, 89, 50, 61, 91, 54, 72, 41, 92, 68, 90, 48, 57,\n",
       "       41, 60, 90, 62, 67, 96, 63, 78, 88, 56, 89, 88, 58, 75, 58, 60, 76,\n",
       "       98, 36, 82, 53, 61, 78, 60, 67, 42, 91, 80, 69, 96, 49, 53])"
      ]
     },
     "execution_count": 28,
     "metadata": {},
     "output_type": "execute_result"
    }
   ],
   "source": [
    "bdb= np.random.randint(35,100,(100,5))\n",
    "bdb[:,0]"
   ]
  },
  {
   "cell_type": "code",
   "execution_count": 29,
   "metadata": {},
   "outputs": [
    {
     "data": {
      "text/plain": [
       "array([0, 0, 0, 0, 0, 1, 1, 0, 1, 1, 0, 0, 0, 1, 1, 0, 0, 0, 1, 1, 0, 1,\n",
       "       0, 1, 1, 0, 1, 0, 0, 1, 0, 0, 1, 1, 0, 0, 1, 1, 1, 1, 1, 1, 0, 0,\n",
       "       1, 1, 0, 1, 0, 1, 1, 0, 1, 1, 0, 1, 1, 1, 1, 0, 1, 0, 0, 0, 1, 0,\n",
       "       0, 0, 0, 0, 1, 0, 1, 1, 1, 1, 0, 0, 1, 0, 1, 0, 0, 0, 1, 1, 1, 1,\n",
       "       1, 1, 1, 1, 1, 1, 0, 0, 1, 0, 0, 1])"
      ]
     },
     "execution_count": 29,
     "metadata": {},
     "output_type": "execute_result"
    }
   ],
   "source": [
    "bdb[:,0]=np.random.randint(0,2,100)\n",
    "bdb[:,0]"
   ]
  },
  {
   "cell_type": "code",
   "execution_count": 30,
   "metadata": {},
   "outputs": [
    {
     "data": {
      "text/plain": [
       "array([56714, 67945, 62832, 62083, 53038, 54717, 44215, 50512, 46049,\n",
       "       50513, 65388, 68728, 49563, 52002, 67958, 55620, 60827, 42144,\n",
       "       47840, 45072, 64974, 49966, 60195, 45729, 59621, 45661, 62967,\n",
       "       46104, 55835, 68381, 51714, 51450, 43784, 46373, 45577, 66526,\n",
       "       67537, 53434, 58204, 48283, 50002, 54393, 45272, 47188, 50193,\n",
       "       63800, 58790, 52603, 65080, 65192, 63569, 68054, 49340, 43713,\n",
       "       64377, 62624, 40627, 63489, 49584, 61531, 42096, 41541, 47996,\n",
       "       56559, 63094, 48262, 50842, 66061, 57984, 44199, 45260, 46613,\n",
       "       57956, 65013, 57505, 46631, 57656, 61426, 60245, 55299, 45234,\n",
       "       56030, 59533, 56140, 66515, 60405, 55189, 69810, 68518, 52868,\n",
       "       48865, 55418, 56265, 64904, 52573, 54944, 60929, 41442, 44021,\n",
       "       55147])"
      ]
     },
     "execution_count": 30,
     "metadata": {},
     "output_type": "execute_result"
    }
   ],
   "source": [
    "bdb[:,1]=np.random.randint(40000,70000,100)\n",
    "bdb[:,1]"
   ]
  },
  {
   "cell_type": "code",
   "execution_count": 31,
   "metadata": {},
   "outputs": [
    {
     "data": {
      "text/plain": [
       "array([9, 7, 9, 7, 6, 5, 5, 4, 9, 9, 5, 5, 4, 8, 8, 4, 6, 4, 5, 7, 4, 5,\n",
       "       9, 8, 7, 8, 6, 5, 7, 6, 5, 7, 9, 9, 8, 7, 5, 5, 6, 9, 9, 4, 8, 5,\n",
       "       9, 9, 7, 4, 7, 9, 6, 7, 9, 4, 5, 8, 9, 8, 9, 9, 6, 7, 9, 4, 6, 6,\n",
       "       4, 6, 8, 5, 6, 8, 5, 9, 7, 8, 9, 7, 8, 9, 4, 5, 6, 9, 9, 8, 5, 5,\n",
       "       6, 6, 6, 8, 6, 4, 6, 8, 6, 6, 8, 7])"
      ]
     },
     "execution_count": 31,
     "metadata": {},
     "output_type": "execute_result"
    }
   ],
   "source": [
    "bdb[:,2]=np.random.randint(4,10,100)\n",
    "bdb[:,2]"
   ]
  },
  {
   "cell_type": "code",
   "execution_count": 32,
   "metadata": {},
   "outputs": [
    {
     "data": {
      "text/plain": [
       "array([36, 25, 38, 28, 35, 36, 37, 35, 30, 26, 28, 38, 39, 37, 36, 34, 28,\n",
       "       39, 30, 31, 35, 32, 37, 31, 28, 30, 35, 38, 39, 26, 29, 30, 27, 25,\n",
       "       27, 38, 36, 38, 34, 33, 33, 34, 34, 35, 28, 28, 27, 32, 33, 32, 29,\n",
       "       28, 37, 31, 38, 32, 34, 31, 38, 30, 26, 32, 31, 29, 30, 27, 33, 32,\n",
       "       28, 38, 25, 36, 33, 32, 25, 29, 39, 33, 33, 38, 31, 25, 26, 31, 25,\n",
       "       31, 33, 26, 34, 33, 34, 33, 38, 34, 33, 35, 26, 37, 27, 38])"
      ]
     },
     "execution_count": 32,
     "metadata": {},
     "output_type": "execute_result"
    }
   ],
   "source": [
    "bdb[:,3]=np.random.randint(25,40,100)\n",
    "bdb[:,3]"
   ]
  },
  {
   "cell_type": "code",
   "execution_count": 33,
   "metadata": {},
   "outputs": [
    {
     "data": {
      "text/plain": [
       "array([3, 1, 3, 3, 4, 3, 4, 3, 4, 1, 2, 2, 2, 2, 4, 2, 4, 3, 3, 1, 1, 1,\n",
       "       2, 3, 1, 1, 4, 3, 4, 1, 2, 1, 2, 3, 3, 3, 1, 3, 1, 4, 2, 3, 3, 4,\n",
       "       3, 2, 1, 1, 3, 4, 3, 1, 3, 2, 2, 4, 3, 2, 3, 2, 3, 1, 1, 2, 1, 4,\n",
       "       1, 3, 2, 2, 4, 2, 2, 2, 4, 3, 4, 4, 4, 4, 4, 2, 1, 4, 2, 1, 4, 4,\n",
       "       2, 2, 4, 3, 3, 1, 1, 1, 3, 1, 4, 3])"
      ]
     },
     "execution_count": 33,
     "metadata": {},
     "output_type": "execute_result"
    }
   ],
   "source": [
    "bdb[:,4]=np.random.randint(1,5,100)\n",
    "bdb[:,4]"
   ]
  },
  {
   "cell_type": "code",
   "execution_count": 34,
   "metadata": {},
   "outputs": [],
   "source": [
    "test=np.array([40000,7,30,2])"
   ]
  },
  {
   "cell_type": "code",
   "execution_count": 35,
   "metadata": {},
   "outputs": [
    {
     "data": {
      "text/plain": [
       "array([40000,     7,    30,     2])"
      ]
     },
     "execution_count": 35,
     "metadata": {},
     "output_type": "execute_result"
    }
   ],
   "source": [
    "test"
   ]
  },
  {
   "cell_type": "code",
   "execution_count": 48,
   "metadata": {},
   "outputs": [
    {
     "data": {
      "text/plain": [
       "array([16714.00122652, 27945.0004652 , 22832.00151104, 22083.00011321,\n",
       "       13038.00115048, 14717.00139295,  4215.00676156, 10512.00166476,\n",
       "        6049.00066127, 10513.00099876, 25388.00015755, 28728.00118351,\n",
       "        9563.00470564, 12002.00208299, 27958.00073324, 15620.00080026,\n",
       "       20827.00021607,  2144.02122191,  7840.00031888,  5072.00019716,\n",
       "       24974.00070073,  9966.00045154, 20195.00131221,  5729.00026183,\n",
       "       19621.00012741,  5661.00017665, 22967.00065311,  6104.00565203,\n",
       "       15835.00268393, 28381.00031711, 11714.00021342, 11450.00004367,\n",
       "        3784.00171776,  6373.00235368,  5577.00098619, 26526.00122521,\n",
       "       27537.00074445, 13434.00256811, 18204.0004944 ,  8283.0010262 ,\n",
       "       10002.00064987, 14393.00090322,  5272.00170713,  7188.00229549,\n",
       "       10193.00044148, 23800.00016807, 18790.0002661 , 12603.00055542,\n",
       "       25080.00019936, 25192.00023817, 23569.00006364, 28054.00008911,\n",
       "        9340.00289079,  3713.00134662, 24377.00139476, 22624.0001989 ,\n",
       "         627.01674619, 23489.00004257,  9584.00359975, 21531.00009289,\n",
       "        2096.00429389,  1541.00162232,  7996.00037519, 16559.00030195,\n",
       "       23094.0000433 ,  8262.00084725, 10842.00087622, 26061.00011511,\n",
       "       17984.00013901,  4199.00809716,  5260.00285171,  6613.00279752,\n",
       "       17956.000362  , 25013.00015992, 17505.00082833,  6631.00022621,\n",
       "       17656.00252039, 21426.00030337, 20245.00034576, 15299.00235309,\n",
       "        5234.00133741, 16030.00090455, 19533.00046076, 16140.00027881,\n",
       "       26515.00054686, 20405.00007351, 15189.00055962, 29810.00040255,\n",
       "       28518.00029806, 12868.00038856,  8865.00118443, 15418.00035673,\n",
       "       16265.0020289 , 24904.000522  , 12573.00043745, 14944.00090337,\n",
       "       20929.00043003,  1442.01768366,  4021.00174086, 15147.00214564])"
      ]
     },
     "execution_count": 48,
     "metadata": {},
     "output_type": "execute_result"
    }
   ],
   "source": [
    "d=(bdb[:,1:]-test)*(bdb[:,1:]-test)\n",
    "d\n",
    "fd=np.sqrt(d.sum(axis=1))\n",
    "fd\n",
    "##fd.min(),fd.argmin()"
   ]
  },
  {
   "cell_type": "code",
   "execution_count": 47,
   "metadata": {},
   "outputs": [
    {
     "data": {
      "text/plain": [
       "array([[    0, 56714,     9,    36,     3],\n",
       "       [    0, 67945,     7,    25,     1],\n",
       "       [    0, 62832,     9,    38,     3],\n",
       "       [    0, 62083,     7,    28,     3],\n",
       "       [    0, 53038,     6,    35,     4],\n",
       "       [    1, 54717,     5,    36,     3],\n",
       "       [    1, 44215,     5,    37,     4],\n",
       "       [    0, 50512,     4,    35,     3],\n",
       "       [    1, 46049,     9,    30,     4],\n",
       "       [    1, 50513,     9,    26,     1],\n",
       "       [    0, 65388,     5,    28,     2],\n",
       "       [    0, 68728,     5,    38,     2],\n",
       "       [    0, 49563,     4,    39,     2],\n",
       "       [    1, 52002,     8,    37,     2],\n",
       "       [    1, 67958,     8,    36,     4],\n",
       "       [    0, 55620,     4,    34,     2],\n",
       "       [    0, 60827,     6,    28,     4],\n",
       "       [    0, 42144,     4,    39,     3],\n",
       "       [    1, 47840,     5,    30,     3],\n",
       "       [    1, 45072,     7,    31,     1],\n",
       "       [    0, 64974,     4,    35,     1],\n",
       "       [    1, 49966,     5,    32,     1],\n",
       "       [    0, 60195,     9,    37,     2],\n",
       "       [    1, 45729,     8,    31,     3],\n",
       "       [    1, 59621,     7,    28,     1],\n",
       "       [    0, 45661,     8,    30,     1],\n",
       "       [    1, 62967,     6,    35,     4],\n",
       "       [    0, 46104,     5,    38,     3],\n",
       "       [    0, 55835,     7,    39,     4],\n",
       "       [    1, 68381,     6,    26,     1],\n",
       "       [    0, 51714,     5,    29,     2],\n",
       "       [    0, 51450,     7,    30,     1],\n",
       "       [    1, 43784,     9,    27,     2],\n",
       "       [    1, 46373,     9,    25,     3],\n",
       "       [    0, 45577,     8,    27,     3],\n",
       "       [    0, 66526,     7,    38,     3],\n",
       "       [    1, 67537,     5,    36,     1],\n",
       "       [    1, 53434,     5,    38,     3],\n",
       "       [    1, 58204,     6,    34,     1],\n",
       "       [    1, 48283,     9,    33,     4],\n",
       "       [    1, 50002,     9,    33,     2],\n",
       "       [    1, 54393,     4,    34,     3],\n",
       "       [    0, 45272,     8,    34,     3],\n",
       "       [    0, 47188,     5,    35,     4],\n",
       "       [    1, 50193,     9,    28,     3],\n",
       "       [    1, 63800,     9,    28,     2],\n",
       "       [    0, 58790,     7,    27,     1],\n",
       "       [    1, 52603,     4,    32,     1],\n",
       "       [    0, 65080,     7,    33,     3],\n",
       "       [    1, 65192,     9,    32,     4],\n",
       "       [    1, 63569,     6,    29,     3],\n",
       "       [    0, 68054,     7,    28,     1],\n",
       "       [    1, 49340,     9,    37,     3],\n",
       "       [    1, 43713,     4,    31,     2],\n",
       "       [    0, 64377,     5,    38,     2],\n",
       "       [    1, 62624,     8,    32,     4],\n",
       "       [    1, 40627,     9,    34,     3],\n",
       "       [    1, 63489,     8,    31,     2],\n",
       "       [    1, 49584,     9,    38,     3],\n",
       "       [    0, 61531,     9,    30,     2],\n",
       "       [    1, 42096,     6,    26,     3],\n",
       "       [    0, 41541,     7,    32,     1],\n",
       "       [    0, 47996,     9,    31,     1],\n",
       "       [    0, 56559,     4,    29,     2],\n",
       "       [    1, 63094,     6,    30,     1],\n",
       "       [    0, 48262,     6,    27,     4],\n",
       "       [    0, 50842,     4,    33,     1],\n",
       "       [    0, 66061,     6,    32,     3],\n",
       "       [    0, 57984,     8,    28,     2],\n",
       "       [    0, 44199,     5,    38,     2],\n",
       "       [    1, 45260,     6,    25,     4],\n",
       "       [    0, 46613,     8,    36,     2],\n",
       "       [    1, 57956,     5,    33,     2],\n",
       "       [    1, 65013,     9,    32,     2],\n",
       "       [    1, 57505,     7,    25,     4],\n",
       "       [    1, 46631,     8,    29,     3],\n",
       "       [    0, 57656,     9,    39,     4],\n",
       "       [    0, 61426,     7,    33,     4],\n",
       "       [    1, 60245,     8,    33,     4],\n",
       "       [    0, 55299,     9,    38,     4],\n",
       "       [    1, 45234,     4,    31,     4],\n",
       "       [    0, 56030,     5,    25,     2],\n",
       "       [    0, 59533,     6,    26,     1],\n",
       "       [    0, 56140,     9,    31,     4],\n",
       "       [    1, 66515,     9,    25,     2],\n",
       "       [    1, 60405,     8,    31,     1],\n",
       "       [    1, 55189,     5,    33,     4],\n",
       "       [    1, 69810,     5,    26,     4],\n",
       "       [    1, 68518,     6,    34,     2],\n",
       "       [    1, 52868,     6,    33,     2],\n",
       "       [    1, 48865,     6,    34,     4],\n",
       "       [    1, 55418,     8,    33,     3],\n",
       "       [    1, 56265,     6,    38,     3],\n",
       "       [    1, 64904,     4,    34,     1],\n",
       "       [    0, 52573,     6,    33,     1],\n",
       "       [    0, 54944,     8,    35,     1],\n",
       "       [    1, 60929,     6,    26,     3],\n",
       "       [    0, 41442,     6,    37,     1],\n",
       "       [    0, 44021,     8,    27,     4],\n",
       "       [    1, 55147,     7,    38,     3]])"
      ]
     },
     "execution_count": 47,
     "metadata": {},
     "output_type": "execute_result"
    }
   ],
   "source": [
    "bdb"
   ]
  },
  {
   "cell_type": "code",
   "execution_count": 72,
   "metadata": {},
   "outputs": [],
   "source": [
    "## Loops"
   ]
  },
  {
   "cell_type": "code",
   "execution_count": 73,
   "metadata": {},
   "outputs": [
    {
     "name": "stdout",
     "output_type": "stream",
     "text": [
      "Madhu\n"
     ]
    }
   ],
   "source": [
    "x=10\n",
    "if x>3:\n",
    "    print('Madhu')"
   ]
  },
  {
   "cell_type": "code",
   "execution_count": 77,
   "metadata": {},
   "outputs": [
    {
     "name": "stdout",
     "output_type": "stream",
     "text": [
      "Madhu\n"
     ]
    }
   ],
   "source": [
    "if True:\n",
    "    print('Madhu')"
   ]
  },
  {
   "cell_type": "code",
   "execution_count": 78,
   "metadata": {},
   "outputs": [
    {
     "name": "stdout",
     "output_type": "stream",
     "text": [
      "True\n"
     ]
    }
   ],
   "source": [
    "if 1:\n",
    "    print('True')"
   ]
  },
  {
   "cell_type": "code",
   "execution_count": 82,
   "metadata": {},
   "outputs": [],
   "source": [
    "if 0:\n",
    "    print('True')"
   ]
  },
  {
   "cell_type": "code",
   "execution_count": 83,
   "metadata": {},
   "outputs": [
    {
     "name": "stdout",
     "output_type": "stream",
     "text": [
      "True\n"
     ]
    }
   ],
   "source": [
    "if 2:\n",
    "    print('True')"
   ]
  },
  {
   "cell_type": "code",
   "execution_count": 84,
   "metadata": {},
   "outputs": [
    {
     "name": "stdout",
     "output_type": "stream",
     "text": [
      "Madhu\n"
     ]
    }
   ],
   "source": [
    "if 3.4:\n",
    "    print('Madhu')"
   ]
  },
  {
   "cell_type": "code",
   "execution_count": 85,
   "metadata": {},
   "outputs": [
    {
     "name": "stdout",
     "output_type": "stream",
     "text": [
      "Madhu\n"
     ]
    }
   ],
   "source": [
    "x=input()"
   ]
  },
  {
   "cell_type": "code",
   "execution_count": 86,
   "metadata": {},
   "outputs": [
    {
     "name": "stdout",
     "output_type": "stream",
     "text": [
      "Madhu\n",
      "Madhu32\n"
     ]
    }
   ],
   "source": [
    "x=input(input())"
   ]
  },
  {
   "cell_type": "code",
   "execution_count": 87,
   "metadata": {},
   "outputs": [
    {
     "data": {
      "text/plain": [
       "'32'"
      ]
     },
     "execution_count": 87,
     "metadata": {},
     "output_type": "execute_result"
    }
   ],
   "source": [
    "x"
   ]
  },
  {
   "cell_type": "code",
   "execution_count": 89,
   "metadata": {},
   "outputs": [
    {
     "name": "stdout",
     "output_type": "stream",
     "text": [
      "2\n",
      "False\n"
     ]
    }
   ],
   "source": [
    "x=int(input())\n",
    "if x>10:\n",
    "    print('True')\n",
    "else:\n",
    "    print('False')"
   ]
  },
  {
   "cell_type": "code",
   "execution_count": 90,
   "metadata": {},
   "outputs": [
    {
     "name": "stdout",
     "output_type": "stream",
     "text": [
      "30\n",
      "Rank1\n"
     ]
    }
   ],
   "source": [
    "x=int(input())\n",
    "if x>10:\n",
    "    print('Rank1')\n",
    "elif x<20 & x>30:\n",
    "    print('Rank2')\n",
    "elif x<=30 & x>=40:\n",
    "    print('Rank3')"
   ]
  },
  {
   "cell_type": "code",
   "execution_count": 91,
   "metadata": {},
   "outputs": [
    {
     "name": "stdout",
     "output_type": "stream",
     "text": [
      "Madhu\n"
     ]
    }
   ],
   "source": [
    "x=input()"
   ]
  },
  {
   "cell_type": "code",
   "execution_count": 92,
   "metadata": {},
   "outputs": [
    {
     "data": {
      "text/plain": [
       "'Madhu'"
      ]
     },
     "execution_count": 92,
     "metadata": {},
     "output_type": "execute_result"
    }
   ],
   "source": [
    "x"
   ]
  },
  {
   "cell_type": "code",
   "execution_count": 93,
   "metadata": {},
   "outputs": [
    {
     "data": {
      "text/plain": [
       "str"
      ]
     },
     "execution_count": 93,
     "metadata": {},
     "output_type": "execute_result"
    }
   ],
   "source": [
    "type(x)"
   ]
  },
  {
   "cell_type": "code",
   "execution_count": 94,
   "metadata": {},
   "outputs": [
    {
     "name": "stdout",
     "output_type": "stream",
     "text": [
      "10\n"
     ]
    }
   ],
   "source": [
    "x=input()"
   ]
  },
  {
   "cell_type": "code",
   "execution_count": 95,
   "metadata": {},
   "outputs": [
    {
     "data": {
      "text/plain": [
       "'10'"
      ]
     },
     "execution_count": 95,
     "metadata": {},
     "output_type": "execute_result"
    }
   ],
   "source": [
    "x"
   ]
  },
  {
   "cell_type": "code",
   "execution_count": 96,
   "metadata": {},
   "outputs": [
    {
     "data": {
      "text/plain": [
       "str"
      ]
     },
     "execution_count": 96,
     "metadata": {},
     "output_type": "execute_result"
    }
   ],
   "source": [
    "type(x)"
   ]
  },
  {
   "cell_type": "code",
   "execution_count": 106,
   "metadata": {},
   "outputs": [
    {
     "name": "stdout",
     "output_type": "stream",
     "text": [
      "Madhu\n",
      "Bharat\n"
     ]
    }
   ],
   "source": [
    "x=np.array([\"Madhu\",\"Bharat\"])\n",
    "for M in x:\n",
    "    print(M)"
   ]
  },
  {
   "cell_type": "code",
   "execution_count": 107,
   "metadata": {},
   "outputs": [
    {
     "name": "stdout",
     "output_type": "stream",
     "text": [
      "Madhu\n"
     ]
    }
   ],
   "source": [
    "print('Madhu')"
   ]
  },
  {
   "cell_type": "code",
   "execution_count": null,
   "metadata": {},
   "outputs": [],
   "source": []
  },
  {
   "cell_type": "code",
   "execution_count": null,
   "metadata": {},
   "outputs": [],
   "source": []
  },
  {
   "cell_type": "code",
   "execution_count": null,
   "metadata": {},
   "outputs": [],
   "source": []
  },
  {
   "cell_type": "code",
   "execution_count": null,
   "metadata": {},
   "outputs": [],
   "source": []
  },
  {
   "cell_type": "code",
   "execution_count": null,
   "metadata": {},
   "outputs": [],
   "source": []
  },
  {
   "cell_type": "code",
   "execution_count": null,
   "metadata": {},
   "outputs": [],
   "source": []
  },
  {
   "cell_type": "code",
   "execution_count": null,
   "metadata": {},
   "outputs": [],
   "source": []
  },
  {
   "cell_type": "code",
   "execution_count": null,
   "metadata": {},
   "outputs": [],
   "source": []
  }
 ],
 "metadata": {
  "kernelspec": {
   "display_name": "Python 3",
   "language": "python",
   "name": "python3"
  },
  "language_info": {
   "codemirror_mode": {
    "name": "ipython",
    "version": 3
   },
   "file_extension": ".py",
   "mimetype": "text/x-python",
   "name": "python",
   "nbconvert_exporter": "python",
   "pygments_lexer": "ipython3",
   "version": "3.7.3"
  }
 },
 "nbformat": 4,
 "nbformat_minor": 2
}
