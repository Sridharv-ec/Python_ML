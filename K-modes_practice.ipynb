{
 "cells": [
  {
   "cell_type": "code",
   "execution_count": 1,
   "metadata": {},
   "outputs": [],
   "source": [
    "import pandas as pd\n",
    "import numpy as np"
   ]
  },
  {
   "cell_type": "code",
   "execution_count": 2,
   "metadata": {},
   "outputs": [],
   "source": [
    "data=np.random.randint(0,3,(20,5))"
   ]
  },
  {
   "cell_type": "code",
   "execution_count": 3,
   "metadata": {},
   "outputs": [
    {
     "data": {
      "text/plain": [
       "array([[0, 2, 0, 2, 2],\n",
       "       [0, 0, 0, 2, 1],\n",
       "       [1, 1, 2, 0, 1],\n",
       "       [0, 0, 0, 0, 2],\n",
       "       [1, 0, 1, 0, 2],\n",
       "       [2, 1, 0, 1, 0],\n",
       "       [0, 2, 2, 2, 1],\n",
       "       [0, 2, 0, 2, 1],\n",
       "       [1, 1, 0, 0, 1],\n",
       "       [1, 0, 2, 1, 1],\n",
       "       [2, 1, 2, 1, 2],\n",
       "       [2, 0, 2, 0, 2],\n",
       "       [2, 1, 0, 1, 0],\n",
       "       [1, 0, 2, 1, 0],\n",
       "       [2, 2, 2, 0, 2],\n",
       "       [2, 0, 0, 0, 2],\n",
       "       [2, 2, 0, 2, 1],\n",
       "       [0, 0, 2, 2, 0],\n",
       "       [2, 1, 0, 0, 1],\n",
       "       [2, 2, 2, 2, 0]])"
      ]
     },
     "execution_count": 3,
     "metadata": {},
     "output_type": "execute_result"
    }
   ],
   "source": [
    "data"
   ]
  },
  {
   "cell_type": "code",
   "execution_count": 4,
   "metadata": {},
   "outputs": [
    {
     "data": {
      "text/plain": [
       "(array([0, 2, 0, 2, 2]), array([2, 1, 0, 1, 0]), array([0, 0, 2, 2, 0]))"
      ]
     },
     "execution_count": 4,
     "metadata": {},
     "output_type": "execute_result"
    }
   ],
   "source": [
    "data[0],data[12],data[17]"
   ]
  },
  {
   "cell_type": "code",
   "execution_count": 5,
   "metadata": {},
   "outputs": [
    {
     "data": {
      "text/plain": [
       "array([[ True,  True,  True,  True,  True],\n",
       "       [ True, False,  True,  True, False],\n",
       "       [False, False, False, False, False],\n",
       "       [ True, False,  True, False,  True],\n",
       "       [False, False, False, False,  True],\n",
       "       [False, False,  True, False, False],\n",
       "       [ True,  True, False,  True, False],\n",
       "       [ True,  True,  True,  True, False],\n",
       "       [False, False,  True, False, False],\n",
       "       [False, False, False, False, False],\n",
       "       [False, False, False, False,  True],\n",
       "       [False, False, False, False,  True],\n",
       "       [False, False,  True, False, False],\n",
       "       [False, False, False, False, False],\n",
       "       [False,  True, False, False,  True],\n",
       "       [False, False,  True, False,  True],\n",
       "       [False,  True,  True,  True, False],\n",
       "       [ True, False, False,  True, False],\n",
       "       [False, False,  True, False, False],\n",
       "       [False,  True, False,  True, False]])"
      ]
     },
     "execution_count": 5,
     "metadata": {},
     "output_type": "execute_result"
    }
   ],
   "source": [
    "data[0]==data"
   ]
  },
  {
   "cell_type": "code",
   "execution_count": 6,
   "metadata": {},
   "outputs": [
    {
     "data": {
      "text/plain": [
       "array([5, 3, 0, 3, 1, 1, 3, 4, 1, 0, 1, 1, 1, 0, 2, 2, 3, 2, 1, 2])"
      ]
     },
     "execution_count": 6,
     "metadata": {},
     "output_type": "execute_result"
    }
   ],
   "source": [
    "(data[0]==data).sum(axis=1)"
   ]
  },
  {
   "cell_type": "code",
   "execution_count": 7,
   "metadata": {},
   "outputs": [
    {
     "data": {
      "text/plain": [
       "5"
      ]
     },
     "execution_count": 7,
     "metadata": {},
     "output_type": "execute_result"
    }
   ],
   "source": [
    "data.shape[1]"
   ]
  },
  {
   "cell_type": "code",
   "execution_count": 8,
   "metadata": {},
   "outputs": [],
   "source": [
    "d1 = data.shape[1] - (data[0]==data).sum(axis=1)\n",
    "d2 = data.shape[1] - (data[12]==data).sum(axis=1)\n",
    "d3 = data.shape[1] - (data[17]==data).sum(axis=1)"
   ]
  },
  {
   "cell_type": "code",
   "execution_count": 9,
   "metadata": {},
   "outputs": [
    {
     "data": {
      "text/plain": [
       "(array([0, 2, 5, 2, 4, 4, 2, 1, 4, 5, 4, 4, 4, 5, 3, 3, 2, 3, 4, 3]),\n",
       " array([4, 4, 4, 4, 5, 0, 5, 4, 3, 4, 2, 4, 0, 3, 4, 3, 3, 4, 2, 3]),\n",
       " array([3, 2, 4, 3, 4, 4, 2, 3, 5, 3, 4, 3, 4, 2, 4, 4, 4, 0, 5, 2]))"
      ]
     },
     "execution_count": 9,
     "metadata": {},
     "output_type": "execute_result"
    }
   ],
   "source": [
    "d1,d2,d3"
   ]
  },
  {
   "cell_type": "code",
   "execution_count": 10,
   "metadata": {},
   "outputs": [],
   "source": [
    "clusters=list(zip(d1,d2,d3))"
   ]
  },
  {
   "cell_type": "code",
   "execution_count": 11,
   "metadata": {},
   "outputs": [],
   "source": [
    "clusters=np.array(clusters)"
   ]
  },
  {
   "cell_type": "code",
   "execution_count": 12,
   "metadata": {
    "scrolled": true
   },
   "outputs": [
    {
     "data": {
      "text/plain": [
       "array([[0, 4, 3],\n",
       "       [2, 4, 2],\n",
       "       [5, 4, 4],\n",
       "       [2, 4, 3],\n",
       "       [4, 5, 4],\n",
       "       [4, 0, 4],\n",
       "       [2, 5, 2],\n",
       "       [1, 4, 3],\n",
       "       [4, 3, 5],\n",
       "       [5, 4, 3],\n",
       "       [4, 2, 4],\n",
       "       [4, 4, 3],\n",
       "       [4, 0, 4],\n",
       "       [5, 3, 2],\n",
       "       [3, 4, 4],\n",
       "       [3, 3, 4],\n",
       "       [2, 3, 4],\n",
       "       [3, 4, 0],\n",
       "       [4, 2, 5],\n",
       "       [3, 3, 2]])"
      ]
     },
     "execution_count": 12,
     "metadata": {},
     "output_type": "execute_result"
    }
   ],
   "source": [
    "clusters"
   ]
  },
  {
   "cell_type": "code",
   "execution_count": 14,
   "metadata": {},
   "outputs": [
    {
     "data": {
      "text/plain": [
       "array([ True,  True, False,  True,  True, False,  True,  True, False,\n",
       "       False, False, False, False, False,  True,  True,  True, False,\n",
       "       False, False])"
      ]
     },
     "execution_count": 14,
     "metadata": {},
     "output_type": "execute_result"
    }
   ],
   "source": [
    "clusters.argmin(axis=1)==0"
   ]
  },
  {
   "cell_type": "code",
   "execution_count": 17,
   "metadata": {},
   "outputs": [],
   "source": [
    "c1=data[clusters.argmin(axis=1)==0]\n",
    "c2=data[clusters.argmin(axis=1)==1]\n",
    "c3=data[clusters.argmin(axis=1)==2]"
   ]
  },
  {
   "cell_type": "code",
   "execution_count": 18,
   "metadata": {},
   "outputs": [
    {
     "data": {
      "text/plain": [
       "array([[0, 2, 0, 2, 2],\n",
       "       [0, 0, 0, 2, 1],\n",
       "       [0, 0, 0, 0, 2],\n",
       "       [1, 0, 1, 0, 2],\n",
       "       [0, 2, 2, 2, 1],\n",
       "       [0, 2, 0, 2, 1],\n",
       "       [2, 2, 2, 0, 2],\n",
       "       [2, 0, 0, 0, 2],\n",
       "       [2, 2, 0, 2, 1]])"
      ]
     },
     "execution_count": 18,
     "metadata": {},
     "output_type": "execute_result"
    }
   ],
   "source": [
    "c1"
   ]
  },
  {
   "cell_type": "code",
   "execution_count": 19,
   "metadata": {},
   "outputs": [
    {
     "data": {
      "text/plain": [
       "array([[1, 1, 2, 0, 1],\n",
       "       [2, 1, 0, 1, 0],\n",
       "       [1, 1, 0, 0, 1],\n",
       "       [2, 1, 2, 1, 2],\n",
       "       [2, 1, 0, 1, 0],\n",
       "       [2, 1, 0, 0, 1]])"
      ]
     },
     "execution_count": 19,
     "metadata": {},
     "output_type": "execute_result"
    }
   ],
   "source": [
    "c2"
   ]
  },
  {
   "cell_type": "code",
   "execution_count": 20,
   "metadata": {},
   "outputs": [
    {
     "data": {
      "text/plain": [
       "array([[1, 0, 2, 1, 1],\n",
       "       [2, 0, 2, 0, 2],\n",
       "       [1, 0, 2, 1, 0],\n",
       "       [0, 0, 2, 2, 0],\n",
       "       [2, 2, 2, 2, 0]])"
      ]
     },
     "execution_count": 20,
     "metadata": {},
     "output_type": "execute_result"
    }
   ],
   "source": [
    "c3"
   ]
  },
  {
   "cell_type": "code",
   "execution_count": 21,
   "metadata": {},
   "outputs": [],
   "source": [
    "mode_c1=pd.DataFrame(c1).mode().values\n",
    "mode_c2=pd.DataFrame(c2).mode().values[0]\n",
    "mode_c3=pd.DataFrame(c3).mode().values[0]"
   ]
  },
  {
   "cell_type": "code",
   "execution_count": 22,
   "metadata": {},
   "outputs": [
    {
     "data": {
      "text/plain": [
       "(array([[0, 2, 0, 2, 2]]),\n",
       " array([2., 1., 0., 0., 1.]),\n",
       " array([1., 0., 2., 1., 0.]))"
      ]
     },
     "execution_count": 22,
     "metadata": {},
     "output_type": "execute_result"
    }
   ],
   "source": [
    "mode_c1,mode_c2,mode_c3"
   ]
  },
  {
   "cell_type": "code",
   "execution_count": 23,
   "metadata": {},
   "outputs": [],
   "source": [
    "d1=data.shape[1]-(mode_c1==data).sum(axis=1)\n",
    "d2=data.shape[1]-(mode_c2==data).sum(axis=1)\n",
    "d3=data.shape[1]-(mode_c3==data).sum(axis=1)"
   ]
  },
  {
   "cell_type": "code",
   "execution_count": 24,
   "metadata": {},
   "outputs": [
    {
     "data": {
      "text/plain": [
       "array([0, 2, 5, 2, 4, 4, 2, 1, 4, 5, 4, 4, 4, 5, 3, 3, 2, 3, 4, 3])"
      ]
     },
     "execution_count": 24,
     "metadata": {},
     "output_type": "execute_result"
    }
   ],
   "source": [
    "d1"
   ]
  },
  {
   "cell_type": "code",
   "execution_count": 25,
   "metadata": {},
   "outputs": [
    {
     "data": {
      "text/plain": [
       "array([5, 4, 3, 4, 3, 3, 4, 5, 4, 1, 3, 3, 3, 0, 4, 4, 5, 2, 5, 3])"
      ]
     },
     "execution_count": 25,
     "metadata": {},
     "output_type": "execute_result"
    }
   ],
   "source": [
    "d3"
   ]
  },
  {
   "cell_type": "code",
   "execution_count": 26,
   "metadata": {},
   "outputs": [
    {
     "data": {
      "text/plain": [
       "array([5, 4, 3, 4, 3, 3, 4, 5, 4, 1, 3, 3, 3, 0, 4, 4, 5, 2, 5, 3])"
      ]
     },
     "execution_count": 26,
     "metadata": {},
     "output_type": "execute_result"
    }
   ],
   "source": [
    "d3"
   ]
  },
  {
   "cell_type": "code",
   "execution_count": 27,
   "metadata": {},
   "outputs": [],
   "source": [
    "clusters=list(zip(d1,d2,d3))"
   ]
  },
  {
   "cell_type": "code",
   "execution_count": 28,
   "metadata": {},
   "outputs": [],
   "source": [
    "clusters=np.array(clusters)"
   ]
  },
  {
   "cell_type": "code",
   "execution_count": 29,
   "metadata": {},
   "outputs": [
    {
     "data": {
      "text/plain": [
       "array([[0, 4, 5],\n",
       "       [2, 3, 4],\n",
       "       [5, 2, 3],\n",
       "       [2, 3, 4],\n",
       "       [4, 4, 3],\n",
       "       [4, 2, 3],\n",
       "       [2, 4, 4],\n",
       "       [1, 3, 5],\n",
       "       [4, 1, 4],\n",
       "       [5, 4, 1],\n",
       "       [4, 3, 3],\n",
       "       [4, 3, 3],\n",
       "       [4, 2, 3],\n",
       "       [5, 5, 0],\n",
       "       [3, 3, 4],\n",
       "       [3, 2, 4],\n",
       "       [2, 2, 5],\n",
       "       [3, 5, 2],\n",
       "       [4, 0, 5],\n",
       "       [3, 4, 3]])"
      ]
     },
     "execution_count": 29,
     "metadata": {},
     "output_type": "execute_result"
    }
   ],
   "source": [
    "clusters"
   ]
  },
  {
   "cell_type": "code",
   "execution_count": 30,
   "metadata": {},
   "outputs": [],
   "source": [
    "c1_1=data[clusters.argmin(axis=1)==0]\n",
    "c1_2=data[clusters.argmin(axis=1)==1]\n",
    "c1_3=data[clusters.argmin(axis=1)==2]\n"
   ]
  },
  {
   "cell_type": "code",
   "execution_count": 31,
   "metadata": {},
   "outputs": [
    {
     "data": {
      "text/plain": [
       "(8, 5)"
      ]
     },
     "execution_count": 31,
     "metadata": {},
     "output_type": "execute_result"
    }
   ],
   "source": [
    "c1_1.shape"
   ]
  },
  {
   "cell_type": "code",
   "execution_count": 32,
   "metadata": {},
   "outputs": [
    {
     "data": {
      "text/plain": [
       "(9, 5)"
      ]
     },
     "execution_count": 32,
     "metadata": {},
     "output_type": "execute_result"
    }
   ],
   "source": [
    "c1.shape"
   ]
  },
  {
   "cell_type": "code",
   "execution_count": 33,
   "metadata": {},
   "outputs": [
    {
     "name": "stdout",
     "output_type": "stream",
     "text": [
      "Requirement already satisfied: kmodes in c:\\users\\srivutta\\appdata\\local\\continuum\\anaconda3\\lib\\site-packages (0.10.1)\n",
      "Requirement already satisfied: scipy>=0.13.3 in c:\\users\\srivutta\\appdata\\local\\continuum\\anaconda3\\lib\\site-packages (from kmodes) (1.2.1)\n",
      "Requirement already satisfied: numpy>=1.10.4 in c:\\users\\srivutta\\appdata\\local\\continuum\\anaconda3\\lib\\site-packages (from kmodes) (1.16.4)\n",
      "Requirement already satisfied: joblib>=0.11 in c:\\users\\srivutta\\appdata\\local\\continuum\\anaconda3\\lib\\site-packages (from kmodes) (0.13.2)\n",
      "Requirement already satisfied: scikit-learn>=0.19.0 in c:\\users\\srivutta\\appdata\\local\\continuum\\anaconda3\\lib\\site-packages (from kmodes) (0.21.2)\n",
      "Note: you may need to restart the kernel to use updated packages.\n"
     ]
    }
   ],
   "source": [
    "pip install kmodes"
   ]
  },
  {
   "cell_type": "code",
   "execution_count": 34,
   "metadata": {},
   "outputs": [
    {
     "name": "stdout",
     "output_type": "stream",
     "text": [
      "[3 2 1 0 2 1 1 2 0 1 0 3 0 1 0 1 0 1 0 0 0 1 0 1 1 0 1 0 1 1 2 0 2 0 3 1 3\n",
      " 1 0 0 2 3 1 3 0 2 3 2 2 1 1 0 0 1 0 0 2 3 0 2 0 3 2 0 1 0 0 0 2 2 1 0 0 2\n",
      " 2 0 3 2 0 1 0 1 2 1 1 2 1 1 2 0 2 2 0 0 0 0 0 2 1 3]\n"
     ]
    }
   ],
   "source": [
    "from kmodes.kmodes import KModes\n",
    "# random categorical data\n",
    "data = np.random.choice(20,(100,10))\n",
    "km = KModes(n_clusters=4)\n",
    "clusters1 = km.fit_predict(data)\n",
    "# Print the cluster centroids\n",
    "print(clusters1)"
   ]
  },
  {
   "cell_type": "code",
   "execution_count": null,
   "metadata": {},
   "outputs": [],
   "source": []
  }
 ],
 "metadata": {
  "kernelspec": {
   "display_name": "Python 3",
   "language": "python",
   "name": "python3"
  },
  "language_info": {
   "codemirror_mode": {
    "name": "ipython",
    "version": 3
   },
   "file_extension": ".py",
   "mimetype": "text/x-python",
   "name": "python",
   "nbconvert_exporter": "python",
   "pygments_lexer": "ipython3",
   "version": "3.7.3"
  },
  "toc": {
   "base_numbering": 1,
   "nav_menu": {},
   "number_sections": true,
   "sideBar": true,
   "skip_h1_title": false,
   "title_cell": "Table of Contents",
   "title_sidebar": "Contents",
   "toc_cell": false,
   "toc_position": {},
   "toc_section_display": true,
   "toc_window_display": false
  },
  "varInspector": {
   "cols": {
    "lenName": 16,
    "lenType": 16,
    "lenVar": 40
   },
   "kernels_config": {
    "python": {
     "delete_cmd_postfix": "",
     "delete_cmd_prefix": "del ",
     "library": "var_list.py",
     "varRefreshCmd": "print(var_dic_list())"
    },
    "r": {
     "delete_cmd_postfix": ") ",
     "delete_cmd_prefix": "rm(",
     "library": "var_list.r",
     "varRefreshCmd": "cat(var_dic_list()) "
    }
   },
   "types_to_exclude": [
    "module",
    "function",
    "builtin_function_or_method",
    "instance",
    "_Feature"
   ],
   "window_display": false
  }
 },
 "nbformat": 4,
 "nbformat_minor": 2
}
