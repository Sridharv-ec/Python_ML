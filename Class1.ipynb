{
 "cells": [
  {
   "cell_type": "code",
   "execution_count": 31,
   "metadata": {},
   "outputs": [
    {
     "name": "stdout",
     "output_type": "stream",
     "text": [
      "DATA\n",
      "data\n",
      "False\n",
      "True\n",
      "4\n",
      "True\n",
      "True\n",
      "True\n",
      "False\n",
      "True\n",
      "True\n",
      "2\n",
      "2\n",
      "-1\n",
      "2\n",
      "aSridhar vuttarkaraa\n"
     ]
    }
   ],
   "source": [
    "#String\n",
    "x = 'Data'\n",
    "print(x.upper())\n",
    "print(x.lower())\n",
    "print(x.isupper())\n",
    "print('data'.islower())\n",
    "print(len(x))\n",
    "print(x.isalpha())\n",
    "print('1234'.isnumeric())\n",
    "print(x.isalnum())\n",
    "print('test\\n'.isspace())\n",
    "print(x.startswith('D'))\n",
    "print(x.endswith('a'))\n",
    "print(x.index('t'))\n",
    "#print(x.index('p'))\n",
    "print(x.find('t'))\n",
    "print(x.find('p'))\n",
    "print(x.count('a'))\n",
    "print('Sridhar vuttarkar'.center(20,'a'))"
   ]
  },
  {
   "cell_type": "code",
   "execution_count": 24,
   "metadata": {},
   "outputs": [
    {
     "name": "stdout",
     "output_type": "stream",
     "text": [
      "['False', 'None', 'True', 'and', 'as', 'assert', 'async', 'await', 'break', 'class', 'continue', 'def', 'del', 'elif', 'else', 'except', 'finally', 'for', 'from', 'global', 'if', 'import', 'in', 'is', 'lambda', 'nonlocal', 'not', 'or', 'pass', 'raise', 'return', 'try', 'while', 'with', 'yield']\n"
     ]
    }
   ],
   "source": [
    "import keyword\n",
    "print(keyword.kwlist)"
   ]
  },
  {
   "cell_type": "code",
   "execution_count": 26,
   "metadata": {},
   "outputs": [
    {
     "name": "stdout",
     "output_type": "stream",
     "text": [
      "t\n",
      "c\n"
     ]
    }
   ],
   "source": [
    "a = 'Data science'\n",
    "print(a[2])\n",
    "print(a[-2])"
   ]
  },
  {
   "cell_type": "code",
   "execution_count": 1,
   "metadata": {},
   "outputs": [
    {
     "name": "stdout",
     "output_type": "stream",
     "text": [
      "[[1 2 3]\n",
      " [4 5 6]\n",
      " [7 8 9]]\n",
      "----------------------------------------\n",
      "[[1 2 3]]\n",
      "----------------------------------------\n",
      "[[9]]\n",
      "----------------------------------------\n",
      "[[2 3]\n",
      " [5 6]]\n",
      "----------------------------------------\n",
      "[[ 0  0  0]\n",
      " [-3 -3 -3]\n",
      " [-6 -6 -6]]\n",
      "----------------------------------------\n",
      "[[ 0  0  0]\n",
      " [ 9  9  9]\n",
      " [36 36 36]]\n"
     ]
    }
   ],
   "source": [
    "import numpy as np\n",
    "a = np.array([[1, 2, 3],[4,5,6],[7,8,9]])\n",
    "print(a[:,:])\n",
    "print(\"----------------------------------------\")\n",
    "print(a[0:1,:])\n",
    "print(\"----------------------------------------\")\n",
    "print(a[2:,2:])\n",
    "print(\"----------------------------------------\")\n",
    "print(a[0:2,1:])\n",
    "print(\"----------------------------------------\")\n",
    "print(a[0]-a)\n",
    "print(\"----------------------------------------\")\n",
    "print((a[0]-a)**2)"
   ]
  },
  {
   "cell_type": "code",
   "execution_count": null,
   "metadata": {},
   "outputs": [],
   "source": []
  },
  {
   "cell_type": "code",
   "execution_count": null,
   "metadata": {},
   "outputs": [],
   "source": []
  }
 ],
 "metadata": {
  "kernelspec": {
   "display_name": "Python 3",
   "language": "python",
   "name": "python3"
  },
  "language_info": {
   "codemirror_mode": {
    "name": "ipython",
    "version": 3
   },
   "file_extension": ".py",
   "mimetype": "text/x-python",
   "name": "python",
   "nbconvert_exporter": "python",
   "pygments_lexer": "ipython3",
   "version": "3.7.3"
  }
 },
 "nbformat": 4,
 "nbformat_minor": 2
}
