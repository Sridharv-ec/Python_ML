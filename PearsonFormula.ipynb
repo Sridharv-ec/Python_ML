{
 "cells": [
  {
   "cell_type": "markdown",
   "metadata": {},
   "source": [
    "# import numpy as np\n",
    "x = np.arange(1,11)\n",
    "y = np.arange(11,21)\n",
    "print(x)\n",
    "print(y)\n",
    "d1 = x - x.mean()\n",
    "d2 = y - y.mean()\n",
    "\n",
    "d12 = d1*d2\n",
    "\n",
    "print(d1)\n",
    "print(d2)\n",
    "print(d12)\n"
   ]
  },
  {
   "cell_type": "code",
   "execution_count": 13,
   "metadata": {},
   "outputs": [
    {
     "name": "stdout",
     "output_type": "stream",
     "text": [
      "[ 1  2  3  4  5  6  7  8  9 10]\n",
      "[11 12 13 14 15 16 17 18 19 20]\n",
      "[-4.5 -3.5 -2.5 -1.5 -0.5  0.5  1.5  2.5  3.5  4.5]\n",
      "[-4.5 -3.5 -2.5 -1.5 -0.5  0.5  1.5  2.5  3.5  4.5]\n",
      "[20.25 12.25  6.25  2.25  0.25  0.25  2.25  6.25 12.25 20.25]\n"
     ]
    }
   ],
   "source": [
    "import numpy as np\n",
    "x = np.arange(1,11) \n",
    "y = np.arange(11,21) \n",
    "print(x) \n",
    "print(y) \n",
    "d1 = x - x.mean() \n",
    "d2 = y - y.mean()\n",
    "d12 = d1*d2\n",
    "print(d1) \n",
    "print(d2) \n",
    "print(d12)"
   ]
  },
  {
   "cell_type": "code",
   "execution_count": 16,
   "metadata": {},
   "outputs": [
    {
     "data": {
      "text/plain": [
       "array([-0., -0., -0., -0., -0.,  0.,  0.,  0.,  0.,  0.])"
      ]
     },
     "execution_count": 16,
     "metadata": {},
     "output_type": "execute_result"
    }
   ],
   "source": [
    "np.sqrt(((d1*d1).sum())*((d2*d2.sum())))\n",
    "#d12.sum()/np.sqrt(((d1*d1).sum())*((d2*d2.sum())))"
   ]
  },
  {
   "cell_type": "code",
   "execution_count": null,
   "metadata": {},
   "outputs": [],
   "source": []
  }
 ],
 "metadata": {
  "kernelspec": {
   "display_name": "Python 3",
   "language": "python",
   "name": "python3"
  }
 },
 "nbformat": 4,
 "nbformat_minor": 2
}
