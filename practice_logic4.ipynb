{
 "cells": [
  {
   "cell_type": "code",
   "execution_count": 3,
   "metadata": {},
   "outputs": [
    {
     "data": {
      "text/plain": [
       "5"
      ]
     },
     "execution_count": 3,
     "metadata": {},
     "output_type": "execute_result"
    }
   ],
   "source": [
    "num = [1,2,3]\n",
    "sum = 0\n",
    "for i in range(1,len(num)):\n",
    "    sum = sum + num[i]\n",
    "sum\n",
    "    "
   ]
  },
  {
   "cell_type": "code",
   "execution_count": 7,
   "metadata": {},
   "outputs": [
    {
     "name": "stdout",
     "output_type": "stream",
     "text": [
      "[1 2 3]\n"
     ]
    }
   ],
   "source": [
    "import numpy as np\n",
    "a = np.array(num)\n",
    "a.sum()\n",
    "print(a)"
   ]
  },
  {
   "cell_type": "code",
   "execution_count": 8,
   "metadata": {},
   "outputs": [
    {
     "name": "stdout",
     "output_type": "stream",
     "text": [
      "[100, 7, 5, 6]\n"
     ]
    }
   ],
   "source": [
    "num = [100,1,2,3,20,7,1,4,2,4,3,5,6,20]\n",
    "flag = False\n",
    "temp = []\n",
    "for i in range(0, len(num)):\n",
    "    for j in range(0, len(num)):\n",
    "        if i != j:\n",
    "            if num[i] == num[j]:\n",
    "                flag = False;\n",
    "                break\n",
    "            else:\n",
    "                flag = True\n",
    "    if(flag == True):\n",
    "        temp.append(num[i])\n",
    "print(temp)"
   ]
  },
  {
   "cell_type": "code",
   "execution_count": 10,
   "metadata": {},
   "outputs": [
    {
     "name": "stdout",
     "output_type": "stream",
     "text": [
      "['Chaithali', 'Govind']\n"
     ]
    }
   ],
   "source": [
    "num = ['Sridhar','vuttarkar','Sridhar','Chaithali','vuttarkar','Govind','Sridhar']\n",
    "flag = False\n",
    "temp = []\n",
    "for i in range(0, len(num)):\n",
    "    for j in range(0, len(num)):\n",
    "        if i != j:\n",
    "            if num[i] == num[j]:\n",
    "                flag = False;\n",
    "                break\n",
    "            else:\n",
    "                flag = True\n",
    "    if(flag == True):\n",
    "        temp.append(num[i])\n",
    "print(temp)"
   ]
  },
  {
   "cell_type": "code",
   "execution_count": 20,
   "metadata": {},
   "outputs": [
    {
     "name": "stdout",
     "output_type": "stream",
     "text": [
      "The given number 9 is not a prime number\n"
     ]
    }
   ],
   "source": [
    "num = 9\n",
    "flag = False\n",
    "for i in range(2, num):\n",
    "    if num % i == 0 :\n",
    "        flag = False\n",
    "        break\n",
    "    else:\n",
    "        flag = True\n",
    "if flag == True:\n",
    "    print (\"The given number {0} is prime number\".format(num))\n",
    "else:\n",
    "    print (\"The given number {0} is not a prime number\".format(num))"
   ]
  },
  {
   "cell_type": "code",
   "execution_count": 31,
   "metadata": {},
   "outputs": [
    {
     "name": "stdout",
     "output_type": "stream",
     "text": [
      "8128\n",
      "The given number 8128 is a perfect number\n"
     ]
    }
   ],
   "source": [
    "n = 8128\n",
    "temp = 0;\n",
    "for i in range(1, n):\n",
    "    if n % i == 0:\n",
    "        temp = temp + i;\n",
    "print(temp)\n",
    "if temp == n:\n",
    "    print (\"The given number {0} is a perfect number\".format(n))\n",
    "else:\n",
    "    print (\"The given number {0} is not a perfect number\".format(n))\n",
    "        "
   ]
  },
  {
   "cell_type": "code",
   "execution_count": 41,
   "metadata": {},
   "outputs": [
    {
     "name": "stdout",
     "output_type": "stream",
     "text": [
      "The given string deleveled is a palindrom\n"
     ]
    }
   ],
   "source": [
    "p = \"deleveled\"\n",
    "flag = False\n",
    "for i in range(0,len(p)):\n",
    "    if(p[i] == p[-(i+1)]):\n",
    "        flag = True\n",
    "    else:\n",
    "        flag = False\n",
    "        \n",
    "if(flag == True):\n",
    "    print (\"The given string {0} is a palindrom\".format(p))\n",
    "else:\n",
    "    print (\"The given string {0} is not a palindrom\".format(p))\n",
    "        "
   ]
  },
  {
   "cell_type": "code",
   "execution_count": null,
   "metadata": {},
   "outputs": [],
   "source": [
    "n = 10\n",
    "for i in range(0,n):\n",
    "    for j"
   ]
  }
 ],
 "metadata": {
  "kernelspec": {
   "display_name": "Python 3",
   "language": "python",
   "name": "python3"
  },
  "language_info": {
   "codemirror_mode": {
    "name": "ipython",
    "version": 3
   },
   "file_extension": ".py",
   "mimetype": "text/x-python",
   "name": "python",
   "nbconvert_exporter": "python",
   "pygments_lexer": "ipython3",
   "version": "3.7.3"
  }
 },
 "nbformat": 4,
 "nbformat_minor": 2
}
