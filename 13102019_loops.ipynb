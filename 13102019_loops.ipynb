{
 "cells": [
  {
   "cell_type": "code",
   "execution_count": 3,
   "metadata": {},
   "outputs": [
    {
     "name": "stdout",
     "output_type": "stream",
     "text": [
      "I\n",
      "Like\n",
      "Data\n",
      "Science\n"
     ]
    }
   ],
   "source": [
    "x=\"I like data science\"\n",
    "for M in x.split():\n",
    "    print(M.capitalize())"
   ]
  },
  {
   "cell_type": "code",
   "execution_count": 9,
   "metadata": {},
   "outputs": [
    {
     "name": "stdout",
     "output_type": "stream",
     "text": [
      "I 1\n",
      "Like 4\n",
      "Data 4\n",
      "Science 7\n"
     ]
    }
   ],
   "source": [
    "x=\"I like data science\"\n",
    "for M in x.split():\n",
    "    print(M.capitalize(),len(M))"
   ]
  },
  {
   "cell_type": "code",
   "execution_count": 20,
   "metadata": {},
   "outputs": [],
   "source": [
    "x= \"This is my true review on Amazon Amazon is the Indias largest, $ online shopping company which has % different different kinds of product I am also buying such & kind of product but I am not # satisfied there product theseare the very cheap in quality and Amazon charge high price for this product disappointing from their their services thecustomer support service is very bad they cant even pick up the call for any queries cant take any 1 action on the 2 customers problem the quality of the product is the worst which I have ever seen delivery service of Amazon is also worst because they said for 4 to 3 days for delivery but they take one to two weeks which is very slow I cant like Amazon app because they cant show full description of the product. This app is not reliable for anyone purchase of @ something product is totally waste of money\""
   ]
  },
  {
   "cell_type": "code",
   "execution_count": 22,
   "metadata": {},
   "outputs": [
    {
     "name": "stdout",
     "output_type": "stream",
     "text": [
      " \n",
      " \n",
      " \n",
      " \n",
      " \n",
      " \n",
      " \n",
      " \n",
      " \n",
      " \n",
      ",\n",
      " \n",
      "$\n",
      " \n",
      " \n",
      " \n",
      " \n",
      " \n",
      " \n",
      "%\n",
      " \n",
      " \n",
      " \n",
      " \n",
      " \n",
      " \n",
      " \n",
      " \n",
      " \n",
      " \n",
      " \n",
      "&\n",
      " \n",
      " \n",
      " \n",
      " \n",
      " \n",
      " \n",
      " \n",
      " \n",
      "#\n",
      " \n",
      " \n",
      " \n",
      " \n",
      " \n",
      " \n",
      " \n",
      " \n",
      " \n",
      " \n",
      " \n",
      " \n",
      " \n",
      " \n",
      " \n",
      " \n",
      " \n",
      " \n",
      " \n",
      " \n",
      " \n",
      " \n",
      " \n",
      " \n",
      " \n",
      " \n",
      " \n",
      " \n",
      " \n",
      " \n",
      " \n",
      " \n",
      " \n",
      " \n",
      " \n",
      " \n",
      " \n",
      " \n",
      " \n",
      " \n",
      " \n",
      " \n",
      "1\n",
      " \n",
      " \n",
      " \n",
      " \n",
      "2\n",
      " \n",
      " \n",
      " \n",
      " \n",
      " \n",
      " \n",
      " \n",
      " \n",
      " \n",
      " \n",
      " \n",
      " \n",
      " \n",
      " \n",
      " \n",
      " \n",
      " \n",
      " \n",
      " \n",
      " \n",
      " \n",
      " \n",
      " \n",
      " \n",
      " \n",
      " \n",
      " \n",
      "4\n",
      " \n",
      " \n",
      "3\n",
      " \n",
      " \n",
      " \n",
      " \n",
      " \n",
      " \n",
      " \n",
      " \n",
      " \n",
      " \n",
      " \n",
      " \n",
      " \n",
      " \n",
      " \n",
      " \n",
      " \n",
      " \n",
      " \n",
      " \n",
      " \n",
      " \n",
      " \n",
      " \n",
      " \n",
      " \n",
      " \n",
      " \n",
      ".\n",
      " \n",
      " \n",
      " \n",
      " \n",
      " \n",
      " \n",
      " \n",
      " \n",
      " \n",
      " \n",
      "@\n",
      " \n",
      " \n",
      " \n",
      " \n",
      " \n",
      " \n",
      " \n"
     ]
    }
   ],
   "source": [
    "for M in x:\n",
    "    if M.isalpha() == False:\n",
    "        print(M)"
   ]
  },
  {
   "cell_type": "code",
   "execution_count": 24,
   "metadata": {},
   "outputs": [],
   "source": [
    "SP=[]\n",
    "for M in x:\n",
    "    if M.isalpha() == False:\n",
    "        SP.append(M)      "
   ]
  },
  {
   "cell_type": "code",
   "execution_count": 25,
   "metadata": {},
   "outputs": [
    {
     "data": {
      "text/plain": [
       "[' ',\n",
       " ' ',\n",
       " ' ',\n",
       " ' ',\n",
       " ' ',\n",
       " ' ',\n",
       " ' ',\n",
       " ' ',\n",
       " ' ',\n",
       " ' ',\n",
       " ',',\n",
       " ' ',\n",
       " '$',\n",
       " ' ',\n",
       " ' ',\n",
       " ' ',\n",
       " ' ',\n",
       " ' ',\n",
       " ' ',\n",
       " '%',\n",
       " ' ',\n",
       " ' ',\n",
       " ' ',\n",
       " ' ',\n",
       " ' ',\n",
       " ' ',\n",
       " ' ',\n",
       " ' ',\n",
       " ' ',\n",
       " ' ',\n",
       " ' ',\n",
       " '&',\n",
       " ' ',\n",
       " ' ',\n",
       " ' ',\n",
       " ' ',\n",
       " ' ',\n",
       " ' ',\n",
       " ' ',\n",
       " ' ',\n",
       " '#',\n",
       " ' ',\n",
       " ' ',\n",
       " ' ',\n",
       " ' ',\n",
       " ' ',\n",
       " ' ',\n",
       " ' ',\n",
       " ' ',\n",
       " ' ',\n",
       " ' ',\n",
       " ' ',\n",
       " ' ',\n",
       " ' ',\n",
       " ' ',\n",
       " ' ',\n",
       " ' ',\n",
       " ' ',\n",
       " ' ',\n",
       " ' ',\n",
       " ' ',\n",
       " ' ',\n",
       " ' ',\n",
       " ' ',\n",
       " ' ',\n",
       " ' ',\n",
       " ' ',\n",
       " ' ',\n",
       " ' ',\n",
       " ' ',\n",
       " ' ',\n",
       " ' ',\n",
       " ' ',\n",
       " ' ',\n",
       " ' ',\n",
       " ' ',\n",
       " ' ',\n",
       " ' ',\n",
       " ' ',\n",
       " ' ',\n",
       " ' ',\n",
       " ' ',\n",
       " ' ',\n",
       " '1',\n",
       " ' ',\n",
       " ' ',\n",
       " ' ',\n",
       " ' ',\n",
       " '2',\n",
       " ' ',\n",
       " ' ',\n",
       " ' ',\n",
       " ' ',\n",
       " ' ',\n",
       " ' ',\n",
       " ' ',\n",
       " ' ',\n",
       " ' ',\n",
       " ' ',\n",
       " ' ',\n",
       " ' ',\n",
       " ' ',\n",
       " ' ',\n",
       " ' ',\n",
       " ' ',\n",
       " ' ',\n",
       " ' ',\n",
       " ' ',\n",
       " ' ',\n",
       " ' ',\n",
       " ' ',\n",
       " ' ',\n",
       " ' ',\n",
       " ' ',\n",
       " ' ',\n",
       " ' ',\n",
       " '4',\n",
       " ' ',\n",
       " ' ',\n",
       " '3',\n",
       " ' ',\n",
       " ' ',\n",
       " ' ',\n",
       " ' ',\n",
       " ' ',\n",
       " ' ',\n",
       " ' ',\n",
       " ' ',\n",
       " ' ',\n",
       " ' ',\n",
       " ' ',\n",
       " ' ',\n",
       " ' ',\n",
       " ' ',\n",
       " ' ',\n",
       " ' ',\n",
       " ' ',\n",
       " ' ',\n",
       " ' ',\n",
       " ' ',\n",
       " ' ',\n",
       " ' ',\n",
       " ' ',\n",
       " ' ',\n",
       " ' ',\n",
       " ' ',\n",
       " ' ',\n",
       " ' ',\n",
       " '.',\n",
       " ' ',\n",
       " ' ',\n",
       " ' ',\n",
       " ' ',\n",
       " ' ',\n",
       " ' ',\n",
       " ' ',\n",
       " ' ',\n",
       " ' ',\n",
       " ' ',\n",
       " '@',\n",
       " ' ',\n",
       " ' ',\n",
       " ' ',\n",
       " ' ',\n",
       " ' ',\n",
       " ' ',\n",
       " ' ']"
      ]
     },
     "execution_count": 25,
     "metadata": {},
     "output_type": "execute_result"
    }
   ],
   "source": [
    "SP"
   ]
  },
  {
   "cell_type": "code",
   "execution_count": 30,
   "metadata": {},
   "outputs": [],
   "source": [
    "EvenL=[]\n",
    "OddL=[]\n",
    "for M in x.split():\n",
    "    if len(M)%2==0:\n",
    "        EvenL.append(M)\n",
    "    else:\n",
    "        OddL.append(M)"
   ]
  },
  {
   "cell_type": "code",
   "execution_count": 32,
   "metadata": {},
   "outputs": [
    {
     "data": {
      "text/plain": [
       "(['This',\n",
       "  'is',\n",
       "  'my',\n",
       "  'truereview',\n",
       "  'on',\n",
       "  'Amazon',\n",
       "  'Amazon',\n",
       "  'is',\n",
       "  'Indias',\n",
       "  'largest,',\n",
       "  'online',\n",
       "  'shopping',\n",
       "  'of',\n",
       "  'am',\n",
       "  'also',\n",
       "  'buying',\n",
       "  'such',\n",
       "  'kind',\n",
       "  'of',\n",
       "  'am',\n",
       "  'theseare',\n",
       "  'very',\n",
       "  'in',\n",
       "  'Amazon',\n",
       "  'charge',\n",
       "  'high',\n",
       "  'this',\n",
       "  'from',\n",
       "  'services',\n",
       "  'is',\n",
       "  'very',\n",
       "  'they',\n",
       "  'cant',\n",
       "  'even',\n",
       "  'pick',\n",
       "  'up',\n",
       "  'call',\n",
       "  'cant',\n",
       "  'take',\n",
       "  'action',\n",
       "  'on',\n",
       "  'of',\n",
       "  'is',\n",
       "  'have',\n",
       "  'ever',\n",
       "  'seen',\n",
       "  'delivery',\n",
       "  'of',\n",
       "  'Amazon',\n",
       "  'is',\n",
       "  'also',\n",
       "  'they',\n",
       "  'said',\n",
       "  'to',\n",
       "  'days',\n",
       "  'delivery',\n",
       "  'they',\n",
       "  'take',\n",
       "  'to',\n",
       "  'is',\n",
       "  'very',\n",
       "  'slow',\n",
       "  'cant',\n",
       "  'like',\n",
       "  'Amazon',\n",
       "  'they',\n",
       "  'cant',\n",
       "  'show',\n",
       "  'full',\n",
       "  'of',\n",
       "  'product.',\n",
       "  'This',\n",
       "  'is',\n",
       "  'reliable',\n",
       "  'anyone',\n",
       "  'purchase',\n",
       "  'of',\n",
       "  'is',\n",
       "  'of'],\n",
       " ['the',\n",
       "  '$',\n",
       "  'company',\n",
       "  'which',\n",
       "  'has',\n",
       "  '%',\n",
       "  'different',\n",
       "  'different',\n",
       "  'kinds',\n",
       "  'product',\n",
       "  'I',\n",
       "  '&',\n",
       "  'product',\n",
       "  'but',\n",
       "  'I',\n",
       "  'not',\n",
       "  '#',\n",
       "  'satisfied',\n",
       "  'there',\n",
       "  'product',\n",
       "  'the',\n",
       "  'cheap',\n",
       "  'quality',\n",
       "  'and',\n",
       "  'price',\n",
       "  'for',\n",
       "  'product',\n",
       "  'disappointing',\n",
       "  'their',\n",
       "  'their',\n",
       "  'thecustomer',\n",
       "  'support',\n",
       "  'service',\n",
       "  'bad',\n",
       "  'the',\n",
       "  'for',\n",
       "  'any',\n",
       "  'queries',\n",
       "  'any',\n",
       "  '1',\n",
       "  'the',\n",
       "  '2',\n",
       "  'customers',\n",
       "  'problem',\n",
       "  'the',\n",
       "  'quality',\n",
       "  'the',\n",
       "  'product',\n",
       "  'the',\n",
       "  'worst',\n",
       "  'which',\n",
       "  'I',\n",
       "  'service',\n",
       "  'worst',\n",
       "  'because',\n",
       "  'for',\n",
       "  '4',\n",
       "  '3',\n",
       "  'for',\n",
       "  'but',\n",
       "  'one',\n",
       "  'two',\n",
       "  'weeks',\n",
       "  'which',\n",
       "  'I',\n",
       "  'app',\n",
       "  'because',\n",
       "  'description',\n",
       "  'the',\n",
       "  'app',\n",
       "  'not',\n",
       "  'for',\n",
       "  '@',\n",
       "  'something',\n",
       "  'product',\n",
       "  'totally',\n",
       "  'waste',\n",
       "  'money'])"
      ]
     },
     "execution_count": 32,
     "metadata": {},
     "output_type": "execute_result"
    }
   ],
   "source": [
    "EvenL, OddL"
   ]
  },
  {
   "cell_type": "code",
   "execution_count": 7,
   "metadata": {},
   "outputs": [
    {
     "name": "stdout",
     "output_type": "stream",
     "text": [
      "\n",
      "P\n",
      "Pr\n",
      "Pro\n",
      "Prod\n",
      "Produ\n",
      "Produc\n",
      "Product\n",
      "Product \n",
      "Product i\n",
      "Product is\n",
      "Product is \n",
      "Product is a\n",
      "Product is aw\n",
      "Product is awe\n",
      "Product is awes\n",
      "Product is aweso\n",
      "Product is awesom\n",
      "Product is awesome\n"
     ]
    }
   ],
   "source": [
    "x=\"Product is awesome\"\n",
    "for i in range(0,len(x)+1):\n",
    "    print(x[0:i])\n",
    "    "
   ]
  },
  {
   "cell_type": "code",
   "execution_count": 9,
   "metadata": {},
   "outputs": [
    {
     "name": "stdout",
     "output_type": "stream",
     "text": [
      "\n",
      "P\n",
      "Pr\n",
      "Pro\n",
      "Prod\n",
      "Produ\n",
      "Produc\n",
      "Product\n",
      "Product \n",
      "Product i\n",
      "Product is\n",
      "Product is \n",
      "Product is a\n",
      "Product is aw\n",
      "Product is awe\n",
      "Product is awes\n",
      "Product is aweso\n",
      "Product is awesom\n",
      "Product is awesome\n"
     ]
    }
   ],
   "source": [
    "import numpy as np\n",
    "x=\"Product is awesome\"\n",
    "for i in np.arange(0,len(x)+1):\n",
    "    print(x[0:i])"
   ]
  },
  {
   "cell_type": "code",
   "execution_count": 11,
   "metadata": {},
   "outputs": [
    {
     "data": {
      "text/plain": [
       "array([[64, 23, 93, 33],\n",
       "       [47, 20, 47, 11],\n",
       "       [ 9, 69, 28, 25]])"
      ]
     },
     "execution_count": 11,
     "metadata": {},
     "output_type": "execute_result"
    }
   ],
   "source": [
    "x=np.random.randint(0,100,(3,4))\n",
    "x"
   ]
  },
  {
   "cell_type": "code",
   "execution_count": 38,
   "metadata": {},
   "outputs": [],
   "source": [
    "distance=[]\n",
    "for i in x:\n",
    "    for j in x:\n",
    "        d=np.sqrt(((i-j)*(i-j)).sum())\n",
    "        distance.append(d)"
   ]
  },
  {
   "cell_type": "code",
   "execution_count": 45,
   "metadata": {},
   "outputs": [
    {
     "data": {
      "text/plain": [
       "[0.0,\n",
       " 59.23681287847955,\n",
       " 93.24698386543128,\n",
       " 59.23681287847955,\n",
       " 0.0,\n",
       " 62.51399843235114,\n",
       " 93.24698386543128,\n",
       " 62.51399843235114,\n",
       " 0.0]"
      ]
     },
     "execution_count": 45,
     "metadata": {},
     "output_type": "execute_result"
    }
   ],
   "source": [
    "distance"
   ]
  },
  {
   "cell_type": "code",
   "execution_count": 47,
   "metadata": {},
   "outputs": [
    {
     "data": {
      "text/plain": [
       "array([[ 0.        , 59.23681288, 93.24698387],\n",
       "       [59.23681288,  0.        , 62.51399843],\n",
       "       [93.24698387, 62.51399843,  0.        ]])"
      ]
     },
     "execution_count": 47,
     "metadata": {},
     "output_type": "execute_result"
    }
   ],
   "source": [
    "Md=np.array(distance)\n",
    "Md.reshape(3,3)"
   ]
  },
  {
   "cell_type": "code",
   "execution_count": 48,
   "metadata": {},
   "outputs": [],
   "source": [
    "MD=[2,6,'Data','Anyl',43,12.3]"
   ]
  },
  {
   "cell_type": "code",
   "execution_count": 53,
   "metadata": {},
   "outputs": [],
   "source": [
    "Number=[]\n",
    "for i in MD:\n",
    "    if str(i).isdigit():\n",
    "        Number.append(i)"
   ]
  },
  {
   "cell_type": "code",
   "execution_count": 56,
   "metadata": {},
   "outputs": [
    {
     "data": {
      "text/plain": [
       "51"
      ]
     },
     "execution_count": 56,
     "metadata": {},
     "output_type": "execute_result"
    }
   ],
   "source": [
    "D= np.array(Number)\n",
    "D.sum()"
   ]
  },
  {
   "cell_type": "code",
   "execution_count": 58,
   "metadata": {},
   "outputs": [
    {
     "data": {
      "text/plain": [
       "array([ 2,  6, 43])"
      ]
     },
     "execution_count": 58,
     "metadata": {},
     "output_type": "execute_result"
    }
   ],
   "source": [
    "D"
   ]
  },
  {
   "cell_type": "code",
   "execution_count": 100,
   "metadata": {},
   "outputs": [],
   "source": [
    "p=\"Data science Machine Learning\"\n",
    "x=''\n",
    "for i in p.split():\n",
    "    x=x+i[::-1]\n"
   ]
  },
  {
   "cell_type": "code",
   "execution_count": 101,
   "metadata": {},
   "outputs": [
    {
     "data": {
      "text/plain": [
       "'ataDecneicsenihcaMgninraeL'"
      ]
     },
     "execution_count": 101,
     "metadata": {},
     "output_type": "execute_result"
    }
   ],
   "source": [
    "x"
   ]
  },
  {
   "cell_type": "code",
   "execution_count": null,
   "metadata": {},
   "outputs": [],
   "source": []
  },
  {
   "cell_type": "code",
   "execution_count": null,
   "metadata": {},
   "outputs": [],
   "source": []
  },
  {
   "cell_type": "code",
   "execution_count": 108,
   "metadata": {},
   "outputs": [],
   "source": [
    "x=\"Wikipedia is written collaboratively by largely anonymous volunteers who write without pay. Anyone with Internet access can write and make changes to Wikipedia articles, except in limited cases where editing is restricted to prevent disruption or vandalism. Users can contribute anonymously, under a pseudonym, or, if they choose to, with their real identity. The fundamental principles by which Wikipedia operates are the five pillars. The Wikipedia community has developed many policies and guidelines to improve the encyclopedia; however, it is not a formal requirement to be familiar with them before contributing. Since its creation on January 15, 2001, Wikipedia has grown rapidly into one of the largest reference websites, attracting 374 million unique visitors monthly as of September 2015.[1] There are about 72,000 active contributors working on more than 48,000,000 articles in 302 languages. As of today, there are 5,949,193 articles in English. Every day, hundreds of thousands of visitors from around the word collectively make tens of thousands of edits and create thousands of new articles to augment the knowledge held by the Wikipedia encyclopedia. (See the statistics page for more information.) People of all ages, cultures and backgrounds can add or edit article prose, references, images and other media here. What is contributed is more important than the expertise or qualifications of the contributor. What will remain depends upon whether the content is free of copyright restrictions and contentious material about living people, and whether it fits within Wikipedia's policies, including being verifiable against a published reliable source, thereby excluding editors' opinions and beliefs and unreviewed research. Contributions cannot damage Wikipedia because the software allows easy reversal of mistakes and many experienced editors are watching to help ensure that edits are cumulative improvements. Begin by simply clicking the Edit link at the top of any editable page!Wikipedia is a live collaboration differing from paper-based reference sources in important ways. Unlike printed encyclopedias, Wikipedia is continually created and updated, with articles on historic events appearing within minutes, rather than months or years. Because everybody can help improve it, Wikipedia has become more comprehensive than any other encyclopedia. In addition to quantity, its contributors work on improving quality as well. Wikipedia is a work-in-progress, with articles in various stages of completion. As articles develop, they tend to become more comprehensive and balanced. Quality also improves over time as misinformation and other errors are removed or repaired. However, because anyone can click at any time and add content, any article may contain undetected misinformation, errors, or vandalism. Awareness of this helps the reader to obtain valid information, avoid recently added misinformation (see Wikipedia : Researching with Wikipedia), and fix the article\""
   ]
  },
  {
   "cell_type": "code",
   "execution_count": 109,
   "metadata": {},
   "outputs": [],
   "source": [
    "Data = []\n",
    "for i in x.split():\n",
    "    if i == 'is':\n",
    "        Data.append(i)"
   ]
  },
  {
   "cell_type": "code",
   "execution_count": 111,
   "metadata": {},
   "outputs": [
    {
     "data": {
      "text/plain": [
       "0.003002001334222815"
      ]
     },
     "execution_count": 111,
     "metadata": {},
     "output_type": "execute_result"
    }
   ],
   "source": [
    "len(Data)/len(x)"
   ]
  },
  {
   "cell_type": "code",
   "execution_count": 49,
   "metadata": {},
   "outputs": [
    {
     "name": "stdout",
     "output_type": "stream",
     "text": [
      "[100, 7, 5, 6]\n"
     ]
    }
   ],
   "source": [
    "\n",
    "        "
   ]
  },
  {
   "cell_type": "code",
   "execution_count": null,
   "metadata": {},
   "outputs": [],
   "source": []
  },
  {
   "cell_type": "code",
   "execution_count": null,
   "metadata": {},
   "outputs": [],
   "source": []
  },
  {
   "cell_type": "code",
   "execution_count": null,
   "metadata": {},
   "outputs": [],
   "source": []
  }
 ],
 "metadata": {
  "kernelspec": {
   "display_name": "Python 3",
   "language": "python",
   "name": "python3"
  },
  "language_info": {
   "codemirror_mode": {
    "name": "ipython",
    "version": 3
   },
   "file_extension": ".py",
   "mimetype": "text/x-python",
   "name": "python",
   "nbconvert_exporter": "python",
   "pygments_lexer": "ipython3",
   "version": "3.7.3"
  }
 },
 "nbformat": 4,
 "nbformat_minor": 2
}
