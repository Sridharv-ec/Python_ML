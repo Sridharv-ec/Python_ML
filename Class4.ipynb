{
 "cells": [
  {
   "cell_type": "code",
   "execution_count": 1,
   "metadata": {},
   "outputs": [
    {
     "name": "stdout",
     "output_type": "stream",
     "text": [
      "29.6\n"
     ]
    }
   ],
   "source": [
    "x = [2,6,\"data\",\"analytics\",6,7,8.6]\n",
    "total = 0\n",
    "for i in x:\n",
    "    if((type(i) == int) or (type(i)==float)):\n",
    "        total = total + i\n",
    "print (total)"
   ]
  },
  {
   "cell_type": "code",
   "execution_count": 5,
   "metadata": {},
   "outputs": [
    {
     "name": "stdout",
     "output_type": "stream",
     "text": [
      "4\n",
      "21\n"
     ]
    }
   ],
   "source": [
    "z = []\n",
    "for i in x:\n",
    "    if(str(i).isdigit()):\n",
    "        z.append(i)\n",
    "total1 = 0;\n",
    "print(len(z))\n",
    "for i in range(len(z)):\n",
    "    total1 = total1 + z[i]\n",
    "print (total1)"
   ]
  },
  {
   "cell_type": "code",
   "execution_count": 13,
   "metadata": {},
   "outputs": [
    {
     "name": "stdout",
     "output_type": "stream",
     "text": [
      " ataD ecneics enihcam gninrael\n"
     ]
    }
   ],
   "source": [
    "str1 = \"Data science machine learning\"\n",
    "text = \"\"\n",
    "\n",
    "for i in str1.split():\n",
    "    text = text +\" \"+ i[::-1]\n",
    "\n",
    "print(text)"
   ]
  },
  {
   "cell_type": "code",
   "execution_count": 19,
   "metadata": {},
   "outputs": [
    {
     "name": "stdout",
     "output_type": "stream",
     "text": [
      "A\n",
      "paragraph\n",
      "is\n",
      "a\n",
      "series\n",
      "of\n",
      "related\n",
      "sentences\n",
      "developing\n",
      "central\n",
      "idea,\n",
      "called\n",
      "the\n",
      "topic.\n",
      "Try\n",
      "to\n",
      "think\n",
      "about\n",
      "paragraphs\n",
      "in\n",
      "terms\n",
      "thematic\n",
      "unity:\n",
      "sentence\n",
      "or\n",
      "group\n",
      "that\n",
      "supports\n",
      "one\n",
      "central,\n",
      "unified\n",
      "idea.\n",
      "Paragraphs\n",
      "add\n",
      "idea\n",
      "at\n",
      "time\n",
      "your\n",
      "broader\n",
      "argument.\n"
     ]
    }
   ],
   "source": [
    "str2 = \"A paragraph is a series of related sentences developing a central idea, called the topic. Try to think about paragraphs in terms of thematic unity: a paragraph is a sentence or a group of sentences that supports one central, unified idea. Paragraphs add one idea at a time to your broader argument.\"\n",
    "unique_words = []\n",
    "for i in str2.split():\n",
    "    if i not in unique_words:\n",
    "        unique_words.append(i)\n",
    "\n",
    "for i in range(len(unique_words)):\n",
    "    print (unique_words[i])"
   ]
  },
  {
   "cell_type": "code",
   "execution_count": null,
   "metadata": {},
   "outputs": [],
   "source": []
  },
  {
   "cell_type": "code",
   "execution_count": null,
   "metadata": {},
   "outputs": [],
   "source": []
  },
  {
   "cell_type": "code",
   "execution_count": null,
   "metadata": {},
   "outputs": [],
   "source": []
  }
 ],
 "metadata": {
  "kernelspec": {
   "display_name": "Python 3",
   "language": "python",
   "name": "python3"
  },
  "language_info": {
   "codemirror_mode": {
    "name": "ipython",
    "version": 3
   },
   "file_extension": ".py",
   "mimetype": "text/x-python",
   "name": "python",
   "nbconvert_exporter": "python",
   "pygments_lexer": "ipython3",
   "version": "3.7.3"
  }
 },
 "nbformat": 4,
 "nbformat_minor": 2
}
