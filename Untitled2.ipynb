{
 "cells": [
  {
   "cell_type": "markdown",
   "metadata": {},
   "source": [
    "### Problem statement : Customer clustering based on the profit and sales \n",
    "### Objective : Retail dataset of a global superstore for 4 years."
   ]
  },
  {
   "cell_type": "markdown",
   "metadata": {},
   "source": [
    "<img src=\"k-means-copy.jpg\" height=\"400\" width=\"400\"/>"
   ]
  },
  {
   "cell_type": "code",
   "execution_count": 44,
   "metadata": {},
   "outputs": [],
   "source": [
    "import pandas as pd\n",
    "import numpy as np"
   ]
  },
  {
   "cell_type": "code",
   "execution_count": 45,
   "metadata": {},
   "outputs": [],
   "source": [
    "base_dataset=pd.read_csv(\"C:\\\\Sridhar\\\\AI_ML\\\\Algorithms\\\\datasets\\\\superstore_dataset2011-2015.csv\",encoding='latin1')"
   ]
  },
  {
   "cell_type": "code",
   "execution_count": 46,
   "metadata": {},
   "outputs": [
    {
     "data": {
      "text/plain": [
       "Index(['Row ID', 'Order ID', 'Order Date', 'Ship Date', 'Ship Mode',\n",
       "       'Customer ID', 'Customer Name', 'Segment', 'City', 'State', 'Country',\n",
       "       'Postal Code', 'Market', 'Region', 'Product ID', 'Category',\n",
       "       'Sub-Category', 'Product Name', 'Sales', 'Quantity', 'Discount',\n",
       "       'Profit', 'Shipping Cost', 'Order Priority'],\n",
       "      dtype='object')"
      ]
     },
     "execution_count": 46,
     "metadata": {},
     "output_type": "execute_result"
    }
   ],
   "source": [
    "base_dataset.columns"
   ]
  },
  {
   "cell_type": "code",
   "execution_count": 47,
   "metadata": {},
   "outputs": [
    {
     "data": {
      "text/html": [
       "<div>\n",
       "<style scoped>\n",
       "    .dataframe tbody tr th:only-of-type {\n",
       "        vertical-align: middle;\n",
       "    }\n",
       "\n",
       "    .dataframe tbody tr th {\n",
       "        vertical-align: top;\n",
       "    }\n",
       "\n",
       "    .dataframe thead th {\n",
       "        text-align: right;\n",
       "    }\n",
       "</style>\n",
       "<table border=\"1\" class=\"dataframe\">\n",
       "  <thead>\n",
       "    <tr style=\"text-align: right;\">\n",
       "      <th></th>\n",
       "      <th>Row ID</th>\n",
       "      <th>Order ID</th>\n",
       "      <th>Order Date</th>\n",
       "      <th>Ship Date</th>\n",
       "      <th>Ship Mode</th>\n",
       "      <th>Customer ID</th>\n",
       "      <th>Customer Name</th>\n",
       "      <th>Segment</th>\n",
       "      <th>City</th>\n",
       "      <th>State</th>\n",
       "      <th>...</th>\n",
       "      <th>Product ID</th>\n",
       "      <th>Category</th>\n",
       "      <th>Sub-Category</th>\n",
       "      <th>Product Name</th>\n",
       "      <th>Sales</th>\n",
       "      <th>Quantity</th>\n",
       "      <th>Discount</th>\n",
       "      <th>Profit</th>\n",
       "      <th>Shipping Cost</th>\n",
       "      <th>Order Priority</th>\n",
       "    </tr>\n",
       "  </thead>\n",
       "  <tbody>\n",
       "    <tr>\n",
       "      <th>0</th>\n",
       "      <td>42433</td>\n",
       "      <td>AG-2011-2040</td>\n",
       "      <td>1/1/2011</td>\n",
       "      <td>6/1/2011</td>\n",
       "      <td>Standard Class</td>\n",
       "      <td>TB-11280</td>\n",
       "      <td>Toby Braunhardt</td>\n",
       "      <td>Consumer</td>\n",
       "      <td>Constantine</td>\n",
       "      <td>Constantine</td>\n",
       "      <td>...</td>\n",
       "      <td>OFF-TEN-10000025</td>\n",
       "      <td>Office Supplies</td>\n",
       "      <td>Storage</td>\n",
       "      <td>Tenex Lockers, Blue</td>\n",
       "      <td>408.300</td>\n",
       "      <td>2</td>\n",
       "      <td>0.0</td>\n",
       "      <td>106.140</td>\n",
       "      <td>35.46</td>\n",
       "      <td>Medium</td>\n",
       "    </tr>\n",
       "    <tr>\n",
       "      <th>1</th>\n",
       "      <td>22253</td>\n",
       "      <td>IN-2011-47883</td>\n",
       "      <td>1/1/2011</td>\n",
       "      <td>8/1/2011</td>\n",
       "      <td>Standard Class</td>\n",
       "      <td>JH-15985</td>\n",
       "      <td>Joseph Holt</td>\n",
       "      <td>Consumer</td>\n",
       "      <td>Wagga Wagga</td>\n",
       "      <td>New South Wales</td>\n",
       "      <td>...</td>\n",
       "      <td>OFF-SU-10000618</td>\n",
       "      <td>Office Supplies</td>\n",
       "      <td>Supplies</td>\n",
       "      <td>Acme Trimmer, High Speed</td>\n",
       "      <td>120.366</td>\n",
       "      <td>3</td>\n",
       "      <td>0.1</td>\n",
       "      <td>36.036</td>\n",
       "      <td>9.72</td>\n",
       "      <td>Medium</td>\n",
       "    </tr>\n",
       "    <tr>\n",
       "      <th>2</th>\n",
       "      <td>48883</td>\n",
       "      <td>HU-2011-1220</td>\n",
       "      <td>1/1/2011</td>\n",
       "      <td>5/1/2011</td>\n",
       "      <td>Second Class</td>\n",
       "      <td>AT-735</td>\n",
       "      <td>Annie Thurman</td>\n",
       "      <td>Consumer</td>\n",
       "      <td>Budapest</td>\n",
       "      <td>Budapest</td>\n",
       "      <td>...</td>\n",
       "      <td>OFF-TEN-10001585</td>\n",
       "      <td>Office Supplies</td>\n",
       "      <td>Storage</td>\n",
       "      <td>Tenex Box, Single Width</td>\n",
       "      <td>66.120</td>\n",
       "      <td>4</td>\n",
       "      <td>0.0</td>\n",
       "      <td>29.640</td>\n",
       "      <td>8.17</td>\n",
       "      <td>High</td>\n",
       "    </tr>\n",
       "    <tr>\n",
       "      <th>3</th>\n",
       "      <td>11731</td>\n",
       "      <td>IT-2011-3647632</td>\n",
       "      <td>1/1/2011</td>\n",
       "      <td>5/1/2011</td>\n",
       "      <td>Second Class</td>\n",
       "      <td>EM-14140</td>\n",
       "      <td>Eugene Moren</td>\n",
       "      <td>Home Office</td>\n",
       "      <td>Stockholm</td>\n",
       "      <td>Stockholm</td>\n",
       "      <td>...</td>\n",
       "      <td>OFF-PA-10001492</td>\n",
       "      <td>Office Supplies</td>\n",
       "      <td>Paper</td>\n",
       "      <td>Enermax Note Cards, Premium</td>\n",
       "      <td>44.865</td>\n",
       "      <td>3</td>\n",
       "      <td>0.5</td>\n",
       "      <td>-26.055</td>\n",
       "      <td>4.82</td>\n",
       "      <td>High</td>\n",
       "    </tr>\n",
       "    <tr>\n",
       "      <th>4</th>\n",
       "      <td>22255</td>\n",
       "      <td>IN-2011-47883</td>\n",
       "      <td>1/1/2011</td>\n",
       "      <td>8/1/2011</td>\n",
       "      <td>Standard Class</td>\n",
       "      <td>JH-15985</td>\n",
       "      <td>Joseph Holt</td>\n",
       "      <td>Consumer</td>\n",
       "      <td>Wagga Wagga</td>\n",
       "      <td>New South Wales</td>\n",
       "      <td>...</td>\n",
       "      <td>FUR-FU-10003447</td>\n",
       "      <td>Furniture</td>\n",
       "      <td>Furnishings</td>\n",
       "      <td>Eldon Light Bulb, Duo Pack</td>\n",
       "      <td>113.670</td>\n",
       "      <td>5</td>\n",
       "      <td>0.1</td>\n",
       "      <td>37.770</td>\n",
       "      <td>4.70</td>\n",
       "      <td>Medium</td>\n",
       "    </tr>\n",
       "  </tbody>\n",
       "</table>\n",
       "<p>5 rows × 24 columns</p>\n",
       "</div>"
      ],
      "text/plain": [
       "   Row ID         Order ID Order Date Ship Date       Ship Mode Customer ID  \\\n",
       "0   42433     AG-2011-2040   1/1/2011  6/1/2011  Standard Class    TB-11280   \n",
       "1   22253    IN-2011-47883   1/1/2011  8/1/2011  Standard Class    JH-15985   \n",
       "2   48883     HU-2011-1220   1/1/2011  5/1/2011    Second Class      AT-735   \n",
       "3   11731  IT-2011-3647632   1/1/2011  5/1/2011    Second Class    EM-14140   \n",
       "4   22255    IN-2011-47883   1/1/2011  8/1/2011  Standard Class    JH-15985   \n",
       "\n",
       "     Customer Name      Segment         City            State  ...  \\\n",
       "0  Toby Braunhardt     Consumer  Constantine      Constantine  ...   \n",
       "1      Joseph Holt     Consumer  Wagga Wagga  New South Wales  ...   \n",
       "2    Annie Thurman     Consumer     Budapest         Budapest  ...   \n",
       "3     Eugene Moren  Home Office    Stockholm        Stockholm  ...   \n",
       "4      Joseph Holt     Consumer  Wagga Wagga  New South Wales  ...   \n",
       "\n",
       "         Product ID         Category Sub-Category  \\\n",
       "0  OFF-TEN-10000025  Office Supplies      Storage   \n",
       "1   OFF-SU-10000618  Office Supplies     Supplies   \n",
       "2  OFF-TEN-10001585  Office Supplies      Storage   \n",
       "3   OFF-PA-10001492  Office Supplies        Paper   \n",
       "4   FUR-FU-10003447        Furniture  Furnishings   \n",
       "\n",
       "                  Product Name    Sales Quantity Discount   Profit  \\\n",
       "0          Tenex Lockers, Blue  408.300        2      0.0  106.140   \n",
       "1     Acme Trimmer, High Speed  120.366        3      0.1   36.036   \n",
       "2      Tenex Box, Single Width   66.120        4      0.0   29.640   \n",
       "3  Enermax Note Cards, Premium   44.865        3      0.5  -26.055   \n",
       "4   Eldon Light Bulb, Duo Pack  113.670        5      0.1   37.770   \n",
       "\n",
       "   Shipping Cost  Order Priority  \n",
       "0          35.46          Medium  \n",
       "1           9.72          Medium  \n",
       "2           8.17            High  \n",
       "3           4.82            High  \n",
       "4           4.70          Medium  \n",
       "\n",
       "[5 rows x 24 columns]"
      ]
     },
     "execution_count": 47,
     "metadata": {},
     "output_type": "execute_result"
    }
   ],
   "source": [
    "base_dataset.head()"
   ]
  },
  {
   "cell_type": "code",
   "execution_count": 48,
   "metadata": {},
   "outputs": [
    {
     "data": {
      "text/html": [
       "<div>\n",
       "<style scoped>\n",
       "    .dataframe tbody tr th:only-of-type {\n",
       "        vertical-align: middle;\n",
       "    }\n",
       "\n",
       "    .dataframe tbody tr th {\n",
       "        vertical-align: top;\n",
       "    }\n",
       "\n",
       "    .dataframe thead th {\n",
       "        text-align: right;\n",
       "    }\n",
       "</style>\n",
       "<table border=\"1\" class=\"dataframe\">\n",
       "  <thead>\n",
       "    <tr style=\"text-align: right;\">\n",
       "      <th></th>\n",
       "      <th>Row ID</th>\n",
       "      <th>Order ID</th>\n",
       "      <th>Order Date</th>\n",
       "      <th>Ship Date</th>\n",
       "      <th>Ship Mode</th>\n",
       "      <th>Customer ID</th>\n",
       "      <th>Customer Name</th>\n",
       "      <th>Segment</th>\n",
       "      <th>City</th>\n",
       "      <th>State</th>\n",
       "      <th>...</th>\n",
       "      <th>Product ID</th>\n",
       "      <th>Category</th>\n",
       "      <th>Sub-Category</th>\n",
       "      <th>Product Name</th>\n",
       "      <th>Sales</th>\n",
       "      <th>Quantity</th>\n",
       "      <th>Discount</th>\n",
       "      <th>Profit</th>\n",
       "      <th>Shipping Cost</th>\n",
       "      <th>Order Priority</th>\n",
       "    </tr>\n",
       "  </thead>\n",
       "  <tbody>\n",
       "    <tr>\n",
       "      <th>51285</th>\n",
       "      <td>32593</td>\n",
       "      <td>CA-2014-115427</td>\n",
       "      <td>31-12-2014</td>\n",
       "      <td>4/1/2015</td>\n",
       "      <td>Standard Class</td>\n",
       "      <td>EB-13975</td>\n",
       "      <td>Erica Bern</td>\n",
       "      <td>Corporate</td>\n",
       "      <td>Fairfield</td>\n",
       "      <td>California</td>\n",
       "      <td>...</td>\n",
       "      <td>OFF-BI-10002103</td>\n",
       "      <td>Office Supplies</td>\n",
       "      <td>Binders</td>\n",
       "      <td>Cardinal Slant-D Ring Binder, Heavy Gauge Vinyl</td>\n",
       "      <td>13.904</td>\n",
       "      <td>2</td>\n",
       "      <td>0.2</td>\n",
       "      <td>4.5188</td>\n",
       "      <td>0.89</td>\n",
       "      <td>Medium</td>\n",
       "    </tr>\n",
       "    <tr>\n",
       "      <th>51286</th>\n",
       "      <td>47594</td>\n",
       "      <td>MO-2014-2560</td>\n",
       "      <td>31-12-2014</td>\n",
       "      <td>5/1/2015</td>\n",
       "      <td>Standard Class</td>\n",
       "      <td>LP-7095</td>\n",
       "      <td>Liz Preis</td>\n",
       "      <td>Consumer</td>\n",
       "      <td>Agadir</td>\n",
       "      <td>Souss-Massa-Draâ</td>\n",
       "      <td>...</td>\n",
       "      <td>OFF-WIL-10001069</td>\n",
       "      <td>Office Supplies</td>\n",
       "      <td>Binders</td>\n",
       "      <td>Wilson Jones Hole Reinforcements, Clear</td>\n",
       "      <td>3.990</td>\n",
       "      <td>1</td>\n",
       "      <td>0.0</td>\n",
       "      <td>0.4200</td>\n",
       "      <td>0.49</td>\n",
       "      <td>Medium</td>\n",
       "    </tr>\n",
       "    <tr>\n",
       "      <th>51287</th>\n",
       "      <td>8857</td>\n",
       "      <td>MX-2014-110527</td>\n",
       "      <td>31-12-2014</td>\n",
       "      <td>2/1/2015</td>\n",
       "      <td>Second Class</td>\n",
       "      <td>CM-12190</td>\n",
       "      <td>Charlotte Melton</td>\n",
       "      <td>Consumer</td>\n",
       "      <td>Managua</td>\n",
       "      <td>Managua</td>\n",
       "      <td>...</td>\n",
       "      <td>OFF-LA-10004182</td>\n",
       "      <td>Office Supplies</td>\n",
       "      <td>Labels</td>\n",
       "      <td>Hon Color Coded Labels, 5000 Label Set</td>\n",
       "      <td>26.400</td>\n",
       "      <td>3</td>\n",
       "      <td>0.0</td>\n",
       "      <td>12.3600</td>\n",
       "      <td>0.35</td>\n",
       "      <td>Medium</td>\n",
       "    </tr>\n",
       "    <tr>\n",
       "      <th>51288</th>\n",
       "      <td>6852</td>\n",
       "      <td>MX-2014-114783</td>\n",
       "      <td>31-12-2014</td>\n",
       "      <td>6/1/2015</td>\n",
       "      <td>Standard Class</td>\n",
       "      <td>TD-20995</td>\n",
       "      <td>Tamara Dahlen</td>\n",
       "      <td>Consumer</td>\n",
       "      <td>Juárez</td>\n",
       "      <td>Chihuahua</td>\n",
       "      <td>...</td>\n",
       "      <td>OFF-LA-10000413</td>\n",
       "      <td>Office Supplies</td>\n",
       "      <td>Labels</td>\n",
       "      <td>Hon Legal Exhibit Labels, Alphabetical</td>\n",
       "      <td>7.120</td>\n",
       "      <td>1</td>\n",
       "      <td>0.0</td>\n",
       "      <td>0.5600</td>\n",
       "      <td>0.20</td>\n",
       "      <td>Medium</td>\n",
       "    </tr>\n",
       "    <tr>\n",
       "      <th>51289</th>\n",
       "      <td>36388</td>\n",
       "      <td>CA-2014-156720</td>\n",
       "      <td>31-12-2014</td>\n",
       "      <td>4/1/2015</td>\n",
       "      <td>Standard Class</td>\n",
       "      <td>JM-15580</td>\n",
       "      <td>Jill Matthias</td>\n",
       "      <td>Consumer</td>\n",
       "      <td>Loveland</td>\n",
       "      <td>Colorado</td>\n",
       "      <td>...</td>\n",
       "      <td>OFF-FA-10003472</td>\n",
       "      <td>Office Supplies</td>\n",
       "      <td>Fasteners</td>\n",
       "      <td>Bagged Rubber Bands</td>\n",
       "      <td>3.024</td>\n",
       "      <td>3</td>\n",
       "      <td>0.2</td>\n",
       "      <td>-0.6048</td>\n",
       "      <td>0.17</td>\n",
       "      <td>Medium</td>\n",
       "    </tr>\n",
       "  </tbody>\n",
       "</table>\n",
       "<p>5 rows × 24 columns</p>\n",
       "</div>"
      ],
      "text/plain": [
       "       Row ID        Order ID  Order Date Ship Date       Ship Mode  \\\n",
       "51285   32593  CA-2014-115427  31-12-2014  4/1/2015  Standard Class   \n",
       "51286   47594    MO-2014-2560  31-12-2014  5/1/2015  Standard Class   \n",
       "51287    8857  MX-2014-110527  31-12-2014  2/1/2015    Second Class   \n",
       "51288    6852  MX-2014-114783  31-12-2014  6/1/2015  Standard Class   \n",
       "51289   36388  CA-2014-156720  31-12-2014  4/1/2015  Standard Class   \n",
       "\n",
       "      Customer ID     Customer Name    Segment       City             State  \\\n",
       "51285    EB-13975        Erica Bern  Corporate  Fairfield        California   \n",
       "51286     LP-7095         Liz Preis   Consumer     Agadir  Souss-Massa-Draâ   \n",
       "51287    CM-12190  Charlotte Melton   Consumer    Managua           Managua   \n",
       "51288    TD-20995     Tamara Dahlen   Consumer     Juárez         Chihuahua   \n",
       "51289    JM-15580     Jill Matthias   Consumer   Loveland          Colorado   \n",
       "\n",
       "       ...        Product ID         Category Sub-Category  \\\n",
       "51285  ...   OFF-BI-10002103  Office Supplies      Binders   \n",
       "51286  ...  OFF-WIL-10001069  Office Supplies      Binders   \n",
       "51287  ...   OFF-LA-10004182  Office Supplies       Labels   \n",
       "51288  ...   OFF-LA-10000413  Office Supplies       Labels   \n",
       "51289  ...   OFF-FA-10003472  Office Supplies    Fasteners   \n",
       "\n",
       "                                          Product Name   Sales Quantity  \\\n",
       "51285  Cardinal Slant-D Ring Binder, Heavy Gauge Vinyl  13.904        2   \n",
       "51286          Wilson Jones Hole Reinforcements, Clear   3.990        1   \n",
       "51287           Hon Color Coded Labels, 5000 Label Set  26.400        3   \n",
       "51288           Hon Legal Exhibit Labels, Alphabetical   7.120        1   \n",
       "51289                              Bagged Rubber Bands   3.024        3   \n",
       "\n",
       "      Discount   Profit  Shipping Cost  Order Priority  \n",
       "51285      0.2   4.5188           0.89          Medium  \n",
       "51286      0.0   0.4200           0.49          Medium  \n",
       "51287      0.0  12.3600           0.35          Medium  \n",
       "51288      0.0   0.5600           0.20          Medium  \n",
       "51289      0.2  -0.6048           0.17          Medium  \n",
       "\n",
       "[5 rows x 24 columns]"
      ]
     },
     "execution_count": 48,
     "metadata": {},
     "output_type": "execute_result"
    }
   ],
   "source": [
    "base_dataset.tail()"
   ]
  },
  {
   "cell_type": "code",
   "execution_count": 49,
   "metadata": {},
   "outputs": [
    {
     "data": {
      "text/plain": [
       "(51290, 24)"
      ]
     },
     "execution_count": 49,
     "metadata": {},
     "output_type": "execute_result"
    }
   ],
   "source": [
    "base_dataset.shape"
   ]
  },
  {
   "cell_type": "markdown",
   "metadata": {},
   "source": [
    "## Pre-processing \n",
    "### Step 1 : Memory_management"
   ]
  },
  {
   "cell_type": "code",
   "execution_count": 50,
   "metadata": {},
   "outputs": [
    {
     "name": "stdout",
     "output_type": "stream",
     "text": [
      "Memory usage of dataframe is 9.39 MB\n",
      "Memory usage after optimization is: 8.02 MB\n",
      "Decreased by 14.6%\n",
      "*******************************************************************************************\n"
     ]
    }
   ],
   "source": [
    "    df=base_dataset\n",
    "    start_mem = df.memory_usage().sum() / 1024**2\n",
    "    print('Memory usage of dataframe is {:.2f} MB'.format(start_mem))\n",
    "    for col in df.columns:\n",
    "        col_type = df[col].dtype\n",
    "\n",
    "        if col_type in [int,float]:\n",
    "            c_min = df[col].min()\n",
    "            c_max = df[col].max()\n",
    "            if str(col_type)[:3] == 'int':\n",
    "                if c_min > np.iinfo(np.int8).min and c_max < np.iinfo(np.int8).max:\n",
    "                    df[col] = df[col].astype(np.int8)\n",
    "                elif c_min > np.iinfo(np.int16).min and c_max < np.iinfo(np.int16).max:\n",
    "                    df[col] = df[col].astype(np.int16)\n",
    "                elif c_min > np.iinfo(np.int32).min and c_max < np.iinfo(np.int32).max:\n",
    "                    df[col] = df[col].astype(np.int32)\n",
    "                elif c_min > np.iinfo(np.int64).min and c_max < np.iinfo(np.int64).max:\n",
    "                    df[col] = df[col].astype(np.int64)  \n",
    "            else:\n",
    "                if c_min > np.finfo(np.float16).min and c_max < np.finfo(np.float16).max:\n",
    "                    df[col] = df[col].astype(np.float16)\n",
    "                elif c_min > np.finfo(np.float32).min and c_max < np.finfo(np.float32).max:\n",
    "                    df[col] = df[col].astype(np.float32)\n",
    "                else:\n",
    "                    df[col] = df[col].astype(np.float64)\n",
    "    end_mem = df.memory_usage().sum() / 1024**2\n",
    "    print('Memory usage after optimization is: {:.2f} MB'.format(end_mem))\n",
    "    print('Decreased by {:.1f}%'.format(100 * (start_mem - end_mem) / start_mem))\n",
    "    print(\"*******************************************************************************************\")\n",
    "    base_dataset=df"
   ]
  },
  {
   "cell_type": "code",
   "execution_count": 51,
   "metadata": {},
   "outputs": [],
   "source": [
    "df=base_dataset"
   ]
  },
  {
   "cell_type": "code",
   "execution_count": 52,
   "metadata": {},
   "outputs": [
    {
     "name": "stderr",
     "output_type": "stream",
     "text": [
      "C:\\Users\\srivutta\\AppData\\Local\\Continuum\\anaconda3\\lib\\site-packages\\ipykernel_launcher.py:2: SettingWithCopyWarning: \n",
      "A value is trying to be set on a copy of a slice from a DataFrame.\n",
      "Try using .loc[row_indexer,col_indexer] = value instead\n",
      "\n",
      "See the caveats in the documentation: http://pandas.pydata.org/pandas-docs/stable/indexing.html#indexing-view-versus-copy\n",
      "  \n"
     ]
    }
   ],
   "source": [
    "df=df[df.describe().columns]\n",
    "df['Customer ID']=base_dataset['Customer ID']"
   ]
  },
  {
   "cell_type": "code",
   "execution_count": 53,
   "metadata": {},
   "outputs": [
    {
     "data": {
      "text/html": [
       "<div>\n",
       "<style scoped>\n",
       "    .dataframe tbody tr th:only-of-type {\n",
       "        vertical-align: middle;\n",
       "    }\n",
       "\n",
       "    .dataframe tbody tr th {\n",
       "        vertical-align: top;\n",
       "    }\n",
       "\n",
       "    .dataframe thead th {\n",
       "        text-align: right;\n",
       "    }\n",
       "</style>\n",
       "<table border=\"1\" class=\"dataframe\">\n",
       "  <thead>\n",
       "    <tr style=\"text-align: right;\">\n",
       "      <th></th>\n",
       "      <th>Row ID</th>\n",
       "      <th>Postal Code</th>\n",
       "      <th>Sales</th>\n",
       "      <th>Quantity</th>\n",
       "      <th>Discount</th>\n",
       "      <th>Profit</th>\n",
       "      <th>Shipping Cost</th>\n",
       "      <th>Customer ID</th>\n",
       "    </tr>\n",
       "  </thead>\n",
       "  <tbody>\n",
       "    <tr>\n",
       "      <th>0</th>\n",
       "      <td>42433</td>\n",
       "      <td>NaN</td>\n",
       "      <td>408.2500</td>\n",
       "      <td>2</td>\n",
       "      <td>0.000000</td>\n",
       "      <td>106.125000</td>\n",
       "      <td>35.468750</td>\n",
       "      <td>TB-11280</td>\n",
       "    </tr>\n",
       "    <tr>\n",
       "      <th>1</th>\n",
       "      <td>22253</td>\n",
       "      <td>NaN</td>\n",
       "      <td>120.3750</td>\n",
       "      <td>3</td>\n",
       "      <td>0.099976</td>\n",
       "      <td>36.031250</td>\n",
       "      <td>9.718750</td>\n",
       "      <td>JH-15985</td>\n",
       "    </tr>\n",
       "    <tr>\n",
       "      <th>2</th>\n",
       "      <td>48883</td>\n",
       "      <td>NaN</td>\n",
       "      <td>66.1250</td>\n",
       "      <td>4</td>\n",
       "      <td>0.000000</td>\n",
       "      <td>29.640625</td>\n",
       "      <td>8.171875</td>\n",
       "      <td>AT-735</td>\n",
       "    </tr>\n",
       "    <tr>\n",
       "      <th>3</th>\n",
       "      <td>11731</td>\n",
       "      <td>NaN</td>\n",
       "      <td>44.8750</td>\n",
       "      <td>3</td>\n",
       "      <td>0.500000</td>\n",
       "      <td>-26.062500</td>\n",
       "      <td>4.820312</td>\n",
       "      <td>EM-14140</td>\n",
       "    </tr>\n",
       "    <tr>\n",
       "      <th>4</th>\n",
       "      <td>22255</td>\n",
       "      <td>NaN</td>\n",
       "      <td>113.6875</td>\n",
       "      <td>5</td>\n",
       "      <td>0.099976</td>\n",
       "      <td>37.781250</td>\n",
       "      <td>4.699219</td>\n",
       "      <td>JH-15985</td>\n",
       "    </tr>\n",
       "  </tbody>\n",
       "</table>\n",
       "</div>"
      ],
      "text/plain": [
       "   Row ID  Postal Code     Sales  Quantity  Discount      Profit  \\\n",
       "0   42433          NaN  408.2500         2  0.000000  106.125000   \n",
       "1   22253          NaN  120.3750         3  0.099976   36.031250   \n",
       "2   48883          NaN   66.1250         4  0.000000   29.640625   \n",
       "3   11731          NaN   44.8750         3  0.500000  -26.062500   \n",
       "4   22255          NaN  113.6875         5  0.099976   37.781250   \n",
       "\n",
       "   Shipping Cost Customer ID  \n",
       "0      35.468750    TB-11280  \n",
       "1       9.718750    JH-15985  \n",
       "2       8.171875      AT-735  \n",
       "3       4.820312    EM-14140  \n",
       "4       4.699219    JH-15985  "
      ]
     },
     "execution_count": 53,
     "metadata": {},
     "output_type": "execute_result"
    }
   ],
   "source": [
    "df.head()"
   ]
  },
  {
   "cell_type": "code",
   "execution_count": 54,
   "metadata": {},
   "outputs": [],
   "source": [
    "master_dataset=df[['Customer ID','Sales','Quantity','Discount','Profit','Shipping Cost']]"
   ]
  },
  {
   "cell_type": "code",
   "execution_count": 55,
   "metadata": {},
   "outputs": [
    {
     "data": {
      "text/html": [
       "<div>\n",
       "<style scoped>\n",
       "    .dataframe tbody tr th:only-of-type {\n",
       "        vertical-align: middle;\n",
       "    }\n",
       "\n",
       "    .dataframe tbody tr th {\n",
       "        vertical-align: top;\n",
       "    }\n",
       "\n",
       "    .dataframe thead th {\n",
       "        text-align: right;\n",
       "    }\n",
       "</style>\n",
       "<table border=\"1\" class=\"dataframe\">\n",
       "  <thead>\n",
       "    <tr style=\"text-align: right;\">\n",
       "      <th></th>\n",
       "      <th>Customer ID</th>\n",
       "      <th>Sales</th>\n",
       "      <th>Quantity</th>\n",
       "      <th>Discount</th>\n",
       "      <th>Profit</th>\n",
       "      <th>Shipping Cost</th>\n",
       "    </tr>\n",
       "  </thead>\n",
       "  <tbody>\n",
       "    <tr>\n",
       "      <th>0</th>\n",
       "      <td>TB-11280</td>\n",
       "      <td>408.2500</td>\n",
       "      <td>2</td>\n",
       "      <td>0.000000</td>\n",
       "      <td>106.125000</td>\n",
       "      <td>35.468750</td>\n",
       "    </tr>\n",
       "    <tr>\n",
       "      <th>1</th>\n",
       "      <td>JH-15985</td>\n",
       "      <td>120.3750</td>\n",
       "      <td>3</td>\n",
       "      <td>0.099976</td>\n",
       "      <td>36.031250</td>\n",
       "      <td>9.718750</td>\n",
       "    </tr>\n",
       "    <tr>\n",
       "      <th>2</th>\n",
       "      <td>AT-735</td>\n",
       "      <td>66.1250</td>\n",
       "      <td>4</td>\n",
       "      <td>0.000000</td>\n",
       "      <td>29.640625</td>\n",
       "      <td>8.171875</td>\n",
       "    </tr>\n",
       "    <tr>\n",
       "      <th>3</th>\n",
       "      <td>EM-14140</td>\n",
       "      <td>44.8750</td>\n",
       "      <td>3</td>\n",
       "      <td>0.500000</td>\n",
       "      <td>-26.062500</td>\n",
       "      <td>4.820312</td>\n",
       "    </tr>\n",
       "    <tr>\n",
       "      <th>4</th>\n",
       "      <td>JH-15985</td>\n",
       "      <td>113.6875</td>\n",
       "      <td>5</td>\n",
       "      <td>0.099976</td>\n",
       "      <td>37.781250</td>\n",
       "      <td>4.699219</td>\n",
       "    </tr>\n",
       "  </tbody>\n",
       "</table>\n",
       "</div>"
      ],
      "text/plain": [
       "  Customer ID     Sales  Quantity  Discount      Profit  Shipping Cost\n",
       "0    TB-11280  408.2500         2  0.000000  106.125000      35.468750\n",
       "1    JH-15985  120.3750         3  0.099976   36.031250       9.718750\n",
       "2      AT-735   66.1250         4  0.000000   29.640625       8.171875\n",
       "3    EM-14140   44.8750         3  0.500000  -26.062500       4.820312\n",
       "4    JH-15985  113.6875         5  0.099976   37.781250       4.699219"
      ]
     },
     "execution_count": 55,
     "metadata": {},
     "output_type": "execute_result"
    }
   ],
   "source": [
    "master_dataset.head()"
   ]
  },
  {
   "cell_type": "code",
   "execution_count": 56,
   "metadata": {},
   "outputs": [
    {
     "data": {
      "text/plain": [
       "(51290, 6)"
      ]
     },
     "execution_count": 56,
     "metadata": {},
     "output_type": "execute_result"
    }
   ],
   "source": [
    "master_dataset.shape"
   ]
  },
  {
   "cell_type": "code",
   "execution_count": 57,
   "metadata": {},
   "outputs": [
    {
     "data": {
      "text/plain": [
       "1590"
      ]
     },
     "execution_count": 57,
     "metadata": {},
     "output_type": "execute_result"
    }
   ],
   "source": [
    "master_dataset['Customer ID'].nunique()"
   ]
  },
  {
   "cell_type": "code",
   "execution_count": 58,
   "metadata": {},
   "outputs": [],
   "source": [
    "master_dataset=master_dataset.groupby('Customer ID').sum()"
   ]
  },
  {
   "cell_type": "code",
   "execution_count": 59,
   "metadata": {},
   "outputs": [
    {
     "data": {
      "text/plain": [
       "(1590, 5)"
      ]
     },
     "execution_count": 59,
     "metadata": {},
     "output_type": "execute_result"
    }
   ],
   "source": [
    "master_dataset.shape"
   ]
  },
  {
   "cell_type": "code",
   "execution_count": 60,
   "metadata": {},
   "outputs": [
    {
     "data": {
      "text/html": [
       "<div>\n",
       "<style scoped>\n",
       "    .dataframe tbody tr th:only-of-type {\n",
       "        vertical-align: middle;\n",
       "    }\n",
       "\n",
       "    .dataframe tbody tr th {\n",
       "        vertical-align: top;\n",
       "    }\n",
       "\n",
       "    .dataframe thead th {\n",
       "        text-align: right;\n",
       "    }\n",
       "</style>\n",
       "<table border=\"1\" class=\"dataframe\">\n",
       "  <thead>\n",
       "    <tr style=\"text-align: right;\">\n",
       "      <th></th>\n",
       "      <th>Sales</th>\n",
       "      <th>Quantity</th>\n",
       "      <th>Discount</th>\n",
       "      <th>Profit</th>\n",
       "      <th>Shipping Cost</th>\n",
       "    </tr>\n",
       "    <tr>\n",
       "      <th>Customer ID</th>\n",
       "      <th></th>\n",
       "      <th></th>\n",
       "      <th></th>\n",
       "      <th></th>\n",
       "      <th></th>\n",
       "    </tr>\n",
       "  </thead>\n",
       "  <tbody>\n",
       "    <tr>\n",
       "      <th>AA-10315</th>\n",
       "      <td>13744.0</td>\n",
       "      <td>145</td>\n",
       "      <td>4.347656</td>\n",
       "      <td>447.75</td>\n",
       "      <td>1236.000</td>\n",
       "    </tr>\n",
       "    <tr>\n",
       "      <th>AA-10375</th>\n",
       "      <td>5884.0</td>\n",
       "      <td>139</td>\n",
       "      <td>7.000000</td>\n",
       "      <td>677.50</td>\n",
       "      <td>904.000</td>\n",
       "    </tr>\n",
       "    <tr>\n",
       "      <th>AA-10480</th>\n",
       "      <td>17696.0</td>\n",
       "      <td>150</td>\n",
       "      <td>2.982422</td>\n",
       "      <td>1516.00</td>\n",
       "      <td>1634.000</td>\n",
       "    </tr>\n",
       "    <tr>\n",
       "      <th>AA-10645</th>\n",
       "      <td>15344.0</td>\n",
       "      <td>267</td>\n",
       "      <td>9.195312</td>\n",
       "      <td>3052.00</td>\n",
       "      <td>1752.000</td>\n",
       "    </tr>\n",
       "    <tr>\n",
       "      <th>AA-315</th>\n",
       "      <td>2244.0</td>\n",
       "      <td>20</td>\n",
       "      <td>1.800781</td>\n",
       "      <td>536.00</td>\n",
       "      <td>215.875</td>\n",
       "    </tr>\n",
       "  </tbody>\n",
       "</table>\n",
       "</div>"
      ],
      "text/plain": [
       "               Sales  Quantity  Discount   Profit  Shipping Cost\n",
       "Customer ID                                                     \n",
       "AA-10315     13744.0       145  4.347656   447.75       1236.000\n",
       "AA-10375      5884.0       139  7.000000   677.50        904.000\n",
       "AA-10480     17696.0       150  2.982422  1516.00       1634.000\n",
       "AA-10645     15344.0       267  9.195312  3052.00       1752.000\n",
       "AA-315        2244.0        20  1.800781   536.00        215.875"
      ]
     },
     "execution_count": 60,
     "metadata": {},
     "output_type": "execute_result"
    }
   ],
   "source": [
    "master_dataset.head()"
   ]
  },
  {
   "cell_type": "code",
   "execution_count": 61,
   "metadata": {},
   "outputs": [],
   "source": [
    "master_dataset.reset_index(inplace=True)"
   ]
  },
  {
   "cell_type": "code",
   "execution_count": 62,
   "metadata": {},
   "outputs": [
    {
     "data": {
      "text/html": [
       "<div>\n",
       "<style scoped>\n",
       "    .dataframe tbody tr th:only-of-type {\n",
       "        vertical-align: middle;\n",
       "    }\n",
       "\n",
       "    .dataframe tbody tr th {\n",
       "        vertical-align: top;\n",
       "    }\n",
       "\n",
       "    .dataframe thead th {\n",
       "        text-align: right;\n",
       "    }\n",
       "</style>\n",
       "<table border=\"1\" class=\"dataframe\">\n",
       "  <thead>\n",
       "    <tr style=\"text-align: right;\">\n",
       "      <th></th>\n",
       "      <th>Customer ID</th>\n",
       "      <th>Sales</th>\n",
       "      <th>Quantity</th>\n",
       "      <th>Discount</th>\n",
       "      <th>Profit</th>\n",
       "      <th>Shipping Cost</th>\n",
       "    </tr>\n",
       "  </thead>\n",
       "  <tbody>\n",
       "    <tr>\n",
       "      <th>0</th>\n",
       "      <td>AA-10315</td>\n",
       "      <td>13744.0</td>\n",
       "      <td>145</td>\n",
       "      <td>4.347656</td>\n",
       "      <td>447.75</td>\n",
       "      <td>1236.000</td>\n",
       "    </tr>\n",
       "    <tr>\n",
       "      <th>1</th>\n",
       "      <td>AA-10375</td>\n",
       "      <td>5884.0</td>\n",
       "      <td>139</td>\n",
       "      <td>7.000000</td>\n",
       "      <td>677.50</td>\n",
       "      <td>904.000</td>\n",
       "    </tr>\n",
       "    <tr>\n",
       "      <th>2</th>\n",
       "      <td>AA-10480</td>\n",
       "      <td>17696.0</td>\n",
       "      <td>150</td>\n",
       "      <td>2.982422</td>\n",
       "      <td>1516.00</td>\n",
       "      <td>1634.000</td>\n",
       "    </tr>\n",
       "    <tr>\n",
       "      <th>3</th>\n",
       "      <td>AA-10645</td>\n",
       "      <td>15344.0</td>\n",
       "      <td>267</td>\n",
       "      <td>9.195312</td>\n",
       "      <td>3052.00</td>\n",
       "      <td>1752.000</td>\n",
       "    </tr>\n",
       "    <tr>\n",
       "      <th>4</th>\n",
       "      <td>AA-315</td>\n",
       "      <td>2244.0</td>\n",
       "      <td>20</td>\n",
       "      <td>1.800781</td>\n",
       "      <td>536.00</td>\n",
       "      <td>215.875</td>\n",
       "    </tr>\n",
       "  </tbody>\n",
       "</table>\n",
       "</div>"
      ],
      "text/plain": [
       "  Customer ID    Sales  Quantity  Discount   Profit  Shipping Cost\n",
       "0    AA-10315  13744.0       145  4.347656   447.75       1236.000\n",
       "1    AA-10375   5884.0       139  7.000000   677.50        904.000\n",
       "2    AA-10480  17696.0       150  2.982422  1516.00       1634.000\n",
       "3    AA-10645  15344.0       267  9.195312  3052.00       1752.000\n",
       "4      AA-315   2244.0        20  1.800781   536.00        215.875"
      ]
     },
     "execution_count": 62,
     "metadata": {},
     "output_type": "execute_result"
    }
   ],
   "source": [
    "master_dataset.head()"
   ]
  },
  {
   "cell_type": "markdown",
   "metadata": {},
   "source": [
    "## null value treatement\n",
    "## Outlier treatement\n",
    "## MinMaxScalar"
   ]
  },
  {
   "cell_type": "code",
   "execution_count": 63,
   "metadata": {},
   "outputs": [],
   "source": [
    "def null_values(base_dataset):\n",
    "    print(base_dataset.isna().sum())\n",
    "    ## null value percentage     \n",
    "    null_value_table=(base_dataset.isna().sum()/base_dataset.shape[0])*100\n",
    "    ## null value percentage beyond threshold drop , else treat the columns \n",
    "    \n",
    "    retained_columns=null_value_table[null_value_table<int(input())].index\n",
    "    # if any variable as null value greater than input(like 30% of the data) value than those variable are consider as drop\n",
    "    drop_columns=null_value_table[null_value_table>int(input())].index\n",
    "    base_dataset.drop(drop_columns,axis=1,inplace=True)\n",
    "    len(base_dataset.isna().sum().index)\n",
    "    cont=base_dataset.describe().columns\n",
    "    cat=[i for i in base_dataset.columns if i not in base_dataset.describe().columns]\n",
    "    for i in cat:\n",
    "        base_dataset[i].fillna(base_dataset[i].value_counts().index[0],inplace=True)\n",
    "    for i in cont:\n",
    "        base_dataset[i].fillna(base_dataset[i].median(),inplace=True)\n",
    "    print(base_dataset.isna().sum())\n",
    "    return base_dataset,cat,cont"
   ]
  },
  {
   "cell_type": "code",
   "execution_count": 64,
   "metadata": {
    "scrolled": false
   },
   "outputs": [
    {
     "name": "stdout",
     "output_type": "stream",
     "text": [
      "Customer ID      0\n",
      "Sales            0\n",
      "Quantity         0\n",
      "Discount         0\n",
      "Profit           0\n",
      "Shipping Cost    0\n",
      "dtype: int64\n",
      "30\n",
      "30\n",
      "Customer ID      0\n",
      "Sales            0\n",
      "Quantity         0\n",
      "Discount         0\n",
      "Profit           0\n",
      "Shipping Cost    0\n",
      "dtype: int64\n"
     ]
    },
    {
     "data": {
      "text/plain": [
       "(     Customer ID         Sales  Quantity   Discount       Profit  \\\n",
       " 0       AA-10315  13744.000000       145   4.347656   447.750000   \n",
       " 1       AA-10375   5884.000000       139   7.000000   677.500000   \n",
       " 2       AA-10480  17696.000000       150   2.982422  1516.000000   \n",
       " 3       AA-10645  15344.000000       267   9.195312  3052.000000   \n",
       " 4         AA-315   2244.000000        20   1.800781   536.000000   \n",
       " 5         AA-375    654.500000        30   1.900391    77.437500   \n",
       " 6         AA-480   2064.000000        25   2.101562   554.500000   \n",
       " 7         AA-645   1969.000000        35   7.703125  -608.500000   \n",
       " 8       AB-10015  20032.000000       268   9.796875  3720.000000   \n",
       " 9       AB-10060  18416.000000       232   6.957031  4516.000000   \n",
       " 10      AB-10105  22976.000000       222  11.898438  6916.000000   \n",
       " 11      AB-10150  13056.000000       180   5.300781  2064.000000   \n",
       " 12      AB-10165  11648.000000       213   4.148438  2330.000000   \n",
       " 13      AB-10255  10784.000000       180   7.238281   -43.156250   \n",
       " 14        AB-105   2156.000000        43   4.199219  -495.500000   \n",
       " 15      AB-10600  13320.000000       173   6.839844   905.000000   \n",
       " 16         AB-15   4608.000000        33   0.000000   964.000000   \n",
       " 17        AB-150   3144.000000        28   0.600098   862.000000   \n",
       " 18        AB-165   1400.000000        19   1.200195   106.562500   \n",
       " 19        AB-255   4680.000000        27   0.600098   802.000000   \n",
       " 20         AB-60   1771.000000        30   2.000000   466.000000   \n",
       " 21        AB-600   5408.000000        65   0.000000   964.500000   \n",
       " 22      AC-10420  10608.000000       152   5.687500   206.625000   \n",
       " 23      AC-10450  16128.000000       122   4.570312  4104.000000   \n",
       " 24      AC-10615  12728.000000       232   7.582031  1161.000000   \n",
       " 25      AC-10660   6256.000000       136   7.890625  -999.000000   \n",
       " 26        AC-420   1690.000000        28   2.601562   237.500000   \n",
       " 27        AC-450   1027.000000        21   2.101562  -125.187500   \n",
       " 28        AC-615   2298.000000        32   2.101562  -280.500000   \n",
       " 29        AC-660   2676.000000        16   0.000000   727.000000   \n",
       " ...          ...           ...       ...        ...          ...   \n",
       " 1560    VG-11790    386.250000        16   1.800781    47.437500   \n",
       " 1561    VG-11805   1190.000000        13   1.400391   140.375000   \n",
       " 1562    VG-21790   9912.000000       151   5.949219  -412.000000   \n",
       " 1563    VG-21805  22576.000000       196   3.853516  3908.000000   \n",
       " 1564    VM-11685    859.000000        26   2.400391   -94.937500   \n",
       " 1565    VM-11835   1270.000000        30   0.000000   338.000000   \n",
       " 1566    VM-21685  13704.000000       193   7.921875 -1552.000000   \n",
       " 1567    VM-21835   2622.000000        90   2.369141   318.750000   \n",
       " 1568    VP-11730    432.000000        12   5.101562  -508.250000   \n",
       " 1569    VP-11760   1616.000000        29   0.700195   374.750000   \n",
       " 1570    VP-21730  11632.000000       187   4.621094  2742.000000   \n",
       " 1571    VP-21760  16928.000000       197   6.660156  2016.000000   \n",
       " 1572    VS-11820   1136.000000        30   1.800781   126.562500   \n",
       " 1573    VS-21820  10280.000000       113   4.800781  1460.000000   \n",
       " 1574    VT-11700   1272.000000        22   2.800781   178.625000   \n",
       " 1575    VT-21700  18096.000000       238  10.570312   912.000000   \n",
       " 1576    VW-11775   1253.000000        31   1.800781   252.500000   \n",
       " 1577    VW-21775  15784.000000       218  10.421875    41.656250   \n",
       " 1578    WB-11850    182.500000         9   2.400391  -146.625000   \n",
       " 1579    WB-21850  16704.000000       289   9.945312  2694.000000   \n",
       " 1580    XP-11865   1012.000000        29   0.099976    65.125000   \n",
       " 1581    XP-21865  11184.000000       184   5.070312  1239.000000   \n",
       " 1582    YC-11895    166.375000         6   0.700195    22.265625   \n",
       " 1583    YC-21895  20000.000000       197   3.218750  4324.000000   \n",
       " 1584    YS-11880   1329.000000        18   0.600098   358.750000   \n",
       " 1585    YS-21880  18704.000000       197   3.798828  3092.000000   \n",
       " 1586    ZC-11910      7.171875         1   0.700195   -15.570312   \n",
       " 1587    ZC-21910  28480.000000       333  18.109375   452.500000   \n",
       " 1588    ZD-11925   2952.000000        55   1.300781   478.500000   \n",
       " 1589    ZD-21925   9480.000000       119   4.953125  -276.750000   \n",
       " \n",
       "       Shipping Cost  \n",
       " 0       1236.000000  \n",
       " 1        904.000000  \n",
       " 2       1634.000000  \n",
       " 3       1752.000000  \n",
       " 4        215.875000  \n",
       " 5        118.687500  \n",
       " 6        181.625000  \n",
       " 7        209.000000  \n",
       " 8       2898.000000  \n",
       " 9       2284.000000  \n",
       " 10      2466.000000  \n",
       " 11      1551.000000  \n",
       " 12       966.000000  \n",
       " 13      1002.000000  \n",
       " 14       173.250000  \n",
       " 15      1376.000000  \n",
       " 16       230.875000  \n",
       " 17       298.750000  \n",
       " 18       152.625000  \n",
       " 19       846.500000  \n",
       " 20       446.750000  \n",
       " 21      1312.000000  \n",
       " 22       749.000000  \n",
       " 23      1639.000000  \n",
       " 24      1271.000000  \n",
       " 25       642.000000  \n",
       " 26       120.812500  \n",
       " 27       119.687500  \n",
       " 28       268.750000  \n",
       " 29       299.750000  \n",
       " ...             ...  \n",
       " 1560      44.093750  \n",
       " 1561     126.250000  \n",
       " 1562    1232.000000  \n",
       " 1563    2736.000000  \n",
       " 1564      60.468750  \n",
       " 1565      92.687500  \n",
       " 1566    2019.000000  \n",
       " 1567     313.250000  \n",
       " 1568      37.031250  \n",
       " 1569     169.125000  \n",
       " 1570    1406.000000  \n",
       " 1571    1269.000000  \n",
       " 1572     112.937500  \n",
       " 1573    1549.000000  \n",
       " 1574     135.875000  \n",
       " 1575    1601.000000  \n",
       " 1576      86.312500  \n",
       " 1577    1414.000000  \n",
       " 1578      32.000000  \n",
       " 1579    1930.000000  \n",
       " 1580      83.562500  \n",
       " 1581     991.500000  \n",
       " 1582      26.984375  \n",
       " 1583    2314.000000  \n",
       " 1584     105.000000  \n",
       " 1585    1620.000000  \n",
       " 1586       0.850098  \n",
       " 1587    3078.000000  \n",
       " 1588     360.750000  \n",
       " 1589     835.500000  \n",
       " \n",
       " [1590 rows x 6 columns],\n",
       " ['Customer ID'],\n",
       " Index(['Sales', 'Quantity', 'Discount', 'Profit', 'Shipping Cost'], dtype='object'))"
      ]
     },
     "execution_count": 64,
     "metadata": {},
     "output_type": "execute_result"
    }
   ],
   "source": [
    "null_values(master_dataset)"
   ]
  },
  {
   "cell_type": "code",
   "execution_count": 65,
   "metadata": {},
   "outputs": [],
   "source": [
    "def outliers_transform(base_dataset):\n",
    "    for i in base_dataset.var().sort_values(ascending=False).index[1:10]:\n",
    "        x=np.array(base_dataset[i])\n",
    "        qr1=np.quantile(x,0.25)\n",
    "        qr3=np.quantile(x,0.75)\n",
    "        iqr=qr3-qr1\n",
    "        utv=qr3+(1.5*(iqr))\n",
    "        ltv=qr1-(1.5*(iqr))\n",
    "        y=[]\n",
    "        for p in x:\n",
    "            if p <ltv or p>utv:\n",
    "                y.append(np.median(x))\n",
    "            else:\n",
    "                y.append(p)\n",
    "        base_dataset[i]=y"
   ]
  },
  {
   "cell_type": "code",
   "execution_count": 66,
   "metadata": {},
   "outputs": [],
   "source": [
    "outliers_transform(master_dataset)"
   ]
  },
  {
   "cell_type": "code",
   "execution_count": 67,
   "metadata": {
    "scrolled": false
   },
   "outputs": [
    {
     "data": {
      "text/plain": [
       "Customer ID      0\n",
       "Sales            0\n",
       "Quantity         0\n",
       "Discount         0\n",
       "Profit           0\n",
       "Shipping Cost    0\n",
       "dtype: int64"
      ]
     },
     "execution_count": 67,
     "metadata": {},
     "output_type": "execute_result"
    }
   ],
   "source": [
    "master_dataset.isna().sum()"
   ]
  },
  {
   "cell_type": "code",
   "execution_count": null,
   "metadata": {},
   "outputs": [],
   "source": []
  },
  {
   "cell_type": "code",
   "execution_count": 69,
   "metadata": {},
   "outputs": [
    {
     "data": {
      "image/png": "[encoded data removed]",
      "text/plain": [
       "<Figure size 432x288 with 1 Axes>"
      ]
     },
     "metadata": {
      "needs_background": "light"
     },
     "output_type": "display_data"
    }
   ],
   "source": [
    "import matplotlib.pyplot as plt\n",
    "import sklearn as sklearn\n",
    "from sklearn.cluster import KMeans\n",
    "x = []\n",
    "for i in range(1,15):\n",
    "    kmeans = KMeans(n_clusters = i)\n",
    "    kmeans.fit(master_dataset[['Sales','Quantity','Discount','Profit','Shipping Cost']])\n",
    "    x.append(kmeans.inertia_)\n",
    "\n",
    "plt.plot(range(1,15), x)\n",
    "plt.title('The elbow method')\n",
    "plt.xlabel('The number of clusters')\n",
    "plt.ylabel('WCSS')\n",
    "plt.show()"
   ]
  },
  {
   "cell_type": "code",
   "execution_count": 70,
   "metadata": {},
   "outputs": [
    {
     "data": {
      "text/plain": [
       "[79019781832.9372,\n",
       " 19878417496.060337,\n",
       " 9612100477.330482,\n",
       " 6280250044.408273,\n",
       " 4686888331.765106,\n",
       " 3534026690.77836,\n",
       " 2860781519.085478,\n",
       " 2392332333.520447,\n",
       " 2137022609.63413,\n",
       " 1922263346.3765001,\n",
       " 1777785297.122097,\n",
       " 1646696392.0777063,\n",
       " 1516465999.3028836,\n",
       " 1417137486.2786634]"
      ]
     },
     "execution_count": 70,
     "metadata": {},
     "output_type": "execute_result"
    }
   ],
   "source": [
    "x"
   ]
  },
  {
   "cell_type": "code",
   "execution_count": 71,
   "metadata": {},
   "outputs": [
    {
     "data": {
      "text/plain": [
       "14"
      ]
     },
     "execution_count": 71,
     "metadata": {},
     "output_type": "execute_result"
    }
   ],
   "source": [
    "len(x)"
   ]
  },
  {
   "cell_type": "code",
   "execution_count": 72,
   "metadata": {},
   "outputs": [
    {
     "data": {
      "text/plain": [
       "array([4, 2, 1, ..., 3, 0, 2])"
      ]
     },
     "execution_count": 72,
     "metadata": {},
     "output_type": "execute_result"
    }
   ],
   "source": [
    "import sklearn as sklearn\n",
    "from sklearn.cluster import KMeans\n",
    "km=KMeans(n_clusters=5)\n",
    "km.fit(master_dataset[['Sales','Quantity','Discount','Profit','Shipping Cost']])\n",
    "km.predict(master_dataset[['Sales','Quantity','Discount','Profit','Shipping Cost']])"
   ]
  },
  {
   "cell_type": "code",
   "execution_count": 73,
   "metadata": {},
   "outputs": [
    {
     "data": {
      "text/plain": [
       "array([0, 2, 1, ..., 3, 2, 0], dtype=int64)"
      ]
     },
     "execution_count": 73,
     "metadata": {},
     "output_type": "execute_result"
    }
   ],
   "source": [
    "from sklearn.cluster import AgglomerativeClustering\n",
    "km=AgglomerativeClustering(n_clusters=5)\n",
    "km.fit(master_dataset[['Sales','Quantity','Discount','Profit','Shipping Cost']])\n",
    "km.fit_predict(master_dataset[['Sales','Quantity','Discount','Profit','Shipping Cost']])"
   ]
  },
  {
   "cell_type": "code",
   "execution_count": 74,
   "metadata": {},
   "outputs": [
    {
     "data": {
      "image/png": "[encoded data removed]",
      "text/plain": [
       "<Figure size 432x288 with 1 Axes>"
      ]
     },
     "metadata": {
      "needs_background": "light"
     },
     "output_type": "display_data"
    }
   ],
   "source": [
    "# Using the dendrogram to find the optimal number of clusters\n",
    "import scipy.cluster.hierarchy as sch\n",
    "dendrogram = sch.dendrogram(sch.linkage(master_dataset[['Sales','Quantity','Discount','Profit','Shipping Cost']][0:10], method = 'single'))\n",
    "plt.title('Dendrogram')\n",
    "plt.xlabel('Customers')\n",
    "plt.ylabel('Euclidean distances')\n",
    "plt.show()"
   ]
  },
  {
   "cell_type": "markdown",
   "metadata": {},
   "source": [
    "### validations of clusters\n",
    "### usecases"
   ]
  },
  {
   "cell_type": "code",
   "execution_count": null,
   "metadata": {},
   "outputs": [],
   "source": []
  }
 ],
 "metadata": {
  "kernelspec": {
   "display_name": "Python 3",
   "language": "python",
   "name": "python3"
  },
  "language_info": {
   "codemirror_mode": {
    "name": "ipython",
    "version": 3
   },
   "file_extension": ".py",
   "mimetype": "text/x-python",
   "name": "python",
   "nbconvert_exporter": "python",
   "pygments_lexer": "ipython3",
   "version": "3.7.3"
  }
 },
 "nbformat": 4,
 "nbformat_minor": 2
}
