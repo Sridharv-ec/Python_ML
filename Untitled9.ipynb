{
 "cells": [
  {
   "cell_type": "markdown",
   "metadata": {},
   "source": [
    "### Problem definition"
   ]
  },
  {
   "cell_type": "markdown",
   "metadata": {},
   "source": [
    "#### Problem Statement : Credit card fraud transaction detection\n",
    "\n",
    "The main goal is to detect the fraudulent credit card transactions using k-fold cross validation techiques for following classification tree machine learning models.\n",
    "1. Decision Tree,\n",
    "2. Random Forest \n",
    "3. Bagging\n"
   ]
  },
  {
   "cell_type": "markdown",
   "metadata": {},
   "source": [
    "### Creation of base dataset"
   ]
  },
  {
   "cell_type": "code",
   "execution_count": 242,
   "metadata": {},
   "outputs": [],
   "source": [
    "import pandas as pd\n",
    "import numpy as np\n",
    "import seaborn as sns\n",
    "base_dataset=pd.read_csv(\"C:\\\\Sridhar\\\\AI_ML\\\\Algorithms\\\\datasets\\\\CreditCard\\\\creditcard.csv\")\n",
    "df=base_dataset"
   ]
  },
  {
   "cell_type": "code",
   "execution_count": 243,
   "metadata": {},
   "outputs": [
    {
     "data": {
      "text/html": [
       "<div>\n",
       "<style scoped>\n",
       "    .dataframe tbody tr th:only-of-type {\n",
       "        vertical-align: middle;\n",
       "    }\n",
       "\n",
       "    .dataframe tbody tr th {\n",
       "        vertical-align: top;\n",
       "    }\n",
       "\n",
       "    .dataframe thead th {\n",
       "        text-align: right;\n",
       "    }\n",
       "</style>\n",
       "<table border=\"1\" class=\"dataframe\">\n",
       "  <thead>\n",
       "    <tr style=\"text-align: right;\">\n",
       "      <th></th>\n",
       "      <th>Time</th>\n",
       "      <th>V1</th>\n",
       "      <th>V2</th>\n",
       "      <th>V3</th>\n",
       "      <th>V4</th>\n",
       "      <th>V5</th>\n",
       "      <th>V6</th>\n",
       "      <th>V7</th>\n",
       "      <th>V8</th>\n",
       "      <th>V9</th>\n",
       "      <th>...</th>\n",
       "      <th>V21</th>\n",
       "      <th>V22</th>\n",
       "      <th>V23</th>\n",
       "      <th>V24</th>\n",
       "      <th>V25</th>\n",
       "      <th>V26</th>\n",
       "      <th>V27</th>\n",
       "      <th>V28</th>\n",
       "      <th>Amount</th>\n",
       "      <th>Class</th>\n",
       "    </tr>\n",
       "  </thead>\n",
       "  <tbody>\n",
       "    <tr>\n",
       "      <th>0</th>\n",
       "      <td>0.0</td>\n",
       "      <td>-1.359807</td>\n",
       "      <td>-0.072781</td>\n",
       "      <td>2.536347</td>\n",
       "      <td>1.378155</td>\n",
       "      <td>-0.338321</td>\n",
       "      <td>0.462388</td>\n",
       "      <td>0.239599</td>\n",
       "      <td>0.098698</td>\n",
       "      <td>0.363787</td>\n",
       "      <td>...</td>\n",
       "      <td>-0.018307</td>\n",
       "      <td>0.277838</td>\n",
       "      <td>-0.110474</td>\n",
       "      <td>0.066928</td>\n",
       "      <td>0.128539</td>\n",
       "      <td>-0.189115</td>\n",
       "      <td>0.133558</td>\n",
       "      <td>-0.021053</td>\n",
       "      <td>149.62</td>\n",
       "      <td>0</td>\n",
       "    </tr>\n",
       "    <tr>\n",
       "      <th>1</th>\n",
       "      <td>0.0</td>\n",
       "      <td>1.191857</td>\n",
       "      <td>0.266151</td>\n",
       "      <td>0.166480</td>\n",
       "      <td>0.448154</td>\n",
       "      <td>0.060018</td>\n",
       "      <td>-0.082361</td>\n",
       "      <td>-0.078803</td>\n",
       "      <td>0.085102</td>\n",
       "      <td>-0.255425</td>\n",
       "      <td>...</td>\n",
       "      <td>-0.225775</td>\n",
       "      <td>-0.638672</td>\n",
       "      <td>0.101288</td>\n",
       "      <td>-0.339846</td>\n",
       "      <td>0.167170</td>\n",
       "      <td>0.125895</td>\n",
       "      <td>-0.008983</td>\n",
       "      <td>0.014724</td>\n",
       "      <td>2.69</td>\n",
       "      <td>0</td>\n",
       "    </tr>\n",
       "    <tr>\n",
       "      <th>2</th>\n",
       "      <td>1.0</td>\n",
       "      <td>-1.358354</td>\n",
       "      <td>-1.340163</td>\n",
       "      <td>1.773209</td>\n",
       "      <td>0.379780</td>\n",
       "      <td>-0.503198</td>\n",
       "      <td>1.800499</td>\n",
       "      <td>0.791461</td>\n",
       "      <td>0.247676</td>\n",
       "      <td>-1.514654</td>\n",
       "      <td>...</td>\n",
       "      <td>0.247998</td>\n",
       "      <td>0.771679</td>\n",
       "      <td>0.909412</td>\n",
       "      <td>-0.689281</td>\n",
       "      <td>-0.327642</td>\n",
       "      <td>-0.139097</td>\n",
       "      <td>-0.055353</td>\n",
       "      <td>-0.059752</td>\n",
       "      <td>378.66</td>\n",
       "      <td>0</td>\n",
       "    </tr>\n",
       "    <tr>\n",
       "      <th>3</th>\n",
       "      <td>1.0</td>\n",
       "      <td>-0.966272</td>\n",
       "      <td>-0.185226</td>\n",
       "      <td>1.792993</td>\n",
       "      <td>-0.863291</td>\n",
       "      <td>-0.010309</td>\n",
       "      <td>1.247203</td>\n",
       "      <td>0.237609</td>\n",
       "      <td>0.377436</td>\n",
       "      <td>-1.387024</td>\n",
       "      <td>...</td>\n",
       "      <td>-0.108300</td>\n",
       "      <td>0.005274</td>\n",
       "      <td>-0.190321</td>\n",
       "      <td>-1.175575</td>\n",
       "      <td>0.647376</td>\n",
       "      <td>-0.221929</td>\n",
       "      <td>0.062723</td>\n",
       "      <td>0.061458</td>\n",
       "      <td>123.50</td>\n",
       "      <td>0</td>\n",
       "    </tr>\n",
       "    <tr>\n",
       "      <th>4</th>\n",
       "      <td>2.0</td>\n",
       "      <td>-1.158233</td>\n",
       "      <td>0.877737</td>\n",
       "      <td>1.548718</td>\n",
       "      <td>0.403034</td>\n",
       "      <td>-0.407193</td>\n",
       "      <td>0.095921</td>\n",
       "      <td>0.592941</td>\n",
       "      <td>-0.270533</td>\n",
       "      <td>0.817739</td>\n",
       "      <td>...</td>\n",
       "      <td>-0.009431</td>\n",
       "      <td>0.798278</td>\n",
       "      <td>-0.137458</td>\n",
       "      <td>0.141267</td>\n",
       "      <td>-0.206010</td>\n",
       "      <td>0.502292</td>\n",
       "      <td>0.219422</td>\n",
       "      <td>0.215153</td>\n",
       "      <td>69.99</td>\n",
       "      <td>0</td>\n",
       "    </tr>\n",
       "  </tbody>\n",
       "</table>\n",
       "<p>5 rows × 31 columns</p>\n",
       "</div>"
      ],
      "text/plain": [
       "   Time        V1        V2        V3        V4        V5        V6        V7  \\\n",
       "0   0.0 -1.359807 -0.072781  2.536347  1.378155 -0.338321  0.462388  0.239599   \n",
       "1   0.0  1.191857  0.266151  0.166480  0.448154  0.060018 -0.082361 -0.078803   \n",
       "2   1.0 -1.358354 -1.340163  1.773209  0.379780 -0.503198  1.800499  0.791461   \n",
       "3   1.0 -0.966272 -0.185226  1.792993 -0.863291 -0.010309  1.247203  0.237609   \n",
       "4   2.0 -1.158233  0.877737  1.548718  0.403034 -0.407193  0.095921  0.592941   \n",
       "\n",
       "         V8        V9  ...       V21       V22       V23       V24       V25  \\\n",
       "0  0.098698  0.363787  ... -0.018307  0.277838 -0.110474  0.066928  0.128539   \n",
       "1  0.085102 -0.255425  ... -0.225775 -0.638672  0.101288 -0.339846  0.167170   \n",
       "2  0.247676 -1.514654  ...  0.247998  0.771679  0.909412 -0.689281 -0.327642   \n",
       "3  0.377436 -1.387024  ... -0.108300  0.005274 -0.190321 -1.175575  0.647376   \n",
       "4 -0.270533  0.817739  ... -0.009431  0.798278 -0.137458  0.141267 -0.206010   \n",
       "\n",
       "        V26       V27       V28  Amount  Class  \n",
       "0 -0.189115  0.133558 -0.021053  149.62      0  \n",
       "1  0.125895 -0.008983  0.014724    2.69      0  \n",
       "2 -0.139097 -0.055353 -0.059752  378.66      0  \n",
       "3 -0.221929  0.062723  0.061458  123.50      0  \n",
       "4  0.502292  0.219422  0.215153   69.99      0  \n",
       "\n",
       "[5 rows x 31 columns]"
      ]
     },
     "execution_count": 243,
     "metadata": {},
     "output_type": "execute_result"
    }
   ],
   "source": [
    "base_dataset.head()"
   ]
  },
  {
   "cell_type": "markdown",
   "metadata": {},
   "source": [
    "### Pre Processing"
   ]
  },
  {
   "cell_type": "code",
   "execution_count": 244,
   "metadata": {
    "scrolled": true
   },
   "outputs": [
    {
     "data": {
      "text/html": [
       "<div>\n",
       "<style scoped>\n",
       "    .dataframe tbody tr th:only-of-type {\n",
       "        vertical-align: middle;\n",
       "    }\n",
       "\n",
       "    .dataframe tbody tr th {\n",
       "        vertical-align: top;\n",
       "    }\n",
       "\n",
       "    .dataframe thead th {\n",
       "        text-align: right;\n",
       "    }\n",
       "</style>\n",
       "<table border=\"1\" class=\"dataframe\">\n",
       "  <thead>\n",
       "    <tr style=\"text-align: right;\">\n",
       "      <th></th>\n",
       "      <th>Time</th>\n",
       "      <th>V1</th>\n",
       "      <th>V2</th>\n",
       "      <th>V3</th>\n",
       "      <th>V4</th>\n",
       "      <th>V5</th>\n",
       "      <th>V6</th>\n",
       "      <th>V7</th>\n",
       "      <th>V8</th>\n",
       "      <th>V9</th>\n",
       "      <th>...</th>\n",
       "      <th>V21</th>\n",
       "      <th>V22</th>\n",
       "      <th>V23</th>\n",
       "      <th>V24</th>\n",
       "      <th>V25</th>\n",
       "      <th>V26</th>\n",
       "      <th>V27</th>\n",
       "      <th>V28</th>\n",
       "      <th>Amount</th>\n",
       "      <th>Class</th>\n",
       "    </tr>\n",
       "  </thead>\n",
       "  <tbody>\n",
       "    <tr>\n",
       "      <th>0</th>\n",
       "      <td>0.0</td>\n",
       "      <td>-1.359807</td>\n",
       "      <td>-0.072781</td>\n",
       "      <td>2.536347</td>\n",
       "      <td>1.378155</td>\n",
       "      <td>-0.338321</td>\n",
       "      <td>0.462388</td>\n",
       "      <td>0.239599</td>\n",
       "      <td>0.098698</td>\n",
       "      <td>0.363787</td>\n",
       "      <td>...</td>\n",
       "      <td>-0.018307</td>\n",
       "      <td>0.277838</td>\n",
       "      <td>-0.110474</td>\n",
       "      <td>0.066928</td>\n",
       "      <td>0.128539</td>\n",
       "      <td>-0.189115</td>\n",
       "      <td>0.133558</td>\n",
       "      <td>-0.021053</td>\n",
       "      <td>149.62</td>\n",
       "      <td>0</td>\n",
       "    </tr>\n",
       "    <tr>\n",
       "      <th>1</th>\n",
       "      <td>0.0</td>\n",
       "      <td>1.191857</td>\n",
       "      <td>0.266151</td>\n",
       "      <td>0.166480</td>\n",
       "      <td>0.448154</td>\n",
       "      <td>0.060018</td>\n",
       "      <td>-0.082361</td>\n",
       "      <td>-0.078803</td>\n",
       "      <td>0.085102</td>\n",
       "      <td>-0.255425</td>\n",
       "      <td>...</td>\n",
       "      <td>-0.225775</td>\n",
       "      <td>-0.638672</td>\n",
       "      <td>0.101288</td>\n",
       "      <td>-0.339846</td>\n",
       "      <td>0.167170</td>\n",
       "      <td>0.125895</td>\n",
       "      <td>-0.008983</td>\n",
       "      <td>0.014724</td>\n",
       "      <td>2.69</td>\n",
       "      <td>0</td>\n",
       "    </tr>\n",
       "    <tr>\n",
       "      <th>2</th>\n",
       "      <td>1.0</td>\n",
       "      <td>-1.358354</td>\n",
       "      <td>-1.340163</td>\n",
       "      <td>1.773209</td>\n",
       "      <td>0.379780</td>\n",
       "      <td>-0.503198</td>\n",
       "      <td>1.800499</td>\n",
       "      <td>0.791461</td>\n",
       "      <td>0.247676</td>\n",
       "      <td>-1.514654</td>\n",
       "      <td>...</td>\n",
       "      <td>0.247998</td>\n",
       "      <td>0.771679</td>\n",
       "      <td>0.909412</td>\n",
       "      <td>-0.689281</td>\n",
       "      <td>-0.327642</td>\n",
       "      <td>-0.139097</td>\n",
       "      <td>-0.055353</td>\n",
       "      <td>-0.059752</td>\n",
       "      <td>378.66</td>\n",
       "      <td>0</td>\n",
       "    </tr>\n",
       "    <tr>\n",
       "      <th>3</th>\n",
       "      <td>1.0</td>\n",
       "      <td>-0.966272</td>\n",
       "      <td>-0.185226</td>\n",
       "      <td>1.792993</td>\n",
       "      <td>-0.863291</td>\n",
       "      <td>-0.010309</td>\n",
       "      <td>1.247203</td>\n",
       "      <td>0.237609</td>\n",
       "      <td>0.377436</td>\n",
       "      <td>-1.387024</td>\n",
       "      <td>...</td>\n",
       "      <td>-0.108300</td>\n",
       "      <td>0.005274</td>\n",
       "      <td>-0.190321</td>\n",
       "      <td>-1.175575</td>\n",
       "      <td>0.647376</td>\n",
       "      <td>-0.221929</td>\n",
       "      <td>0.062723</td>\n",
       "      <td>0.061458</td>\n",
       "      <td>123.50</td>\n",
       "      <td>0</td>\n",
       "    </tr>\n",
       "    <tr>\n",
       "      <th>4</th>\n",
       "      <td>2.0</td>\n",
       "      <td>-1.158233</td>\n",
       "      <td>0.877737</td>\n",
       "      <td>1.548718</td>\n",
       "      <td>0.403034</td>\n",
       "      <td>-0.407193</td>\n",
       "      <td>0.095921</td>\n",
       "      <td>0.592941</td>\n",
       "      <td>-0.270533</td>\n",
       "      <td>0.817739</td>\n",
       "      <td>...</td>\n",
       "      <td>-0.009431</td>\n",
       "      <td>0.798278</td>\n",
       "      <td>-0.137458</td>\n",
       "      <td>0.141267</td>\n",
       "      <td>-0.206010</td>\n",
       "      <td>0.502292</td>\n",
       "      <td>0.219422</td>\n",
       "      <td>0.215153</td>\n",
       "      <td>69.99</td>\n",
       "      <td>0</td>\n",
       "    </tr>\n",
       "  </tbody>\n",
       "</table>\n",
       "<p>5 rows × 31 columns</p>\n",
       "</div>"
      ],
      "text/plain": [
       "   Time        V1        V2        V3        V4        V5        V6        V7  \\\n",
       "0   0.0 -1.359807 -0.072781  2.536347  1.378155 -0.338321  0.462388  0.239599   \n",
       "1   0.0  1.191857  0.266151  0.166480  0.448154  0.060018 -0.082361 -0.078803   \n",
       "2   1.0 -1.358354 -1.340163  1.773209  0.379780 -0.503198  1.800499  0.791461   \n",
       "3   1.0 -0.966272 -0.185226  1.792993 -0.863291 -0.010309  1.247203  0.237609   \n",
       "4   2.0 -1.158233  0.877737  1.548718  0.403034 -0.407193  0.095921  0.592941   \n",
       "\n",
       "         V8        V9  ...       V21       V22       V23       V24       V25  \\\n",
       "0  0.098698  0.363787  ... -0.018307  0.277838 -0.110474  0.066928  0.128539   \n",
       "1  0.085102 -0.255425  ... -0.225775 -0.638672  0.101288 -0.339846  0.167170   \n",
       "2  0.247676 -1.514654  ...  0.247998  0.771679  0.909412 -0.689281 -0.327642   \n",
       "3  0.377436 -1.387024  ... -0.108300  0.005274 -0.190321 -1.175575  0.647376   \n",
       "4 -0.270533  0.817739  ... -0.009431  0.798278 -0.137458  0.141267 -0.206010   \n",
       "\n",
       "        V26       V27       V28  Amount  Class  \n",
       "0 -0.189115  0.133558 -0.021053  149.62      0  \n",
       "1  0.125895 -0.008983  0.014724    2.69      0  \n",
       "2 -0.139097 -0.055353 -0.059752  378.66      0  \n",
       "3 -0.221929  0.062723  0.061458  123.50      0  \n",
       "4  0.502292  0.219422  0.215153   69.99      0  \n",
       "\n",
       "[5 rows x 31 columns]"
      ]
     },
     "execution_count": 244,
     "metadata": {},
     "output_type": "execute_result"
    }
   ],
   "source": [
    "base_dataset.head()"
   ]
  },
  {
   "cell_type": "code",
   "execution_count": 245,
   "metadata": {},
   "outputs": [
    {
     "data": {
      "text/plain": [
       "(284807, 31)"
      ]
     },
     "execution_count": 245,
     "metadata": {},
     "output_type": "execute_result"
    }
   ],
   "source": [
    "base_dataset.shape"
   ]
  },
  {
   "cell_type": "code",
   "execution_count": 246,
   "metadata": {
    "scrolled": true
   },
   "outputs": [
    {
     "data": {
      "text/plain": [
       "<matplotlib.axes._subplots.AxesSubplot at 0x2221c24de80>"
      ]
     },
     "execution_count": 246,
     "metadata": {},
     "output_type": "execute_result"
    },
    {
     "data": {
      "image/png": "[encoded data removed]",
      "text/plain": [
       "<Figure size 432x288 with 1 Axes>"
      ]
     },
     "metadata": {
      "needs_background": "light"
     },
     "output_type": "display_data"
    }
   ],
   "source": [
    "sns.countplot(base_dataset['Class'])"
   ]
  },
  {
   "cell_type": "markdown",
   "metadata": {},
   "source": [
    "From the above plot we can clearly see dataset is imbalanced.\n",
    "So we need to use classificaiton alorithms like accuracy score"
   ]
  },
  {
   "cell_type": "markdown",
   "metadata": {},
   "source": [
    "#### Memory management "
   ]
  },
  {
   "cell_type": "code",
   "execution_count": 247,
   "metadata": {
    "scrolled": true
   },
   "outputs": [
    {
     "name": "stdout",
     "output_type": "stream",
     "text": [
      "Memory usage of dataframe is 67.36 MB\n",
      "Memory usage after optimization is: 17.11 MB\n",
      "Decreased by 74.6%\n"
     ]
    }
   ],
   "source": [
    "\"\"\" iterate through all the columns of a dataframe and modify the data type\n",
    "    to reduce memory usage.        \n",
    "\"\"\"\n",
    "start_mem = base_dataset.memory_usage().sum() / 1024**2\n",
    "print('Memory usage of dataframe is {:.2f} MB'.format(start_mem))\n",
    "\n",
    "for col in base_dataset.describe().columns:\n",
    "    col_type = base_dataset[col].dtype\n",
    "\n",
    "    if col_type != object:\n",
    "        c_min = base_dataset[col].min()\n",
    "        c_max = base_dataset[col].max()\n",
    "        if str(col_type)[:3] == 'int':\n",
    "            if c_min > np.iinfo(np.int8).min and c_max < np.iinfo(np.int8).max:\n",
    "                base_dataset[col] = base_dataset[col].astype(np.int8)\n",
    "            elif c_min > base_dataset.iinfo(np.int16).min and c_max < np.iinfo(np.int16).max:\n",
    "                base_dataset[col] = base_dataset[col].astype(np.int16)\n",
    "            elif c_min > np.iinfo(np.int32).min and c_max < np.iinfo(np.int32).max:\n",
    "                base_dataset[col] = base_dataset[col].astype(np.int32)\n",
    "            elif c_min > np.iinfo(np.int64).min and c_max < np.iinfo(np.int64).max:\n",
    "                base_dataset[col] = base_dataset[col].astype(np.int64)  \n",
    "        else:\n",
    "            if c_min > np.finfo(np.float16).min and c_max < np.finfo(np.float16).max:\n",
    "                base_dataset[col] = base_dataset[col].astype(np.float16)\n",
    "            elif c_min > np.finfo(np.float32).min and c_max < np.finfo(np.float32).max:\n",
    "                base_dataset[col] = base_dataset[col].astype(np.float32)\n",
    "            else:\n",
    "                base_dataset[col] = base_dataset[col].astype(np.float64)\n",
    "    else:\n",
    "        base_dataset[col] = base_dataset[col].astype('category')\n",
    "\n",
    "end_mem = base_dataset.memory_usage().sum() / 1024**2\n",
    "print('Memory usage after optimization is: {:.2f} MB'.format(end_mem))\n",
    "print('Decreased by {:.1f}%'.format(100 * (start_mem - end_mem) / start_mem))    "
   ]
  },
  {
   "cell_type": "code",
   "execution_count": 248,
   "metadata": {
    "scrolled": true
   },
   "outputs": [
    {
     "data": {
      "text/plain": [
       "Time      0\n",
       "V1        0\n",
       "V2        0\n",
       "V3        0\n",
       "V4        0\n",
       "V5        0\n",
       "V6        0\n",
       "V7        0\n",
       "V8        0\n",
       "V9        0\n",
       "V10       0\n",
       "V11       0\n",
       "V12       0\n",
       "V13       0\n",
       "V14       0\n",
       "V15       0\n",
       "V16       0\n",
       "V17       0\n",
       "V18       0\n",
       "V19       0\n",
       "V20       0\n",
       "V21       0\n",
       "V22       0\n",
       "V23       0\n",
       "V24       0\n",
       "V25       0\n",
       "V26       0\n",
       "V27       0\n",
       "V28       0\n",
       "Amount    0\n",
       "Class     0\n",
       "dtype: int64"
      ]
     },
     "execution_count": 248,
     "metadata": {},
     "output_type": "execute_result"
    }
   ],
   "source": [
    "base_dataset.isna().sum()"
   ]
  },
  {
   "cell_type": "code",
   "execution_count": 249,
   "metadata": {},
   "outputs": [],
   "source": [
    "### We can see from the above results that there are no blank or null values in all the column values \n",
    "## then null value treatement is not required \n",
    "## in this case"
   ]
  },
  {
   "cell_type": "markdown",
   "metadata": {},
   "source": [
    "#### Outlier treatment"
   ]
  },
  {
   "cell_type": "code",
   "execution_count": 250,
   "metadata": {},
   "outputs": [
    {
     "data": {
      "text/plain": [
       "<matplotlib.axes._subplots.AxesSubplot at 0x2221c2cee10>"
      ]
     },
     "execution_count": 250,
     "metadata": {},
     "output_type": "execute_result"
    },
    {
     "data": {
      "image/png": "[encoded data removed]",
      "text/plain": [
       "<Figure size 432x288 with 1 Axes>"
      ]
     },
     "metadata": {
      "needs_background": "light"
     },
     "output_type": "display_data"
    }
   ],
   "source": [
    "sns.boxplot(x=base_dataset['V1'])"
   ]
  },
  {
   "cell_type": "code",
   "execution_count": 251,
   "metadata": {
    "scrolled": true
   },
   "outputs": [
    {
     "data": {
      "text/plain": [
       "<matplotlib.axes._subplots.AxesSubplot at 0x2221c2b6e80>"
      ]
     },
     "execution_count": 251,
     "metadata": {},
     "output_type": "execute_result"
    },
    {
     "data": {
      "image/png": "[encoded data removed]",
      "text/plain": [
       "<Figure size 432x288 with 1 Axes>"
      ]
     },
     "metadata": {
      "needs_background": "light"
     },
     "output_type": "display_data"
    }
   ],
   "source": [
    "sns.boxplot(x=base_dataset['V2'])"
   ]
  },
  {
   "cell_type": "markdown",
   "metadata": {},
   "source": [
    "We have plotted V1 and V2 columns just to see if the outliers exists in the columns values. \n",
    "We can clearly see the outliers in the columns in the boxplot. \n",
    "Since all the columns are numical continouse columns, so we need to do the outlier treatement in the above plots."
   ]
  },
  {
   "cell_type": "code",
   "execution_count": 252,
   "metadata": {},
   "outputs": [],
   "source": [
    "def outliers_transform(base_dataset):\n",
    "    for i in base_dataset.var().sort_values(ascending=False).index[0:10]:\n",
    "        x=np.array(base_dataset[i])\n",
    "        qr1=np.quantile(x,0.25)\n",
    "        qr3=np.quantile(x,0.75)\n",
    "        iqr=qr3-qr1\n",
    "        utv=qr3+(1.5*(iqr))\n",
    "        ltv=qr1-(1.5*(iqr))\n",
    "        y=[]\n",
    "        #\"\"\"Based on clients input(ltv,utv) run the below code \"\"\"\n",
    "        for p in x:\n",
    "            if p <ltv or p>utv:\n",
    "                y.append(np.median(x))\n",
    "            else:\n",
    "                y.append(p)\n",
    "        base_dataset[i]=y"
   ]
  },
  {
   "cell_type": "code",
   "execution_count": 253,
   "metadata": {},
   "outputs": [],
   "source": [
    "outliers_transform(base_dataset)"
   ]
  },
  {
   "cell_type": "code",
   "execution_count": 255,
   "metadata": {
    "scrolled": true
   },
   "outputs": [
    {
     "data": {
      "text/plain": [
       "<matplotlib.axes._subplots.AxesSubplot at 0x2221d5d3b00>"
      ]
     },
     "execution_count": 255,
     "metadata": {},
     "output_type": "execute_result"
    },
    {
     "data": {
      "image/png": "[encoded data removed]",
      "text/plain": [
       "<Figure size 432x288 with 1 Axes>"
      ]
     },
     "metadata": {
      "needs_background": "light"
     },
     "output_type": "display_data"
    }
   ],
   "source": [
    "sns.boxplot(x=base_dataset['V1'])"
   ]
  },
  {
   "cell_type": "code",
   "execution_count": 256,
   "metadata": {},
   "outputs": [
    {
     "data": {
      "text/plain": [
       "<matplotlib.axes._subplots.AxesSubplot at 0x2221d63c320>"
      ]
     },
     "execution_count": 256,
     "metadata": {},
     "output_type": "execute_result"
    },
    {
     "data": {
      "image/png": "[encoded data removed]",
      "text/plain": [
       "<Figure size 432x288 with 1 Axes>"
      ]
     },
     "metadata": {
      "needs_background": "light"
     },
     "output_type": "display_data"
    }
   ],
   "source": [
    "sns.boxplot(x=base_dataset['V2'])"
   ]
  },
  {
   "cell_type": "markdown",
   "metadata": {},
   "source": [
    "The outliers have been removed from all the columns. Now the dataset is free from outliers"
   ]
  },
  {
   "cell_type": "code",
   "execution_count": 257,
   "metadata": {},
   "outputs": [
    {
     "data": {
      "text/plain": [
       "Index(['Time', 'V1', 'V2', 'V3', 'V4', 'V5', 'V6', 'V7', 'V8', 'V9', 'V10',\n",
       "       'V11', 'V12', 'V13', 'V14', 'V15', 'V16', 'V17', 'V18', 'V19', 'V20',\n",
       "       'V21', 'V22', 'V23', 'V24', 'V25', 'V26', 'V27', 'V28', 'Amount',\n",
       "       'Class'],\n",
       "      dtype='object')"
      ]
     },
     "execution_count": 257,
     "metadata": {},
     "output_type": "execute_result"
    }
   ],
   "source": [
    "base_dataset.columns"
   ]
  },
  {
   "cell_type": "markdown",
   "metadata": {},
   "source": [
    "#### Normalising the amount column. The amount column is not in line with the other columns"
   ]
  },
  {
   "cell_type": "code",
   "execution_count": 258,
   "metadata": {
    "scrolled": true
   },
   "outputs": [],
   "source": [
    "from sklearn.preprocessing import StandardScaler\n",
    "sd = StandardScaler()\n",
    "sd.fit_transform(pd.DataFrame(base_dataset['Amount']))\n",
    "z=sd.transform(pd.DataFrame(base_dataset['Amount']))\n",
    "base_dataset['Amount']=z"
   ]
  },
  {
   "cell_type": "code",
   "execution_count": 259,
   "metadata": {},
   "outputs": [
    {
     "data": {
      "text/html": [
       "<div>\n",
       "<style scoped>\n",
       "    .dataframe tbody tr th:only-of-type {\n",
       "        vertical-align: middle;\n",
       "    }\n",
       "\n",
       "    .dataframe tbody tr th {\n",
       "        vertical-align: top;\n",
       "    }\n",
       "\n",
       "    .dataframe thead th {\n",
       "        text-align: right;\n",
       "    }\n",
       "</style>\n",
       "<table border=\"1\" class=\"dataframe\">\n",
       "  <thead>\n",
       "    <tr style=\"text-align: right;\">\n",
       "      <th></th>\n",
       "      <th>Time</th>\n",
       "      <th>V1</th>\n",
       "      <th>V2</th>\n",
       "      <th>V3</th>\n",
       "      <th>V4</th>\n",
       "      <th>V5</th>\n",
       "      <th>V6</th>\n",
       "      <th>V7</th>\n",
       "      <th>V8</th>\n",
       "      <th>V9</th>\n",
       "      <th>...</th>\n",
       "      <th>V21</th>\n",
       "      <th>V22</th>\n",
       "      <th>V23</th>\n",
       "      <th>V24</th>\n",
       "      <th>V25</th>\n",
       "      <th>V26</th>\n",
       "      <th>V27</th>\n",
       "      <th>V28</th>\n",
       "      <th>Amount</th>\n",
       "      <th>Class</th>\n",
       "    </tr>\n",
       "  </thead>\n",
       "  <tbody>\n",
       "    <tr>\n",
       "      <th>0</th>\n",
       "      <td>0.0</td>\n",
       "      <td>-1.359375</td>\n",
       "      <td>-0.072754</td>\n",
       "      <td>2.537109</td>\n",
       "      <td>1.377930</td>\n",
       "      <td>-0.338379</td>\n",
       "      <td>0.462402</td>\n",
       "      <td>0.239624</td>\n",
       "      <td>0.098694</td>\n",
       "      <td>0.363770</td>\n",
       "      <td>...</td>\n",
       "      <td>-0.018311</td>\n",
       "      <td>0.277832</td>\n",
       "      <td>-0.110474</td>\n",
       "      <td>0.066956</td>\n",
       "      <td>0.128540</td>\n",
       "      <td>-0.189087</td>\n",
       "      <td>0.133545</td>\n",
       "      <td>-0.021057</td>\n",
       "      <td>2.905947</td>\n",
       "      <td>0</td>\n",
       "    </tr>\n",
       "    <tr>\n",
       "      <th>1</th>\n",
       "      <td>0.0</td>\n",
       "      <td>1.191406</td>\n",
       "      <td>0.266113</td>\n",
       "      <td>0.166504</td>\n",
       "      <td>0.448242</td>\n",
       "      <td>0.060028</td>\n",
       "      <td>-0.082336</td>\n",
       "      <td>-0.078796</td>\n",
       "      <td>0.085083</td>\n",
       "      <td>-0.255371</td>\n",
       "      <td>...</td>\n",
       "      <td>-0.225830</td>\n",
       "      <td>-0.638672</td>\n",
       "      <td>0.101318</td>\n",
       "      <td>-0.339844</td>\n",
       "      <td>0.167114</td>\n",
       "      <td>0.125854</td>\n",
       "      <td>-0.008980</td>\n",
       "      <td>0.014725</td>\n",
       "      <td>-0.771747</td>\n",
       "      <td>0</td>\n",
       "    </tr>\n",
       "    <tr>\n",
       "      <th>2</th>\n",
       "      <td>1.0</td>\n",
       "      <td>-1.358398</td>\n",
       "      <td>-1.339844</td>\n",
       "      <td>1.773438</td>\n",
       "      <td>0.379883</td>\n",
       "      <td>-0.503418</td>\n",
       "      <td>1.800781</td>\n",
       "      <td>0.791504</td>\n",
       "      <td>0.247681</td>\n",
       "      <td>-1.514648</td>\n",
       "      <td>...</td>\n",
       "      <td>0.248047</td>\n",
       "      <td>0.771484</td>\n",
       "      <td>0.909180</td>\n",
       "      <td>-0.689453</td>\n",
       "      <td>-0.327637</td>\n",
       "      <td>-0.139038</td>\n",
       "      <td>-0.055359</td>\n",
       "      <td>-0.059753</td>\n",
       "      <td>-0.288418</td>\n",
       "      <td>0</td>\n",
       "    </tr>\n",
       "    <tr>\n",
       "      <th>3</th>\n",
       "      <td>1.0</td>\n",
       "      <td>-0.966309</td>\n",
       "      <td>-0.185181</td>\n",
       "      <td>1.792969</td>\n",
       "      <td>-0.863281</td>\n",
       "      <td>-0.010307</td>\n",
       "      <td>1.247070</td>\n",
       "      <td>0.237549</td>\n",
       "      <td>0.377441</td>\n",
       "      <td>-1.386719</td>\n",
       "      <td>...</td>\n",
       "      <td>-0.108276</td>\n",
       "      <td>0.005272</td>\n",
       "      <td>-0.190308</td>\n",
       "      <td>-1.175781</td>\n",
       "      <td>0.647461</td>\n",
       "      <td>-0.221924</td>\n",
       "      <td>0.062744</td>\n",
       "      <td>0.061462</td>\n",
       "      <td>2.252057</td>\n",
       "      <td>0</td>\n",
       "    </tr>\n",
       "    <tr>\n",
       "      <th>4</th>\n",
       "      <td>2.0</td>\n",
       "      <td>-1.158203</td>\n",
       "      <td>0.877930</td>\n",
       "      <td>1.548828</td>\n",
       "      <td>0.403076</td>\n",
       "      <td>-0.407227</td>\n",
       "      <td>0.095947</td>\n",
       "      <td>0.592773</td>\n",
       "      <td>-0.270508</td>\n",
       "      <td>0.817871</td>\n",
       "      <td>...</td>\n",
       "      <td>-0.009430</td>\n",
       "      <td>0.798340</td>\n",
       "      <td>-0.137451</td>\n",
       "      <td>0.141235</td>\n",
       "      <td>-0.206055</td>\n",
       "      <td>0.502441</td>\n",
       "      <td>0.219482</td>\n",
       "      <td>0.215210</td>\n",
       "      <td>0.912989</td>\n",
       "      <td>0</td>\n",
       "    </tr>\n",
       "  </tbody>\n",
       "</table>\n",
       "<p>5 rows × 31 columns</p>\n",
       "</div>"
      ],
      "text/plain": [
       "   Time        V1        V2        V3        V4        V5        V6        V7  \\\n",
       "0   0.0 -1.359375 -0.072754  2.537109  1.377930 -0.338379  0.462402  0.239624   \n",
       "1   0.0  1.191406  0.266113  0.166504  0.448242  0.060028 -0.082336 -0.078796   \n",
       "2   1.0 -1.358398 -1.339844  1.773438  0.379883 -0.503418  1.800781  0.791504   \n",
       "3   1.0 -0.966309 -0.185181  1.792969 -0.863281 -0.010307  1.247070  0.237549   \n",
       "4   2.0 -1.158203  0.877930  1.548828  0.403076 -0.407227  0.095947  0.592773   \n",
       "\n",
       "         V8        V9  ...       V21       V22       V23       V24       V25  \\\n",
       "0  0.098694  0.363770  ... -0.018311  0.277832 -0.110474  0.066956  0.128540   \n",
       "1  0.085083 -0.255371  ... -0.225830 -0.638672  0.101318 -0.339844  0.167114   \n",
       "2  0.247681 -1.514648  ...  0.248047  0.771484  0.909180 -0.689453 -0.327637   \n",
       "3  0.377441 -1.386719  ... -0.108276  0.005272 -0.190308 -1.175781  0.647461   \n",
       "4 -0.270508  0.817871  ... -0.009430  0.798340 -0.137451  0.141235 -0.206055   \n",
       "\n",
       "        V26       V27       V28    Amount  Class  \n",
       "0 -0.189087  0.133545 -0.021057  2.905947      0  \n",
       "1  0.125854 -0.008980  0.014725 -0.771747      0  \n",
       "2 -0.139038 -0.055359 -0.059753 -0.288418      0  \n",
       "3 -0.221924  0.062744  0.061462  2.252057      0  \n",
       "4  0.502441  0.219482  0.215210  0.912989      0  \n",
       "\n",
       "[5 rows x 31 columns]"
      ]
     },
     "execution_count": 259,
     "metadata": {},
     "output_type": "execute_result"
    }
   ],
   "source": [
    "base_dataset.head()"
   ]
  },
  {
   "cell_type": "markdown",
   "metadata": {},
   "source": [
    "Dropping Time column which is not required for analysis"
   ]
  },
  {
   "cell_type": "code",
   "execution_count": 260,
   "metadata": {},
   "outputs": [],
   "source": [
    "base_dataset.drop('Time',axis=1,inplace=True)"
   ]
  },
  {
   "cell_type": "markdown",
   "metadata": {},
   "source": [
    "#### Univariate analysis (EDA)"
   ]
  },
  {
   "cell_type": "code",
   "execution_count": 261,
   "metadata": {},
   "outputs": [
    {
     "data": {
      "text/html": [
       "<div>\n",
       "<style scoped>\n",
       "    .dataframe tbody tr th:only-of-type {\n",
       "        vertical-align: middle;\n",
       "    }\n",
       "\n",
       "    .dataframe tbody tr th {\n",
       "        vertical-align: top;\n",
       "    }\n",
       "\n",
       "    .dataframe thead th {\n",
       "        text-align: right;\n",
       "    }\n",
       "</style>\n",
       "<table border=\"1\" class=\"dataframe\">\n",
       "  <thead>\n",
       "    <tr style=\"text-align: right;\">\n",
       "      <th></th>\n",
       "      <th>V1</th>\n",
       "      <th>V2</th>\n",
       "      <th>V3</th>\n",
       "      <th>V4</th>\n",
       "      <th>V5</th>\n",
       "      <th>V6</th>\n",
       "      <th>V7</th>\n",
       "      <th>V8</th>\n",
       "      <th>V9</th>\n",
       "      <th>V10</th>\n",
       "      <th>...</th>\n",
       "      <th>V21</th>\n",
       "      <th>V22</th>\n",
       "      <th>V23</th>\n",
       "      <th>V24</th>\n",
       "      <th>V25</th>\n",
       "      <th>V26</th>\n",
       "      <th>V27</th>\n",
       "      <th>V28</th>\n",
       "      <th>Amount</th>\n",
       "      <th>Class</th>\n",
       "    </tr>\n",
       "  </thead>\n",
       "  <tbody>\n",
       "    <tr>\n",
       "      <th>0</th>\n",
       "      <td>-1.359375</td>\n",
       "      <td>-0.072754</td>\n",
       "      <td>2.537109</td>\n",
       "      <td>1.377930</td>\n",
       "      <td>-0.338379</td>\n",
       "      <td>0.462402</td>\n",
       "      <td>0.239624</td>\n",
       "      <td>0.098694</td>\n",
       "      <td>0.363770</td>\n",
       "      <td>0.090820</td>\n",
       "      <td>...</td>\n",
       "      <td>-0.018311</td>\n",
       "      <td>0.277832</td>\n",
       "      <td>-0.110474</td>\n",
       "      <td>0.066956</td>\n",
       "      <td>0.128540</td>\n",
       "      <td>-0.189087</td>\n",
       "      <td>0.133545</td>\n",
       "      <td>-0.021057</td>\n",
       "      <td>2.905947</td>\n",
       "      <td>0</td>\n",
       "    </tr>\n",
       "    <tr>\n",
       "      <th>1</th>\n",
       "      <td>1.191406</td>\n",
       "      <td>0.266113</td>\n",
       "      <td>0.166504</td>\n",
       "      <td>0.448242</td>\n",
       "      <td>0.060028</td>\n",
       "      <td>-0.082336</td>\n",
       "      <td>-0.078796</td>\n",
       "      <td>0.085083</td>\n",
       "      <td>-0.255371</td>\n",
       "      <td>-0.166992</td>\n",
       "      <td>...</td>\n",
       "      <td>-0.225830</td>\n",
       "      <td>-0.638672</td>\n",
       "      <td>0.101318</td>\n",
       "      <td>-0.339844</td>\n",
       "      <td>0.167114</td>\n",
       "      <td>0.125854</td>\n",
       "      <td>-0.008980</td>\n",
       "      <td>0.014725</td>\n",
       "      <td>-0.771747</td>\n",
       "      <td>0</td>\n",
       "    </tr>\n",
       "    <tr>\n",
       "      <th>2</th>\n",
       "      <td>-1.358398</td>\n",
       "      <td>-1.339844</td>\n",
       "      <td>1.773438</td>\n",
       "      <td>0.379883</td>\n",
       "      <td>-0.503418</td>\n",
       "      <td>1.800781</td>\n",
       "      <td>0.791504</td>\n",
       "      <td>0.247681</td>\n",
       "      <td>-1.514648</td>\n",
       "      <td>0.207642</td>\n",
       "      <td>...</td>\n",
       "      <td>0.248047</td>\n",
       "      <td>0.771484</td>\n",
       "      <td>0.909180</td>\n",
       "      <td>-0.689453</td>\n",
       "      <td>-0.327637</td>\n",
       "      <td>-0.139038</td>\n",
       "      <td>-0.055359</td>\n",
       "      <td>-0.059753</td>\n",
       "      <td>-0.288418</td>\n",
       "      <td>0</td>\n",
       "    </tr>\n",
       "    <tr>\n",
       "      <th>3</th>\n",
       "      <td>-0.966309</td>\n",
       "      <td>-0.185181</td>\n",
       "      <td>1.792969</td>\n",
       "      <td>-0.863281</td>\n",
       "      <td>-0.010307</td>\n",
       "      <td>1.247070</td>\n",
       "      <td>0.237549</td>\n",
       "      <td>0.377441</td>\n",
       "      <td>-1.386719</td>\n",
       "      <td>-0.054962</td>\n",
       "      <td>...</td>\n",
       "      <td>-0.108276</td>\n",
       "      <td>0.005272</td>\n",
       "      <td>-0.190308</td>\n",
       "      <td>-1.175781</td>\n",
       "      <td>0.647461</td>\n",
       "      <td>-0.221924</td>\n",
       "      <td>0.062744</td>\n",
       "      <td>0.061462</td>\n",
       "      <td>2.252057</td>\n",
       "      <td>0</td>\n",
       "    </tr>\n",
       "    <tr>\n",
       "      <th>4</th>\n",
       "      <td>-1.158203</td>\n",
       "      <td>0.877930</td>\n",
       "      <td>1.548828</td>\n",
       "      <td>0.403076</td>\n",
       "      <td>-0.407227</td>\n",
       "      <td>0.095947</td>\n",
       "      <td>0.592773</td>\n",
       "      <td>-0.270508</td>\n",
       "      <td>0.817871</td>\n",
       "      <td>0.752930</td>\n",
       "      <td>...</td>\n",
       "      <td>-0.009430</td>\n",
       "      <td>0.798340</td>\n",
       "      <td>-0.137451</td>\n",
       "      <td>0.141235</td>\n",
       "      <td>-0.206055</td>\n",
       "      <td>0.502441</td>\n",
       "      <td>0.219482</td>\n",
       "      <td>0.215210</td>\n",
       "      <td>0.912989</td>\n",
       "      <td>0</td>\n",
       "    </tr>\n",
       "  </tbody>\n",
       "</table>\n",
       "<p>5 rows × 30 columns</p>\n",
       "</div>"
      ],
      "text/plain": [
       "         V1        V2        V3        V4        V5        V6        V7  \\\n",
       "0 -1.359375 -0.072754  2.537109  1.377930 -0.338379  0.462402  0.239624   \n",
       "1  1.191406  0.266113  0.166504  0.448242  0.060028 -0.082336 -0.078796   \n",
       "2 -1.358398 -1.339844  1.773438  0.379883 -0.503418  1.800781  0.791504   \n",
       "3 -0.966309 -0.185181  1.792969 -0.863281 -0.010307  1.247070  0.237549   \n",
       "4 -1.158203  0.877930  1.548828  0.403076 -0.407227  0.095947  0.592773   \n",
       "\n",
       "         V8        V9       V10  ...       V21       V22       V23       V24  \\\n",
       "0  0.098694  0.363770  0.090820  ... -0.018311  0.277832 -0.110474  0.066956   \n",
       "1  0.085083 -0.255371 -0.166992  ... -0.225830 -0.638672  0.101318 -0.339844   \n",
       "2  0.247681 -1.514648  0.207642  ...  0.248047  0.771484  0.909180 -0.689453   \n",
       "3  0.377441 -1.386719 -0.054962  ... -0.108276  0.005272 -0.190308 -1.175781   \n",
       "4 -0.270508  0.817871  0.752930  ... -0.009430  0.798340 -0.137451  0.141235   \n",
       "\n",
       "        V25       V26       V27       V28    Amount  Class  \n",
       "0  0.128540 -0.189087  0.133545 -0.021057  2.905947      0  \n",
       "1  0.167114  0.125854 -0.008980  0.014725 -0.771747      0  \n",
       "2 -0.327637 -0.139038 -0.055359 -0.059753 -0.288418      0  \n",
       "3  0.647461 -0.221924  0.062744  0.061462  2.252057      0  \n",
       "4 -0.206055  0.502441  0.219482  0.215210  0.912989      0  \n",
       "\n",
       "[5 rows x 30 columns]"
      ]
     },
     "execution_count": 261,
     "metadata": {},
     "output_type": "execute_result"
    }
   ],
   "source": [
    "base_dataset.head()"
   ]
  },
  {
   "cell_type": "code",
   "execution_count": 262,
   "metadata": {},
   "outputs": [
    {
     "data": {
      "image/png": "[encoded data removed]",
      "text/plain": [
       "<Figure size 432x288 with 1 Axes>"
      ]
     },
     "metadata": {
      "needs_background": "light"
     },
     "output_type": "display_data"
    },
    {
     "data": {
      "image/png": "[encoded data removed]",
      "text/plain": [
       "<Figure size 432x288 with 1 Axes>"
      ]
     },
     "metadata": {
      "needs_background": "light"
     },
     "output_type": "display_data"
    },
    {
     "data": {
      "image/png": "[encoded data removed]",
      "text/plain": [
       "<Figure size 432x288 with 1 Axes>"
      ]
     },
     "metadata": {
      "needs_background": "light"
     },
     "output_type": "display_data"
    },
    {
     "data": {
      "image/png": "[encoded data removed]",
      "text/plain": [
       "<Figure size 432x288 with 1 Axes>"
      ]
     },
     "metadata": {
      "needs_background": "light"
     },
     "output_type": "display_data"
    },
    {
     "data": {
      "image/png": "[encoded data removed]",
      "text/plain": [
       "<Figure size 432x288 with 1 Axes>"
      ]
     },
     "metadata": {
      "needs_background": "light"
     },
     "output_type": "display_data"
    },
    {
     "data": {
      "image/png": "[encoded data removed]",
      "text/plain": [
       "<Figure size 432x288 with 1 Axes>"
      ]
     },
     "metadata": {
      "needs_background": "light"
     },
     "output_type": "display_data"
    },
    {
     "data": {
      "image/png": "[encoded data removed]",
      "text/plain": [
       "<Figure size 432x288 with 1 Axes>"
      ]
     },
     "metadata": {
      "needs_background": "light"
     },
     "output_type": "display_data"
    },
    {
     "data": {
      "image/png": "[encoded data removed]",
      "text/plain": [
       "<Figure size 432x288 with 1 Axes>"
      ]
     },
     "metadata": {
      "needs_background": "light"
     },
     "output_type": "display_data"
    },
    {
     "data": {
      "image/png": "[encoded data removed]",
      "text/plain": [
       "<Figure size 432x288 with 1 Axes>"
      ]
     },
     "metadata": {
      "needs_background": "light"
     },
     "output_type": "display_data"
    },
    {
     "data": {
      "image/png": "[encoded data removed]",
      "text/plain": [
       "<Figure size 432x288 with 1 Axes>"
      ]
     },
     "metadata": {
      "needs_background": "light"
     },
     "output_type": "display_data"
    },
    {
     "data": {
      "image/png": "[encoded data removed]",
      "text/plain": [
       "<Figure size 432x288 with 1 Axes>"
      ]
     },
     "metadata": {
      "needs_background": "light"
     },
     "output_type": "display_data"
    },
    {
     "data": {
      "image/png": "[encoded data removed]",
      "text/plain": [
       "<Figure size 432x288 with 1 Axes>"
      ]
     },
     "metadata": {
      "needs_background": "light"
     },
     "output_type": "display_data"
    },
    {
     "data": {
      "image/png": "[encoded data removed]",
      "text/plain": [
       "<Figure size 432x288 with 1 Axes>"
      ]
     },
     "metadata": {
      "needs_background": "light"
     },
     "output_type": "display_data"
    },
    {
     "data": {
      "image/png": "[encoded data removed]",
      "text/plain": [
       "<Figure size 432x288 with 1 Axes>"
      ]
     },
     "metadata": {
      "needs_background": "light"
     },
     "output_type": "display_data"
    },
    {
     "data": {
      "image/png": "[encoded data removed]",
      "text/plain": [
       "<Figure size 432x288 with 1 Axes>"
      ]
     },
     "metadata": {
      "needs_background": "light"
     },
     "output_type": "display_data"
    },
    {
     "data": {
      "image/png": "[encoded data removed]",
      "text/plain": [
       "<Figure size 432x288 with 1 Axes>"
      ]
     },
     "metadata": {
      "needs_background": "light"
     },
     "output_type": "display_data"
    },
    {
     "data": {
      "image/png": "[encoded data removed]",
      "text/plain": [
       "<Figure size 432x288 with 1 Axes>"
      ]
     },
     "metadata": {
      "needs_background": "light"
     },
     "output_type": "display_data"
    },
    {
     "data": {
      "image/png": "[encoded data removed]",
      "text/plain": [
       "<Figure size 432x288 with 1 Axes>"
      ]
     },
     "metadata": {
      "needs_background": "light"
     },
     "output_type": "display_data"
    },
    {
     "data": {
      "image/png": "[encoded data removed]",
      "text/plain": [
       "<Figure size 432x288 with 1 Axes>"
      ]
     },
     "metadata": {
      "needs_background": "light"
     },
     "output_type": "display_data"
    },
    {
     "data": {
      "image/png": "[encoded data removed]",
      "text/plain": [
       "<Figure size 432x288 with 1 Axes>"
      ]
     },
     "metadata": {
      "needs_background": "light"
     },
     "output_type": "display_data"
    },
    {
     "data": {
      "image/png": "[encoded data removed]",
      "text/plain": [
       "<Figure size 432x288 with 1 Axes>"
      ]
     },
     "metadata": {
      "needs_background": "light"
     },
     "output_type": "display_data"
    },
    {
     "data": {
      "image/png": "[encoded data removed]",
      "text/plain": [
       "<Figure size 432x288 with 1 Axes>"
      ]
     },
     "metadata": {
      "needs_background": "light"
     },
     "output_type": "display_data"
    },
    {
     "data": {
      "image/png": "[encoded data removed]",
      "text/plain": [
       "<Figure size 432x288 with 1 Axes>"
      ]
     },
     "metadata": {
      "needs_background": "light"
     },
     "output_type": "display_data"
    },
    {
     "data": {
      "image/png": "[encoded data removed]",
      "text/plain": [
       "<Figure size 432x288 with 1 Axes>"
      ]
     },
     "metadata": {
      "needs_background": "light"
     },
     "output_type": "display_data"
    },
    {
     "data": {
      "image/png": "[encoded data removed]",
      "text/plain": [
       "<Figure size 432x288 with 1 Axes>"
      ]
     },
     "metadata": {
      "needs_background": "light"
     },
     "output_type": "display_data"
    },
    {
     "data": {
      "image/png": "[encoded data removed]",
      "text/plain": [
       "<Figure size 432x288 with 1 Axes>"
      ]
     },
     "metadata": {
      "needs_background": "light"
     },
     "output_type": "display_data"
    },
    {
     "data": {
      "image/png": "[encoded data removed]",
      "text/plain": [
       "<Figure size 432x288 with 1 Axes>"
      ]
     },
     "metadata": {
      "needs_background": "light"
     },
     "output_type": "display_data"
    },
    {
     "data": {
      "image/png": "[encoded data removed]",
      "text/plain": [
       "<Figure size 432x288 with 1 Axes>"
      ]
     },
     "metadata": {
      "needs_background": "light"
     },
     "output_type": "display_data"
    },
    {
     "data": {
      "image/png": "[encoded data removed]",
      "text/plain": [
       "<Figure size 432x288 with 1 Axes>"
      ]
     },
     "metadata": {
      "needs_background": "light"
     },
     "output_type": "display_data"
    },
    {
     "data": {
      "image/png": "[encoded data removed]",
      "text/plain": [
       "<Figure size 432x288 with 1 Axes>"
      ]
     },
     "metadata": {
      "needs_background": "light"
     },
     "output_type": "display_data"
    }
   ],
   "source": [
    "import matplotlib.pyplot as plt\n",
    "for i in base_dataset.var().index:\n",
    "    sns.distplot(base_dataset[i],kde=False)\n",
    "    plt.show()"
   ]
  },
  {
   "cell_type": "markdown",
   "metadata": {},
   "source": [
    "####  Bivariate analysis (EDA)"
   ]
  },
  {
   "cell_type": "code",
   "execution_count": 263,
   "metadata": {},
   "outputs": [
    {
     "data": {
      "text/plain": [
       "<matplotlib.axes._subplots.AxesSubplot at 0x22227741358>"
      ]
     },
     "execution_count": 263,
     "metadata": {},
     "output_type": "execute_result"
    },
    {
     "data": {
      "image/png": "[encoded data removed]",
      "text/plain": [
       "<Figure size 1440x720 with 2 Axes>"
      ]
     },
     "metadata": {
      "needs_background": "light"
     },
     "output_type": "display_data"
    }
   ],
   "source": [
    "plt.figure(figsize=(20,10))\n",
    "sns.heatmap(base_dataset.corr())"
   ]
  },
  {
   "cell_type": "markdown",
   "metadata": {},
   "source": [
    "### Model Building"
   ]
  },
  {
   "cell_type": "markdown",
   "metadata": {},
   "source": [
    "#### Supervised"
   ]
  },
  {
   "cell_type": "markdown",
   "metadata": {},
   "source": [
    "Running classification algorithms such as DecisionTreeClassifier, RandomForestClassifier, BaggingClassifier to check the accuracy score for each alogorithm. The algorithms are executed with the K-Fold cross validations"
   ]
  },
  {
   "cell_type": "code",
   "execution_count": 264,
   "metadata": {},
   "outputs": [],
   "source": [
    "from sklearn.tree import DecisionTreeClassifier\n",
    "from sklearn.ensemble import RandomForestClassifier\n",
    "from sklearn.ensemble import BaggingClassifier"
   ]
  },
  {
   "cell_type": "code",
   "execution_count": 265,
   "metadata": {},
   "outputs": [],
   "source": [
    "y = base_dataset['Class']\n",
    "x = base_dataset.drop('Class',axis=1)"
   ]
  },
  {
   "cell_type": "code",
   "execution_count": 266,
   "metadata": {},
   "outputs": [
    {
     "data": {
      "text/plain": [
       "0    0\n",
       "1    0\n",
       "2    0\n",
       "3    0\n",
       "4    0\n",
       "5    0\n",
       "6    0\n",
       "7    0\n",
       "8    0\n",
       "9    0\n",
       "Name: Class, dtype: int8"
      ]
     },
     "execution_count": 266,
     "metadata": {},
     "output_type": "execute_result"
    }
   ],
   "source": [
    "y.head(10)"
   ]
  },
  {
   "cell_type": "code",
   "execution_count": 267,
   "metadata": {},
   "outputs": [
    {
     "data": {
      "text/html": [
       "<div>\n",
       "<style scoped>\n",
       "    .dataframe tbody tr th:only-of-type {\n",
       "        vertical-align: middle;\n",
       "    }\n",
       "\n",
       "    .dataframe tbody tr th {\n",
       "        vertical-align: top;\n",
       "    }\n",
       "\n",
       "    .dataframe thead th {\n",
       "        text-align: right;\n",
       "    }\n",
       "</style>\n",
       "<table border=\"1\" class=\"dataframe\">\n",
       "  <thead>\n",
       "    <tr style=\"text-align: right;\">\n",
       "      <th></th>\n",
       "      <th>V1</th>\n",
       "      <th>V2</th>\n",
       "      <th>V3</th>\n",
       "      <th>V4</th>\n",
       "      <th>V5</th>\n",
       "      <th>V6</th>\n",
       "      <th>V7</th>\n",
       "      <th>V8</th>\n",
       "      <th>V9</th>\n",
       "      <th>V10</th>\n",
       "      <th>...</th>\n",
       "      <th>V20</th>\n",
       "      <th>V21</th>\n",
       "      <th>V22</th>\n",
       "      <th>V23</th>\n",
       "      <th>V24</th>\n",
       "      <th>V25</th>\n",
       "      <th>V26</th>\n",
       "      <th>V27</th>\n",
       "      <th>V28</th>\n",
       "      <th>Amount</th>\n",
       "    </tr>\n",
       "  </thead>\n",
       "  <tbody>\n",
       "    <tr>\n",
       "      <th>0</th>\n",
       "      <td>-1.359375</td>\n",
       "      <td>-0.072754</td>\n",
       "      <td>2.537109</td>\n",
       "      <td>1.377930</td>\n",
       "      <td>-0.338379</td>\n",
       "      <td>0.462402</td>\n",
       "      <td>0.239624</td>\n",
       "      <td>0.098694</td>\n",
       "      <td>0.363770</td>\n",
       "      <td>0.090820</td>\n",
       "      <td>...</td>\n",
       "      <td>0.251465</td>\n",
       "      <td>-0.018311</td>\n",
       "      <td>0.277832</td>\n",
       "      <td>-0.110474</td>\n",
       "      <td>0.066956</td>\n",
       "      <td>0.128540</td>\n",
       "      <td>-0.189087</td>\n",
       "      <td>0.133545</td>\n",
       "      <td>-0.021057</td>\n",
       "      <td>2.905947</td>\n",
       "    </tr>\n",
       "    <tr>\n",
       "      <th>1</th>\n",
       "      <td>1.191406</td>\n",
       "      <td>0.266113</td>\n",
       "      <td>0.166504</td>\n",
       "      <td>0.448242</td>\n",
       "      <td>0.060028</td>\n",
       "      <td>-0.082336</td>\n",
       "      <td>-0.078796</td>\n",
       "      <td>0.085083</td>\n",
       "      <td>-0.255371</td>\n",
       "      <td>-0.166992</td>\n",
       "      <td>...</td>\n",
       "      <td>-0.069092</td>\n",
       "      <td>-0.225830</td>\n",
       "      <td>-0.638672</td>\n",
       "      <td>0.101318</td>\n",
       "      <td>-0.339844</td>\n",
       "      <td>0.167114</td>\n",
       "      <td>0.125854</td>\n",
       "      <td>-0.008980</td>\n",
       "      <td>0.014725</td>\n",
       "      <td>-0.771747</td>\n",
       "    </tr>\n",
       "    <tr>\n",
       "      <th>2</th>\n",
       "      <td>-1.358398</td>\n",
       "      <td>-1.339844</td>\n",
       "      <td>1.773438</td>\n",
       "      <td>0.379883</td>\n",
       "      <td>-0.503418</td>\n",
       "      <td>1.800781</td>\n",
       "      <td>0.791504</td>\n",
       "      <td>0.247681</td>\n",
       "      <td>-1.514648</td>\n",
       "      <td>0.207642</td>\n",
       "      <td>...</td>\n",
       "      <td>0.524902</td>\n",
       "      <td>0.248047</td>\n",
       "      <td>0.771484</td>\n",
       "      <td>0.909180</td>\n",
       "      <td>-0.689453</td>\n",
       "      <td>-0.327637</td>\n",
       "      <td>-0.139038</td>\n",
       "      <td>-0.055359</td>\n",
       "      <td>-0.059753</td>\n",
       "      <td>-0.288418</td>\n",
       "    </tr>\n",
       "    <tr>\n",
       "      <th>3</th>\n",
       "      <td>-0.966309</td>\n",
       "      <td>-0.185181</td>\n",
       "      <td>1.792969</td>\n",
       "      <td>-0.863281</td>\n",
       "      <td>-0.010307</td>\n",
       "      <td>1.247070</td>\n",
       "      <td>0.237549</td>\n",
       "      <td>0.377441</td>\n",
       "      <td>-1.386719</td>\n",
       "      <td>-0.054962</td>\n",
       "      <td>...</td>\n",
       "      <td>-0.208008</td>\n",
       "      <td>-0.108276</td>\n",
       "      <td>0.005272</td>\n",
       "      <td>-0.190308</td>\n",
       "      <td>-1.175781</td>\n",
       "      <td>0.647461</td>\n",
       "      <td>-0.221924</td>\n",
       "      <td>0.062744</td>\n",
       "      <td>0.061462</td>\n",
       "      <td>2.252057</td>\n",
       "    </tr>\n",
       "    <tr>\n",
       "      <th>4</th>\n",
       "      <td>-1.158203</td>\n",
       "      <td>0.877930</td>\n",
       "      <td>1.548828</td>\n",
       "      <td>0.403076</td>\n",
       "      <td>-0.407227</td>\n",
       "      <td>0.095947</td>\n",
       "      <td>0.592773</td>\n",
       "      <td>-0.270508</td>\n",
       "      <td>0.817871</td>\n",
       "      <td>0.752930</td>\n",
       "      <td>...</td>\n",
       "      <td>0.408447</td>\n",
       "      <td>-0.009430</td>\n",
       "      <td>0.798340</td>\n",
       "      <td>-0.137451</td>\n",
       "      <td>0.141235</td>\n",
       "      <td>-0.206055</td>\n",
       "      <td>0.502441</td>\n",
       "      <td>0.219482</td>\n",
       "      <td>0.215210</td>\n",
       "      <td>0.912989</td>\n",
       "    </tr>\n",
       "  </tbody>\n",
       "</table>\n",
       "<p>5 rows × 29 columns</p>\n",
       "</div>"
      ],
      "text/plain": [
       "         V1        V2        V3        V4        V5        V6        V7  \\\n",
       "0 -1.359375 -0.072754  2.537109  1.377930 -0.338379  0.462402  0.239624   \n",
       "1  1.191406  0.266113  0.166504  0.448242  0.060028 -0.082336 -0.078796   \n",
       "2 -1.358398 -1.339844  1.773438  0.379883 -0.503418  1.800781  0.791504   \n",
       "3 -0.966309 -0.185181  1.792969 -0.863281 -0.010307  1.247070  0.237549   \n",
       "4 -1.158203  0.877930  1.548828  0.403076 -0.407227  0.095947  0.592773   \n",
       "\n",
       "         V8        V9       V10  ...       V20       V21       V22       V23  \\\n",
       "0  0.098694  0.363770  0.090820  ...  0.251465 -0.018311  0.277832 -0.110474   \n",
       "1  0.085083 -0.255371 -0.166992  ... -0.069092 -0.225830 -0.638672  0.101318   \n",
       "2  0.247681 -1.514648  0.207642  ...  0.524902  0.248047  0.771484  0.909180   \n",
       "3  0.377441 -1.386719 -0.054962  ... -0.208008 -0.108276  0.005272 -0.190308   \n",
       "4 -0.270508  0.817871  0.752930  ...  0.408447 -0.009430  0.798340 -0.137451   \n",
       "\n",
       "        V24       V25       V26       V27       V28    Amount  \n",
       "0  0.066956  0.128540 -0.189087  0.133545 -0.021057  2.905947  \n",
       "1 -0.339844  0.167114  0.125854 -0.008980  0.014725 -0.771747  \n",
       "2 -0.689453 -0.327637 -0.139038 -0.055359 -0.059753 -0.288418  \n",
       "3 -1.175781  0.647461 -0.221924  0.062744  0.061462  2.252057  \n",
       "4  0.141235 -0.206055  0.502441  0.219482  0.215210  0.912989  \n",
       "\n",
       "[5 rows x 29 columns]"
      ]
     },
     "execution_count": 267,
     "metadata": {},
     "output_type": "execute_result"
    }
   ],
   "source": [
    "x.head()"
   ]
  },
  {
   "cell_type": "code",
   "execution_count": 268,
   "metadata": {},
   "outputs": [],
   "source": [
    "from sklearn.model_selection import train_test_split\n",
    "X_train,X_test,y_train,y_test=train_test_split(x,y,test_size=0.20,random_state=43)"
   ]
  },
  {
   "cell_type": "code",
   "execution_count": 269,
   "metadata": {
    "scrolled": true
   },
   "outputs": [
    {
     "name": "stdout",
     "output_type": "stream",
     "text": [
      "(227845, 29) (56962, 29) (227845,) (56962,)\n"
     ]
    }
   ],
   "source": [
    "print(X_train.shape,X_test.shape,y_train.shape,y_test.shape)"
   ]
  },
  {
   "cell_type": "code",
   "execution_count": 270,
   "metadata": {},
   "outputs": [
    {
     "data": {
      "text/plain": [
       "227459"
      ]
     },
     "execution_count": 270,
     "metadata": {},
     "output_type": "execute_result"
    }
   ],
   "source": [
    "(y_train==0).sum()"
   ]
  },
  {
   "cell_type": "code",
   "execution_count": 271,
   "metadata": {},
   "outputs": [],
   "source": [
    "models=[DecisionTreeClassifier(),RandomForestClassifier(),BaggingClassifier(),]"
   ]
  },
  {
   "cell_type": "code",
   "execution_count": 272,
   "metadata": {},
   "outputs": [
    {
     "name": "stdout",
     "output_type": "stream",
     "text": [
      "\n",
      "-----------------------------------------------------------------------------\n",
      "For the machine learning model : DecisionTreeClassifier(class_weight=None, criterion='gini', max_depth=None,\n",
      "                       max_features=None, max_leaf_nodes=None,\n",
      "                       min_impurity_decrease=0.0, min_impurity_split=None,\n",
      "                       min_samples_leaf=1, min_samples_split=2,\n",
      "                       min_weight_fraction_leaf=0.0, presort=False,\n",
      "                       random_state=None, splitter='best')\n",
      "Confusion matrix for test samples\n",
      "[[56828    28]\n",
      " [   24    82]]\n",
      "Accuracy score for test samples 0.9990871107053826\n",
      "Confusion matrix for training samples\n",
      "[[227459      0]\n",
      " [     0    386]]\n",
      "Accuracy score for training samples 1.0\n",
      "K-Fold results for machine learning model : DecisionTreeClassifier(class_weight=None, criterion='gini', max_depth=None,\n",
      "                       max_features=None, max_leaf_nodes=None,\n",
      "                       min_impurity_decrease=0.0, min_impurity_split=None,\n",
      "                       min_samples_leaf=1, min_samples_split=2,\n",
      "                       min_weight_fraction_leaf=0.0, presort=False,\n",
      "                       random_state=None, splitter='best') \n",
      "[0.99907834 0.99903445 0.99912223 0.9992539  0.99938556 0.99881501\n",
      " 0.9990783  0.99934164 0.99925386 0.99934161]\n"
     ]
    },
    {
     "name": "stderr",
     "output_type": "stream",
     "text": [
      "C:\\Users\\srivutta\\AppData\\Local\\Continuum\\anaconda3\\lib\\site-packages\\sklearn\\ensemble\\forest.py:245: FutureWarning: The default value of n_estimators will change from 10 in version 0.20 to 100 in 0.22.\n",
      "  \"10 in version 0.20 to 100 in 0.22.\", FutureWarning)\n"
     ]
    },
    {
     "name": "stdout",
     "output_type": "stream",
     "text": [
      "\n",
      "-----------------------------------------------------------------------------\n",
      "For the machine learning model : RandomForestClassifier(bootstrap=True, class_weight=None, criterion='gini',\n",
      "                       max_depth=None, max_features='auto', max_leaf_nodes=None,\n",
      "                       min_impurity_decrease=0.0, min_impurity_split=None,\n",
      "                       min_samples_leaf=1, min_samples_split=2,\n",
      "                       min_weight_fraction_leaf=0.0, n_estimators=10,\n",
      "                       n_jobs=None, oob_score=False, random_state=None,\n",
      "                       verbose=0, warm_start=False)\n",
      "Confusion matrix for test samples\n",
      "[[56847     9]\n",
      " [   27    79]]\n",
      "Accuracy score for test samples 0.9993679997191109\n",
      "Confusion matrix for training samples\n",
      "[[227457      2]\n",
      " [    18    368]]\n",
      "Accuracy score for training samples 0.9999122210274529\n",
      "K-Fold results for machine learning model : RandomForestClassifier(bootstrap=True, class_weight=None, criterion='gini',\n",
      "                       max_depth=None, max_features='auto', max_leaf_nodes=None,\n",
      "                       min_impurity_decrease=0.0, min_impurity_split=None,\n",
      "                       min_samples_leaf=1, min_samples_split=2,\n",
      "                       min_weight_fraction_leaf=0.0, n_estimators=10,\n",
      "                       n_jobs=None, oob_score=False, random_state=None,\n",
      "                       verbose=0, warm_start=False) \n",
      "[0.99934167 0.99956111 0.99942945 0.99964889 0.99973667 0.99938556\n",
      " 0.99947331 0.9995611  0.99960499 0.99978054]\n",
      "\n",
      "-----------------------------------------------------------------------------\n",
      "For the machine learning model : BaggingClassifier(base_estimator=None, bootstrap=True, bootstrap_features=False,\n",
      "                  max_features=1.0, max_samples=1.0, n_estimators=10,\n",
      "                  n_jobs=None, oob_score=False, random_state=None, verbose=0,\n",
      "                  warm_start=False)\n",
      "Confusion matrix for test samples\n",
      "[[56846    10]\n",
      " [   24    82]]\n",
      "Accuracy score for test samples 0.999403110845827\n",
      "Confusion matrix for training samples\n",
      "[[227459      0]\n",
      " [    18    368]]\n",
      "Accuracy score for training samples 0.9999209989247075\n",
      "K-Fold results for machine learning model : BaggingClassifier(base_estimator=None, bootstrap=True, bootstrap_features=False,\n",
      "                  max_features=1.0, max_samples=1.0, n_estimators=10,\n",
      "                  n_jobs=None, oob_score=False, random_state=None, verbose=0,\n",
      "                  warm_start=False) \n",
      "[0.99951723 0.99938556 0.99951723 0.99947334 0.99969278 0.99942945\n",
      " 0.99938553 0.99960499 0.99951721 0.99978054]\n"
     ]
    }
   ],
   "source": [
    "from sklearn.metrics import confusion_matrix,accuracy_score\n",
    "final_accuracy_scores=[]\n",
    "for i in models:\n",
    "    dt=i\n",
    "    dt.fit(X_train,y_train)\n",
    "    dt.predict(X_train)\n",
    "    dt.predict(X_test)\n",
    "    print(\"\")\n",
    "    print(\"-----------------------------------------------------------------------------\")\n",
    "    print(\"For the machine learning model : {}\".format(i))\n",
    "    print(\"Confusion matrix for test samples\")\n",
    "    print(confusion_matrix(y_test,dt.predict(X_test)))\n",
    "    print(\"Accuracy score for test samples\",accuracy_score(y_test,dt.predict(X_test)))\n",
    "    print(\"Confusion matrix for training samples\")\n",
    "    print(confusion_matrix(y_train,dt.predict(X_train)))\n",
    "    print(\"Accuracy score for training samples\",accuracy_score(y_train,dt.predict(X_train)))\n",
    "    final_accuracy_scores.append([i,confusion_matrix(y_test,dt.predict(X_test)),accuracy_score(y_test,dt.predict(X_test)),confusion_matrix(y_train,dt.predict(X_train)),accuracy_score(y_train,dt.predict(X_train))])\n",
    "    from sklearn.model_selection import cross_val_score\n",
    "    print(\"K-Fold results for machine learning model : {} \".format(i))\n",
    "    print(cross_val_score(i,X_train,y_train,cv=10))"
   ]
  },
  {
   "cell_type": "code",
   "execution_count": 273,
   "metadata": {},
   "outputs": [],
   "source": [
    "final_accuracy_scores=pd.DataFrame(final_accuracy_scores)"
   ]
  },
  {
   "cell_type": "code",
   "execution_count": 274,
   "metadata": {},
   "outputs": [
    {
     "data": {
      "text/html": [
       "<div>\n",
       "<style scoped>\n",
       "    .dataframe tbody tr th:only-of-type {\n",
       "        vertical-align: middle;\n",
       "    }\n",
       "\n",
       "    .dataframe tbody tr th {\n",
       "        vertical-align: top;\n",
       "    }\n",
       "\n",
       "    .dataframe thead th {\n",
       "        text-align: right;\n",
       "    }\n",
       "</style>\n",
       "<table border=\"1\" class=\"dataframe\">\n",
       "  <thead>\n",
       "    <tr style=\"text-align: right;\">\n",
       "      <th></th>\n",
       "      <th>0</th>\n",
       "      <th>1</th>\n",
       "      <th>2</th>\n",
       "      <th>3</th>\n",
       "      <th>4</th>\n",
       "    </tr>\n",
       "  </thead>\n",
       "  <tbody>\n",
       "    <tr>\n",
       "      <th>0</th>\n",
       "      <td>DecisionTreeClassifier(class_weight=None, crit...</td>\n",
       "      <td>[[56828, 28], [24, 82]]</td>\n",
       "      <td>0.999087</td>\n",
       "      <td>[[227459, 0], [0, 386]]</td>\n",
       "      <td>1.000000</td>\n",
       "    </tr>\n",
       "    <tr>\n",
       "      <th>1</th>\n",
       "      <td>(DecisionTreeClassifier(class_weight=None, cri...</td>\n",
       "      <td>[[56847, 9], [27, 79]]</td>\n",
       "      <td>0.999368</td>\n",
       "      <td>[[227457, 2], [18, 368]]</td>\n",
       "      <td>0.999912</td>\n",
       "    </tr>\n",
       "    <tr>\n",
       "      <th>2</th>\n",
       "      <td>(DecisionTreeClassifier(class_weight=None, cri...</td>\n",
       "      <td>[[56846, 10], [24, 82]]</td>\n",
       "      <td>0.999403</td>\n",
       "      <td>[[227459, 0], [18, 368]]</td>\n",
       "      <td>0.999921</td>\n",
       "    </tr>\n",
       "  </tbody>\n",
       "</table>\n",
       "</div>"
      ],
      "text/plain": [
       "                                                   0                        1  \\\n",
       "0  DecisionTreeClassifier(class_weight=None, crit...  [[56828, 28], [24, 82]]   \n",
       "1  (DecisionTreeClassifier(class_weight=None, cri...   [[56847, 9], [27, 79]]   \n",
       "2  (DecisionTreeClassifier(class_weight=None, cri...  [[56846, 10], [24, 82]]   \n",
       "\n",
       "          2                         3         4  \n",
       "0  0.999087   [[227459, 0], [0, 386]]  1.000000  \n",
       "1  0.999368  [[227457, 2], [18, 368]]  0.999912  \n",
       "2  0.999403  [[227459, 0], [18, 368]]  0.999921  "
      ]
     },
     "execution_count": 274,
     "metadata": {},
     "output_type": "execute_result"
    }
   ],
   "source": [
    "final_accuracy_scores"
   ]
  },
  {
   "cell_type": "code",
   "execution_count": null,
   "metadata": {},
   "outputs": [],
   "source": []
  }
 ],
 "metadata": {
  "kernelspec": {
   "display_name": "Python 3",
   "language": "python",
   "name": "python3"
  },
  "language_info": {
   "codemirror_mode": {
    "name": "ipython",
    "version": 3
   },
   "file_extension": ".py",
   "mimetype": "text/x-python",
   "name": "python",
   "nbconvert_exporter": "python",
   "pygments_lexer": "ipython3",
   "version": "3.7.3"
  },
  "toc": {
   "base_numbering": 1,
   "nav_menu": {},
   "number_sections": true,
   "sideBar": true,
   "skip_h1_title": false,
   "title_cell": "Table of Contents",
   "title_sidebar": "Contents",
   "toc_cell": false,
   "toc_position": {},
   "toc_section_display": true,
   "toc_window_display": true
  },
  "varInspector": {
   "cols": {
    "lenName": 16,
    "lenType": 16,
    "lenVar": 40
   },
   "kernels_config": {
    "python": {
     "delete_cmd_postfix": "",
     "delete_cmd_prefix": "del ",
     "library": "var_list.py",
     "varRefreshCmd": "print(var_dic_list())"
    },
    "r": {
     "delete_cmd_postfix": ") ",
     "delete_cmd_prefix": "rm(",
     "library": "var_list.r",
     "varRefreshCmd": "cat(var_dic_list()) "
    }
   },
   "types_to_exclude": [
    "module",
    "function",
    "builtin_function_or_method",
    "instance",
    "_Feature"
   ],
   "window_display": false
  }
 },
 "nbformat": 4,
 "nbformat_minor": 2
}
