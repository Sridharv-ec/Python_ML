{
 "cells": [
  {
   "cell_type": "code",
   "execution_count": 1,
   "metadata": {},
   "outputs": [],
   "source": [
    "import pandas as pd\n",
    "import numpy as np\n",
    "\n",
    "from sklearn.feature_extraction.text import TfidfVectorizer\n",
    "from sklearn.metrics.pairwise import cosine_similarity"
   ]
  },
  {
   "cell_type": "code",
   "execution_count": 2,
   "metadata": {},
   "outputs": [],
   "source": [
    "df = pd.read_csv(\"C:\\\\Sridhar\\\\AI_ML\\\\Algorithms\\\\NLP\\\\dataset\\\\aws_faq (1).csv\")\n",
    "df.dropna(inplace=True)"
   ]
  },
  {
   "cell_type": "code",
   "execution_count": 3,
   "metadata": {},
   "outputs": [
    {
     "data": {
      "text/plain": [
       "TfidfVectorizer(analyzer='word', binary=False, decode_error='strict',\n",
       "                dtype=<class 'numpy.float64'>, encoding='utf-8',\n",
       "                input='content', lowercase=True, max_df=1.0, max_features=None,\n",
       "                min_df=1, ngram_range=(1, 1), norm='l2', preprocessor=None,\n",
       "                smooth_idf=True, stop_words=None, strip_accents=None,\n",
       "                sublinear_tf=False, token_pattern='(?u)\\\\b\\\\w\\\\w+\\\\b',\n",
       "                tokenizer=None, use_idf=True, vocabulary=None)"
      ]
     },
     "execution_count": 3,
     "metadata": {},
     "output_type": "execute_result"
    }
   ],
   "source": [
    "vectorizer = TfidfVectorizer()\n",
    "vectorizer.fit(np.concatenate((df.Question, df.Answer)))"
   ]
  },
  {
   "cell_type": "code",
   "execution_count": 4,
   "metadata": {},
   "outputs": [],
   "source": [
    "Question_vectors = vectorizer.transform(df.Question)"
   ]
  },
  {
   "cell_type": "code",
   "execution_count": 5,
   "metadata": {},
   "outputs": [],
   "source": [
    "# print(\"You can start chatting with me now.\")\n",
    "# while True:\n",
    "#     input_question = input()\n",
    "    \n",
    "#     input_question_vector = vectorizer.transform([input_question])\n",
    "    \n",
    "#     similarities = cosine_similarity(input_question_vector, Question_vectors)\n",
    "    \n",
    "#     closest = np.argmax(similarities, axis=1)\n",
    "    \n",
    "#     print(\"BOT: \" + df.Answer.iloc[closet].values[0])\n",
    "    \n",
    "    "
   ]
  },
  {
   "cell_type": "code",
   "execution_count": 10,
   "metadata": {},
   "outputs": [
    {
     "name": "stdout",
     "output_type": "stream",
     "text": [
      "Collecting gTTS\n",
      "  Downloading https://files.pythonhosted.org/packages/b5/e7/29f8d334627629aa842ecd13a77c82c5419de849c53e906f472ce7e0c768/gTTS-2.1.0-py3-none-any.whl\n",
      "Requirement already satisfied: beautifulsoup4 in c:\\users\\srivutta\\appdata\\local\\continuum\\anaconda3\\lib\\site-packages (from gTTS) (4.7.1)\n",
      "Collecting gtts-token>=1.1.3 (from gTTS)\n",
      "  Downloading https://files.pythonhosted.org/packages/e7/25/ca6e9cd3275bfc3097fe6b06cc31db6d3dfaf32e032e0f73fead9c9a03ce/gTTS-token-1.1.3.tar.gz\n",
      "Requirement already satisfied: requests in c:\\users\\srivutta\\appdata\\local\\continuum\\anaconda3\\lib\\site-packages (from gTTS) (2.22.0)\n",
      "Requirement already satisfied: six in c:\\users\\srivutta\\appdata\\local\\continuum\\anaconda3\\lib\\site-packages (from gTTS) (1.12.0)\n",
      "Requirement already satisfied: click in c:\\users\\srivutta\\appdata\\local\\continuum\\anaconda3\\lib\\site-packages (from gTTS) (7.0)\n",
      "Requirement already satisfied: soupsieve>=1.2 in c:\\users\\srivutta\\appdata\\local\\continuum\\anaconda3\\lib\\site-packages (from beautifulsoup4->gTTS) (1.8)\n",
      "Requirement already satisfied: chardet<3.1.0,>=3.0.2 in c:\\users\\srivutta\\appdata\\local\\continuum\\anaconda3\\lib\\site-packages (from requests->gTTS) (3.0.4)\n",
      "Requirement already satisfied: urllib3!=1.25.0,!=1.25.1,<1.26,>=1.21.1 in c:\\users\\srivutta\\appdata\\local\\continuum\\anaconda3\\lib\\site-packages (from requests->gTTS) (1.24.2)\n",
      "Requirement already satisfied: certifi>=2017.4.17 in c:\\users\\srivutta\\appdata\\local\\continuum\\anaconda3\\lib\\site-packages (from requests->gTTS) (2019.6.16)\n",
      "Requirement already satisfied: idna<2.9,>=2.5 in c:\\users\\srivutta\\appdata\\local\\continuum\\anaconda3\\lib\\site-packages (from requests->gTTS) (2.8)\n",
      "Building wheels for collected packages: gtts-token\n",
      "  Building wheel for gtts-token (setup.py): started\n",
      "  Building wheel for gtts-token (setup.py): finished with status 'done'\n",
      "  Stored in directory: C:\\Users\\srivutta\\AppData\\Local\\pip\\Cache\\wheels\\dd\\11\\61\\33f7e51bf545e910552b2255eead2a7cd8ef54064b46dceb34\n",
      "Successfully built gtts-token\n",
      "Installing collected packages: gtts-token, gTTS\n",
      "Successfully installed gTTS-2.1.0 gtts-token-1.1.3\n",
      "Note: you may need to restart the kernel to use updated packages.\n"
     ]
    }
   ],
   "source": [
    "pip install gTTS"
   ]
  },
  {
   "cell_type": "code",
   "execution_count": 12,
   "metadata": {},
   "outputs": [
    {
     "name": "stdout",
     "output_type": "stream",
     "text": [
      "You can start chatting with me now.\n",
      "What can I do with Amazon EC2?\n",
      "BOT: Just as Amazon Simple Storage Service (Amazon S3) enables storage in the cloud, Amazon EC2 enables “compute” in the cloud. Amazon EC2’s simple web service interface allows you to obtain and configure capacity with minimal friction. It provides you with complete control of your computing resources and lets you run on Amazon’s proven computing environment. Amazon EC2 reduces the time required to obtain and boot new server instances to minutes, allowing you to quickly scale capacity, both up and down, as your computing requirements change. Amazon EC2 changes the economics of computing by allowing you to pay only for capacity that you actually use.\n",
      "Just as Amazon Simple Storage Service (Amazon S3) enables storage in the cloud, Amazon EC2 enables “compute” in the cloud. Amazon EC2’s simple web service interface allows you to obtain and configure capacity with minimal friction. It provides you with complete control of your computing resources and lets you run on Amazon’s proven computing environment. Amazon EC2 reduces the time required to obtain and boot new server instances to minutes, allowing you to quickly scale capacity, both up and down, as your computing requirements change. Amazon EC2 changes the economics of computing by allowing you to pay only for capacity that you actually use.\n"
     ]
    },
    {
     "data": {
      "text/plain": [
       "0"
      ]
     },
     "execution_count": 12,
     "metadata": {},
     "output_type": "execute_result"
    }
   ],
   "source": [
    "print(\"You can start chatting with me now.\")\n",
    "\n",
    "input_question = input()\n",
    "   \n",
    "input_question_vector = vectorizer.transform([input_question])\n",
    " \n",
    "similarities = cosine_similarity(input_question_vector, Question_vectors)\n",
    "    \n",
    "closest = np.argmax(similarities, axis=1)\n",
    "    \n",
    "print(\"BOT: \" + df.Answer.iloc[closest].values[0])\n",
    "    \n",
    "text = df.Answer.iloc[closest].values[0]\n",
    "\n",
    "print(text)\n",
    "\n",
    "from gtts import gTTS\n",
    "import os\n",
    "mytext = text\n",
    "language = 'en'\n",
    "myobj = gTTS(text = mytext, lang=language, slow = False)\n",
    "myobj.save(\"Welcome.mp3\")\n",
    "os.system(\"Welcome.mp3\")"
   ]
  },
  {
   "cell_type": "code",
   "execution_count": 13,
   "metadata": {},
   "outputs": [
    {
     "ename": "NameError",
     "evalue": "name 'win32com' is not defined",
     "output_type": "error",
     "traceback": [
      "\u001b[1;31m---------------------------------------------------------------------------\u001b[0m",
      "\u001b[1;31mNameError\u001b[0m                                 Traceback (most recent call last)",
      "\u001b[1;32m<ipython-input-13-1c0e380fd3e2>\u001b[0m in \u001b[0;36m<module>\u001b[1;34m\u001b[0m\n\u001b[0;32m      2\u001b[0m \u001b[0ma\u001b[0m\u001b[1;33m=\u001b[0m\u001b[1;33m[\u001b[0m\u001b[1;33m]\u001b[0m\u001b[1;33m\u001b[0m\u001b[1;33m\u001b[0m\u001b[0m\n\u001b[0;32m      3\u001b[0m \u001b[1;32mwhile\u001b[0m \u001b[1;33m(\u001b[0m\u001b[0mi\u001b[0m\u001b[1;33m==\u001b[0m\u001b[1;34m\"yes\"\u001b[0m\u001b[1;33m)\u001b[0m\u001b[1;33m:\u001b[0m\u001b[1;33m\u001b[0m\u001b[1;33m\u001b[0m\u001b[0m\n\u001b[1;32m----> 4\u001b[1;33m     \u001b[0mspeaker\u001b[0m \u001b[1;33m=\u001b[0m \u001b[0mwin32com\u001b[0m\u001b[1;33m.\u001b[0m\u001b[0mclient\u001b[0m\u001b[1;33m.\u001b[0m\u001b[0mDispatch\u001b[0m\u001b[1;33m(\u001b[0m\u001b[1;34m\"SAPI.SpVoice\"\u001b[0m\u001b[1;33m)\u001b[0m\u001b[1;33m\u001b[0m\u001b[1;33m\u001b[0m\u001b[0m\n\u001b[0m\u001b[0;32m      5\u001b[0m     \u001b[0mr\u001b[0m \u001b[1;33m=\u001b[0m \u001b[0msr\u001b[0m\u001b[1;33m.\u001b[0m\u001b[0mRecognizer\u001b[0m\u001b[1;33m(\u001b[0m\u001b[1;33m)\u001b[0m\u001b[1;33m\u001b[0m\u001b[1;33m\u001b[0m\u001b[0m\n\u001b[0;32m      6\u001b[0m     \u001b[1;32mwith\u001b[0m \u001b[0msr\u001b[0m\u001b[1;33m.\u001b[0m\u001b[0mMicrophone\u001b[0m\u001b[1;33m(\u001b[0m\u001b[1;33m)\u001b[0m \u001b[1;32mas\u001b[0m \u001b[0msource\u001b[0m\u001b[1;33m:\u001b[0m\u001b[1;33m\u001b[0m\u001b[1;33m\u001b[0m\u001b[0m\n",
      "\u001b[1;31mNameError\u001b[0m: name 'win32com' is not defined"
     ]
    }
   ],
   "source": [
    "i=\"yes\"\n",
    "a=[]\n",
    "while (i==\"yes\"): \n",
    "    speaker = win32com.client.Dispatch(\"SAPI.SpVoice\") \n",
    "    r = sr.Recognizer()\n",
    "    with sr.Microphone() as source:\n",
    "        print(\"hey, Tell me about your phone ? \")\n",
    "        speaker.Speak(\"hey, Tell me about your phone ?  \")\n",
    "        print(\"Listining now ..... \")\n",
    "        #print(\"Speak now :\")\n",
    "        #speaker.Speak(\"Speak now :\")\n",
    "        audio = r.listen(source)\n",
    "        try:\n",
    "            text = r.recognize_google(audio)\n",
    "            print(\"You said : {}\".format(text))\n",
    "            a.append(text)\n",
    "        except:\n",
    "            print(\"Sorry could not recognize what you said\")\n",
    "    #i=1\n",
    "    r1 = sr.Recognizer()\n",
    "    #i==\"no\"\n",
    "    with sr.Microphone() as source:\n",
    "        print(\"should we continue ?\")\n",
    "        speaker.Speak(\"should we continue ? \")\n",
    "        print(\"Listining now ..... \")\n",
    "        audio1 = r1.listen(source)\n",
    "        try:\n",
    "            i = r1.recognize_google(audio1)\n",
    "            print(\"You said : {}\".format(i))\n",
    "            #a.append(text)\n",
    "        except:\n",
    "            print(\"Sorry could not recognize what you said\")\n",
    "            \n",
    "\n",
    "print(a)\n",
    "y=model.predict(vect.transform(a))\n",
    "print(y)\n",
    "r=0\n",
    "for t in y:\n",
    "    r+=1\n",
    "    if t==0:\n",
    "        speaker.Speak(\"your Feedback for phone {} is recognized as Bad Review!\".format(r))\n",
    "    else:\n",
    "        speaker.Speak(\"your Feedback for phone {} is recognized as Good Review!\".format(r))\n",
    "# if y[0]==0:\n",
    "#     speaker.Speak(\"your Feedback is recognized as Bad Review!\")\n",
    "# else:\n",
    "#     speaker.Speak(\"your Feedback is recognized as Good Review!\")"
   ]
  },
  {
   "cell_type": "code",
   "execution_count": null,
   "metadata": {},
   "outputs": [],
   "source": []
  }
 ],
 "metadata": {
  "kernelspec": {
   "display_name": "Python 3",
   "language": "python",
   "name": "python3"
  },
  "language_info": {
   "codemirror_mode": {
    "name": "ipython",
    "version": 3
   },
   "file_extension": ".py",
   "mimetype": "text/x-python",
   "name": "python",
   "nbconvert_exporter": "python",
   "pygments_lexer": "ipython3",
   "version": "3.7.3"
  },
  "toc": {
   "base_numbering": 1,
   "nav_menu": {},
   "number_sections": true,
   "sideBar": true,
   "skip_h1_title": false,
   "title_cell": "Table of Contents",
   "title_sidebar": "Contents",
   "toc_cell": false,
   "toc_position": {},
   "toc_section_display": true,
   "toc_window_display": false
  },
  "varInspector": {
   "cols": {
    "lenName": 16,
    "lenType": 16,
    "lenVar": 40
   },
   "kernels_config": {
    "python": {
     "delete_cmd_postfix": "",
     "delete_cmd_prefix": "del ",
     "library": "var_list.py",
     "varRefreshCmd": "print(var_dic_list())"
    },
    "r": {
     "delete_cmd_postfix": ") ",
     "delete_cmd_prefix": "rm(",
     "library": "var_list.r",
     "varRefreshCmd": "cat(var_dic_list()) "
    }
   },
   "types_to_exclude": [
    "module",
    "function",
    "builtin_function_or_method",
    "instance",
    "_Feature"
   ],
   "window_display": false
  }
 },
 "nbformat": 4,
 "nbformat_minor": 2
}
