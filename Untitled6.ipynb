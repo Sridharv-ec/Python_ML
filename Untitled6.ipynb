{
 "cells": [
  {
   "cell_type": "code",
   "execution_count": null,
   "metadata": {},
   "outputs": [],
   "source": [
    "import pandas as pd\n",
    "import numpy as np\n",
    "\n",
    "df=pd.read_csv(\"C:\\\\Users\\\\Santosh.Kumar1\\\\Desktop\\\\Homecredit\\\\application_train.csv\")\n",
    "df.head()\n",
    "df.shape\n",
    "df['TARGET'].value_counts()\n",
    "p_emi=df['TARGET'].value_counts(normalize=True).values[0]\n",
    "p_noemi=df['TARGET'].value_counts(normalize=True).values[1]\n",
    "import math\n",
    "-p_emi*math.log(p_emi,2)-p_noemi*math.log(p_noemi,2)\n",
    "df.columns[0:4]\n",
    "table_x1=pd.crosstab(df['TARGET'],df['NAME_CONTRACT_TYPE']).T\n",
    "table_x1.values.sum(axis=1)/table_x1.values.sum()\n",
    "table_x1.values.sum(axis=1)\n",
    "-255011/278232*math.log(255011/278232,2)-23221/278232*math.log(23221/278232,2)\n",
    "-27675/29279*math.log(27675/29279,2)-1604/29279*math.log(1604/29279,2)\n",
    "0.4142518777253292 *0.90478715 +0.3063785944428595 *0.09521285\n",
    "table_x1\n",
    "import math\n",
    "p_emi=\n",
    "p_noemi\n",
    "-p_emi*math.log(p_emi,2)-p_noemi*math.log(p_noemi,2)\n",
    "pd.crosstab(df['TARGET'],df['FLAG_OWN_CAR']).T\n",
    "p(c_N)*e(c_N)+p(c_Y)*e(c_Y)\n",
    "df.shape\n",
    "df.sample(100).head()\n",
    "df.sample(1000).head()\n",
    "df.sample(1000).head()"
   ]
  }
 ],
 "metadata": {
  "kernelspec": {
   "display_name": "Python 3",
   "language": "python",
   "name": "python3"
  },
  "language_info": {
   "codemirror_mode": {
    "name": "ipython",
    "version": 3
   },
   "file_extension": ".py",
   "mimetype": "text/x-python",
   "name": "python",
   "nbconvert_exporter": "python",
   "pygments_lexer": "ipython3",
   "version": "3.7.3"
  },
  "toc": {
   "base_numbering": 1,
   "nav_menu": {},
   "number_sections": true,
   "sideBar": true,
   "skip_h1_title": false,
   "title_cell": "Table of Contents",
   "title_sidebar": "Contents",
   "toc_cell": false,
   "toc_position": {},
   "toc_section_display": true,
   "toc_window_display": false
  },
  "varInspector": {
   "cols": {
    "lenName": 16,
    "lenType": 16,
    "lenVar": 40
   },
   "kernels_config": {
    "python": {
     "delete_cmd_postfix": "",
     "delete_cmd_prefix": "del ",
     "library": "var_list.py",
     "varRefreshCmd": "print(var_dic_list())"
    },
    "r": {
     "delete_cmd_postfix": ") ",
     "delete_cmd_prefix": "rm(",
     "library": "var_list.r",
     "varRefreshCmd": "cat(var_dic_list()) "
    }
   },
   "types_to_exclude": [
    "module",
    "function",
    "builtin_function_or_method",
    "instance",
    "_Feature"
   ],
   "window_display": false
  }
 },
 "nbformat": 4,
 "nbformat_minor": 2
}
