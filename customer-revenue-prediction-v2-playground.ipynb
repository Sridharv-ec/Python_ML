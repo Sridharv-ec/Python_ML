{
 "cells": [
  {
   "cell_type": "code",
   "execution_count": 1,
   "metadata": {
    "_cell_guid": "b1076dfc-b9ad-4769-8c92-a6c4dae69d19",
    "_uuid": "8f2839f25d086af736a60e9eeb907d3b93b6e0e5"
   },
   "outputs": [
    {
     "name": "stdout",
     "output_type": "stream",
     "text": [
      "['train_v2.csv', 'test_v2.csv', 'sample_submission_v2.csv']\n"
     ]
    }
   ],
   "source": [
    "import pandas as pd\n",
    "import numpy as np\n",
    "import matplotlib.pyplot as plt\n",
    "import seaborn as sns\n",
    "import json\n",
    "import gc\n",
    "import sys\n",
    "import math\n",
    "\n",
    "from pandas.io.json import json_normalize\n",
    "from datetime import datetime\n",
    "\n",
    "import os\n",
    "print(os.listdir(\"../input\"))"
   ]
  },
  {
   "cell_type": "code",
   "execution_count": 2,
   "metadata": {
    "_uuid": "e688678dc2a15c21b4ad76461cdbbe2983cdb54c"
   },
   "outputs": [],
   "source": [
    "gc.enable()\n",
    "\n",
    "features = ['channelGrouping', 'date', 'fullVisitorId', 'visitId',\\\n",
    "       'visitNumber', 'visitStartTime', 'device.browser',\\\n",
    "       'device.deviceCategory', 'device.isMobile', 'device.operatingSystem',\\\n",
    "       'geoNetwork.city', 'geoNetwork.continent', 'geoNetwork.country',\\\n",
    "       'geoNetwork.metro', 'geoNetwork.networkDomain', 'geoNetwork.region',\\\n",
    "       'geoNetwork.subContinent', 'totals.bounces', 'totals.hits',\\\n",
    "       'totals.newVisits', 'totals.pageviews', 'totals.transactionRevenue',\\\n",
    "       'trafficSource.adContent', 'trafficSource.campaign',\\\n",
    "       'trafficSource.isTrueDirect', 'trafficSource.keyword',\\\n",
    "       'trafficSource.medium', 'trafficSource.referralPath',\\\n",
    "       'trafficSource.source', 'customDimensions']\n",
    "\n",
    "def load_df(csv_path):\n",
    "    JSON_COLUMNS = ['device', 'geoNetwork', 'totals', 'trafficSource']\n",
    "    ans = pd.DataFrame()\n",
    "    dfs = pd.read_csv(csv_path, sep=',',\n",
    "            converters={column: json.loads for column in JSON_COLUMNS}, \n",
    "            dtype={'fullVisitorId': 'str'}, # Important!!\n",
    "            chunksize=100000)\n",
    "    for df in dfs:\n",
    "        df.reset_index(drop=True, inplace=True)\n",
    "        for column in JSON_COLUMNS:\n",
    "            column_as_df = json_normalize(df[column])\n",
    "            column_as_df.columns = [f\"{column}.{subcolumn}\" for subcolumn in column_as_df.columns]\n",
    "            df = df.drop(column, axis=1).merge(column_as_df, right_index=True, left_index=True)\n",
    "\n",
    "        #print(f\"Loaded {os.path.basename(csv_path)}. Shape: {df.shape}\")\n",
    "        use_df = df[features]\n",
    "        del df\n",
    "        gc.collect()\n",
    "        ans = pd.concat([ans, use_df], axis=0).reset_index(drop=True)\n",
    "        #print(ans.shape)\n",
    "    return ans"
   ]
  },
  {
   "cell_type": "code",
   "execution_count": 3,
   "metadata": {
    "_cell_guid": "79c7e3d0-c299-4dcb-8224-4455121ee9b0",
    "_uuid": "d629ff2d2480ee46fbb7e2d37f6b5fab8052498a",
    "scrolled": true
   },
   "outputs": [
    {
     "name": "stdout",
     "output_type": "stream",
     "text": [
      "train date: 20160801 to 20180430\n",
      "test date: 20180501 to 20181015\n",
      "CPU times: user 13min 4s, sys: 50.5 s, total: 13min 55s\n",
      "Wall time: 13min 55s\n"
     ]
    }
   ],
   "source": [
    "%%time\n",
    "train = load_df('../input/train_v2.csv')\n",
    "test = load_df('../input/test_v2.csv')\n",
    "\n",
    "print('train date:', min(train['date']), 'to', max(train['date']))\n",
    "print('test date:', min(test['date']), 'to', max(test['date']))"
   ]
  },
  {
   "cell_type": "code",
   "execution_count": 4,
   "metadata": {
    "_uuid": "838393362ad3cf67afe056b0a27cb11926077220"
   },
   "outputs": [
    {
     "name": "stdout",
     "output_type": "stream",
     "text": [
      "Memory usage of dataframe is 398042601.00 MB\n",
      "Memory usage after optimization is: 369000872.00 MB\n",
      "Decreased by 7.3%\n",
      "Memory usage of dataframe is 93570317.00 MB\n",
      "Memory usage after optimization is: 86743304.00 MB\n",
      "Decreased by 7.3%\n"
     ]
    }
   ],
   "source": [
    "# Thanks and credited to https://www.kaggle.com/gemartin\n",
    "def reduce_mem_usage(df):\n",
    "    \"\"\" iterate through all the columns of a dataframe and modify the data type\n",
    "        to reduce memory usage.        \n",
    "    \"\"\"\n",
    "    start_mem = df.memory_usage().sum() \n",
    "    print('Memory usage of dataframe is {:.2f} MB'.format(start_mem))\n",
    "    \n",
    "    for col in df.columns:\n",
    "        col_type = df[col].dtype\n",
    "        \n",
    "        if col_type != object:\n",
    "            c_min = df[col].min()\n",
    "            c_max = df[col].max()\n",
    "            if str(col_type)[:3] == 'int':\n",
    "                if c_min > np.iinfo(np.int8).min and c_max < np.iinfo(np.int8).max:\n",
    "                    df[col] = df[col].astype(np.int8)\n",
    "                elif c_min > np.iinfo(np.int16).min and c_max < np.iinfo(np.int16).max:\n",
    "                    df[col] = df[col].astype(np.int16)\n",
    "                elif c_min > np.iinfo(np.int32).min and c_max < np.iinfo(np.int32).max:\n",
    "                    df[col] = df[col].astype(np.int32)\n",
    "                elif c_min > np.iinfo(np.int64).min and c_max < np.iinfo(np.int64).max:\n",
    "                    df[col] = df[col].astype(np.int64)  \n",
    "            else:\n",
    "                if c_min > np.finfo(np.float16).min and c_max < np.finfo(np.float16).max:\n",
    "                    df[col] = df[col].astype(np.float16)\n",
    "                elif c_min > np.finfo(np.float32).min and c_max < np.finfo(np.float32).max:\n",
    "                    df[col] = df[col].astype(np.float32)\n",
    "                else:\n",
    "                    df[col] = df[col].astype(np.float64)\n",
    "        #else:\n",
    "            #df[col] = df[col].astype('category')\n",
    "\n",
    "    end_mem = df.memory_usage().sum() \n",
    "    print('Memory usage after optimization is: {:.2f} MB'.format(end_mem))\n",
    "    print('Decreased by {:.1f}%'.format(100 * (start_mem - end_mem) / start_mem))\n",
    "    return df\n",
    "\n",
    "train = reduce_mem_usage(train)\n",
    "test = reduce_mem_usage(test)"
   ]
  },
  {
   "cell_type": "code",
   "execution_count": 5,
   "metadata": {
    "_uuid": "3a4cd6ceececc6736eed2ca310037ca59df30563"
   },
   "outputs": [],
   "source": [
    "# only train feature\n",
    "for c in train.columns.values:\n",
    "    if c not in test.columns.values: print(c)"
   ]
  },
  {
   "cell_type": "code",
   "execution_count": 6,
   "metadata": {
    "_uuid": "92a8e510b31fc08078cadc85836b8807ea12ef51",
    "scrolled": true
   },
   "outputs": [
    {
     "name": "stdout",
     "output_type": "stream",
     "text": [
      "count    1.708337e+06\n",
      "mean     1.925875e-01\n",
      "std      1.844057e+00\n",
      "min      0.000000e+00\n",
      "25%      0.000000e+00\n",
      "50%      0.000000e+00\n",
      "75%      0.000000e+00\n",
      "max      2.386437e+01\n",
      "Name: totals.transactionRevenue, dtype: float64\n"
     ]
    }
   ],
   "source": [
    "train['totals.transactionRevenue'].fillna(0, inplace=True)\n",
    "train['totals.transactionRevenue'] = np.log1p(train['totals.transactionRevenue'].astype(float))\n",
    "print(train['totals.transactionRevenue'].describe())"
   ]
  },
  {
   "cell_type": "code",
   "execution_count": 7,
   "metadata": {
    "_uuid": "ce7728eb1e5e50bd38f6db35feeb133b471d3721"
   },
   "outputs": [],
   "source": [
    "test['totals.transactionRevenue'] = np.nan"
   ]
  },
  {
   "cell_type": "markdown",
   "metadata": {
    "_uuid": "39e9e2840995b2a4d084b2a23644028622451e79"
   },
   "source": [
    "# "
   ]
  },
  {
   "cell_type": "code",
   "execution_count": 8,
   "metadata": {
    "_uuid": "02c53418bb112ed272f7282d3e1e4b3228ec3f39"
   },
   "outputs": [],
   "source": [
    "all_data = train.append(test, sort=False).reset_index(drop=True)"
   ]
  },
  {
   "cell_type": "code",
   "execution_count": 9,
   "metadata": {
    "_uuid": "21e9028c7ddbec508a817e3253b3dcfccf0a6f8b",
    "scrolled": true
   },
   "outputs": [
    {
     "name": "stdout",
     "output_type": "stream",
     "text": [
      "<class 'pandas.core.frame.DataFrame'>\n",
      "RangeIndex: 2109926 entries, 0 to 2109925\n",
      "Data columns (total 30 columns):\n",
      "channelGrouping               object\n",
      "date                          int32\n",
      "fullVisitorId                 object\n",
      "visitId                       int32\n",
      "visitNumber                   int16\n",
      "visitStartTime                int32\n",
      "device.browser                object\n",
      "device.deviceCategory         object\n",
      "device.isMobile               float16\n",
      "device.operatingSystem        object\n",
      "geoNetwork.city               object\n",
      "geoNetwork.continent          object\n",
      "geoNetwork.country            object\n",
      "geoNetwork.metro              object\n",
      "geoNetwork.networkDomain      object\n",
      "geoNetwork.region             object\n",
      "geoNetwork.subContinent       object\n",
      "totals.bounces                object\n",
      "totals.hits                   object\n",
      "totals.newVisits              object\n",
      "totals.pageviews              object\n",
      "totals.transactionRevenue     float64\n",
      "trafficSource.adContent       object\n",
      "trafficSource.campaign        object\n",
      "trafficSource.isTrueDirect    object\n",
      "trafficSource.keyword         object\n",
      "trafficSource.medium          object\n",
      "trafficSource.referralPath    object\n",
      "trafficSource.source          object\n",
      "customDimensions              object\n",
      "dtypes: float16(1), float64(1), int16(1), int32(3), object(24)\n",
      "memory usage: 434.6+ MB\n",
      "None\n"
     ]
    }
   ],
   "source": [
    "print(all_data.info())"
   ]
  },
  {
   "cell_type": "code",
   "execution_count": 10,
   "metadata": {
    "_uuid": "69f008c8b1d10e4b28945b97be085b43c290cc27",
    "scrolled": false
   },
   "outputs": [
    {
     "name": "stdout",
     "output_type": "stream",
     "text": [
      "totals.pageviews                  239\n",
      "totals.newVisits               400907\n",
      "totals.bounces                 836759\n",
      "trafficSource.keyword         1052780\n",
      "trafficSource.referralPath    1142073\n",
      "trafficSource.isTrueDirect    1173819\n",
      "trafficSource.adContent       1643600\n",
      "dtype: int64\n"
     ]
    }
   ],
   "source": [
    "null_cnt = train.isnull().sum().sort_values()\n",
    "print(null_cnt[null_cnt > 0])"
   ]
  },
  {
   "cell_type": "code",
   "execution_count": 11,
   "metadata": {
    "_uuid": "f3134948730860dbe84e9a3672b5398c437b791f"
   },
   "outputs": [],
   "source": [
    "# fillna object feature\n",
    "for col in ['trafficSource.keyword',\n",
    "            'trafficSource.referralPath',\n",
    "            'trafficSource.adContent']:\n",
    "    all_data[col].fillna('unknown', inplace=True)\n",
    "\n",
    "# fillna numeric feature\n",
    "all_data['totals.pageviews'].fillna(1, inplace=True)\n",
    "all_data['totals.newVisits'].fillna(0, inplace=True)\n",
    "all_data['totals.bounces'].fillna(0, inplace=True)\n",
    "all_data['totals.pageviews'] = all_data['totals.pageviews'].astype(int)\n",
    "all_data['totals.newVisits'] = all_data['totals.newVisits'].astype(int)\n",
    "all_data['totals.bounces'] = all_data['totals.bounces'].astype(int)\n",
    "\n",
    "# fillna boolean feature\n",
    "all_data['trafficSource.isTrueDirect'].fillna(False, inplace=True)"
   ]
  },
  {
   "cell_type": "code",
   "execution_count": 12,
   "metadata": {
    "_uuid": "e93201ab3ceec116e1e66c64e8cb8b13019d96f6"
   },
   "outputs": [
    {
     "name": "stdout",
     "output_type": "stream",
     "text": [
      "drop columns: []\n"
     ]
    }
   ],
   "source": [
    "# drop constant column\n",
    "constant_column = [col for col in all_data.columns if all_data[col].nunique() == 1]\n",
    "#for c in constant_column:\n",
    "#    print(c + ':', train[c].unique())\n",
    "\n",
    "print('drop columns:', constant_column)\n",
    "all_data.drop(constant_column, axis=1, inplace=True)"
   ]
  },
  {
   "cell_type": "code",
   "execution_count": 13,
   "metadata": {
    "_uuid": "e607e6782bbbaa79a7cfbaa79364223a899fe94c"
   },
   "outputs": [
    {
     "data": {
      "text/html": [
       "<div>\n",
       "<style scoped>\n",
       "    .dataframe tbody tr th:only-of-type {\n",
       "        vertical-align: middle;\n",
       "    }\n",
       "\n",
       "    .dataframe tbody tr th {\n",
       "        vertical-align: top;\n",
       "    }\n",
       "\n",
       "    .dataframe thead th {\n",
       "        text-align: right;\n",
       "    }\n",
       "</style>\n",
       "<table border=\"1\" class=\"dataframe\">\n",
       "  <thead>\n",
       "    <tr style=\"text-align: right;\">\n",
       "      <th></th>\n",
       "      <th>date</th>\n",
       "      <th>visitId</th>\n",
       "      <th>visitNumber</th>\n",
       "      <th>totals.hits</th>\n",
       "      <th>totals.pageviews</th>\n",
       "    </tr>\n",
       "  </thead>\n",
       "  <tbody>\n",
       "    <tr>\n",
       "      <th>314476</th>\n",
       "      <td>20161117</td>\n",
       "      <td>1479408977</td>\n",
       "      <td>1</td>\n",
       "      <td>37</td>\n",
       "      <td>33</td>\n",
       "    </tr>\n",
       "    <tr>\n",
       "      <th>31816</th>\n",
       "      <td>20161118</td>\n",
       "      <td>1479496350</td>\n",
       "      <td>2</td>\n",
       "      <td>2</td>\n",
       "      <td>2</td>\n",
       "    </tr>\n",
       "    <tr>\n",
       "      <th>32524</th>\n",
       "      <td>20161118</td>\n",
       "      <td>1479507825</td>\n",
       "      <td>3</td>\n",
       "      <td>14</td>\n",
       "      <td>12</td>\n",
       "    </tr>\n",
       "    <tr>\n",
       "      <th>338140</th>\n",
       "      <td>20161122</td>\n",
       "      <td>1479831970</td>\n",
       "      <td>4</td>\n",
       "      <td>3</td>\n",
       "      <td>3</td>\n",
       "    </tr>\n",
       "    <tr>\n",
       "      <th>338305</th>\n",
       "      <td>20161122</td>\n",
       "      <td>1479842287</td>\n",
       "      <td>5</td>\n",
       "      <td>4</td>\n",
       "      <td>4</td>\n",
       "    </tr>\n",
       "    <tr>\n",
       "      <th>495433</th>\n",
       "      <td>20161202</td>\n",
       "      <td>1480691778</td>\n",
       "      <td>13</td>\n",
       "      <td>1</td>\n",
       "      <td>1</td>\n",
       "    </tr>\n",
       "    <tr>\n",
       "      <th>1203329</th>\n",
       "      <td>20161206</td>\n",
       "      <td>1481036817</td>\n",
       "      <td>14</td>\n",
       "      <td>12</td>\n",
       "      <td>10</td>\n",
       "    </tr>\n",
       "    <tr>\n",
       "      <th>1204477</th>\n",
       "      <td>20161206</td>\n",
       "      <td>1481040342</td>\n",
       "      <td>15</td>\n",
       "      <td>1</td>\n",
       "      <td>1</td>\n",
       "    </tr>\n",
       "    <tr>\n",
       "      <th>1203514</th>\n",
       "      <td>20161206</td>\n",
       "      <td>1481061263</td>\n",
       "      <td>16</td>\n",
       "      <td>28</td>\n",
       "      <td>19</td>\n",
       "    </tr>\n",
       "    <tr>\n",
       "      <th>1203516</th>\n",
       "      <td>20161206</td>\n",
       "      <td>1481065071</td>\n",
       "      <td>17</td>\n",
       "      <td>28</td>\n",
       "      <td>26</td>\n",
       "    </tr>\n",
       "    <tr>\n",
       "      <th>121418</th>\n",
       "      <td>20161209</td>\n",
       "      <td>1481296334</td>\n",
       "      <td>20</td>\n",
       "      <td>2</td>\n",
       "      <td>2</td>\n",
       "    </tr>\n",
       "    <tr>\n",
       "      <th>119960</th>\n",
       "      <td>20161209</td>\n",
       "      <td>1481302820</td>\n",
       "      <td>21</td>\n",
       "      <td>6</td>\n",
       "      <td>6</td>\n",
       "    </tr>\n",
       "    <tr>\n",
       "      <th>121393</th>\n",
       "      <td>20161209</td>\n",
       "      <td>1481305812</td>\n",
       "      <td>22</td>\n",
       "      <td>2</td>\n",
       "      <td>2</td>\n",
       "    </tr>\n",
       "    <tr>\n",
       "      <th>121430</th>\n",
       "      <td>20161209</td>\n",
       "      <td>1481308967</td>\n",
       "      <td>23</td>\n",
       "      <td>2</td>\n",
       "      <td>2</td>\n",
       "    </tr>\n",
       "    <tr>\n",
       "      <th>121497</th>\n",
       "      <td>20161209</td>\n",
       "      <td>1481311109</td>\n",
       "      <td>24</td>\n",
       "      <td>3</td>\n",
       "      <td>3</td>\n",
       "    </tr>\n",
       "    <tr>\n",
       "      <th>1158231</th>\n",
       "      <td>20161212</td>\n",
       "      <td>1481563972</td>\n",
       "      <td>25</td>\n",
       "      <td>3</td>\n",
       "      <td>3</td>\n",
       "    </tr>\n",
       "    <tr>\n",
       "      <th>1493009</th>\n",
       "      <td>20161214</td>\n",
       "      <td>1481747552</td>\n",
       "      <td>26</td>\n",
       "      <td>25</td>\n",
       "      <td>17</td>\n",
       "    </tr>\n",
       "    <tr>\n",
       "      <th>747752</th>\n",
       "      <td>20170109</td>\n",
       "      <td>1483974128</td>\n",
       "      <td>28</td>\n",
       "      <td>1</td>\n",
       "      <td>1</td>\n",
       "    </tr>\n",
       "    <tr>\n",
       "      <th>889983</th>\n",
       "      <td>20170110</td>\n",
       "      <td>1484075970</td>\n",
       "      <td>29</td>\n",
       "      <td>10</td>\n",
       "      <td>10</td>\n",
       "    </tr>\n",
       "    <tr>\n",
       "      <th>87705</th>\n",
       "      <td>20170111</td>\n",
       "      <td>1484170311</td>\n",
       "      <td>30</td>\n",
       "      <td>16</td>\n",
       "      <td>13</td>\n",
       "    </tr>\n",
       "  </tbody>\n",
       "</table>\n",
       "</div>"
      ],
      "text/plain": [
       "             date     visitId       ...         totals.hits totals.pageviews\n",
       "314476   20161117  1479408977       ...                  37               33\n",
       "31816    20161118  1479496350       ...                   2                2\n",
       "32524    20161118  1479507825       ...                  14               12\n",
       "338140   20161122  1479831970       ...                   3                3\n",
       "338305   20161122  1479842287       ...                   4                4\n",
       "495433   20161202  1480691778       ...                   1                1\n",
       "1203329  20161206  1481036817       ...                  12               10\n",
       "1204477  20161206  1481040342       ...                   1                1\n",
       "1203514  20161206  1481061263       ...                  28               19\n",
       "1203516  20161206  1481065071       ...                  28               26\n",
       "121418   20161209  1481296334       ...                   2                2\n",
       "119960   20161209  1481302820       ...                   6                6\n",
       "121393   20161209  1481305812       ...                   2                2\n",
       "121430   20161209  1481308967       ...                   2                2\n",
       "121497   20161209  1481311109       ...                   3                3\n",
       "1158231  20161212  1481563972       ...                   3                3\n",
       "1493009  20161214  1481747552       ...                  25               17\n",
       "747752   20170109  1483974128       ...                   1                1\n",
       "889983   20170110  1484075970       ...                  10               10\n",
       "87705    20170111  1484170311       ...                  16               13\n",
       "\n",
       "[20 rows x 5 columns]"
      ]
     },
     "execution_count": 13,
     "metadata": {},
     "output_type": "execute_result"
    }
   ],
   "source": [
    "# pickup any visitor\n",
    "all_data[all_data['fullVisitorId'] == '7813149961404844386'].sort_values(by='visitNumber')[\n",
    "    ['date','visitId','visitNumber','totals.hits','totals.pageviews']].head(20)"
   ]
  },
  {
   "cell_type": "code",
   "execution_count": 14,
   "metadata": {
    "_uuid": "a8f4e841406d2babd6e8c3429dc0f9221a2f58ad"
   },
   "outputs": [
    {
     "name": "stdout",
     "output_type": "stream",
     "text": [
      "18514\n"
     ]
    },
    {
     "data": {
      "text/html": [
       "<div>\n",
       "<style scoped>\n",
       "    .dataframe tbody tr th:only-of-type {\n",
       "        vertical-align: middle;\n",
       "    }\n",
       "\n",
       "    .dataframe tbody tr th {\n",
       "        vertical-align: top;\n",
       "    }\n",
       "\n",
       "    .dataframe thead th {\n",
       "        text-align: right;\n",
       "    }\n",
       "</style>\n",
       "<table border=\"1\" class=\"dataframe\">\n",
       "  <thead>\n",
       "    <tr style=\"text-align: right;\">\n",
       "      <th></th>\n",
       "      <th>channelGrouping</th>\n",
       "      <th>date</th>\n",
       "      <th>fullVisitorId</th>\n",
       "      <th>visitId</th>\n",
       "      <th>visitNumber</th>\n",
       "      <th>visitStartTime</th>\n",
       "      <th>device.browser</th>\n",
       "      <th>device.deviceCategory</th>\n",
       "      <th>device.isMobile</th>\n",
       "      <th>device.operatingSystem</th>\n",
       "      <th>geoNetwork.city</th>\n",
       "      <th>geoNetwork.continent</th>\n",
       "      <th>geoNetwork.country</th>\n",
       "      <th>geoNetwork.metro</th>\n",
       "      <th>geoNetwork.networkDomain</th>\n",
       "      <th>geoNetwork.region</th>\n",
       "      <th>geoNetwork.subContinent</th>\n",
       "      <th>totals.bounces</th>\n",
       "      <th>totals.hits</th>\n",
       "      <th>totals.newVisits</th>\n",
       "      <th>totals.pageviews</th>\n",
       "      <th>totals.transactionRevenue</th>\n",
       "      <th>trafficSource.adContent</th>\n",
       "      <th>trafficSource.campaign</th>\n",
       "      <th>trafficSource.isTrueDirect</th>\n",
       "      <th>trafficSource.keyword</th>\n",
       "      <th>trafficSource.medium</th>\n",
       "      <th>trafficSource.referralPath</th>\n",
       "      <th>trafficSource.source</th>\n",
       "      <th>customDimensions</th>\n",
       "    </tr>\n",
       "  </thead>\n",
       "  <tbody>\n",
       "    <tr>\n",
       "      <th>433</th>\n",
       "      <td>Organic Search</td>\n",
       "      <td>20171016</td>\n",
       "      <td>9549826748224805897</td>\n",
       "      <td>1508200705</td>\n",
       "      <td>4</td>\n",
       "      <td>1508200705</td>\n",
       "      <td>Chrome</td>\n",
       "      <td>desktop</td>\n",
       "      <td>0.0</td>\n",
       "      <td>Macintosh</td>\n",
       "      <td>New York</td>\n",
       "      <td>Americas</td>\n",
       "      <td>United States</td>\n",
       "      <td>New York NY</td>\n",
       "      <td>(not set)</td>\n",
       "      <td>New York</td>\n",
       "      <td>Northern America</td>\n",
       "      <td>NaN</td>\n",
       "      <td>9</td>\n",
       "      <td>NaN</td>\n",
       "      <td>9</td>\n",
       "      <td>16.536148</td>\n",
       "      <td>NaN</td>\n",
       "      <td>(not set)</td>\n",
       "      <td>True</td>\n",
       "      <td>(not provided)</td>\n",
       "      <td>organic</td>\n",
       "      <td>NaN</td>\n",
       "      <td>google</td>\n",
       "      <td>[{'index': '4', 'value': 'North America'}]</td>\n",
       "    </tr>\n",
       "    <tr>\n",
       "      <th>550</th>\n",
       "      <td>Referral</td>\n",
       "      <td>20171016</td>\n",
       "      <td>3700714855829972615</td>\n",
       "      <td>1508192636</td>\n",
       "      <td>11</td>\n",
       "      <td>1508192636</td>\n",
       "      <td>Chrome</td>\n",
       "      <td>desktop</td>\n",
       "      <td>0.0</td>\n",
       "      <td>Windows</td>\n",
       "      <td>Irvine</td>\n",
       "      <td>Americas</td>\n",
       "      <td>United States</td>\n",
       "      <td>Los Angeles CA</td>\n",
       "      <td>(not set)</td>\n",
       "      <td>California</td>\n",
       "      <td>Northern America</td>\n",
       "      <td>NaN</td>\n",
       "      <td>15</td>\n",
       "      <td>NaN</td>\n",
       "      <td>12</td>\n",
       "      <td>15.894952</td>\n",
       "      <td>NaN</td>\n",
       "      <td>(not set)</td>\n",
       "      <td>NaN</td>\n",
       "      <td>NaN</td>\n",
       "      <td>(none)</td>\n",
       "      <td>/</td>\n",
       "      <td>(direct)</td>\n",
       "      <td>[{'index': '4', 'value': 'North America'}]</td>\n",
       "    </tr>\n",
       "    <tr>\n",
       "      <th>555</th>\n",
       "      <td>Organic Search</td>\n",
       "      <td>20171016</td>\n",
       "      <td>1572225825161580042</td>\n",
       "      <td>1508162218</td>\n",
       "      <td>6</td>\n",
       "      <td>1508162218</td>\n",
       "      <td>Safari</td>\n",
       "      <td>mobile</td>\n",
       "      <td>1.0</td>\n",
       "      <td>iOS</td>\n",
       "      <td>Mountain View</td>\n",
       "      <td>Americas</td>\n",
       "      <td>United States</td>\n",
       "      <td>San Francisco-Oakland-San Jose CA</td>\n",
       "      <td>purechat.com</td>\n",
       "      <td>California</td>\n",
       "      <td>Northern America</td>\n",
       "      <td>NaN</td>\n",
       "      <td>15</td>\n",
       "      <td>NaN</td>\n",
       "      <td>15</td>\n",
       "      <td>17.863811</td>\n",
       "      <td>NaN</td>\n",
       "      <td>(not set)</td>\n",
       "      <td>True</td>\n",
       "      <td>(not provided)</td>\n",
       "      <td>organic</td>\n",
       "      <td>NaN</td>\n",
       "      <td>google</td>\n",
       "      <td>[{'index': '4', 'value': 'North America'}]</td>\n",
       "    </tr>\n",
       "    <tr>\n",
       "      <th>597</th>\n",
       "      <td>Referral</td>\n",
       "      <td>20171016</td>\n",
       "      <td>7187192533100162289</td>\n",
       "      <td>1508189401</td>\n",
       "      <td>17</td>\n",
       "      <td>1508189401</td>\n",
       "      <td>Chrome</td>\n",
       "      <td>desktop</td>\n",
       "      <td>0.0</td>\n",
       "      <td>Macintosh</td>\n",
       "      <td>Mountain View</td>\n",
       "      <td>Americas</td>\n",
       "      <td>United States</td>\n",
       "      <td>San Francisco-Oakland-San Jose CA</td>\n",
       "      <td>(not set)</td>\n",
       "      <td>California</td>\n",
       "      <td>Northern America</td>\n",
       "      <td>NaN</td>\n",
       "      <td>18</td>\n",
       "      <td>NaN</td>\n",
       "      <td>16</td>\n",
       "      <td>16.718579</td>\n",
       "      <td>NaN</td>\n",
       "      <td>(not set)</td>\n",
       "      <td>True</td>\n",
       "      <td>NaN</td>\n",
       "      <td>(none)</td>\n",
       "      <td>/</td>\n",
       "      <td>(direct)</td>\n",
       "      <td>[{'index': '4', 'value': 'North America'}]</td>\n",
       "    </tr>\n",
       "    <tr>\n",
       "      <th>619</th>\n",
       "      <td>Referral</td>\n",
       "      <td>20171016</td>\n",
       "      <td>7889233516776348524</td>\n",
       "      <td>1508190484</td>\n",
       "      <td>1</td>\n",
       "      <td>1508190484</td>\n",
       "      <td>Chrome</td>\n",
       "      <td>desktop</td>\n",
       "      <td>0.0</td>\n",
       "      <td>Macintosh</td>\n",
       "      <td>New York</td>\n",
       "      <td>Americas</td>\n",
       "      <td>United States</td>\n",
       "      <td>New York NY</td>\n",
       "      <td>(not set)</td>\n",
       "      <td>New York</td>\n",
       "      <td>Northern America</td>\n",
       "      <td>NaN</td>\n",
       "      <td>21</td>\n",
       "      <td>1</td>\n",
       "      <td>20</td>\n",
       "      <td>16.325923</td>\n",
       "      <td>NaN</td>\n",
       "      <td>(not set)</td>\n",
       "      <td>NaN</td>\n",
       "      <td>NaN</td>\n",
       "      <td>(none)</td>\n",
       "      <td>/</td>\n",
       "      <td>(direct)</td>\n",
       "      <td>[{'index': '4', 'value': 'North America'}]</td>\n",
       "    </tr>\n",
       "  </tbody>\n",
       "</table>\n",
       "</div>"
      ],
      "text/plain": [
       "    channelGrouping                     ...                                                customDimensions\n",
       "433  Organic Search                     ...                      [{'index': '4', 'value': 'North America'}]\n",
       "550        Referral                     ...                      [{'index': '4', 'value': 'North America'}]\n",
       "555  Organic Search                     ...                      [{'index': '4', 'value': 'North America'}]\n",
       "597        Referral                     ...                      [{'index': '4', 'value': 'North America'}]\n",
       "619        Referral                     ...                      [{'index': '4', 'value': 'North America'}]\n",
       "\n",
       "[5 rows x 30 columns]"
      ]
     },
     "execution_count": 14,
     "metadata": {},
     "output_type": "execute_result"
    }
   ],
   "source": [
    "train_rev = train[train['totals.transactionRevenue'] > 0].copy()\n",
    "print(len(train_rev))\n",
    "train_rev.head()"
   ]
  },
  {
   "cell_type": "code",
   "execution_count": 15,
   "metadata": {
    "_uuid": "a4558c13d3270bd5e12a8abae94dc144194d4cd0"
   },
   "outputs": [],
   "source": [
    "def plotCategoryRateBar(a, b, colName, topN=np.nan):\n",
    "    if topN == topN: # isNotNan\n",
    "        vals = b[colName].value_counts()[:topN]\n",
    "        subA = a.loc[a[colName].isin(vals.index.values), colName]\n",
    "        df = pd.DataFrame({'All':subA.value_counts() / len(a), 'Revenue':vals / len(b)})\n",
    "    else:\n",
    "        df = pd.DataFrame({'All':a[colName].value_counts() / len(a), 'Revenue':b[colName].value_counts() / len(b)})\n",
    "    df.sort_values('Revenue').plot.barh(colormap='jet')"
   ]
  },
  {
   "cell_type": "markdown",
   "metadata": {
    "_uuid": "76b8e5cdbcd0f77f0af9a38fc23d7d28de7ac6b3"
   },
   "source": [
    "## customDimensions"
   ]
  },
  {
   "cell_type": "code",
   "execution_count": 16,
   "metadata": {
    "_uuid": "bf4afafc3b1a3af5fc244c663f64dacea55f7428"
   },
   "outputs": [
    {
     "name": "stdout",
     "output_type": "stream",
     "text": [
      "unique customDimensions count: 6\n"
     ]
    },
    {
     "data": {
      "image/png": "[encoded data removed]",
      "text/plain": [
       "<Figure size 432x288 with 1 Axes>"
      ]
     },
     "metadata": {},
     "output_type": "display_data"
    }
   ],
   "source": [
    "print('unique customDimensions count:', train['customDimensions'].nunique())\n",
    "plotCategoryRateBar(all_data, train_rev, 'customDimensions')"
   ]
  },
  {
   "cell_type": "markdown",
   "metadata": {
    "_uuid": "df1597ce637e40c82ddbce0567f1aca6d44010d5"
   },
   "source": [
    "## date"
   ]
  },
  {
   "cell_type": "code",
   "execution_count": 17,
   "metadata": {
    "_uuid": "7f62796c68e95615311e28ec061fc76c0877e967"
   },
   "outputs": [],
   "source": [
    "format_str = '%Y%m%d'\n",
    "all_data['formated_date'] = all_data['date'].apply(lambda x: datetime.strptime(str(x), format_str))\n",
    "all_data['_year'] = all_data['formated_date'].apply(lambda x:x.year)\n",
    "all_data['_month'] = all_data['formated_date'].apply(lambda x:x.month)\n",
    "all_data['_quarterMonth'] = all_data['formated_date'].apply(lambda x:x.day//8)\n",
    "all_data['_day'] = all_data['formated_date'].apply(lambda x:x.day)\n",
    "all_data['_weekday'] = all_data['formated_date'].apply(lambda x:x.weekday())\n",
    "\n",
    "all_data.drop(['date','formated_date'], axis=1, inplace=True)"
   ]
  },
  {
   "cell_type": "markdown",
   "metadata": {
    "_uuid": "67f4ef3a6889ca30fdc15847fda4f21de1a9dc21"
   },
   "source": [
    "## channelGrouping\n",
    "* The channel via which the user came to the Store."
   ]
  },
  {
   "cell_type": "code",
   "execution_count": 18,
   "metadata": {
    "_uuid": "dcd7482789b1e78f42cc63a442fd9b165ca2c351"
   },
   "outputs": [
    {
     "data": {
      "image/png": "[encoded data removed]",
      "text/plain": [
       "<Figure size 432x288 with 1 Axes>"
      ]
     },
     "metadata": {},
     "output_type": "display_data"
    }
   ],
   "source": [
    "plotCategoryRateBar(all_data, train_rev, 'channelGrouping')"
   ]
  },
  {
   "cell_type": "markdown",
   "metadata": {
    "_uuid": "62571c594360b5ffdb8eed4fbea60d4307de9ae4"
   },
   "source": [
    "## fullVisitorId\n",
    "* A unique identifier for each user of the Google Merchandise Store.\n",
    "\n",
    "## visitId\n",
    "* An identifier for this session. This is part of the value usually stored as the _utmb cookie. This is only unique to the user.   \n",
    "For a completely unique ID, you should use a combination of fullVisitorId and visitId.\n",
    "\n",
    "## newVisits\n"
   ]
  },
  {
   "cell_type": "code",
   "execution_count": 19,
   "metadata": {
    "_uuid": "e8799d0686a4caa28107145884221bdfaa1412ce"
   },
   "outputs": [
    {
     "name": "stdout",
     "output_type": "stream",
     "text": [
      "train all: 1708337\n",
      "train unique fullVisitorId: 1323730\n",
      "train unique visitId: 1665802\n",
      "------------------------------\n",
      "test all: 401589\n",
      "test unique fullVisitorId: 296530\n",
      "test unique visitId: 393181\n"
     ]
    }
   ],
   "source": [
    "print('train all:', len(train))\n",
    "print('train unique fullVisitorId:', train['fullVisitorId'].nunique())\n",
    "print('train unique visitId:', train['visitId'].nunique())\n",
    "print('-' * 30)\n",
    "print('test all:', len(test))\n",
    "print('test unique fullVisitorId:', test['fullVisitorId'].nunique())\n",
    "print('test unique visitId:', test['visitId'].nunique())\n",
    "\n",
    "#print('common fullVisitorId:', len(pd.merge(train, test, how='inner', on='fullVisitorId'))) # 183434"
   ]
  },
  {
   "cell_type": "code",
   "execution_count": 20,
   "metadata": {
    "_uuid": "47d962d3eb9f8674f7dc2a457877faab6cbaa916"
   },
   "outputs": [
    {
     "name": "stdout",
     "output_type": "stream",
     "text": [
      "1    1593495\n",
      "2     235089\n",
      "3      92462\n",
      "4      49195\n",
      "5      30281\n",
      "Name: visitNumber, dtype: int64\n",
      "------------------------------\n",
      "1    1593495\n",
      "0     516431\n",
      "Name: totals.newVisits, dtype: int64\n",
      "------------------------------\n",
      "0    1055670\n",
      "1    1054256\n",
      "Name: totals.bounces, dtype: int64\n"
     ]
    }
   ],
   "source": [
    "print(all_data['visitNumber'].value_counts()[:5])\n",
    "print('-' * 30)\n",
    "print(all_data['totals.newVisits'].value_counts())\n",
    "print('-' * 30)\n",
    "print(all_data['totals.bounces'].value_counts())"
   ]
  },
  {
   "cell_type": "code",
   "execution_count": 21,
   "metadata": {
    "_uuid": "b8b2c483edf2c431d7d8c1615bd7f14b57e4e149",
    "scrolled": false
   },
   "outputs": [],
   "source": [
    "#maxVisitNumber = max(all_data['visitNumber'])\n",
    "#fvid = all_data[all_data['visitNumber'] == maxVisitNumber]['fullVisitorId']\n",
    "#all_data[all_data['fullVisitorId'] == fvid.values[0]].sort_values(by='visitNumber')"
   ]
  },
  {
   "cell_type": "code",
   "execution_count": 22,
   "metadata": {
    "_uuid": "d17c15ad90f60602af11d19a9cf1c8ca8c7abb98"
   },
   "outputs": [],
   "source": [
    "all_data['_visitStartHour'] = all_data['visitStartTime'].apply(\n",
    "    lambda x: str(datetime.fromtimestamp(x).hour))"
   ]
  },
  {
   "cell_type": "markdown",
   "metadata": {
    "_uuid": "a6b79c64d4c75031a9cd6d04abeff9eaa9648b25"
   },
   "source": [
    "## device"
   ]
  },
  {
   "cell_type": "code",
   "execution_count": 23,
   "metadata": {
    "_uuid": "94893bde8a5f5f2cdd5fe7757eab49f252753adb"
   },
   "outputs": [
    {
     "name": "stdout",
     "output_type": "stream",
     "text": [
      "unique browser count: 129\n"
     ]
    },
    {
     "data": {
      "image/png": "[encoded data removed]",
      "text/plain": [
       "<Figure size 432x288 with 1 Axes>"
      ]
     },
     "metadata": {},
     "output_type": "display_data"
    }
   ],
   "source": [
    "print('unique browser count:', train['device.browser'].nunique())\n",
    "plotCategoryRateBar(all_data, train_rev, 'device.browser', 10)"
   ]
  },
  {
   "cell_type": "code",
   "execution_count": 24,
   "metadata": {
    "_uuid": "6103fcf3bcc3f70eec8a93d91551ec134b122342"
   },
   "outputs": [],
   "source": [
    "pd.crosstab(all_data['device.deviceCategory'], all_data['device.isMobile'], margins=False)\n",
    "\n",
    "all_data['isMobile'] = True\n",
    "all_data.loc[all_data['device.deviceCategory'] == 'desktop', 'isMobile'] = False"
   ]
  },
  {
   "cell_type": "code",
   "execution_count": 25,
   "metadata": {
    "_uuid": "d8df08c75a5c8ac8f4771805d09d96b83362f3ae"
   },
   "outputs": [
    {
     "name": "stdout",
     "output_type": "stream",
     "text": [
      "unique operatingSystem count: 24\n"
     ]
    },
    {
     "data": {
      "image/png": "[encoded data removed]",
      "text/plain": [
       "<Figure size 432x288 with 1 Axes>"
      ]
     },
     "metadata": {},
     "output_type": "display_data"
    }
   ],
   "source": [
    "print('unique operatingSystem count:', train['device.operatingSystem'].nunique())\n",
    "plotCategoryRateBar(all_data, train_rev, 'device.operatingSystem', 10)"
   ]
  },
  {
   "cell_type": "markdown",
   "metadata": {
    "_uuid": "d33b8252e73c702753086bb7c0a889f1a7922a9e"
   },
   "source": [
    "## geoNetwork"
   ]
  },
  {
   "cell_type": "code",
   "execution_count": 26,
   "metadata": {
    "_uuid": "3b1eaa2069013d4a1c19b80516e159a536dc6d8d"
   },
   "outputs": [
    {
     "name": "stdout",
     "output_type": "stream",
     "text": [
      "unique geoNetwork.city count: 956\n"
     ]
    },
    {
     "data": {
      "image/png": "[encoded data removed]",
      "text/plain": [
       "<Figure size 432x288 with 1 Axes>"
      ]
     },
     "metadata": {},
     "output_type": "display_data"
    }
   ],
   "source": [
    "print('unique geoNetwork.city count:', train['geoNetwork.city'].nunique())\n",
    "plotCategoryRateBar(all_data, train_rev, 'geoNetwork.city', 10)"
   ]
  },
  {
   "cell_type": "code",
   "execution_count": 27,
   "metadata": {
    "_uuid": "4f44c8d97db856c51d763f5212aa3c98698130e3"
   },
   "outputs": [
    {
     "name": "stdout",
     "output_type": "stream",
     "text": [
      "unique geoNetwork.region count: 483\n"
     ]
    },
    {
     "data": {
      "image/png": "[encoded data removed]",
      "text/plain": [
       "<Figure size 432x288 with 1 Axes>"
      ]
     },
     "metadata": {},
     "output_type": "display_data"
    }
   ],
   "source": [
    "print('unique geoNetwork.region count:', train['geoNetwork.region'].nunique())\n",
    "plotCategoryRateBar(all_data, train_rev, 'geoNetwork.region', 10)"
   ]
  },
  {
   "cell_type": "code",
   "execution_count": 28,
   "metadata": {
    "_uuid": "95c2c106c2f546e66c3d55c8cb791fffdbc10107"
   },
   "outputs": [
    {
     "name": "stdout",
     "output_type": "stream",
     "text": [
      "unique geoNetwork.subContinent count: 23\n"
     ]
    },
    {
     "data": {
      "image/png": "[encoded data removed]",
      "text/plain": [
       "<Figure size 432x288 with 1 Axes>"
      ]
     },
     "metadata": {},
     "output_type": "display_data"
    }
   ],
   "source": [
    "print('unique geoNetwork.subContinent count:', train['geoNetwork.subContinent'].nunique())\n",
    "plotCategoryRateBar(all_data, train_rev, 'geoNetwork.subContinent', 10)"
   ]
  },
  {
   "cell_type": "code",
   "execution_count": 29,
   "metadata": {
    "_uuid": "0464279e4253c4b89ba7bfb085f7049ed85bc128",
    "scrolled": true
   },
   "outputs": [
    {
     "name": "stdout",
     "output_type": "stream",
     "text": [
      "unique geoNetwork.continent count: 6\n"
     ]
    },
    {
     "data": {
      "image/png": "[encoded data removed]",
      "text/plain": [
       "<Figure size 432x288 with 1 Axes>"
      ]
     },
     "metadata": {},
     "output_type": "display_data"
    }
   ],
   "source": [
    "print('unique geoNetwork.continent count:', train['geoNetwork.continent'].nunique())\n",
    "plotCategoryRateBar(all_data, train_rev, 'geoNetwork.continent')"
   ]
  },
  {
   "cell_type": "code",
   "execution_count": 30,
   "metadata": {
    "_uuid": "084e17c130b2a0db036b9024d16440202b391bf6"
   },
   "outputs": [
    {
     "name": "stdout",
     "output_type": "stream",
     "text": [
      "unique geoNetwork.metro count: 123\n"
     ]
    },
    {
     "data": {
      "image/png": "[encoded data removed]",
      "text/plain": [
       "<Figure size 432x288 with 1 Axes>"
      ]
     },
     "metadata": {},
     "output_type": "display_data"
    }
   ],
   "source": [
    "print('unique geoNetwork.metro count:', train['geoNetwork.metro'].nunique())\n",
    "plotCategoryRateBar(all_data, train_rev, 'geoNetwork.metro', 10)"
   ]
  },
  {
   "cell_type": "code",
   "execution_count": 31,
   "metadata": {
    "_uuid": "2c5ae32c4cd8953a6f722ff66a72e6266a057d17",
    "scrolled": false
   },
   "outputs": [
    {
     "name": "stdout",
     "output_type": "stream",
     "text": [
      "unique geoNetwork.networkDomain count: 41982\n"
     ]
    },
    {
     "data": {
      "image/png": "[encoded data removed]",
      "text/plain": [
       "<Figure size 432x288 with 1 Axes>"
      ]
     },
     "metadata": {},
     "output_type": "display_data"
    }
   ],
   "source": [
    "print('unique geoNetwork.networkDomain count:', train['geoNetwork.networkDomain'].nunique())\n",
    "plotCategoryRateBar(all_data, train_rev, 'geoNetwork.networkDomain', 10)"
   ]
  },
  {
   "cell_type": "markdown",
   "metadata": {
    "_uuid": "88469fecbc877ce38ea430e1cfd5e5ab998033e5"
   },
   "source": [
    "## totals"
   ]
  },
  {
   "cell_type": "code",
   "execution_count": 32,
   "metadata": {
    "_uuid": "82570f747376d5688ce66ff788d6687b5d92447b",
    "scrolled": true
   },
   "outputs": [
    {
     "name": "stdout",
     "output_type": "stream",
     "text": [
      "1     1045156\n",
      "2      283836\n",
      "3      168381\n",
      "4      102102\n",
      "5       80768\n",
      "6       60538\n",
      "7       49807\n",
      "8       38821\n",
      "9       32625\n",
      "10      26928\n",
      "Name: totals.hits, dtype: int64\n"
     ]
    }
   ],
   "source": [
    "print(all_data['totals.hits'].value_counts()[:10])\n",
    "\n",
    "all_data['totals.hits'] = all_data['totals.hits'].astype(int)"
   ]
  },
  {
   "cell_type": "code",
   "execution_count": 33,
   "metadata": {
    "_uuid": "d4b608e99f2ed2e8c2732ec7aabf3b24335e5ad8"
   },
   "outputs": [
    {
     "name": "stdout",
     "output_type": "stream",
     "text": [
      "1     1060594\n",
      "2      302017\n",
      "3      179197\n",
      "4      110206\n",
      "5       83130\n",
      "6       62055\n",
      "7       49242\n",
      "8       38807\n",
      "9       31508\n",
      "10      25414\n",
      "Name: totals.pageviews, dtype: int64\n"
     ]
    }
   ],
   "source": [
    "print(all_data['totals.pageviews'].value_counts()[:10])\n",
    "\n",
    "all_data['totals.pageviews'] = all_data['totals.pageviews'].astype(int)"
   ]
  },
  {
   "cell_type": "code",
   "execution_count": 34,
   "metadata": {
    "_uuid": "1ed36a972f984806f846c77a44cdc7aa5285ab5b"
   },
   "outputs": [],
   "source": [
    "#print(all_data['totals.visits'].value_counts())"
   ]
  },
  {
   "cell_type": "markdown",
   "metadata": {
    "_uuid": "6bff69f27cc25158cf9aa565173d8aec5a6290ee"
   },
   "source": [
    "## trafficSource"
   ]
  },
  {
   "cell_type": "code",
   "execution_count": 35,
   "metadata": {
    "_uuid": "27776645f0f26a7cdd4ff84334df20d7451c37ae"
   },
   "outputs": [
    {
     "name": "stdout",
     "output_type": "stream",
     "text": [
      "unique trafficSource.adContent count: 76\n"
     ]
    },
    {
     "data": {
      "image/png": "[encoded data removed]",
      "text/plain": [
       "<Figure size 432x288 with 1 Axes>"
      ]
     },
     "metadata": {},
     "output_type": "display_data"
    }
   ],
   "source": [
    "print('unique trafficSource.adContent count:', train['trafficSource.adContent'].nunique())\n",
    "\n",
    "plotCategoryRateBar(all_data, train_rev, 'trafficSource.adContent', 10)\n",
    "\n",
    "all_data['_adContentGMC'] = (all_data['trafficSource.adContent'] == 'Google Merchandise Collection').astype(np.uint8)"
   ]
  },
  {
   "cell_type": "code",
   "execution_count": 36,
   "metadata": {
    "_uuid": "216ff4ed12ecb7543b1cb0a71582f580cfc1becc",
    "scrolled": false
   },
   "outputs": [
    {
     "name": "stdout",
     "output_type": "stream",
     "text": [
      "unique trafficSource.campaign count: 33\n"
     ]
    },
    {
     "data": {
      "image/png": "[encoded data removed]",
      "text/plain": [
       "<Figure size 432x288 with 1 Axes>"
      ]
     },
     "metadata": {},
     "output_type": "display_data"
    }
   ],
   "source": [
    "print('unique trafficSource.campaign count:', train['trafficSource.campaign'].nunique())\n",
    "plotCategoryRateBar(all_data, train_rev, 'trafficSource.campaign', 10)\n",
    "\n",
    "all_data['_withCampaign'] = (all_data['trafficSource.campaign'] != '(not set)').astype(np.uint8)"
   ]
  },
  {
   "cell_type": "code",
   "execution_count": 37,
   "metadata": {
    "_uuid": "8ddc105a27a0647205e91113d1e6744856756848"
   },
   "outputs": [
    {
     "name": "stdout",
     "output_type": "stream",
     "text": [
      "False    1426999\n",
      "True      682927\n",
      "Name: trafficSource.isTrueDirect, dtype: int64\n"
     ]
    },
    {
     "data": {
      "image/png": "[encoded data removed]",
      "text/plain": [
       "<Figure size 432x288 with 1 Axes>"
      ]
     },
     "metadata": {},
     "output_type": "display_data"
    }
   ],
   "source": [
    "print(all_data['trafficSource.isTrueDirect'].value_counts())\n",
    "plotCategoryRateBar(all_data, train_rev, 'trafficSource.isTrueDirect')"
   ]
  },
  {
   "cell_type": "code",
   "execution_count": 38,
   "metadata": {
    "_uuid": "7492ccdd02d468d1e7d9df57dfd3d09e5f4c2ed5"
   },
   "outputs": [
    {
     "name": "stdout",
     "output_type": "stream",
     "text": [
      "unique trafficSource.keyword count: 4546\n"
     ]
    },
    {
     "data": {
      "image/png": "[encoded data removed]",
      "text/plain": [
       "<Figure size 432x288 with 1 Axes>"
      ]
     },
     "metadata": {},
     "output_type": "display_data"
    }
   ],
   "source": [
    "print('unique trafficSource.keyword count:', train['trafficSource.keyword'].nunique())\n",
    "plotCategoryRateBar(all_data, train_rev, 'trafficSource.keyword', 10)"
   ]
  },
  {
   "cell_type": "code",
   "execution_count": 39,
   "metadata": {
    "_uuid": "8cc6336da483573190d7bbfc039d0aae3afc26a7"
   },
   "outputs": [
    {
     "name": "stdout",
     "output_type": "stream",
     "text": [
      "unique trafficSource.medium count: 7\n"
     ]
    },
    {
     "data": {
      "image/png": "[encoded data removed]",
      "text/plain": [
       "<Figure size 432x288 with 1 Axes>"
      ]
     },
     "metadata": {},
     "output_type": "display_data"
    }
   ],
   "source": [
    "print('unique trafficSource.medium count:', train['trafficSource.medium'].nunique())\n",
    "plotCategoryRateBar(all_data, train_rev, 'trafficSource.medium')"
   ]
  },
  {
   "cell_type": "code",
   "execution_count": 40,
   "metadata": {
    "_uuid": "68bbc2cf706edc7878ec79ef18a50ce39d5f6985",
    "scrolled": true
   },
   "outputs": [
    {
     "name": "stdout",
     "output_type": "stream",
     "text": [
      "unique trafficSource.referralPath count: 3196\n"
     ]
    },
    {
     "data": {
      "image/png": "[encoded data removed]",
      "text/plain": [
       "<Figure size 432x288 with 1 Axes>"
      ]
     },
     "metadata": {},
     "output_type": "display_data"
    }
   ],
   "source": [
    "print('unique trafficSource.referralPath count:', train['trafficSource.referralPath'].nunique())\n",
    "plotCategoryRateBar(all_data, train_rev, 'trafficSource.referralPath', 10)\n",
    "\n",
    "all_data['_referralRoot'] = (all_data['trafficSource.referralPath'] == '/').astype(np.uint8)"
   ]
  },
  {
   "cell_type": "code",
   "execution_count": 41,
   "metadata": {
    "_uuid": "921c55633ac9c113521b33611564762bc8090919"
   },
   "outputs": [
    {
     "name": "stdout",
     "output_type": "stream",
     "text": [
      "unique trafficSource.source count: 345\n"
     ]
    },
    {
     "data": {
      "image/png": "[encoded data removed]",
      "text/plain": [
       "<Figure size 432x288 with 1 Axes>"
      ]
     },
     "metadata": {},
     "output_type": "display_data"
    }
   ],
   "source": [
    "print('unique trafficSource.source count:', train['trafficSource.source'].nunique())\n",
    "plotCategoryRateBar(all_data, train_rev, 'trafficSource.source', 10)\n",
    "\n",
    "all_data['_sourceGpmall'] = (all_data['trafficSource.source'] == 'mall.googleplex.com').astype(np.uint8)"
   ]
  },
  {
   "cell_type": "markdown",
   "metadata": {
    "_uuid": "7a0eef047ac62a8ab52abb174de2e84dd6150ed9"
   },
   "source": [
    "## Aggregate"
   ]
  },
  {
   "cell_type": "code",
   "execution_count": 42,
   "metadata": {
    "_uuid": "2dc1702ba3ecfc3c1e9b439fc9ba5f4a53b12ecb"
   },
   "outputs": [],
   "source": [
    "_='''\n",
    "'''\n",
    "all_data['_meanHitsPerDay'] = all_data.groupby(['_day'])['totals.hits'].transform('mean')\n",
    "all_data['_meanHitsPerWeekday'] = all_data.groupby(['_weekday'])['totals.hits'].transform('mean')\n",
    "all_data['_meanHitsPerMonth'] = all_data.groupby(['_month'])['totals.hits'].transform('mean')\n",
    "all_data['_sumHitsPerDay'] = all_data.groupby(['_day'])['totals.hits'].transform('sum')\n",
    "all_data['_sumHitsPerWeekday'] = all_data.groupby(['_weekday'])['totals.hits'].transform('sum')\n",
    "all_data['_sumHitsPerMonth'] = all_data.groupby(['_month'])['totals.hits'].transform('sum')\n",
    "\n",
    "for feature in ['totals.hits', 'totals.pageviews']:\n",
    "    info = all_data.groupby('fullVisitorId')[feature].mean()\n",
    "    all_data['_usermean_' + feature] = all_data.fullVisitorId.map(info)\n",
    "    \n",
    "for feature in ['visitNumber']:\n",
    "    info = all_data.groupby('fullVisitorId')[feature].max()\n",
    "    all_data['_usermax_' + feature] = all_data.fullVisitorId.map(info)\n",
    "\n",
    "del info"
   ]
  },
  {
   "cell_type": "code",
   "execution_count": 43,
   "metadata": {
    "_uuid": "fa595eea18a34885ba7fecbbd4bf63406d09460c"
   },
   "outputs": [],
   "source": [
    "all_data['_source.country'] = all_data['trafficSource.source'] + '_' + all_data['geoNetwork.country']\n",
    "all_data['_campaign.medium'] = all_data['trafficSource.campaign'] + '_' + all_data['trafficSource.medium']\n",
    "all_data['_browser.category'] = all_data['device.browser'] + '_' + all_data['device.deviceCategory']\n",
    "all_data['_browser.os'] = all_data['device.browser'] + '_' + all_data['device.operatingSystem']"
   ]
  },
  {
   "cell_type": "markdown",
   "metadata": {
    "_uuid": "7415c5915b8dd8fbe1c512f8f249ab548ce85c19"
   },
   "source": [
    "## Select feature"
   ]
  },
  {
   "cell_type": "code",
   "execution_count": 44,
   "metadata": {
    "_uuid": "19788577f9cf3b3bb98c7d229c82bd3099225187"
   },
   "outputs": [
    {
     "name": "stdout",
     "output_type": "stream",
     "text": [
      "totals.transactionRevenue    401589\n",
      "dtype: int64\n"
     ]
    }
   ],
   "source": [
    "null_cnt = all_data.isnull().sum().sort_values()\n",
    "print(null_cnt[null_cnt > 0])"
   ]
  },
  {
   "cell_type": "code",
   "execution_count": 45,
   "metadata": {
    "_uuid": "221c4d5f9bd5349e70c6af79d830356f7ab79428"
   },
   "outputs": [],
   "source": [
    "all_data.drop(['visitId','visitStartTime'],axis=1,inplace=True)\n",
    "\n",
    "for i, t in all_data.loc[:, all_data.columns != 'fullVisitorId'].dtypes.iteritems():\n",
    "    if t == object:\n",
    "        all_data[i].fillna('unknown', inplace=True)\n",
    "        all_data[i] = pd.factorize(all_data[i])[0]\n",
    "        #all_data[i] = all_data[i].astype('category')"
   ]
  },
  {
   "cell_type": "markdown",
   "metadata": {
    "_uuid": "c74fb04f46aeff7873b9d99e78a8bc030cd25340"
   },
   "source": [
    "# Prediction"
   ]
  },
  {
   "cell_type": "code",
   "execution_count": 46,
   "metadata": {
    "_uuid": "b56f51768a55937e8a7c9580fe7f91b8c0cbd6ac"
   },
   "outputs": [
    {
     "name": "stdout",
     "output_type": "stream",
     "text": [
      "<class 'pandas.core.frame.DataFrame'>\n",
      "RangeIndex: 2109926 entries, 0 to 2109925\n",
      "Data columns (total 51 columns):\n",
      "channelGrouping               int64\n",
      "fullVisitorId                 object\n",
      "visitNumber                   int16\n",
      "device.browser                int64\n",
      "device.deviceCategory         int64\n",
      "device.isMobile               float16\n",
      "device.operatingSystem        int64\n",
      "geoNetwork.city               int64\n",
      "geoNetwork.continent          int64\n",
      "geoNetwork.country            int64\n",
      "geoNetwork.metro              int64\n",
      "geoNetwork.networkDomain      int64\n",
      "geoNetwork.region             int64\n",
      "geoNetwork.subContinent       int64\n",
      "totals.bounces                int64\n",
      "totals.hits                   int64\n",
      "totals.newVisits              int64\n",
      "totals.pageviews              int64\n",
      "totals.transactionRevenue     float64\n",
      "trafficSource.adContent       int64\n",
      "trafficSource.campaign        int64\n",
      "trafficSource.isTrueDirect    bool\n",
      "trafficSource.keyword         int64\n",
      "trafficSource.medium          int64\n",
      "trafficSource.referralPath    int64\n",
      "trafficSource.source          int64\n",
      "customDimensions              int64\n",
      "_year                         int64\n",
      "_month                        int64\n",
      "_quarterMonth                 int64\n",
      "_day                          int64\n",
      "_weekday                      int64\n",
      "_visitStartHour               int64\n",
      "isMobile                      bool\n",
      "_adContentGMC                 uint8\n",
      "_withCampaign                 uint8\n",
      "_referralRoot                 uint8\n",
      "_sourceGpmall                 uint8\n",
      "_meanHitsPerDay               float64\n",
      "_meanHitsPerWeekday           float64\n",
      "_meanHitsPerMonth             float64\n",
      "_sumHitsPerDay                int64\n",
      "_sumHitsPerWeekday            int64\n",
      "_sumHitsPerMonth              int64\n",
      "_usermean_totals.hits         float64\n",
      "_usermean_totals.pageviews    float64\n",
      "_usermax_visitNumber          int16\n",
      "_source.country               int64\n",
      "_campaign.medium              int64\n",
      "_browser.category             int64\n",
      "_browser.os                   int64\n",
      "dtypes: bool(2), float16(1), float64(6), int16(2), int64(35), object(1), uint8(4)\n",
      "memory usage: 700.2+ MB\n"
     ]
    }
   ],
   "source": [
    "all_data.info()"
   ]
  },
  {
   "cell_type": "code",
   "execution_count": 47,
   "metadata": {
    "_uuid": "f6c50f06b9c73de1dc6dd7a41e5221f7130224ad"
   },
   "outputs": [],
   "source": [
    "train = all_data[all_data['totals.transactionRevenue'].notnull()]\n",
    "test = all_data[all_data['totals.transactionRevenue'].isnull()].drop(['totals.transactionRevenue'], axis=1)"
   ]
  },
  {
   "cell_type": "code",
   "execution_count": 48,
   "metadata": {
    "_uuid": "f489345ae339e46341303c9a1fa9b62ada3ef221"
   },
   "outputs": [
    {
     "data": {
      "text/plain": [
       "(401589, 50)"
      ]
     },
     "execution_count": 48,
     "metadata": {},
     "output_type": "execute_result"
    }
   ],
   "source": [
    "test.shape"
   ]
  },
  {
   "cell_type": "code",
   "execution_count": 49,
   "metadata": {
    "_uuid": "684fdd483abd0da7de1c74b504ddb32a25b5c39b"
   },
   "outputs": [
    {
     "name": "stdout",
     "output_type": "stream",
     "text": [
      "(1708337, 49) (401589, 49)\n"
     ]
    }
   ],
   "source": [
    "train_id = train['fullVisitorId']\n",
    "test_id = test['fullVisitorId']\n",
    "\n",
    "Y_train_reg = train.pop('totals.transactionRevenue')\n",
    "#Y_train_cls = (Y_train_reg.fillna(0) > 0).astype(np.uint8)\n",
    "X_train = train.drop(['fullVisitorId'], axis=1)\n",
    "X_test  = test.drop(['fullVisitorId'], axis=1)\n",
    "\n",
    "print(X_train.shape, X_test.shape)"
   ]
  },
  {
   "cell_type": "code",
   "execution_count": 50,
   "metadata": {
    "_uuid": "e4cdae49bc3394c1766bb70dc182bc5140fe068c"
   },
   "outputs": [
    {
     "name": "stdout",
     "output_type": "stream",
     "text": [
      "          name       size\n",
      "0      X_train  580834604\n",
      "1     train_id  143293686\n",
      "2       X_test  136540284\n",
      "3      test_id   33685432\n",
      "4  Y_train_reg   27333416\n",
      "5     null_cnt       9086\n",
      "6          _14       8622\n",
      "7          _i4       1887\n",
      "8          _13       1808\n",
      "9           __       1808\n"
     ]
    }
   ],
   "source": [
    "del all_data, train, test, train_rev\n",
    "gc.collect()\n",
    "\n",
    "print(pd.DataFrame([[val for val in dir()], [sys.getsizeof(eval(val)) for val in dir()]],\n",
    "                   index=['name','size']).T.sort_values('size', ascending=False).reset_index(drop=True)[:10])"
   ]
  },
  {
   "cell_type": "code",
   "execution_count": 51,
   "metadata": {
    "_uuid": "6357c37006d1433d710fd56aee8717fa1ae2efd3"
   },
   "outputs": [],
   "source": [
    "from sklearn.model_selection import StratifiedKFold, GroupKFold\n",
    "from sklearn.metrics import roc_auc_score\n",
    "import lightgbm as lgb"
   ]
  },
  {
   "cell_type": "code",
   "execution_count": 52,
   "metadata": {
    "_uuid": "f961204e8dc4b5dacbe252cfd6001e8170f15d60"
   },
   "outputs": [
    {
     "name": "stdout",
     "output_type": "stream",
     "text": [
      "Training until validation scores don't improve for 50 rounds.\n",
      "[500]\tvalid_0's rmse: 1.53864\n",
      "[1000]\tvalid_0's rmse: 1.52585\n",
      "[1500]\tvalid_0's rmse: 1.52045\n",
      "[2000]\tvalid_0's rmse: 1.51729\n",
      "[2500]\tvalid_0's rmse: 1.5156\n",
      "[3000]\tvalid_0's rmse: 1.51447\n",
      "Did not meet early stopping. Best iteration is:\n",
      "[3000]\tvalid_0's rmse: 1.51447\n",
      "Training until validation scores don't improve for 50 rounds.\n",
      "[500]\tvalid_0's rmse: 1.5451\n",
      "[1000]\tvalid_0's rmse: 1.53292\n",
      "[1500]\tvalid_0's rmse: 1.52698\n",
      "[2000]\tvalid_0's rmse: 1.52391\n",
      "[2500]\tvalid_0's rmse: 1.52233\n",
      "[3000]\tvalid_0's rmse: 1.52109\n",
      "Did not meet early stopping. Best iteration is:\n",
      "[2962]\tvalid_0's rmse: 1.52107\n",
      "Training until validation scores don't improve for 50 rounds.\n",
      "[500]\tvalid_0's rmse: 1.5255\n",
      "[1000]\tvalid_0's rmse: 1.513\n",
      "[1500]\tvalid_0's rmse: 1.50603\n",
      "[2000]\tvalid_0's rmse: 1.50303\n",
      "[2500]\tvalid_0's rmse: 1.50109\n",
      "[3000]\tvalid_0's rmse: 1.49934\n",
      "Did not meet early stopping. Best iteration is:\n",
      "[2968]\tvalid_0's rmse: 1.49932\n",
      "Training until validation scores don't improve for 50 rounds.\n",
      "[500]\tvalid_0's rmse: 1.51305\n",
      "[1000]\tvalid_0's rmse: 1.49973\n",
      "[1500]\tvalid_0's rmse: 1.49303\n",
      "[2000]\tvalid_0's rmse: 1.48943\n",
      "[2500]\tvalid_0's rmse: 1.48772\n",
      "[3000]\tvalid_0's rmse: 1.48612\n",
      "Did not meet early stopping. Best iteration is:\n",
      "[2991]\tvalid_0's rmse: 1.48611\n",
      "Training until validation scores don't improve for 50 rounds.\n",
      "[500]\tvalid_0's rmse: 1.52231\n",
      "[1000]\tvalid_0's rmse: 1.50823\n",
      "[1500]\tvalid_0's rmse: 1.50223\n",
      "[2000]\tvalid_0's rmse: 1.49899\n",
      "[2500]\tvalid_0's rmse: 1.49714\n",
      "Early stopping, best iteration is:\n",
      "[2888]\tvalid_0's rmse: 1.49608\n"
     ]
    }
   ],
   "source": [
    "params={'learning_rate': 0.01,\n",
    "        'objective':'regression',\n",
    "        'metric':'rmse',\n",
    "        'num_leaves': 31,\n",
    "        'verbose': 1,\n",
    "        'random_state':42,\n",
    "        'bagging_fraction': 0.6,\n",
    "        'feature_fraction': 0.6\n",
    "       }\n",
    "\n",
    "folds = GroupKFold(n_splits=5)\n",
    "\n",
    "oof_preds = np.zeros(X_train.shape[0])\n",
    "sub_preds = np.zeros(X_test.shape[0])\n",
    "for fold_, (trn_, val_) in enumerate(folds.split(X_train, Y_train_reg, groups=train_id)):\n",
    "    trn_x, trn_y = X_train.iloc[trn_], Y_train_reg.iloc[trn_]\n",
    "    val_x, val_y = X_train.iloc[val_], Y_train_reg.iloc[val_]\n",
    "    \n",
    "    reg = lgb.LGBMRegressor(**params, n_estimators=3000)\n",
    "    reg.fit(trn_x, trn_y, eval_set=[(val_x, val_y)], early_stopping_rounds=50, verbose=500)\n",
    "    \n",
    "    oof_preds[val_] = reg.predict(val_x, num_iteration=reg.best_iteration_)\n",
    "    sub_preds += reg.predict(X_test, num_iteration=reg.best_iteration_) / folds.n_splits\n",
    "\n",
    "pred = sub_preds"
   ]
  },
  {
   "cell_type": "code",
   "execution_count": 53,
   "metadata": {
    "_uuid": "c983046ebecf2476db72c27ce5288c5ab3a9cb1c"
   },
   "outputs": [
    {
     "data": {
      "image/png": "[encoded data removed]",
      "text/plain": [
       "<Figure size 864x576 with 1 Axes>"
      ]
     },
     "metadata": {},
     "output_type": "display_data"
    }
   ],
   "source": [
    "# Plot feature importance\n",
    "feature_importance = reg.feature_importances_\n",
    "feature_importance = 100.0 * (feature_importance / feature_importance.max())\n",
    "sorted_idx = np.argsort(feature_importance)\n",
    "sorted_idx = sorted_idx[len(feature_importance) - 30:]\n",
    "pos = np.arange(sorted_idx.shape[0]) + .5\n",
    "\n",
    "plt.figure(figsize=(12,8))\n",
    "plt.barh(pos, feature_importance[sorted_idx], align='center')\n",
    "plt.yticks(pos, X_train.columns[sorted_idx])\n",
    "plt.xlabel('Relative Importance')\n",
    "plt.title('Variable Importance')\n",
    "plt.show()"
   ]
  },
  {
   "cell_type": "code",
   "execution_count": 54,
   "metadata": {
    "_uuid": "ce46c06204ebe113492b0bb018ca5513a8982dec"
   },
   "outputs": [
    {
     "data": {
      "text/html": [
       "<div>\n",
       "<style scoped>\n",
       "    .dataframe tbody tr th:only-of-type {\n",
       "        vertical-align: middle;\n",
       "    }\n",
       "\n",
       "    .dataframe tbody tr th {\n",
       "        vertical-align: top;\n",
       "    }\n",
       "\n",
       "    .dataframe thead th {\n",
       "        text-align: right;\n",
       "    }\n",
       "</style>\n",
       "<table border=\"1\" class=\"dataframe\">\n",
       "  <thead>\n",
       "    <tr style=\"text-align: right;\">\n",
       "      <th></th>\n",
       "      <th>fullVisitorId</th>\n",
       "      <th>PredictedLogRevenue</th>\n",
       "    </tr>\n",
       "  </thead>\n",
       "  <tbody>\n",
       "    <tr>\n",
       "      <th>0</th>\n",
       "      <td>0000018966949534117</td>\n",
       "      <td>0.009337</td>\n",
       "    </tr>\n",
       "    <tr>\n",
       "      <th>1</th>\n",
       "      <td>0000039738481224681</td>\n",
       "      <td>0.000000</td>\n",
       "    </tr>\n",
       "    <tr>\n",
       "      <th>2</th>\n",
       "      <td>0000073585230191399</td>\n",
       "      <td>0.000000</td>\n",
       "    </tr>\n",
       "    <tr>\n",
       "      <th>3</th>\n",
       "      <td>0000087588448856385</td>\n",
       "      <td>0.000000</td>\n",
       "    </tr>\n",
       "    <tr>\n",
       "      <th>4</th>\n",
       "      <td>0000149787903119437</td>\n",
       "      <td>0.000000</td>\n",
       "    </tr>\n",
       "    <tr>\n",
       "      <th>5</th>\n",
       "      <td>0000196310838896290</td>\n",
       "      <td>2.085678</td>\n",
       "    </tr>\n",
       "    <tr>\n",
       "      <th>6</th>\n",
       "      <td>00001995526696366</td>\n",
       "      <td>0.000000</td>\n",
       "    </tr>\n",
       "    <tr>\n",
       "      <th>7</th>\n",
       "      <td>0000255704530917106</td>\n",
       "      <td>0.133832</td>\n",
       "    </tr>\n",
       "    <tr>\n",
       "      <th>8</th>\n",
       "      <td>0000268499301061358</td>\n",
       "      <td>0.000000</td>\n",
       "    </tr>\n",
       "    <tr>\n",
       "      <th>9</th>\n",
       "      <td>0000276747989270229</td>\n",
       "      <td>0.014831</td>\n",
       "    </tr>\n",
       "    <tr>\n",
       "      <th>10</th>\n",
       "      <td>0000307692406594052</td>\n",
       "      <td>0.000000</td>\n",
       "    </tr>\n",
       "    <tr>\n",
       "      <th>11</th>\n",
       "      <td>0000336914980220518</td>\n",
       "      <td>0.000000</td>\n",
       "    </tr>\n",
       "    <tr>\n",
       "      <th>12</th>\n",
       "      <td>0000441374037493717</td>\n",
       "      <td>0.000256</td>\n",
       "    </tr>\n",
       "    <tr>\n",
       "      <th>13</th>\n",
       "      <td>0000450284137157873</td>\n",
       "      <td>2.348778</td>\n",
       "    </tr>\n",
       "    <tr>\n",
       "      <th>14</th>\n",
       "      <td>0000465852268847074</td>\n",
       "      <td>0.000000</td>\n",
       "    </tr>\n",
       "    <tr>\n",
       "      <th>15</th>\n",
       "      <td>0000507436339585432</td>\n",
       "      <td>0.000000</td>\n",
       "    </tr>\n",
       "    <tr>\n",
       "      <th>16</th>\n",
       "      <td>0000507687995373852</td>\n",
       "      <td>0.081127</td>\n",
       "    </tr>\n",
       "    <tr>\n",
       "      <th>17</th>\n",
       "      <td>000052414006177882</td>\n",
       "      <td>0.000000</td>\n",
       "    </tr>\n",
       "    <tr>\n",
       "      <th>18</th>\n",
       "      <td>0000528281082051132</td>\n",
       "      <td>0.000000</td>\n",
       "    </tr>\n",
       "    <tr>\n",
       "      <th>19</th>\n",
       "      <td>0000545498494146189</td>\n",
       "      <td>0.000000</td>\n",
       "    </tr>\n",
       "  </tbody>\n",
       "</table>\n",
       "</div>"
      ],
      "text/plain": [
       "          fullVisitorId  PredictedLogRevenue\n",
       "0   0000018966949534117             0.009337\n",
       "1   0000039738481224681             0.000000\n",
       "2   0000073585230191399             0.000000\n",
       "3   0000087588448856385             0.000000\n",
       "4   0000149787903119437             0.000000\n",
       "5   0000196310838896290             2.085678\n",
       "6     00001995526696366             0.000000\n",
       "7   0000255704530917106             0.133832\n",
       "8   0000268499301061358             0.000000\n",
       "9   0000276747989270229             0.014831\n",
       "10  0000307692406594052             0.000000\n",
       "11  0000336914980220518             0.000000\n",
       "12  0000441374037493717             0.000256\n",
       "13  0000450284137157873             2.348778\n",
       "14  0000465852268847074             0.000000\n",
       "15  0000507436339585432             0.000000\n",
       "16  0000507687995373852             0.081127\n",
       "17   000052414006177882             0.000000\n",
       "18  0000528281082051132             0.000000\n",
       "19  0000545498494146189             0.000000"
      ]
     },
     "execution_count": 54,
     "metadata": {},
     "output_type": "execute_result"
    }
   ],
   "source": [
    "submission = pd.DataFrame({'fullVisitorId':test_id, 'PredictedLogRevenue':pred})\n",
    "\n",
    "submission[\"PredictedLogRevenue\"] = np.expm1(submission[\"PredictedLogRevenue\"])\n",
    "submission[\"PredictedLogRevenue\"] = submission[\"PredictedLogRevenue\"].apply(lambda x : 0.0 if x < 0 else x)\n",
    "submission[\"PredictedLogRevenue\"] = submission[\"PredictedLogRevenue\"].fillna(0.0)\n",
    "\n",
    "submission_sum = submission[['fullVisitorId', 'PredictedLogRevenue']].groupby('fullVisitorId').sum().reset_index()\n",
    "submission_sum[\"PredictedLogRevenue\"] = np.log1p(submission_sum[\"PredictedLogRevenue\"])\n",
    "submission_sum.to_csv(\"submission.csv\", index=False)\n",
    "submission_sum.head(20)"
   ]
  },
  {
   "cell_type": "code",
   "execution_count": 55,
   "metadata": {
    "_uuid": "d4eca9c014bd3f1e0d02f9fbd39239f2be9c4628"
   },
   "outputs": [
    {
     "data": {
      "text/plain": [
       "count    296530.000000\n",
       "mean          0.240123\n",
       "std           1.131508\n",
       "min           0.000000\n",
       "25%           0.000000\n",
       "50%           0.000000\n",
       "75%           0.004056\n",
       "max          17.471728\n",
       "Name: PredictedLogRevenue, dtype: float64"
      ]
     },
     "execution_count": 55,
     "metadata": {},
     "output_type": "execute_result"
    }
   ],
   "source": [
    "submission_sum['PredictedLogRevenue'].describe()"
   ]
  }
 ],
 "metadata": {
  "kernelspec": {
   "display_name": "Python 3",
   "language": "python",
   "name": "python3"
  },
  "language_info": {
   "codemirror_mode": {
    "name": "ipython",
    "version": 3
   },
   "file_extension": ".py",
   "mimetype": "text/x-python",
   "name": "python",
   "nbconvert_exporter": "python",
   "pygments_lexer": "ipython3",
   "version": "3.7.3"
  },
  "toc": {
   "base_numbering": 1,
   "nav_menu": {},
   "number_sections": true,
   "sideBar": true,
   "skip_h1_title": false,
   "title_cell": "Table of Contents",
   "title_sidebar": "Contents",
   "toc_cell": false,
   "toc_position": {},
   "toc_section_display": true,
   "toc_window_display": false
  },
  "varInspector": {
   "cols": {
    "lenName": 16,
    "lenType": 16,
    "lenVar": 40
   },
   "kernels_config": {
    "python": {
     "delete_cmd_postfix": "",
     "delete_cmd_prefix": "del ",
     "library": "var_list.py",
     "varRefreshCmd": "print(var_dic_list())"
    },
    "r": {
     "delete_cmd_postfix": ") ",
     "delete_cmd_prefix": "rm(",
     "library": "var_list.r",
     "varRefreshCmd": "cat(var_dic_list()) "
    }
   },
   "types_to_exclude": [
    "module",
    "function",
    "builtin_function_or_method",
    "instance",
    "_Feature"
   ],
   "window_display": false
  }
 },
 "nbformat": 4,
 "nbformat_minor": 1
}
