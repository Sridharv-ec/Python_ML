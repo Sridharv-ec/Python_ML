{
 "cells": [
  {
   "cell_type": "code",
   "execution_count": 1,
   "metadata": {},
   "outputs": [],
   "source": [
    "import glob\n",
    "df = glob.glob(r'C:\\Sridhar\\AI_ML\\Algorithms\\NLP\\dataset\\Datasets\\dot_net_developer_resume___Google_Search\\*.jpg')"
   ]
  },
  {
   "cell_type": "code",
   "execution_count": 2,
   "metadata": {},
   "outputs": [
    {
     "data": {
      "text/plain": [
       "['data_science_resume___Google_Search',\n",
       " 'dot_net_developer_resume___Google_Search',\n",
       " 'Java_developer_resume___Google_Search',\n",
       " 'msbi_developer_resume___Google_Search',\n",
       " 'Unix_developer_resume___Google_Search']"
      ]
     },
     "execution_count": 2,
     "metadata": {},
     "output_type": "execute_result"
    }
   ],
   "source": [
    "import os\n",
    "os.listdir(\"C:\\\\Sridhar\\\\AI_ML\\\\Algorithms\\\\NLP\\\\dataset\\\\Datasets\")"
   ]
  },
  {
   "cell_type": "code",
   "execution_count": 5,
   "metadata": {},
   "outputs": [],
   "source": [
    "try:\n",
    "    from PIL import Image as img1\n",
    "except ImportError:\n",
    "    import Image\n",
    "import pytesseract"
   ]
  },
  {
   "cell_type": "code",
   "execution_count": 6,
   "metadata": {},
   "outputs": [],
   "source": [
    "pytesseract.pytesseract.tesseract_cmd = r'C:\\\\Sridhar\\\\AI_ML\\\\downloads\\\\programFiles\\\\Tesseract-OCR\\\\tesseract.exe'"
   ]
  },
  {
   "cell_type": "code",
   "execution_count": 8,
   "metadata": {},
   "outputs": [],
   "source": [
    "dataset=[]\n",
    "for i in os.listdir(\"C:\\\\Sridhar\\\\AI_ML\\\\Algorithms\\\\NLP\\\\dataset\\\\Datasets\"):\n",
    "    for j in glob.glob(\"C:\\\\Sridhar\\\\AI_ML\\\\Algorithms\\\\NLP\\\\dataset\\\\Datasets\\\\\"+i+\"\\\\*.jpg\")[0:3]:\n",
    "        img = img1.open(j)\n",
    "        dataset.append([i,j,pytesseract.image_to_string(img)])"
   ]
  },
  {
   "cell_type": "code",
   "execution_count": 9,
   "metadata": {},
   "outputs": [
    {
     "data": {
      "text/plain": [
       "[['data_science_resume___Google_Search',\n",
       "  'C:\\\\Sridhar\\\\AI_ML\\\\Algorithms\\\\NLP\\\\dataset\\\\Datasets\\\\data_science_resume___Google_Search\\\\2Q__ (1).jpg',\n",
       "  ''],\n",
       " ['data_science_resume___Google_Search',\n",
       "  'C:\\\\Sridhar\\\\AI_ML\\\\Algorithms\\\\NLP\\\\dataset\\\\Datasets\\\\data_science_resume___Google_Search\\\\2Q__ (2).jpg',\n",
       "  ''],\n",
       " ['data_science_resume___Google_Search',\n",
       "  'C:\\\\Sridhar\\\\AI_ML\\\\Algorithms\\\\NLP\\\\dataset\\\\Datasets\\\\data_science_resume___Google_Search\\\\2Q__ (3).jpg',\n",
       "  ''],\n",
       " ['dot_net_developer_resume___Google_Search',\n",
       "  'C:\\\\Sridhar\\\\AI_ML\\\\Algorithms\\\\NLP\\\\dataset\\\\Datasets\\\\dot_net_developer_resume___Google_Search\\\\018_bestdeas_of_resume_format_for_year_experience_dot_net_developer_new_charming_sample_experienced_ (1).jpg',\n",
       "  'ALEXANDER SHAPOVALOV.\\n\\n \\n\\n—\\n\\ntea epee'],\n",
       " ['dot_net_developer_resume___Google_Search',\n",
       "  'C:\\\\Sridhar\\\\AI_ML\\\\Algorithms\\\\NLP\\\\dataset\\\\Datasets\\\\dot_net_developer_resume___Google_Search\\\\018_bestdeas_of_resume_format_for_year_experience_dot_net_developer_new_charming_sample_experienced_.jpg',\n",
       "  'ALEXANDER SHAPOVALOV\\n\\n111 Pacific Avenue « Toronto, ON M6P 2P2 = Cell: 647-328-3809 = alexander@shapovalov.ca\\n\\n \\n\\nSENIOR .NET SOFTWARE DEVELOPER\\n\\nCertified .NET Developer with thorough understanding of current and emerging Microsoft Technologies.\\nExpert in full Systems Development Life Cycle (SDLC). 6+ years progressive knowledge and experience in\\nsystem architecture, development, implementation and support of Client/Server and Web based applications\\nin accordance with the best practice methodologies. Solid analytical, problem-solving and decision-making\\nskills.\\n\\nKey Skills\\nCore Programming Languages:\\n= C#, SQL, JavaScript, jQuery, Prototype HTML, CSS, XML, VB.NET, PowerShell, Json, C/C++,\\n\\nDatabases:\\n= MS SQL Server (2000, 2005, 2008), ORACLE (10, 11), MySql, MS Access\\nTechnologies:\\n= .NET Framework (1.1-4.0), ASP.NET, MVC, ADO.NET, AJAX, WCF, Silverlight, MFC, WPF, DirectX,\\nOpenGL, OpenAL, DirectSound, IIS 7.5, NUnit, LINQ, Web services\\n\\nDevelopment Methodologies:\\n+ Extreme Programming, TDD, UML, Agile, BDD, XP, Scrum\\n\\nCertificates\\n\\n \\n\\n+ 2009 - MCPD (Microsoft Certified Professional Developer) - Web Applications\\n= 2008 - MCTS (Microsoft Certified Technology Specialist) - Web Applications\\n\\nProfessional Experience\\nNEOEDGE June 2010 - August 2010\\n‘Senior Developer\\n\\n+ Developed social application for Facebook.\\n\\n+ Developed WCF services for communication between frontend and backend servers.\\n+ Developed user interface using HTML, CSS, Javascript.\\n\\n+ Provided unit tests coverage for middle tire.\\n\\n+ Using Flash API provided cross-site communication between different parts of the system.\\n\\nKey Technologies: WCF, C#, Javascript, HTML, CSS, JQuery, Prototype, JSON, SOAP, IIS 7.5, TDD, NUnit,\\nFlash\\n\\nUBS (LUXOFT) Feb 2008 - May 2010\\nTechnical Leader - Senior NET Developer\\n\\n* Led a team of two developers to plan, execute and maintain a risk profile management system\\nused within UBS’ business process.\\n\\n+ Optimized application performance by 40%.\\n\\n+ Implemented application business logic in C# with MVP design pattern to increase unit tests\\nsupport.\\n\\n‘Alexander Shapovalov - Senior .NET Developer Page 1'],\n",
       " ['dot_net_developer_resume___Google_Search',\n",
       "  'C:\\\\Sridhar\\\\AI_ML\\\\Algorithms\\\\NLP\\\\dataset\\\\Datasets\\\\dot_net_developer_resume___Google_Search\\\\1289025.jpg',\n",
       "  'Greetings from Dtree Digitech Solutions!!!\\nSkill - Dot Net Developer\\n\\nExp - 5+ Years\\n\\nRate - 10 LPA\\n\\nInterview - Bangalore\\n\\nWork - Bangalore\\n\\nJoining time - 15 days\\n\\nEducation - Any\\n\\n \\n\\nPlease revert with the following details along with your updated resume\\nFull Name:\\n\\nEmail ID:\\n\\nPhone:\\n\\nTotal Exp.:\\n\\nRelevant Exp.:\\nMinimum Notice Period: ot et\\nCurrent Company:\\n\\nCurrent CTC:\\n\\nExpected CTC:\\n\\nCurrent Location:\\n\\nPreferred Location:\\n\\nVenue will be communicated to the shortlisted candidates .\\nIf interested send your CV to career@dtreedigitech.com\\nRegards,\\n\\nHuman Resource\\n\\nDtree Digitech solutions\\n\\n080 - 41258583\\n\\new traci ech ico thiTuffClassified'],\n",
       " ['Java_developer_resume___Google_Search',\n",
       "  'C:\\\\Sridhar\\\\AI_ML\\\\Algorithms\\\\NLP\\\\dataset\\\\Datasets\\\\Java_developer_resume___Google_Search\\\\019_software_developer_resume_format_free_download_template_ideas_java_best_ui_fresh.jpg',\n",
       "  \"[Street Address]\\n[City, ST ZIP Code]\\n[Telephone]\\n[Website]\\n\\n[Email]\\n\\n1g END DEVELOPER\\n\\nPROFESSIONAL Technical and highly motivated front end developer, with technical skills in end-\\nSUMMARY to-end software development and web applications designing, possessing\\nknowledge of various software languages and tools with fierce passion about the\\nuser experience and integrating software per the requirement and enhancing the\\nworking ability of IT systems. Skilled in front-end technologies, software\\nengineering and infrastructure in addition to uncommon ability to grasp new\\ntechnical concepts and utilizing them to achieve project objectives\\n\\nSKILLS & Programming in C#, Java, Kotlin, Python, SQL, JavaScript and others\\nABILITIES Practiced Agile development, Test driven development and Continuous\\nIntegration\\nUsed Visual Studio with ReSharper, Android Studio, Eclipse, Git,\\nSelenium, TeamCity, YouTrack and other common productivity\\npackages for Windows and Linux platforms\\n\\n \\n\\nEXPERIENCE FRONT-END DEVELOPER - ITECH SOLUTION: NEW JERSEY, USA\\n\\nJune 2015- Aug. 2015\\n\\n* Successfully developed a POC for a Web Application using Struts Java framework and\\nEJB for the backend. This Web Application was intended for prospective customers to\\ndemonstrate the additional features that could be incorporated with Aurionpro's Web-\\nbased banking product.\\nImplemented logging using log4j that ensured logging statements can remain in the\\nshipped code without incurring a heavy performance cost.\\nEnsured functional qualification of the Beta program (Web App) including web\\nservices (JDBC with SOAP UI).\\nDeveloped and deployed a Web Application on TomCat that connects to a LDAP server\\nallowing users to make entries and modify them according to their needs.\\n\\nFRONT-END ENGINEER - UI TECHNOLOGIES, NEW YORK\\n\\nJan. 2014 -July 2014\\n\\n* Developed a funds transfer module for Aurionpro's existing banking software product\\nusing the Struts java framework and Hibernate. In addition to linking and transferring\\nfunds between accounts, this module allowed users to select a currency and provide\\ncurrency limits.\\nCreated and populated an extensive database with dummy customer details using SQL.\\nThis data was used to test various modules of the software during development.\\n\\nEDUCATION/ University of New York, New York\\n\\nCERTIFICATION Bachelor of Engineering (Computer Engineering)\\n‘Aug 2009-July 2013\\n\\nReferences Available Upon Request\\n\\ntheannweb.com\"],\n",
       " ['Java_developer_resume___Google_Search',\n",
       "  'C:\\\\Sridhar\\\\AI_ML\\\\Algorithms\\\\NLP\\\\dataset\\\\Datasets\\\\Java_developer_resume___Google_Search\\\\0bc603e2b65d110511670c79d2f1e3a9.jpg',\n",
       "  'AREAS OF EXPERTISE\\nJavascript\\n\\nuse\\n\\nson\\n\\nCustomer raining\\n\\nDatabase - SOL development\\n(Clem facing sills\\n\\nOracle, PLSOL\\n\\n‘Software development\\n\\nProject management\\nmethodologies\\n\\nPROFESSIONAL\\n\\nSun Certified\\nProgrammer for Java &\\n(Ces10-065)\\n\\nPERSONAL SKILLS\\nProblem solving\\nMalashing\\n\\nCommunication\\n\\nPERSONAL DETAILS\\n\\nGary White\\n34 Anyahere Road\\nConny.\\nCre 7RE\\n\\nJava developer\\n\\nPERSONAL SUMMARY\\n\\nA shied java developer with proven expertise in using new tools and technical\\n‘developments to drive improvements throughout a entire software development\\nlifecycle. Having extensive industry and fl life eycle experience ina java based\\n‘environment, along wih exceptional analytical, design and problem-solving\\n‘capabilites, Excellent communication skills and able to wok slongside support,\\nteams and the java community to define and refine new functionality.\\n\\nLooking fora ambitious company which will challenge my developer and problem\\nsolving sills and allow me to continu t develop my knowledge and potential\\n\\nWORK EXPERIENCE\\n\\nIEConsultancy Firm — Coventry\\nJAVADEVELOPER June 2008 - Preset\\n\\n‘Working with other developers to build technical solutions & complete projects to\\n‘budgetary and quality requirements. Also involved in fequitements gathering,\\ndemonstrating sofware prototypes, techaical sales presentations, custome raining\\n\\nDuties\\n‘+ Development of Java interfaces & Configuration Management ofthe sourcecode\\n‘+ Working with wer o establish requirements and determine priorities\\n\\n1+ Meoting lien’ fae to fave at their offices.\\n\\n+ Developing new applications, components & functionality to existing systems,\\n\\n‘ Involved in accurately providing estimated development times.\\n\\n‘Developing new funeuonaitis, both hack-ed and front-end,\\n\\n‘+ Analyzing data and conducting compatibility and quality assurance testing.\\n‘Identifying & addressing conflicts wih newer client-implemented sofware.\\n\\n+ Investigating alternate configurations & implementing better solutions.\\n‘Designing, developing, testing & configuring fora custom pre-authemticated\\n\\nKEY SKILLS AND COMPETENCIES\\n\\n« Strong core Java development experience,\\n‘© Ability to develop creative solutions for complex problems.\\n\\n1 Solid understanding of Tomeat, JBoss, GlassFish and OCA servers.\\n\\n‘* Extensive knowlege of DBC /ORM Tool and relational databases,\\n‘Excellent team worker with stong coaching and mentoring skills\\n\\n‘© Web development: HTML, CSS, Javascript; PHP, ASP.NET.\\n\\n‘+ Database: Orale (TOAD), SQL Server, MySQL, Microsoft Access.\\n‘Software development: Jaa: J2SE (including Swing), J2ME; Prolog, C, C8'],\n",
       " ['Java_developer_resume___Google_Search',\n",
       "  'C:\\\\Sridhar\\\\AI_ML\\\\Algorithms\\\\NLP\\\\dataset\\\\Datasets\\\\Java_developer_resume___Google_Search\\\\0fa1301611f72af2240ded661331e256.jpg',\n",
       "  'JOHN SMITH\\n\\n22 street Rd. # City State 00000 ¢ Phone: (222) 222-2222 ¢ emailoadéres.com\\n\\nJAVA SENIOR DEVELOPER / ARCHITECT\\n\\nand.on Cantbutr crafting appiatons,interalestemal west, and systems to suport busines ned and\\ntxpand arganizatoal capable OMer al Busnes data analyte, raphs/ web and eet interface desig, and\\nfeauiements gathering. Leverage expertise In aia, Jace, Sus, Spring. XML, Sun ident Management, Wed\\nService Secrly, CENet and ASP.Net with extensive experience In mulueltrl seins. Analytical Leader tng\\nfroject completion in stride wth hay sakehoder needs and balding colaboratne intral/externl relationships,\\nverse ful\\'phase software web development revng platforms and tools to mprovetusessproceses ad enable\\n‘growth as well 5 dering Salton to resolve complet ues. Fluent In Ens & Span crrenaly staying bse\\nFrench.\\n\\n+ Consutiog IT iteastcruce/Desian + tr seeuey\\n4 Process Development Software Development Project Management\\natt assurance Testing Deployment ngations ‘Web design\\n\\n+ Team Lanersip atation Gient Retain + Toning & Development\\n\\nPROFESSIONAL EXPERIENCE\\n\\nTAC, Bose, Colombia wao92010\\noe 2007\\n\\n{ACI coding company offering coulting services ond solutions In Sova, Ja EE \", Wed Series, Governance\\n‘and SOA (Service Orented srehteture), Web development & aplication support sed on lava techalogy EE ™\\n£58 ana pel Tac develops ts own Security products ond software forthe lets nthe ancl sete.\\n\\nSOFTWARE ARCHITECT AND JAVA SENIOR DEVELOPER\\n\\n‘ssessa clint requcemens and determined the applcblity of Java and EE tchnology to 2 specie conte\\nProject manager fr indus ead compary peojets, Jaa Talet and key software developer, Led and mentored\\nthe detlopment teams and rsured best practice prcedufes were ula. Aaljzed the uren software to minimize\\n\\nFiske ant test the produ’ stably and relay and tuned applicators i both the development and production\\n\\nDesigned and eveoped TACs WS Gardan whieh alls the cena of Sonice ened Acitecture hough the\\n‘arataation of cenvaized services, The product almed TTAC to compete wih podxts clus 1M\\nDatapower.\\n\\nSelected 3: “Employee ofthe Yee\" a the JavaOne Event in Son Franc, USA\\n\\n“va Sun Cortied enterprize Arcitet Yor the E\\'5 nd one of the fet 4D) people reelvng the Sun Cet\\nBusnes conpenent bereope EF 5. eta,\\n\\nLed the migration of Davvenda Internet Banking rom WebSphere Aplaton Server to Sun Application Server;\\nDavvenda ste second bigest bank In Clea\\n\\nDesigned a cutting abe syste to centralize al Daven bak stock formation,\\n\\nTAC Clot Projects\\nTAC WS-Guardan: Designed and developed a product, which allows adting acces poles UP restrictions, hp\\nhoodes, gta slgnsture, encryption ete) or web ses pubes on nterpeeSevce Buss without source\\n‘Code aeration. Platforms JE, EJB 1) Micrate, lefoes, cies, Web Serves Security, aya Oracle\\nDetabve, Gain ana Wedine\\n\\nRac Secureile: Designed and developed an eahinced cacytion product and facitates the ekchange of\\nInfomation process among busines partners tough the Ue of robust mechanisms of encryption and dita\\nSnatures,\\n\\nDavivienda Bank (Rtall Baki: Designed and developed a platform to centralize alt bank stock infomation,\\nPtform: JE, £38 3.0, Top, icefaces, Eclipse, Wed Serves, Oracle Database and Glassfish,\\n\\nServbanca Banking Payment Pater: Design and development of a patlorm to manage bsess processes\\nFelted to payments of pul ard private bil services. Platform: JE, £5 3.0, lefsces, Glassish and Sa.Srver.\\nBank of pubic (Cerzal Bonk of Colombia) Consulted and implemented an deny Adminstration system\\nPraform: Javale, son entity Manager, Sun Access Manager, Java Sun Enterprise Apation Seve, SUN Decoy\\nSerer, Orla Datbere\\n\\nDavivienda Bank (Retail San: Developed and Migated Davvenda’s Wed aplication Banking fom Websphere\\n‘opleton Server to Sun Aplaton Enterprise Sever an designed Web services or son with Superior Sak,'],\n",
       " ['msbi_developer_resume___Google_Search',\n",
       "  'C:\\\\Sridhar\\\\AI_ML\\\\Algorithms\\\\NLP\\\\dataset\\\\Datasets\\\\msbi_developer_resume___Google_Search\\\\2Q__ (1).jpg',\n",
       "  ''],\n",
       " ['msbi_developer_resume___Google_Search',\n",
       "  'C:\\\\Sridhar\\\\AI_ML\\\\Algorithms\\\\NLP\\\\dataset\\\\Datasets\\\\msbi_developer_resume___Google_Search\\\\2Q__ (2).jpg',\n",
       "  'SHREYA SSX'],\n",
       " ['msbi_developer_resume___Google_Search',\n",
       "  'C:\\\\Sridhar\\\\AI_ML\\\\Algorithms\\\\NLP\\\\dataset\\\\Datasets\\\\msbi_developer_resume___Google_Search\\\\2Q__ (3).jpg',\n",
       "  'ie\\nHE\\n\\ni\\n|\\nlh\\ni\\n\\n7\\ni'],\n",
       " ['Unix_developer_resume___Google_Search',\n",
       "  'C:\\\\Sridhar\\\\AI_ML\\\\Algorithms\\\\NLP\\\\dataset\\\\Datasets\\\\Unix_developer_resume___Google_Search\\\\030_template_ideas_software_developer_cv_doc_best_resume_format_software_developer_workbloom_senior_.jpg',\n",
       "  'Job Candidate Jobseeker\\n1503 Rainesview Lane * Apex, NC 27502\\n(555) 555-5555 * jobseeker @cpwsolutions.com\\n\\nSUMMARY\\n\\nHighly talented and accomplished Software Engineer and Consultant with extensive skills and experience\\ninstalling, configuring, and implementing Network Management Applications on across various\\nplatforms. Cisco Certified Network Consultant and Aprisma Spectrum Certified Engineer. Proven ability\\nto coordinate technical teams, manage budgets, and oversee complex projects. Familiar with government,\\nmilitary, and corporate environments. Windows and UNIX systems administration experience.\\n\\n \\n\\nTECHNICAL SKILLS\\n\\nOperating Systems: | Windows 98/NT/2000/ME/XP, Solaris, Linux\\n\\nNetworking: LAN/WAN, TCP/IP, SNMP, Ethernet (10/100/1000), DNS, DSL, ISDN, Cat-5\\ncabling, T1, Token Ring, FDDI, VoIP, VLAN, ATM, Frame Relay\\n\\nApplications: MS Office, Access, Project, Visio, Iview, Metrix, WinWatch, Concord Network\\n\\nHealth, BMC Patrol, antivirus software, Zone Alarm, Black Ice, shell scripting,\\nProcom Plus, Aspect, VI Editor, Whatsup Gold, Aprisma Spectrum systems,\\nQuickbooks Pro\\n\\nHardware: PC / server assembly and repair, routers, switches, hubs, peripherals, Cisco\\nhardware, servers (Sun, Dell, Compaq, HP, Cabletron), Nortel, Bay, Enterasys\\n\\n \\n\\nPROFESSIONAL EXPERIENCE\\n\\nCPW Solutions, Inc., Apex, NC 2003 — 2007\\n\\nOwner / Lead Engineer / Lead Consultant\\n\\ne Founded and operate network management and hardware / software engineering and support\\nconsulting service. Clients include U.S. Marines, Federal Law Enforcement Training Center,\\nNorthrop Grumman Information Technology, and Southern Business Communications.\\n\\ne Provide network support and system administration for Camp Lejeune Marine Corps Base and\\nMarine Corps Air Station. Maintain UNIX and Windows NT networks with up to 30,000 users.\\n\\ne Provide hardware and software support for Sun Ultra’s running Spectrum and Iview in Solaris\\nenvironments.\\n\\ne Manage Cabletron’s legacy VLAN Manager on Solaris / Sun Ultra system. Additionally support Dell\\nPoweredge 4400 running Spectrum on Windows 2000 Server, and multiple NT / 2000 machines\\nacting as Client SpectroGRAPHS.\\n\\ne Carry out upgrades of hardware and software, coordinate activities of junior technicians, engineers,\\nand subcontractors. Managed budgets of up to $200,000.\\n\\ne Support Whatsup Gold software. Developed topology maps for critical devices. Authored critical\\ndevice document crucial for keeping Alert notifications up to date, and which served as guideline for\\nCritical Device Topology Maps. Configured alert notifications for unavailable devices.\\n\\nConsulTech Systems, LLC, Jacksonville, NC 2001 — 2002\\n\\nSenior Software Engineer\\n\\ne Served as Lead Network Management Consultant for Camp Lejeune Marine Base.\\n\\ne Performed software installations, upgrades, and patching for Spectrum and Solaris operating system.\\n\\ne Carried out pre and post-sales design engineering. Worked closely with customers to compile\\nrequirements and designed specific customizations to meet client needs.'],\n",
       " ['Unix_developer_resume___Google_Search',\n",
       "  'C:\\\\Sridhar\\\\AI_ML\\\\Algorithms\\\\NLP\\\\dataset\\\\Datasets\\\\Unix_developer_resume___Google_Search\\\\109968736_160686542.jpg',\n",
       "  'NAVEEN GXXX\\n\\n \\n\\n \\n\\nHADI ATHHK HOOK, JIKCAHK IOODOK, KHIR IQOK w Call KAIAAIOION\\n3890000008870000 100%\\n\\nProfessional Summary\\n\\nTL years of software development experience with C/C—/\\n\\n \\n\\n\"under Embedded Linux, Unix and\\nWindows environments,\\n\\nSkills\\n\\n+ CH VO“. C Java, XML PythonBash Shell Other tools “Qt Creator, Purify, Makefile Excel\\nScripting MS Office, Frame Maker, Ethereal, dbx, Source\\n\\n© Operating Systems: Fedora/ Ubuntu Linux for Insight IDE, Edit Plus, Rational Rose, UML,\\ndevelopment, Windriver Linux, UNIXiSolaris, OAD, OOP, Rational Clear Rose\\n\\n \\n\\n \\n\\nAIX), Microsoft Windows Version Control: Git, Mercurial, CVS, Clear\\n* Databases: sglite3, Sybase, ComDB2 CaseProtocols: FIX, CAN, TCPAP\\nWork History\\n\\n(C+ Developer, 05/2012 to 07/2017\\nJohn Deere ISG - Urbandale, Iowa, United States\\n\\n‘* Develop navigational displays for Johndeere tracto:\\n\\nnecessary centralized controls of\\n\\n    \\n\\nshich helps the customer with the\\nsrything with the tractor usage right from sowing,\\n\\n \\n\\n \\n\\nspraying, autotrack etc Develop, create and modify components using C—in QT Create\\ndevelopment framework\\n\\nts for the production code using GoogleTest irame workDevelop tll based testsin\\n‘Squish UI testing frameworkusing python.\\n\\n \\n\\n  \\n\\nC++/Unis developer for a STEP (TODO Order Management System), 04/2011 to 04/2012\\nBloomberg New Youk, New York, United States'],\n",
       " ['Unix_developer_resume___Google_Search',\n",
       "  'C:\\\\Sridhar\\\\AI_ML\\\\Algorithms\\\\NLP\\\\dataset\\\\Datasets\\\\Unix_developer_resume___Google_Search\\\\123239806_184708163.jpg',\n",
       "  \"BAYANSUREN BXXXXXXXXXXX\\n\\n \\n\\n \\n\\nNOOO X TONE NIDOON, AIOOOONY, NOC AIINK « Hams: (NIX) OOOO « NIDODONIIINENINK I\\n\\nProfessional Summary\\n\\nExperienced [Iob Title] committed to maintaining cutting edge technical skills and up-te-date\\nindustry inowledge.\\n\\nGraphic Design Specialist with practical lnowledge of design techniques; tools and principles for\\n‘production of technical plans.\\n\\nExperienced Principal Consultant able to plan and implement solutions for customers that meet\\nand exceed expectations Bringing [Number] years of industry experience\\n\\nDetail-otiented Principal Engineer experienced in insp\\nStrategic planner\\n\\ntions, compliance and team leadership.\\n\\n \\n\\n \\n\\njared to leverage [Numbér]-year record in [Indiustry]in new role with room\\n\\nfor growth and advancement.\\n\\n \\n   \\n\\nSkills\\n\\nJava JavaScript jQuery, PHP Technologies: Troubleshooting\\nATAX, HTMLS, JSON, SOAP, REST, XML + Website optimization\\nBootstrap Framewotle: Spring Spring MVC, «Database design\\n\\n \\n\\nSpring Boot, Symicny “Platiorms: Windows, Unix, ¢ Website and portal monitoring\\nRedHat\\n\\nWork History\\n\\nFall Stack Developer, 10 2016 to 032018\\nMGL Homes LLC- Seattle\\n\\n* Online Project estimate- Designed whale architecture and led the development of fully exible\\n\\ncloud\\n\\n \\n\\ntem builtin JavaScript and jQuery for the frontend, with Java Spring for the backend\\n‘and MySQL for the databaze: This system will receive sequest from customer with'information\\nand estimate task schedule automatically.\\n\\n \\n\\n111 to 01/2015,\"]]"
      ]
     },
     "execution_count": 9,
     "metadata": {},
     "output_type": "execute_result"
    }
   ],
   "source": [
    "dataset"
   ]
  },
  {
   "cell_type": "code",
   "execution_count": 10,
   "metadata": {},
   "outputs": [],
   "source": [
    "import pandas as pd\n",
    "dataset = pd.DataFrame(dataset)"
   ]
  },
  {
   "cell_type": "code",
   "execution_count": 11,
   "metadata": {},
   "outputs": [
    {
     "data": {
      "text/html": [
       "<div>\n",
       "<style scoped>\n",
       "    .dataframe tbody tr th:only-of-type {\n",
       "        vertical-align: middle;\n",
       "    }\n",
       "\n",
       "    .dataframe tbody tr th {\n",
       "        vertical-align: top;\n",
       "    }\n",
       "\n",
       "    .dataframe thead th {\n",
       "        text-align: right;\n",
       "    }\n",
       "</style>\n",
       "<table border=\"1\" class=\"dataframe\">\n",
       "  <thead>\n",
       "    <tr style=\"text-align: right;\">\n",
       "      <th></th>\n",
       "      <th>0</th>\n",
       "      <th>1</th>\n",
       "      <th>2</th>\n",
       "    </tr>\n",
       "  </thead>\n",
       "  <tbody>\n",
       "    <tr>\n",
       "      <th>0</th>\n",
       "      <td>data_science_resume___Google_Search</td>\n",
       "      <td>C:\\Sridhar\\AI_ML\\Algorithms\\NLP\\dataset\\Datase...</td>\n",
       "      <td></td>\n",
       "    </tr>\n",
       "    <tr>\n",
       "      <th>1</th>\n",
       "      <td>data_science_resume___Google_Search</td>\n",
       "      <td>C:\\Sridhar\\AI_ML\\Algorithms\\NLP\\dataset\\Datase...</td>\n",
       "      <td></td>\n",
       "    </tr>\n",
       "    <tr>\n",
       "      <th>2</th>\n",
       "      <td>data_science_resume___Google_Search</td>\n",
       "      <td>C:\\Sridhar\\AI_ML\\Algorithms\\NLP\\dataset\\Datase...</td>\n",
       "      <td></td>\n",
       "    </tr>\n",
       "    <tr>\n",
       "      <th>3</th>\n",
       "      <td>dot_net_developer_resume___Google_Search</td>\n",
       "      <td>C:\\Sridhar\\AI_ML\\Algorithms\\NLP\\dataset\\Datase...</td>\n",
       "      <td>ALEXANDER SHAPOVALOV.\\n\\n \\n\\n—\\n\\ntea epee</td>\n",
       "    </tr>\n",
       "    <tr>\n",
       "      <th>4</th>\n",
       "      <td>dot_net_developer_resume___Google_Search</td>\n",
       "      <td>C:\\Sridhar\\AI_ML\\Algorithms\\NLP\\dataset\\Datase...</td>\n",
       "      <td>ALEXANDER SHAPOVALOV\\n\\n111 Pacific Avenue « T...</td>\n",
       "    </tr>\n",
       "  </tbody>\n",
       "</table>\n",
       "</div>"
      ],
      "text/plain": [
       "                                          0  \\\n",
       "0       data_science_resume___Google_Search   \n",
       "1       data_science_resume___Google_Search   \n",
       "2       data_science_resume___Google_Search   \n",
       "3  dot_net_developer_resume___Google_Search   \n",
       "4  dot_net_developer_resume___Google_Search   \n",
       "\n",
       "                                                   1  \\\n",
       "0  C:\\Sridhar\\AI_ML\\Algorithms\\NLP\\dataset\\Datase...   \n",
       "1  C:\\Sridhar\\AI_ML\\Algorithms\\NLP\\dataset\\Datase...   \n",
       "2  C:\\Sridhar\\AI_ML\\Algorithms\\NLP\\dataset\\Datase...   \n",
       "3  C:\\Sridhar\\AI_ML\\Algorithms\\NLP\\dataset\\Datase...   \n",
       "4  C:\\Sridhar\\AI_ML\\Algorithms\\NLP\\dataset\\Datase...   \n",
       "\n",
       "                                                   2  \n",
       "0                                                     \n",
       "1                                                     \n",
       "2                                                     \n",
       "3        ALEXANDER SHAPOVALOV.\\n\\n \\n\\n—\\n\\ntea epee  \n",
       "4  ALEXANDER SHAPOVALOV\\n\\n111 Pacific Avenue « T...  "
      ]
     },
     "execution_count": 11,
     "metadata": {},
     "output_type": "execute_result"
    }
   ],
   "source": [
    "dataset.head()"
   ]
  },
  {
   "cell_type": "code",
   "execution_count": null,
   "metadata": {},
   "outputs": [],
   "source": [
    "dataset[dataset[2].str.len()>]"
   ]
  }
 ],
 "metadata": {
  "kernelspec": {
   "display_name": "Python 3",
   "language": "python",
   "name": "python3"
  },
  "language_info": {
   "codemirror_mode": {
    "name": "ipython",
    "version": 3
   },
   "file_extension": ".py",
   "mimetype": "text/x-python",
   "name": "python",
   "nbconvert_exporter": "python",
   "pygments_lexer": "ipython3",
   "version": "3.7.3"
  },
  "toc": {
   "base_numbering": 1,
   "nav_menu": {},
   "number_sections": true,
   "sideBar": true,
   "skip_h1_title": false,
   "title_cell": "Table of Contents",
   "title_sidebar": "Contents",
   "toc_cell": false,
   "toc_position": {},
   "toc_section_display": true,
   "toc_window_display": false
  },
  "varInspector": {
   "cols": {
    "lenName": 16,
    "lenType": 16,
    "lenVar": 40
   },
   "kernels_config": {
    "python": {
     "delete_cmd_postfix": "",
     "delete_cmd_prefix": "del ",
     "library": "var_list.py",
     "varRefreshCmd": "print(var_dic_list())"
    },
    "r": {
     "delete_cmd_postfix": ") ",
     "delete_cmd_prefix": "rm(",
     "library": "var_list.r",
     "varRefreshCmd": "cat(var_dic_list()) "
    }
   },
   "types_to_exclude": [
    "module",
    "function",
    "builtin_function_or_method",
    "instance",
    "_Feature"
   ],
   "window_display": false
  }
 },
 "nbformat": 4,
 "nbformat_minor": 2
}
