{
 "cells": [
  {
   "cell_type": "code",
   "execution_count": 1,
   "metadata": {},
   "outputs": [],
   "source": [
    "import pandas as pd\n",
    "df=pd.read_csv(\"C:\\\\Users\\\\Vivek\\\\Desktop\\\\Dataset\\\\train.csv\")"
   ]
  },
  {
   "cell_type": "code",
   "execution_count": 3,
   "metadata": {},
   "outputs": [
    {
     "data": {
      "text/html": [
       "<div>\n",
       "<style scoped>\n",
       "    .dataframe tbody tr th:only-of-type {\n",
       "        vertical-align: middle;\n",
       "    }\n",
       "\n",
       "    .dataframe tbody tr th {\n",
       "        vertical-align: top;\n",
       "    }\n",
       "\n",
       "    .dataframe thead th {\n",
       "        text-align: right;\n",
       "    }\n",
       "</style>\n",
       "<table border=\"1\" class=\"dataframe\">\n",
       "  <thead>\n",
       "    <tr style=\"text-align: right;\">\n",
       "      <th></th>\n",
       "      <th>Id</th>\n",
       "      <th>MSSubClass</th>\n",
       "      <th>MSZoning</th>\n",
       "      <th>LotFrontage</th>\n",
       "      <th>LotArea</th>\n",
       "      <th>Street</th>\n",
       "      <th>Alley</th>\n",
       "      <th>LotShape</th>\n",
       "      <th>LandContour</th>\n",
       "      <th>Utilities</th>\n",
       "      <th>...</th>\n",
       "      <th>PoolArea</th>\n",
       "      <th>PoolQC</th>\n",
       "      <th>Fence</th>\n",
       "      <th>MiscFeature</th>\n",
       "      <th>MiscVal</th>\n",
       "      <th>MoSold</th>\n",
       "      <th>YrSold</th>\n",
       "      <th>SaleType</th>\n",
       "      <th>SaleCondition</th>\n",
       "      <th>SalePrice</th>\n",
       "    </tr>\n",
       "  </thead>\n",
       "  <tbody>\n",
       "    <tr>\n",
       "      <th>0</th>\n",
       "      <td>1</td>\n",
       "      <td>60</td>\n",
       "      <td>RL</td>\n",
       "      <td>65.0</td>\n",
       "      <td>8450</td>\n",
       "      <td>Pave</td>\n",
       "      <td>NaN</td>\n",
       "      <td>Reg</td>\n",
       "      <td>Lvl</td>\n",
       "      <td>AllPub</td>\n",
       "      <td>...</td>\n",
       "      <td>0</td>\n",
       "      <td>NaN</td>\n",
       "      <td>NaN</td>\n",
       "      <td>NaN</td>\n",
       "      <td>0</td>\n",
       "      <td>2</td>\n",
       "      <td>2008</td>\n",
       "      <td>WD</td>\n",
       "      <td>Normal</td>\n",
       "      <td>208500</td>\n",
       "    </tr>\n",
       "    <tr>\n",
       "      <th>1</th>\n",
       "      <td>2</td>\n",
       "      <td>20</td>\n",
       "      <td>RL</td>\n",
       "      <td>80.0</td>\n",
       "      <td>9600</td>\n",
       "      <td>Pave</td>\n",
       "      <td>NaN</td>\n",
       "      <td>Reg</td>\n",
       "      <td>Lvl</td>\n",
       "      <td>AllPub</td>\n",
       "      <td>...</td>\n",
       "      <td>0</td>\n",
       "      <td>NaN</td>\n",
       "      <td>NaN</td>\n",
       "      <td>NaN</td>\n",
       "      <td>0</td>\n",
       "      <td>5</td>\n",
       "      <td>2007</td>\n",
       "      <td>WD</td>\n",
       "      <td>Normal</td>\n",
       "      <td>181500</td>\n",
       "    </tr>\n",
       "    <tr>\n",
       "      <th>2</th>\n",
       "      <td>3</td>\n",
       "      <td>60</td>\n",
       "      <td>RL</td>\n",
       "      <td>68.0</td>\n",
       "      <td>11250</td>\n",
       "      <td>Pave</td>\n",
       "      <td>NaN</td>\n",
       "      <td>IR1</td>\n",
       "      <td>Lvl</td>\n",
       "      <td>AllPub</td>\n",
       "      <td>...</td>\n",
       "      <td>0</td>\n",
       "      <td>NaN</td>\n",
       "      <td>NaN</td>\n",
       "      <td>NaN</td>\n",
       "      <td>0</td>\n",
       "      <td>9</td>\n",
       "      <td>2008</td>\n",
       "      <td>WD</td>\n",
       "      <td>Normal</td>\n",
       "      <td>223500</td>\n",
       "    </tr>\n",
       "    <tr>\n",
       "      <th>3</th>\n",
       "      <td>4</td>\n",
       "      <td>70</td>\n",
       "      <td>RL</td>\n",
       "      <td>60.0</td>\n",
       "      <td>9550</td>\n",
       "      <td>Pave</td>\n",
       "      <td>NaN</td>\n",
       "      <td>IR1</td>\n",
       "      <td>Lvl</td>\n",
       "      <td>AllPub</td>\n",
       "      <td>...</td>\n",
       "      <td>0</td>\n",
       "      <td>NaN</td>\n",
       "      <td>NaN</td>\n",
       "      <td>NaN</td>\n",
       "      <td>0</td>\n",
       "      <td>2</td>\n",
       "      <td>2006</td>\n",
       "      <td>WD</td>\n",
       "      <td>Abnorml</td>\n",
       "      <td>140000</td>\n",
       "    </tr>\n",
       "    <tr>\n",
       "      <th>4</th>\n",
       "      <td>5</td>\n",
       "      <td>60</td>\n",
       "      <td>RL</td>\n",
       "      <td>84.0</td>\n",
       "      <td>14260</td>\n",
       "      <td>Pave</td>\n",
       "      <td>NaN</td>\n",
       "      <td>IR1</td>\n",
       "      <td>Lvl</td>\n",
       "      <td>AllPub</td>\n",
       "      <td>...</td>\n",
       "      <td>0</td>\n",
       "      <td>NaN</td>\n",
       "      <td>NaN</td>\n",
       "      <td>NaN</td>\n",
       "      <td>0</td>\n",
       "      <td>12</td>\n",
       "      <td>2008</td>\n",
       "      <td>WD</td>\n",
       "      <td>Normal</td>\n",
       "      <td>250000</td>\n",
       "    </tr>\n",
       "  </tbody>\n",
       "</table>\n",
       "<p>5 rows × 81 columns</p>\n",
       "</div>"
      ],
      "text/plain": [
       "   Id  MSSubClass MSZoning  LotFrontage  LotArea Street Alley LotShape  \\\n",
       "0   1          60       RL         65.0     8450   Pave   NaN      Reg   \n",
       "1   2          20       RL         80.0     9600   Pave   NaN      Reg   \n",
       "2   3          60       RL         68.0    11250   Pave   NaN      IR1   \n",
       "3   4          70       RL         60.0     9550   Pave   NaN      IR1   \n",
       "4   5          60       RL         84.0    14260   Pave   NaN      IR1   \n",
       "\n",
       "  LandContour Utilities  ... PoolArea PoolQC Fence MiscFeature MiscVal MoSold  \\\n",
       "0         Lvl    AllPub  ...        0    NaN   NaN         NaN       0      2   \n",
       "1         Lvl    AllPub  ...        0    NaN   NaN         NaN       0      5   \n",
       "2         Lvl    AllPub  ...        0    NaN   NaN         NaN       0      9   \n",
       "3         Lvl    AllPub  ...        0    NaN   NaN         NaN       0      2   \n",
       "4         Lvl    AllPub  ...        0    NaN   NaN         NaN       0     12   \n",
       "\n",
       "  YrSold  SaleType  SaleCondition  SalePrice  \n",
       "0   2008        WD         Normal     208500  \n",
       "1   2007        WD         Normal     181500  \n",
       "2   2008        WD         Normal     223500  \n",
       "3   2006        WD        Abnorml     140000  \n",
       "4   2008        WD         Normal     250000  \n",
       "\n",
       "[5 rows x 81 columns]"
      ]
     },
     "execution_count": 3,
     "metadata": {},
     "output_type": "execute_result"
    }
   ],
   "source": [
    "df.head()"
   ]
  },
  {
   "cell_type": "code",
   "execution_count": 11,
   "metadata": {},
   "outputs": [
    {
     "data": {
      "text/plain": [
       "array([[1.        , 0.01115648],\n",
       "       [0.01115648, 1.        ]])"
      ]
     },
     "execution_count": 11,
     "metadata": {},
     "output_type": "execute_result"
    }
   ],
   "source": [
    "df[['Id','MSSubClass']].corr().values"
   ]
  },
  {
   "cell_type": "code",
   "execution_count": 12,
   "metadata": {},
   "outputs": [
    {
     "data": {
      "text/plain": [
       "0.011156478201382672"
      ]
     },
     "execution_count": 12,
     "metadata": {},
     "output_type": "execute_result"
    }
   ],
   "source": [
    "df[['Id','MSSubClass']].corr().values[0][1]"
   ]
  },
  {
   "cell_type": "code",
   "execution_count": 30,
   "metadata": {},
   "outputs": [
    {
     "name": "stdout",
     "output_type": "stream",
     "text": [
      "OverallQual YearBuilt 0.572322768962362\n",
      "OverallQual YearRemodAdd 0.550683924194174\n",
      "OverallQual TotalBsmtSF 0.5378084986123927\n",
      "OverallQual GrLivArea 0.5930074300286511\n",
      "OverallQual FullBath 0.5505997093682552\n",
      "OverallQual GarageYrBlt 0.5477658448351637\n",
      "OverallQual GarageCars 0.6006707165907189\n",
      "OverallQual GarageArea 0.5620217566126064\n",
      "OverallQual SalePrice 0.7909816005838047\n",
      "YearBuilt OverallQual 0.572322768962362\n",
      "YearBuilt YearRemodAdd 0.5928549763436497\n",
      "YearBuilt GarageYrBlt 0.8256674841743434\n",
      "YearBuilt GarageCars 0.5378500917111045\n",
      "YearBuilt SalePrice 0.5228973328794967\n",
      "YearRemodAdd OverallQual 0.550683924194174\n",
      "YearRemodAdd YearBuilt 0.5928549763436497\n",
      "YearRemodAdd GarageYrBlt 0.6422767797035414\n",
      "YearRemodAdd SalePrice 0.5071009671113867\n",
      "BsmtFinSF1 TotalBsmtSF 0.5223960519923907\n",
      "BsmtFinSF1 BsmtFullBath 0.6492117535742737\n",
      "TotalBsmtSF OverallQual 0.5378084986123927\n",
      "TotalBsmtSF BsmtFinSF1 0.5223960519923907\n",
      "TotalBsmtSF 1stFlrSF 0.8195299750050355\n",
      "TotalBsmtSF SalePrice 0.6135805515591944\n",
      "1stFlrSF TotalBsmtSF 0.8195299750050355\n",
      "1stFlrSF GrLivArea 0.5660239689357487\n",
      "1stFlrSF SalePrice 0.6058521846919166\n",
      "2ndFlrSF GrLivArea 0.6875010641666008\n",
      "2ndFlrSF HalfBath 0.6097073002717444\n",
      "2ndFlrSF BedroomAbvGr 0.5029006133459021\n",
      "2ndFlrSF TotRmsAbvGrd 0.6164226354915353\n",
      "GrLivArea OverallQual 0.5930074300286511\n",
      "GrLivArea 1stFlrSF 0.5660239689357487\n",
      "GrLivArea 2ndFlrSF 0.6875010641666008\n",
      "GrLivArea FullBath 0.6300116462511144\n",
      "GrLivArea BedroomAbvGr 0.5212695109189988\n",
      "GrLivArea TotRmsAbvGrd 0.8254893743088377\n",
      "GrLivArea SalePrice 0.7086244776126511\n",
      "BsmtFullBath BsmtFinSF1 0.6492117535742737\n",
      "FullBath OverallQual 0.5505997093682552\n",
      "FullBath GrLivArea 0.6300116462511144\n",
      "FullBath TotRmsAbvGrd 0.5547842535334817\n",
      "FullBath SalePrice 0.5606637627484452\n",
      "HalfBath 2ndFlrSF 0.6097073002717444\n",
      "BedroomAbvGr 2ndFlrSF 0.5029006133459021\n",
      "BedroomAbvGr GrLivArea 0.5212695109189988\n",
      "BedroomAbvGr TotRmsAbvGrd 0.6766199357426479\n",
      "TotRmsAbvGrd 2ndFlrSF 0.6164226354915353\n",
      "TotRmsAbvGrd GrLivArea 0.8254893743088377\n",
      "TotRmsAbvGrd FullBath 0.5547842535334817\n",
      "TotRmsAbvGrd BedroomAbvGr 0.6766199357426479\n",
      "TotRmsAbvGrd SalePrice 0.5337231555820238\n",
      "GarageYrBlt OverallQual 0.5477658448351637\n",
      "GarageYrBlt YearBuilt 0.8256674841743434\n",
      "GarageYrBlt YearRemodAdd 0.6422767797035414\n",
      "GarageYrBlt GarageCars 0.5889200070047019\n",
      "GarageYrBlt GarageArea 0.5645670607230588\n",
      "GarageCars OverallQual 0.6006707165907189\n",
      "GarageCars YearBuilt 0.5378500917111045\n",
      "GarageCars GarageYrBlt 0.5889200070047019\n",
      "GarageCars GarageArea 0.8824754142814603\n",
      "GarageCars SalePrice 0.640409197258349\n",
      "GarageArea OverallQual 0.5620217566126064\n",
      "GarageArea GarageYrBlt 0.5645670607230588\n",
      "GarageArea GarageCars 0.8824754142814603\n",
      "GarageArea SalePrice 0.6234314389183598\n",
      "SalePrice OverallQual 0.7909816005838047\n",
      "SalePrice YearBuilt 0.5228973328794967\n",
      "SalePrice YearRemodAdd 0.5071009671113867\n",
      "SalePrice TotalBsmtSF 0.6135805515591944\n",
      "SalePrice 1stFlrSF 0.6058521846919166\n",
      "SalePrice GrLivArea 0.7086244776126511\n",
      "SalePrice FullBath 0.5606637627484452\n",
      "SalePrice TotRmsAbvGrd 0.5337231555820238\n",
      "SalePrice GarageCars 0.640409197258349\n",
      "SalePrice GarageArea 0.6234314389183598\n"
     ]
    }
   ],
   "source": [
    "corr1=[]\n",
    "for i in df.corr().columns:\n",
    "    for j in df.corr().columns:\n",
    "        value=df[[i,j]].corr().values[0][1]\n",
    "        if (value>0.5) and (i!=j):\n",
    "            print(i,j,value)"
   ]
  },
  {
   "cell_type": "code",
   "execution_count": 15,
   "metadata": {},
   "outputs": [
    {
     "data": {
      "text/plain": [
       "1444"
      ]
     },
     "execution_count": 15,
     "metadata": {},
     "output_type": "execute_result"
    }
   ],
   "source": [
    "len(corr1)"
   ]
  },
  {
   "cell_type": "code",
   "execution_count": 19,
   "metadata": {},
   "outputs": [],
   "source": [
    "corr1.remove(1)"
   ]
  },
  {
   "cell_type": "code",
   "execution_count": 23,
   "metadata": {},
   "outputs": [],
   "source": [
    "import numpy as np\n",
    "corr1=np.array(corr1)"
   ]
  },
  {
   "cell_type": "code",
   "execution_count": 26,
   "metadata": {},
   "outputs": [
    {
     "data": {
      "text/plain": [
       "(113,)"
      ]
     },
     "execution_count": 26,
     "metadata": {},
     "output_type": "execute_result"
    }
   ],
   "source": [
    "corr1[corr1>0.5].shape"
   ]
  },
  {
   "cell_type": "code",
   "execution_count": 27,
   "metadata": {},
   "outputs": [
    {
     "data": {
      "text/plain": [
       "(0,)"
      ]
     },
     "execution_count": 27,
     "metadata": {},
     "output_type": "execute_result"
    }
   ],
   "source": [
    "corr1[corr1<-0.5].shape"
   ]
  },
  {
   "cell_type": "code",
   "execution_count": 16,
   "metadata": {},
   "outputs": [
    {
     "data": {
      "text/plain": [
       "1444"
      ]
     },
     "execution_count": 16,
     "metadata": {},
     "output_type": "execute_result"
    }
   ],
   "source": [
    "38*38"
   ]
  },
  {
   "cell_type": "code",
   "execution_count": 14,
   "metadata": {},
   "outputs": [
    {
     "data": {
      "text/plain": [
       "(38, 38)"
      ]
     },
     "execution_count": 14,
     "metadata": {},
     "output_type": "execute_result"
    }
   ],
   "source": [
    "df.corr().shape\n"
   ]
  },
  {
   "cell_type": "code",
   "execution_count": null,
   "metadata": {},
   "outputs": [],
   "source": []
  },
  {
   "cell_type": "code",
   "execution_count": null,
   "metadata": {},
   "outputs": [],
   "source": []
  },
  {
   "cell_type": "code",
   "execution_count": null,
   "metadata": {},
   "outputs": [],
   "source": []
  },
  {
   "cell_type": "code",
   "execution_count": null,
   "metadata": {},
   "outputs": [],
   "source": []
  },
  {
   "cell_type": "code",
   "execution_count": null,
   "metadata": {},
   "outputs": [],
   "source": []
  },
  {
   "cell_type": "code",
   "execution_count": null,
   "metadata": {},
   "outputs": [],
   "source": []
  },
  {
   "cell_type": "code",
   "execution_count": null,
   "metadata": {},
   "outputs": [],
   "source": []
  },
  {
   "cell_type": "code",
   "execution_count": null,
   "metadata": {},
   "outputs": [],
   "source": []
  },
  {
   "cell_type": "code",
   "execution_count": null,
   "metadata": {},
   "outputs": [],
   "source": []
  },
  {
   "cell_type": "code",
   "execution_count": null,
   "metadata": {},
   "outputs": [],
   "source": []
  },
  {
   "cell_type": "code",
   "execution_count": null,
   "metadata": {},
   "outputs": [],
   "source": []
  }
 ],
 "metadata": {
  "kernelspec": {
   "display_name": "Python 3",
   "language": "python",
   "name": "python3"
  },
  "language_info": {
   "codemirror_mode": {
    "name": "ipython",
    "version": 3
   },
   "file_extension": ".py",
   "mimetype": "text/x-python",
   "name": "python",
   "nbconvert_exporter": "python",
   "pygments_lexer": "ipython3",
   "version": "3.7.3"
  }
 },
 "nbformat": 4,
 "nbformat_minor": 2
}
